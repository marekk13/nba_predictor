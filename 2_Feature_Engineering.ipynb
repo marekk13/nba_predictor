{
 "cells": [
  {
   "cell_type": "markdown",
   "id": "5e81d934-b5db-46e2-ab16-9dd992819376",
   "metadata": {},
   "source": [
    "# Inżynieria cech\n",
    " - badanie wartości NA, błędów grubych\n",
    " - badanie typów danych i zmniejszenie zużycia pamięci\n",
    " - stworzenie danych średnich w różnych oknach czasowych (10 ostatnich spotkań, 20, 30 i od początku sezonu)"
   ]
  },
  {
   "cell_type": "code",
   "execution_count": null,
   "id": "3e1ccb44-61bf-43ca-ba99-24f64f00fc22",
   "metadata": {
    "ExecuteTime": {
     "start_time": "2024-11-11T00:46:18.674656Z",
     "end_time": "2024-11-11T00:46:18.977687Z"
    }
   },
   "outputs": [],
   "source": [
    "import pandas as pd\n",
    "import sqlite3\n",
    "import numpy as np\n",
    "\n",
    "pd.set_option('display.max_columns', 40)"
   ]
  },
  {
   "cell_type": "code",
   "execution_count": null,
   "id": "6fba34d2-5471-4652-8d52-755f0f0c8253",
   "metadata": {
    "ExecuteTime": {
     "start_time": "2024-11-11T00:46:18.686420Z",
     "end_time": "2024-11-11T00:46:22.303715Z"
    }
   },
   "outputs": [],
   "source": [
    "con = sqlite3.connect('data/start/NBA-Game-Database-combined.sqlite')\n",
    "game_info = pd.read_sql_query(f\"SELECT * FROM \\\"{'game_info'}\\\" ORDER BY date\", con)\n",
    "team_stats = pd.read_sql_query(f\"SELECT * FROM \\\"{'team_stats'}\\\"\", con)\n",
    "player_stats = pd.read_sql_query(f\"SELECT * FROM \\\"{'player_stats'}\\\"\", con)\n",
    "con.close()"
   ]
  },
  {
   "cell_type": "markdown",
   "source": [
    "## Badanie wartości NA, outlierów i błędów logicznych w danych"
   ],
   "metadata": {
    "collapsed": false
   }
  },
  {
   "cell_type": "markdown",
   "source": [
    "### Dane drużynowe"
   ],
   "metadata": {
    "collapsed": false
   }
  },
  {
   "cell_type": "code",
   "execution_count": null,
   "outputs": [],
   "source": [
    "def analyze_na_outliers(df, context_cols):\n",
    "    missing_data = pd.isnull(df).mean()*100\n",
    "\n",
    "    # Wykrywanie grubych błędów\n",
    "    outliers = {}\n",
    "    for col in df.select_dtypes(include=['float', 'int']).columns:\n",
    "        mean = df[col].mean()\n",
    "        std = df[col].std()\n",
    "        threshold = 4\n",
    "\n",
    "        outliers[col] = df.loc[\n",
    "            (df[col] < mean - threshold * std) | (df[col] > mean + threshold * std),\n",
    "            context_cols + [col]\n",
    "        ]\n",
    "\n",
    "    errors = {}\n",
    "    for col in df.loc[:, df.columns.str.contains('%')].columns:\n",
    "        errors[col] = df.loc[\n",
    "            df[col]<0,\n",
    "            context_cols + [col]\n",
    "        ]\n",
    "\n",
    "    return missing_data, outliers, errors"
   ],
   "metadata": {
    "collapsed": false,
    "ExecuteTime": {
     "start_time": "2024-11-11T00:46:22.292535Z",
     "end_time": "2024-11-11T00:46:22.322350Z"
    }
   }
  },
  {
   "cell_type": "code",
   "execution_count": null,
   "outputs": [],
   "source": [
    "team_missing_data, team_outliers, team_errors = analyze_na_outliers(team_stats, context_cols=['game_id', 'team'])\n",
    "team_missing_data[team_missing_data > 0]"
   ],
   "metadata": {
    "collapsed": false,
    "ExecuteTime": {
     "start_time": "2024-11-11T00:46:22.308824Z",
     "end_time": "2024-11-11T00:46:22.421987Z"
    }
   }
  },
  {
   "cell_type": "code",
   "execution_count": null,
   "outputs": [],
   "source": [
    "team_stats[team_stats['FT%'].isna()]"
   ],
   "metadata": {
    "collapsed": false,
    "ExecuteTime": {
     "start_time": "2024-11-11T00:46:22.415413Z",
     "end_time": "2024-11-11T00:46:22.497956Z"
    }
   }
  },
  {
   "cell_type": "markdown",
   "source": [
    "Kolumnę +/- można usunąć, Net Rating przekazuje tą samą informację, ale z uwzględnieniem tempa gry"
   ],
   "metadata": {
    "collapsed": false
   }
  },
  {
   "cell_type": "code",
   "execution_count": null,
   "outputs": [],
   "source": [
    "team_stats.loc[16476, 'FT%'] = 0.0\n",
    "team_stats = team_stats.drop(columns=['+/-', 'GmSc', 'USG%'])"
   ],
   "metadata": {
    "collapsed": false,
    "ExecuteTime": {
     "start_time": "2024-11-11T00:46:22.509489Z",
     "end_time": "2024-11-11T00:46:22.537931Z"
    }
   }
  },
  {
   "cell_type": "code",
   "execution_count": null,
   "outputs": [],
   "source": [
    "for column, outlier_values in team_outliers.items():\n",
    "    if not outlier_values.empty:\n",
    "        print(outlier_values, end='\\n\\n')"
   ],
   "metadata": {
    "collapsed": false,
    "ExecuteTime": {
     "start_time": "2024-11-11T00:46:22.529985Z",
     "end_time": "2024-11-11T00:46:22.731491Z"
    }
   }
  },
  {
   "cell_type": "markdown",
   "source": [
    "Outliery wskazują na rzadko spotykane wydarzenia i ciekawostki statystyczne, nie widać niepoprawnych wartości"
   ],
   "metadata": {
    "collapsed": false
   }
  },
  {
   "cell_type": "code",
   "execution_count": null,
   "outputs": [],
   "source": [
    "for column, error_values in team_errors.items():\n",
    "    if not error_values.empty:\n",
    "        print(error_values, end='\\n\\n')"
   ],
   "metadata": {
    "collapsed": false,
    "ExecuteTime": {
     "start_time": "2024-11-11T00:46:22.574490Z",
     "end_time": "2024-11-11T00:46:22.731491Z"
    }
   }
  },
  {
   "cell_type": "markdown",
   "source": [
    "Brak wychwyconych błędów logicznych w danych drużynowych"
   ],
   "metadata": {
    "collapsed": false
   }
  },
  {
   "cell_type": "markdown",
   "source": [
    "### Dane wg zawodników"
   ],
   "metadata": {
    "collapsed": false
   }
  },
  {
   "cell_type": "code",
   "execution_count": null,
   "outputs": [],
   "source": [
    "player_missing_data, player_outliers, player_errors = analyze_na_outliers(player_stats, context_cols=['game_id', 'player'])\n",
    "player_missing_data"
   ],
   "metadata": {
    "collapsed": false,
    "ExecuteTime": {
     "start_time": "2024-11-11T00:46:22.590523Z",
     "end_time": "2024-11-11T00:46:23.267829Z"
    }
   }
  },
  {
   "cell_type": "markdown",
   "source": [
    "Nie będziemy imputować danych w tabeli player_stats, ponieważ kolumny z brakami nie będą wykorzystywane."
   ],
   "metadata": {
    "collapsed": false
   }
  },
  {
   "cell_type": "code",
   "execution_count": null,
   "outputs": [],
   "source": [
    "for column, outlier_values in player_outliers.items():\n",
    "    if not outlier_values.empty:\n",
    "        print(outlier_values, end='\\n\\n')"
   ],
   "metadata": {
    "collapsed": false,
    "ExecuteTime": {
     "start_time": "2024-11-11T00:46:23.258814Z",
     "end_time": "2024-11-11T00:46:23.341485Z"
    }
   }
  },
  {
   "cell_type": "markdown",
   "source": [
    "Po analizie outlierów można stwierdzić, że część wartości to rekordowe, rzadko spotykane liczby - tyczy się to wartości nominalnych.\n",
    "\n",
    "Outliery w kolumnach procentowych (druga połowa outputu, np. TRB% - procent wszystkich piłek możliwych do zebrania zebranych przez danego zawodnika) są często spowodowane krótkim czasem gry zawodników, co przełożyło się na nienaturalnie duże wartości"
   ],
   "metadata": {
    "collapsed": false
   }
  },
  {
   "cell_type": "code",
   "execution_count": null,
   "outputs": [],
   "source": [
    "for column, error_values in player_errors.items():\n",
    "    if not error_values.empty:\n",
    "        print(error_values, end='\\n\\n')"
   ],
   "metadata": {
    "collapsed": false,
    "ExecuteTime": {
     "start_time": "2024-11-11T00:46:23.334903Z",
     "end_time": "2024-11-11T00:46:23.352095Z"
    }
   }
  },
  {
   "cell_type": "markdown",
   "source": [
    "AST% jest definiowana jako szacunkowa wartość procentowa trafionych rzutów przez kolegów z drużyny, przy których asystował zawodnik, gdy był on na boisku. Nie może zatem ona być mniejsza niż 0, więc zastąpimy te wartości"
   ],
   "metadata": {
    "collapsed": false
   }
  },
  {
   "cell_type": "code",
   "execution_count": null,
   "outputs": [],
   "source": [
    "player_stats.loc[player_stats['AST%']<0, 'AST%'] = 0.0"
   ],
   "metadata": {
    "collapsed": false,
    "ExecuteTime": {
     "start_time": "2024-11-11T00:46:23.348601Z",
     "end_time": "2024-11-11T00:46:23.408531Z"
    }
   }
  },
  {
   "cell_type": "markdown",
   "source": [
    "## Badanie typów danych i zmniejszenie zużycia pamięci"
   ],
   "metadata": {
    "collapsed": false
   }
  },
  {
   "cell_type": "markdown",
   "source": [
    "### Team stats"
   ],
   "metadata": {
    "collapsed": false
   }
  },
  {
   "cell_type": "code",
   "execution_count": null,
   "outputs": [],
   "source": [
    "team_stats.dtypes"
   ],
   "metadata": {
    "collapsed": false,
    "ExecuteTime": {
     "start_time": "2024-11-11T00:46:23.364925Z",
     "end_time": "2024-11-11T00:46:23.409781Z"
    }
   }
  },
  {
   "cell_type": "code",
   "execution_count": null,
   "outputs": [],
   "source": [
    "team_stats.memory_usage(deep=True)"
   ],
   "metadata": {
    "collapsed": false,
    "ExecuteTime": {
     "start_time": "2024-11-11T00:46:23.382233Z",
     "end_time": "2024-11-11T00:46:23.410785Z"
    }
   }
  },
  {
   "cell_type": "code",
   "execution_count": null,
   "outputs": [],
   "source": [
    "team_stats.memory_usage(deep=True).sum()"
   ],
   "metadata": {
    "collapsed": false,
    "ExecuteTime": {
     "start_time": "2024-11-11T00:46:23.395895Z",
     "end_time": "2024-11-11T00:46:23.423941Z"
    }
   }
  },
  {
   "cell_type": "code",
   "execution_count": null,
   "outputs": [],
   "source": [
    "(team_stats\n",
    ".select_dtypes(int)\n",
    ".describe\n",
    ")"
   ],
   "metadata": {
    "collapsed": false,
    "ExecuteTime": {
     "start_time": "2024-11-11T00:46:23.412287Z",
     "end_time": "2024-11-11T00:46:23.430089Z"
    }
   }
  },
  {
   "cell_type": "code",
   "execution_count": null,
   "outputs": [],
   "source": [
    "team_stats = team_stats.astype({'win': 'int8'})"
   ],
   "metadata": {
    "collapsed": false,
    "ExecuteTime": {
     "start_time": "2024-11-11T00:46:23.427049Z",
     "end_time": "2024-11-11T00:46:23.482399Z"
    }
   }
  },
  {
   "cell_type": "markdown",
   "source": [
    "### Player stats"
   ],
   "metadata": {
    "collapsed": false
   }
  },
  {
   "cell_type": "code",
   "execution_count": null,
   "outputs": [],
   "source": [
    "player_stats.dtypes"
   ],
   "metadata": {
    "collapsed": false,
    "ExecuteTime": {
     "start_time": "2024-11-11T00:46:23.443409Z",
     "end_time": "2024-11-11T00:46:23.502544Z"
    }
   }
  },
  {
   "cell_type": "code",
   "execution_count": null,
   "outputs": [],
   "source": [
    "player_stats.memory_usage(deep=True)"
   ],
   "metadata": {
    "collapsed": false,
    "ExecuteTime": {
     "start_time": "2024-11-11T00:46:23.462476Z",
     "end_time": "2024-11-11T00:46:23.582313Z"
    }
   }
  },
  {
   "cell_type": "code",
   "execution_count": null,
   "outputs": [],
   "source": [
    "player_stats.memory_usage(deep=True).sum()"
   ],
   "metadata": {
    "collapsed": false,
    "ExecuteTime": {
     "start_time": "2024-11-11T00:46:23.582313Z",
     "end_time": "2024-11-11T00:46:23.705075Z"
    }
   }
  },
  {
   "cell_type": "code",
   "execution_count": null,
   "outputs": [],
   "source": [
    "player_stats.columns"
   ],
   "metadata": {
    "collapsed": false,
    "ExecuteTime": {
     "start_time": "2024-11-11T00:46:23.707614Z",
     "end_time": "2024-11-11T00:46:23.769407Z"
    }
   }
  },
  {
   "cell_type": "code",
   "execution_count": null,
   "outputs": [],
   "source": [
    "player_stats = player_stats.drop(\n",
    "    columns=['FG', 'FGA', 'FG%', '3P', '3PA',\n",
    "       '3P%', 'FT', 'FTA', 'FT%', 'ORB', 'DRB', 'TRB', 'AST', 'STL', 'BLK',\n",
    "       'TOV', 'PF', 'PTS', 'GmSc', '+/-', 'TS%', '3PAr', 'FTr', 'ORB%',\n",
    "       'DRB%', 'TRB%', 'AST%', 'STL%', 'BLK%', 'TOV%', 'USG%']\n",
    ")"
   ],
   "metadata": {
    "collapsed": false,
    "ExecuteTime": {
     "start_time": "2024-11-11T00:46:23.725624Z",
     "end_time": "2024-11-11T00:46:23.784487Z"
    }
   }
  },
  {
   "cell_type": "markdown",
   "source": [
    "W kolumnie Minutes Played jest wyszczególniona informacja o przyczynie nieobecności zawodnika. Nie jest ona potrzebna w modelowaniu"
   ],
   "metadata": {
    "collapsed": false
   }
  },
  {
   "cell_type": "code",
   "execution_count": null,
   "outputs": [],
   "source": [
    "mp_values = ['Did Not Play', 'Player Suspended', 'Not With Team', 'Did Not Dress']\n",
    "player_stats.loc[player_stats['MP'].isin(mp_values), 'MP'] = np.nan"
   ],
   "metadata": {
    "collapsed": false,
    "ExecuteTime": {
     "start_time": "2024-11-11T00:46:23.772352Z",
     "end_time": "2024-11-11T00:46:23.825405Z"
    }
   }
  },
  {
   "cell_type": "code",
   "execution_count": null,
   "outputs": [],
   "source": [
    "player_stats.memory_usage(deep=True)"
   ],
   "metadata": {
    "collapsed": false,
    "ExecuteTime": {
     "start_time": "2024-11-11T00:46:23.818868Z",
     "end_time": "2024-11-11T00:46:23.920197Z"
    }
   }
  },
  {
   "cell_type": "code",
   "execution_count": null,
   "outputs": [],
   "source": [
    "player_stats.memory_usage(deep=True).sum()"
   ],
   "metadata": {
    "collapsed": false,
    "ExecuteTime": {
     "start_time": "2024-11-11T00:46:23.913561Z",
     "end_time": "2024-11-11T00:46:24.020753Z"
    }
   }
  },
  {
   "cell_type": "markdown",
   "source": [
    "### Dodanie daty"
   ],
   "metadata": {
    "collapsed": false
   }
  },
  {
   "cell_type": "code",
   "execution_count": null,
   "outputs": [],
   "source": [
    "def extract_date(game_id):\n",
    "    game_id_str=str(game_id)\n",
    "    season_prefix = game_id_str[2:4]\n",
    "    month = int(game_id_str[4:6])\n",
    "    day = int(game_id_str[6:8])\n",
    "\n",
    "    if 10 <= month <= 12:\n",
    "        year = '20'+str(int(season_prefix) - 1)\n",
    "    else:\n",
    "        year = '20'+str(int(season_prefix))\n",
    "\n",
    "    date_str = f\"{year}-{month:02d}-{day:02d}\"\n",
    "    return date_str"
   ],
   "metadata": {
    "collapsed": false,
    "ExecuteTime": {
     "start_time": "2024-11-11T00:46:24.020753Z",
     "end_time": "2024-11-11T00:46:24.065713Z"
    }
   }
  },
  {
   "cell_type": "code",
   "execution_count": null,
   "outputs": [],
   "source": [
    "team_stats['Date'] = team_stats['game_id'].apply(extract_date)\n",
    "team_stats['Date']"
   ],
   "metadata": {
    "collapsed": false,
    "ExecuteTime": {
     "start_time": "2024-11-11T00:46:24.038178Z",
     "end_time": "2024-11-11T00:46:24.093368Z"
    }
   }
  },
  {
   "cell_type": "markdown",
   "source": [
    "### Dodanie kolumn z liczbą zwycięstw w ostatnich 10 spotkaniach i aktualną serią porażek/zwycięstw"
   ],
   "metadata": {
    "collapsed": false
   }
  },
  {
   "cell_type": "code",
   "execution_count": null,
   "outputs": [],
   "source": [
    "team_stats['Season'] = team_stats['game_id'].astype(str).str[:4]\n",
    "# team_stats['Season']"
   ],
   "metadata": {
    "collapsed": false,
    "ExecuteTime": {
     "start_time": "2024-11-11T00:46:24.089289Z",
     "end_time": "2024-11-11T00:46:24.126983Z"
    }
   }
  },
  {
   "cell_type": "code",
   "execution_count": null,
   "outputs": [],
   "source": [
    "team_stats['id'] = team_stats.index"
   ],
   "metadata": {
    "collapsed": false,
    "ExecuteTime": {
     "start_time": "2024-11-11T00:46:24.115629Z",
     "end_time": "2024-11-11T00:46:24.140710Z"
    }
   }
  },
  {
   "cell_type": "code",
   "execution_count": null,
   "outputs": [],
   "source": [
    "def add_last_10(df):\n",
    "    df['last10'] = (\n",
    "        df.groupby(['team', 'Season'])['win']\n",
    "        .rolling(window=10, min_periods=1)\n",
    "        .sum()\n",
    "        .shift(1)\n",
    "        .reset_index(level=['team', 'Season'], drop=True)\n",
    "    )\n",
    "\n",
    "    first_game_mask = df.groupby(['team', 'Season']).cumcount() == 0\n",
    "    df.loc[first_game_mask, 'last10'] = 0.0\n",
    "    return df.sort_index()"
   ],
   "metadata": {
    "collapsed": false,
    "ExecuteTime": {
     "start_time": "2024-11-11T00:46:24.129374Z",
     "end_time": "2024-11-11T00:46:24.154314Z"
    }
   }
  },
  {
   "cell_type": "code",
   "execution_count": null,
   "outputs": [],
   "source": [
    "def calculate_streak(win_series):\n",
    "    streaks = []\n",
    "    streak = 0\n",
    "    last_win = None\n",
    "\n",
    "    for i in range(1, len(win_series)):\n",
    "        win = win_series.iloc[i - 1]  # bierzemy wynik meczu poprzedzającego aktualny\n",
    "        if win == last_win:\n",
    "            streak += 1\n",
    "        else:\n",
    "            streak = 1\n",
    "        streaks.append(streak if win == 1 else -streak)\n",
    "        last_win = win\n",
    "\n",
    "    # Pierwszy mecz nie może mieć streak, więc dodajemy wartość 0 na początku\n",
    "    streaks.insert(0, 0)\n",
    "\n",
    "    return streaks\n"
   ],
   "metadata": {
    "collapsed": false,
    "ExecuteTime": {
     "start_time": "2024-11-11T00:46:24.148825Z",
     "end_time": "2024-11-11T00:46:24.177644Z"
    }
   }
  },
  {
   "cell_type": "code",
   "execution_count": null,
   "outputs": [],
   "source": [
    "team_stats = add_last_10(team_stats)\n",
    "team_stats"
   ],
   "metadata": {
    "collapsed": false,
    "ExecuteTime": {
     "start_time": "2024-11-11T00:46:24.161349Z",
     "end_time": "2024-11-11T00:46:24.251379Z"
    }
   }
  },
  {
   "cell_type": "code",
   "execution_count": null,
   "outputs": [],
   "source": [
    "team_stats['streak'] = team_stats \\\n",
    "    .groupby(['team', 'Season'])['win'] \\\n",
    "    .transform(calculate_streak)\n",
    "team_stats = team_stats.sort_index()\n",
    "team_stats[team_stats['team']=='GSW']"
   ],
   "metadata": {
    "collapsed": false,
    "ExecuteTime": {
     "start_time": "2024-11-11T00:46:24.252380Z",
     "end_time": "2024-11-11T00:46:24.514974Z"
    }
   }
  },
  {
   "cell_type": "markdown",
   "source": [
    "### Stworzenie ramek danych w oknach czasowych"
   ],
   "metadata": {
    "collapsed": false
   }
  },
  {
   "cell_type": "code",
   "execution_count": null,
   "outputs": [],
   "source": [
    "def calculate_rolling_stats(df, window, columns, cols_concat):\n",
    "    df_copy = df.copy()\n",
    "    results = pd.DataFrame()\n",
    "\n",
    "    for col in columns:\n",
    "        if window == 'all':\n",
    "            # Calculate the mean for each team-season group up to the current game (shifted by one)\n",
    "            rolling_mean = (\n",
    "                df_copy.groupby(['Season', 'team'])[col]\n",
    "                .expanding()\n",
    "                .mean()\n",
    "                .shift(1)\n",
    "                .reset_index(level=['Season', 'team'], drop=True)\n",
    "            )\n",
    "        else:\n",
    "            # Calculate rolling mean with a specified window\n",
    "            rolling_mean = (\n",
    "                df_copy.groupby(['Season', 'team'])[col]\n",
    "                .rolling(window=window, min_periods=1)\n",
    "                .mean()\n",
    "                .shift(1)\n",
    "                .reset_index(level=['Season', 'team'], drop=True)\n",
    "            )\n",
    "\n",
    "        results[col] = rolling_mean\n",
    "\n",
    "    return pd.concat([df_copy[cols_concat].reset_index(drop=True), results], axis=1)"
   ],
   "metadata": {
    "collapsed": false,
    "ExecuteTime": {
     "start_time": "2024-11-11T00:46:24.519357Z",
     "end_time": "2024-11-11T00:46:24.541482Z"
    }
   }
  },
  {
   "cell_type": "code",
   "execution_count": null,
   "outputs": [],
   "source": [
    "team_stats.columns"
   ],
   "metadata": {
    "collapsed": false,
    "ExecuteTime": {
     "start_time": "2024-11-11T00:46:24.531438Z",
     "end_time": "2024-11-11T00:46:24.594392Z"
    }
   }
  },
  {
   "cell_type": "code",
   "execution_count": null,
   "outputs": [],
   "source": [
    "cols_move = ['id', 'game_id', 'Date', 'Season', 'team', 'win',  'streak', 'last10'] # kolumny do przeniesienia do docelowego df\n",
    "cols_to_transform = team_stats.columns[2:-7]"
   ],
   "metadata": {
    "collapsed": false,
    "ExecuteTime": {
     "start_time": "2024-11-11T00:46:24.547502Z",
     "end_time": "2024-11-11T00:46:24.625598Z"
    }
   }
  },
  {
   "cell_type": "code",
   "execution_count": null,
   "outputs": [],
   "source": [
    "team_all_season = calculate_rolling_stats(team_stats, 'all', cols_to_transform, cols_move)\n",
    "team_all_season[team_all_season['team']=='BOS']"
   ],
   "metadata": {
    "collapsed": false,
    "ExecuteTime": {
     "start_time": "2024-11-11T00:46:24.563649Z",
     "end_time": "2024-11-11T00:46:25.057920Z"
    }
   }
  },
  {
   "cell_type": "markdown",
   "source": [
    "Należy poprawić manualnie pierwsze rekordy w sezonie - średnie kroczące jak i last10. Przez przesunięcie shift() pierwsze rekordy są wzięte z poprzedniej drużyny, a pierwsza drużyna wg alfabetu - ATL (Atlanta Hawks) posiada wartości NAN\n",
    "\n",
    "W pierwszym sezonie w ramce danych każda drużyna będzie miała wpisane średnie dla całej ligi z całego sezonu, a w każdym następnym pierwszym rekordem będzie średnia dla drużyny z poprzedniego sezonu. Imputowany pierwszy rekord nie będzie mieć wpływu na dalsze obliczenia średnich kroczących"
   ],
   "metadata": {
    "collapsed": false
   }
  },
  {
   "cell_type": "code",
   "execution_count": null,
   "outputs": [],
   "source": [
    "def impute_first_rows(rolling_avgs, team_stats_boxscore, columns):\n",
    "    first_season = '1718'\n",
    "    df_copy = team_stats_boxscore.copy()\n",
    "    rolling_avgs = rolling_avgs.copy()\n",
    "\n",
    "    # Dla każdego sezonu (oprócz pierwszego) używamy ostatnich wartości z poprzedniego sezonu\n",
    "    for season in df_copy['Season'].unique()[1:]:  # pomijamy pierwszy sezon\n",
    "        yr1, yr2 = int(season[:2]), int(season[2:])\n",
    "        prev_season = str(yr1-1)+str(yr2-1)  # poprzedni sezon\n",
    "\n",
    "        # Dla każdej drużyny w bieżącym sezonie\n",
    "        for team in np.sort(df_copy[df_copy['Season'] == season]['team'].unique()):\n",
    "            # Znajdujemy indeks pierwszego rekordu w bieżącym sezonie\n",
    "            current_mask = (rolling_avgs['Season'] == season) & (rolling_avgs['team'] == team)\n",
    "\n",
    "            # Znajdujemy ostatnią wartość z poprzedniego sezonu\n",
    "            prev_mask = (rolling_avgs['Season'] == prev_season) & (rolling_avgs['team'] == team)\n",
    "\n",
    "            if prev_mask.any():\n",
    "                prev_values = rolling_avgs[prev_mask].iloc[-1][columns]\n",
    "                if current_mask.any():\n",
    "                    first_idx = rolling_avgs[current_mask].index[0]\n",
    "                    rolling_avgs.loc[first_idx, columns] = prev_values\n",
    "\n",
    "    # Dla pierwszego sezonu, używamy średniej ligowej\n",
    "    league_avg = df_copy[df_copy['Season'] == first_season][columns].mean()\n",
    "\n",
    "    for team in np.sort(df_copy[df_copy['Season'] == first_season]['team'].unique()):\n",
    "        mask = (rolling_avgs['Season'] == first_season) & (rolling_avgs['team'] == team)\n",
    "        if mask.any():\n",
    "            first_idx = rolling_avgs[mask].index[0]\n",
    "            rolling_avgs.loc[first_idx, columns] = league_avg\n",
    "\n",
    "    return rolling_avgs"
   ],
   "metadata": {
    "collapsed": false,
    "ExecuteTime": {
     "start_time": "2024-11-11T00:46:25.057920Z",
     "end_time": "2024-11-11T00:46:25.083609Z"
    }
   }
  },
  {
   "cell_type": "code",
   "execution_count": null,
   "outputs": [],
   "source": [
    "team_all_season = impute_first_rows(team_all_season, team_stats, cols_to_transform)\n",
    "team_all_season[team_all_season['team']=='BOS']"
   ],
   "metadata": {
    "collapsed": false,
    "ExecuteTime": {
     "start_time": "2024-11-11T00:46:25.073601Z",
     "end_time": "2024-11-11T00:46:28.054446Z"
    }
   }
  },
  {
   "cell_type": "code",
   "execution_count": null,
   "outputs": [],
   "source": [
    "team_all_season[(team_all_season['team']=='HOU')]"
   ],
   "metadata": {
    "collapsed": false,
    "ExecuteTime": {
     "start_time": "2024-11-11T00:46:28.055444Z",
     "end_time": "2024-11-11T00:46:28.196767Z"
    }
   }
  },
  {
   "cell_type": "markdown",
   "source": [
    "Teraz możemy stworzyć także ramki dla okien czasowych 20, 30 i 40 meczowych"
   ],
   "metadata": {
    "collapsed": false
   }
  },
  {
   "cell_type": "code",
   "execution_count": null,
   "outputs": [],
   "source": [
    "team_last_20 = calculate_rolling_stats(team_stats, 20, cols_to_transform, cols_move)\n",
    "team_last_20 = impute_first_rows(team_all_season, team_stats, cols_to_transform)\n",
    "team_last_20"
   ],
   "metadata": {
    "collapsed": false,
    "ExecuteTime": {
     "start_time": "2024-11-11T00:46:28.101524Z",
     "end_time": "2024-11-11T00:46:31.229544Z"
    }
   }
  },
  {
   "cell_type": "code",
   "execution_count": null,
   "outputs": [],
   "source": [
    "team_last_30 = calculate_rolling_stats(team_stats, 30, cols_to_transform, cols_move)\n",
    "team_last_30 = impute_first_rows(team_all_season, team_stats, cols_to_transform)\n",
    "team_last_30"
   ],
   "metadata": {
    "collapsed": false,
    "ExecuteTime": {
     "start_time": "2024-11-11T00:46:31.230543Z",
     "end_time": "2024-11-11T00:46:34.980729Z"
    }
   }
  },
  {
   "cell_type": "code",
   "execution_count": null,
   "outputs": [],
   "source": [
    "team_last_40 = calculate_rolling_stats(team_stats, 40, cols_to_transform, cols_move)\n",
    "team_last_40 = impute_first_rows(team_all_season, team_stats, cols_to_transform)\n",
    "team_last_40"
   ],
   "metadata": {
    "collapsed": false,
    "ExecuteTime": {
     "start_time": "2024-11-11T00:46:34.983914Z",
     "end_time": "2024-11-11T00:46:38.249159Z"
    }
   }
  },
  {
   "cell_type": "code",
   "execution_count": null,
   "outputs": [],
   "source": [
    "any(team_last_40.isna().sum())"
   ],
   "metadata": {
    "collapsed": false,
    "ExecuteTime": {
     "start_time": "2024-11-11T00:48:05.887349Z",
     "end_time": "2024-11-11T00:48:05.945533Z"
    }
   }
  },
  {
   "cell_type": "code",
   "execution_count": null,
   "outputs": [],
   "source": [
    "team_last_30.isna().sum()"
   ],
   "metadata": {
    "collapsed": false,
    "ExecuteTime": {
     "start_time": "2024-11-11T00:46:38.281627Z",
     "end_time": "2024-11-11T00:46:38.401710Z"
    }
   }
  },
  {
   "cell_type": "code",
   "execution_count": null,
   "outputs": [],
   "source": [
    "team_last_20.isna().sum()"
   ],
   "metadata": {
    "collapsed": false,
    "ExecuteTime": {
     "start_time": "2024-11-11T00:46:38.314348Z",
     "end_time": "2024-11-11T00:46:38.402215Z"
    }
   }
  },
  {
   "cell_type": "code",
   "execution_count": null,
   "outputs": [],
   "source": [
    "team_all_season.isna().sum()"
   ],
   "metadata": {
    "collapsed": false,
    "ExecuteTime": {
     "start_time": "2024-11-11T00:47:12.061475Z",
     "end_time": "2024-11-11T00:47:12.096206Z"
    }
   }
  },
  {
   "cell_type": "code",
   "execution_count": null,
   "outputs": [],
   "source": [
    "with sqlite3.connect('data/transformed/team_moving_avgs.sqlite') as con:\n",
    "    team_last_20.to_sql('team_last_20', con, if_exists='replace', index=False)\n",
    "    team_last_30.to_sql('team_last_30', con, if_exists='replace', index=False)\n",
    "    team_last_40.to_sql('team_last_40', con, if_exists='replace', index=False)\n",
    "    team_all_season.to_sql('team_all_season', con, if_exists='replace', index=False)"
   ],
   "metadata": {
    "collapsed": false,
    "ExecuteTime": {
     "start_time": "2024-11-11T00:46:50.520147Z",
     "end_time": "2024-11-11T00:46:51.457891Z"
    }
   }
  },
  {
   "cell_type": "code",
   "execution_count": null,
   "outputs": [],
   "source": [],
   "metadata": {
    "collapsed": false
   }
  }
 ],
 "metadata": {
  "kernelspec": {
   "display_name": "Python 3.10",
   "language": "python",
   "name": "myenv"
  },
  "language_info": {
   "codemirror_mode": {
    "name": "ipython",
    "version": 3
   },
   "file_extension": ".py",
   "mimetype": "text/x-python",
   "name": "python",
   "nbconvert_exporter": "python",
   "pygments_lexer": "ipython3",
   "version": "3.9.13"
  }
 },
 "nbformat": 4,
 "nbformat_minor": 5
}
