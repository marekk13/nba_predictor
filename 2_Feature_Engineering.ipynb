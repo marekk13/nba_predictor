{
 "cells": [
  {
   "cell_type": "markdown",
   "id": "5e81d934-b5db-46e2-ab16-9dd992819376",
   "metadata": {},
   "source": [
    "# Inżynieria cech\n",
    " - badanie wartości NA, błędów grubych\n",
    " - badanie typów danych i zmniejszenie zużycia pamięci\n",
    " - stworzenie danych średnich w różnych oknach czasowych (10 ostatnich spotkań, 20, 30 i od początku sezonu)"
   ]
  },
  {
   "cell_type": "code",
   "execution_count": 245,
   "id": "3e1ccb44-61bf-43ca-ba99-24f64f00fc22",
   "metadata": {
    "ExecuteTime": {
     "start_time": "2024-11-11T00:46:18.674656Z",
     "end_time": "2024-11-11T00:46:18.977687Z"
    }
   },
   "outputs": [],
   "source": [
    "import pandas as pd\n",
    "import sqlite3\n",
    "import numpy as np\n",
    "\n",
    "pd.set_option('display.max_columns', 40)"
   ]
  },
  {
   "cell_type": "code",
   "execution_count": 246,
   "id": "6fba34d2-5471-4652-8d52-755f0f0c8253",
   "metadata": {
    "ExecuteTime": {
     "start_time": "2024-11-11T00:46:18.686420Z",
     "end_time": "2024-11-11T00:46:22.303715Z"
    }
   },
   "outputs": [],
   "source": [
    "con = sqlite3.connect('data/start/NBA-Game-Database-combined.sqlite')\n",
    "game_info = pd.read_sql_query(f\"SELECT * FROM \\\"{'game_info'}\\\" ORDER BY date\", con)\n",
    "team_stats = pd.read_sql_query(f\"SELECT * FROM \\\"{'team_stats'}\\\"\", con)\n",
    "player_stats = pd.read_sql_query(f\"SELECT * FROM \\\"{'player_stats'}\\\"\", con)\n",
    "con.close()"
   ]
  },
  {
   "cell_type": "markdown",
   "source": [
    "## Badanie wartości NA, outlierów i błędów logicznych w danych"
   ],
   "metadata": {
    "collapsed": false
   }
  },
  {
   "cell_type": "markdown",
   "source": [
    "### Dane drużynowe"
   ],
   "metadata": {
    "collapsed": false
   }
  },
  {
   "cell_type": "code",
   "execution_count": 247,
   "outputs": [],
   "source": [
    "def analyze_na_outliers(df, context_cols):\n",
    "    missing_data = pd.isnull(df).mean()*100\n",
    "\n",
    "    # Wykrywanie grubych błędów\n",
    "    outliers = {}\n",
    "    for col in df.select_dtypes(include=['float', 'int']).columns:\n",
    "        mean = df[col].mean()\n",
    "        std = df[col].std()\n",
    "        threshold = 4\n",
    "\n",
    "        outliers[col] = df.loc[\n",
    "            (df[col] < mean - threshold * std) | (df[col] > mean + threshold * std),\n",
    "            context_cols + [col]\n",
    "        ]\n",
    "\n",
    "    errors = {}\n",
    "    for col in df.loc[:, df.columns.str.contains('%')].columns:\n",
    "        errors[col] = df.loc[\n",
    "            df[col]<0,\n",
    "            context_cols + [col]\n",
    "        ]\n",
    "\n",
    "    return missing_data, outliers, errors"
   ],
   "metadata": {
    "collapsed": false,
    "ExecuteTime": {
     "start_time": "2024-11-11T00:46:22.292535Z",
     "end_time": "2024-11-11T00:46:22.322350Z"
    }
   }
  },
  {
   "cell_type": "code",
   "execution_count": 248,
   "outputs": [
    {
     "data": {
      "text/plain": "FT%      0.006031\n+/-    100.000000\ndtype: float64"
     },
     "execution_count": 248,
     "metadata": {},
     "output_type": "execute_result"
    }
   ],
   "source": [
    "team_missing_data, team_outliers, team_errors = analyze_na_outliers(team_stats, context_cols=['game_id', 'team'])\n",
    "team_missing_data[team_missing_data > 0]"
   ],
   "metadata": {
    "collapsed": false,
    "ExecuteTime": {
     "start_time": "2024-11-11T00:46:22.308824Z",
     "end_time": "2024-11-11T00:46:22.421987Z"
    }
   }
  },
  {
   "cell_type": "code",
   "execution_count": 249,
   "outputs": [
    {
     "data": {
      "text/plain": "      team   MP    FG   FGA    FG%    3P   3PA    3P%   FT  FTA  FT%   ORB  \\\n16476  BOS  240  37.0  93.0  0.398  17.0  52.0  0.327  0.0  0.0  NaN  12.0   \n\n        DRB   TRB   AST   STL  BLK   TOV   PF   PTS GmSc   +/-    TS%   eFG%  \\\n16476  26.0  38.0  27.0  11.0  4.0  12.0  8.0  91.0  -99  None  0.489  0.489   \n\n        3PAr  FTr  ORB%  DRB%  TRB%  AST%  STL%  BLK%  TOV%   USG%   ORtg  \\\n16476  0.559  0.0  23.5  72.2  43.7  73.0  12.3   8.9  11.4  100.0  101.4   \n\n        DRtg  Pace       game_id  win  \n16476  115.9  89.7  232404091179    0  ",
      "text/html": "<div>\n<style scoped>\n    .dataframe tbody tr th:only-of-type {\n        vertical-align: middle;\n    }\n\n    .dataframe tbody tr th {\n        vertical-align: top;\n    }\n\n    .dataframe thead th {\n        text-align: right;\n    }\n</style>\n<table border=\"1\" class=\"dataframe\">\n  <thead>\n    <tr style=\"text-align: right;\">\n      <th></th>\n      <th>team</th>\n      <th>MP</th>\n      <th>FG</th>\n      <th>FGA</th>\n      <th>FG%</th>\n      <th>3P</th>\n      <th>3PA</th>\n      <th>3P%</th>\n      <th>FT</th>\n      <th>FTA</th>\n      <th>FT%</th>\n      <th>ORB</th>\n      <th>DRB</th>\n      <th>TRB</th>\n      <th>AST</th>\n      <th>STL</th>\n      <th>BLK</th>\n      <th>TOV</th>\n      <th>PF</th>\n      <th>PTS</th>\n      <th>GmSc</th>\n      <th>+/-</th>\n      <th>TS%</th>\n      <th>eFG%</th>\n      <th>3PAr</th>\n      <th>FTr</th>\n      <th>ORB%</th>\n      <th>DRB%</th>\n      <th>TRB%</th>\n      <th>AST%</th>\n      <th>STL%</th>\n      <th>BLK%</th>\n      <th>TOV%</th>\n      <th>USG%</th>\n      <th>ORtg</th>\n      <th>DRtg</th>\n      <th>Pace</th>\n      <th>game_id</th>\n      <th>win</th>\n    </tr>\n  </thead>\n  <tbody>\n    <tr>\n      <th>16476</th>\n      <td>BOS</td>\n      <td>240</td>\n      <td>37.0</td>\n      <td>93.0</td>\n      <td>0.398</td>\n      <td>17.0</td>\n      <td>52.0</td>\n      <td>0.327</td>\n      <td>0.0</td>\n      <td>0.0</td>\n      <td>NaN</td>\n      <td>12.0</td>\n      <td>26.0</td>\n      <td>38.0</td>\n      <td>27.0</td>\n      <td>11.0</td>\n      <td>4.0</td>\n      <td>12.0</td>\n      <td>8.0</td>\n      <td>91.0</td>\n      <td>-99</td>\n      <td>None</td>\n      <td>0.489</td>\n      <td>0.489</td>\n      <td>0.559</td>\n      <td>0.0</td>\n      <td>23.5</td>\n      <td>72.2</td>\n      <td>43.7</td>\n      <td>73.0</td>\n      <td>12.3</td>\n      <td>8.9</td>\n      <td>11.4</td>\n      <td>100.0</td>\n      <td>101.4</td>\n      <td>115.9</td>\n      <td>89.7</td>\n      <td>232404091179</td>\n      <td>0</td>\n    </tr>\n  </tbody>\n</table>\n</div>"
     },
     "execution_count": 249,
     "metadata": {},
     "output_type": "execute_result"
    }
   ],
   "source": [
    "team_stats[team_stats['FT%'].isna()]"
   ],
   "metadata": {
    "collapsed": false,
    "ExecuteTime": {
     "start_time": "2024-11-11T00:46:22.415413Z",
     "end_time": "2024-11-11T00:46:22.497956Z"
    }
   }
  },
  {
   "cell_type": "markdown",
   "source": [
    "Kolumnę +/- można usunąć, Net Rating przekazuje tą samą informację, ale z uwzględnieniem tempa gry"
   ],
   "metadata": {
    "collapsed": false
   }
  },
  {
   "cell_type": "code",
   "execution_count": 250,
   "outputs": [],
   "source": [
    "team_stats.loc[16476, 'FT%'] = 0.0\n",
    "team_stats = team_stats.drop(columns=['+/-', 'GmSc', 'USG%'])"
   ],
   "metadata": {
    "collapsed": false,
    "ExecuteTime": {
     "start_time": "2024-11-11T00:46:22.509489Z",
     "end_time": "2024-11-11T00:46:22.537931Z"
    }
   }
  },
  {
   "cell_type": "code",
   "execution_count": 251,
   "outputs": [
    {
     "name": "stdout",
     "output_type": "stream",
     "text": [
      "            game_id team    FG\n",
      "8969   202105030965  WAS  63.0\n",
      "13460  222302240901  SAC  65.0\n",
      "16557  232404141219  IND  65.0\n",
      "\n",
      "            game_id team    FGA\n",
      "3737   181901130639  WAS  118.0\n",
      "4165   181902130853  CLE  120.0\n",
      "4221   181902220881  OKC  118.0\n",
      "4299   181902270920  SAC  118.0\n",
      "4314   181903010928  CHI  119.0\n",
      "4315   181903010928  ATL  123.0\n",
      "4671   181903251106  POR  121.0\n",
      "4749   181903311145  ATL  118.0\n",
      "9208   212210200005  BOS  117.0\n",
      "9780   212211260291  SAC  120.0\n",
      "12775  222301020558  GSW  121.0\n",
      "15373  232401200627  HOU  117.0\n",
      "15475  232401270678  GSW  119.0\n",
      "16269  232403261075  MIL  119.0\n",
      "\n",
      "           game_id team    FG%\n",
      "9848  212212010325  DAL  0.687\n",
      "\n",
      "           game_id team    3P\n",
      "7138  202112290050  MIL  29.0\n",
      "7630  202102010296  HOU  28.0\n",
      "7943  202102220452  UTA  28.0\n",
      "\n",
      "            game_id team   3PA\n",
      "3777   181901160659  HOU  70.0\n",
      "3831   181901190686  HOU  68.0\n",
      "9180   202105161071  HOU  63.0\n",
      "15597  232402040739  OKC  63.0\n",
      "\n",
      "           game_id team    3P%\n",
      "1068  171812300535  MEM  0.714\n",
      "3143  181912020342  SAS  0.733\n",
      "3446  181912230494  LAC  0.783\n",
      "3697  181901100619  SAS  0.842\n",
      "4050  181902050796  LAC  0.750\n",
      "\n",
      "            game_id team    FT\n",
      "2709   181911030125  PHI  44.0\n",
      "11650  212204101226  LAL  42.0\n",
      "14555  232411220218  PHO  44.0\n",
      "\n",
      "            game_id team   FTA\n",
      "609    171811290305  PHI  64.0\n",
      "2709   181911030125  PHI  51.0\n",
      "3580   181901020561  PHI  54.0\n",
      "4432   181903090987  BRK  54.0\n",
      "12206  222311250274  POR  51.0\n",
      "14555  232411220218  PHO  52.0\n",
      "\n",
      "            game_id team    FT%\n",
      "206    171810310104  DET  0.333\n",
      "1343   171801190672  LAL  0.143\n",
      "3802   181901180672  MIA  0.263\n",
      "7171   202112310066  OKC  0.333\n",
      "8452   202104010707  WAS  0.316\n",
      "9337   212210280069  DAL  0.308\n",
      "12152  222311200247  SAS  0.300\n",
      "13504  222302280923  MIL  0.333\n",
      "16181  232403201031  GSW  0.333\n",
      "16568  232404141225  HOU  0.357\n",
      "\n",
      "            game_id team   ORB\n",
      "2822   181911100182  OKC  26.0\n",
      "4794   181904031168  PHI  26.0\n",
      "10972  212202240887  MEM  26.0\n",
      "12434  222312100388  BRK  29.0\n",
      "14360  232411100121  CHO  28.0\n",
      "14441  232411150161  TOR  26.0\n",
      "14501  232411190191  UTA  27.0\n",
      "\n",
      "            game_id team   DRB\n",
      "202    171810310102  PHO  56.0\n",
      "12796  222301040569  MIL  60.0\n",
      "14106  222304091224  SAS  56.0\n",
      "\n",
      "            game_id team   TRB\n",
      "4748   181903311145  MIL  71.0\n",
      "12796  222301040569  MIL  73.0\n",
      "15869  232402280875  CHI  74.0\n",
      "\n",
      "            game_id team   AST\n",
      "634    171812010318  GSW  46.0\n",
      "8969   202105030965  WAS  50.0\n",
      "14118  222304091230  GSW  47.0\n",
      "15141  232401050511  IND  50.0\n",
      "\n",
      "            game_id team   STL\n",
      "3063   181911270302  MIA  20.0\n",
      "8853   202104260907  PHI  22.0\n",
      "9297   212210250049  LAC  21.0\n",
      "14446  232411150164  SAC  20.0\n",
      "\n",
      "            game_id team   BLK\n",
      "417    171811150209  MIL  16.0\n",
      "426    171811150214  PHI  15.0\n",
      "734    171812080368  GSW  15.0\n",
      "1043   171812290522  TOR  15.0\n",
      "1689   171802120845  GSW  16.0\n",
      "2217   171803271109  TOR  16.0\n",
      "2489   181910180015  WAS  15.0\n",
      "2795   181911090168  PHI  15.0\n",
      "2831   181911110186  NYK  15.0\n",
      "3039   181911250290  MEM  19.0\n",
      "3375   181912190458  BOS  15.0\n",
      "3713   181901110627  POR  16.0\n",
      "3951   181901280746  BOS  16.0\n",
      "5997   192001050538  LAL  20.0\n",
      "8931   202105010946  CHO  15.0\n",
      "9083   202105101022  MEM  19.0\n",
      "11182  212203100992  BRK  15.0\n",
      "11195  212203110998  MEM  16.0\n",
      "11717  222310220029  IND  15.0\n",
      "12094  222311160218  HOU  19.0\n",
      "13645  222303090993  IND  15.0\n",
      "14195  232410290038  PHI  17.0\n",
      "15000  232412260441  MEM  17.0\n",
      "15623  232402060752  CHI  16.0\n",
      "15972  232403060927  MEM  15.0\n",
      "16501  232404101191  BRK  15.0\n",
      "16553  232404141217  BOS  15.0\n",
      "\n",
      "           game_id team   TOV\n",
      "8852  202104260907  OKC  30.0\n",
      "9260  212210230031  NOP  30.0\n",
      "9296  212210250049  POR  30.0\n",
      "\n",
      "           game_id team    PF\n",
      "608   171811290305  WAS  42.0\n",
      "2302  171804011152  MIL  37.0\n",
      "2945  181911190243  ATL  38.0\n",
      "4165  181902130853  CLE  37.0\n",
      "4433  181903090987  ATL  37.0\n",
      "6917  192008040998  SAC  37.0\n",
      "\n",
      "            game_id team    PTS\n",
      "4314   181903010928  CHI  168.0\n",
      "13460  222302240901  SAC  176.0\n",
      "13461  222302240901  LAC  175.0\n",
      "\n",
      "            game_id team    FTr\n",
      "609    171811290305  PHI  0.790\n",
      "1039   171812280520  POR  0.627\n",
      "1463   171801280732  HOU  0.681\n",
      "2709   181911030125  PHI  0.739\n",
      "2726   181911040134  PHI  0.631\n",
      "3547   181912310544  HOU  0.643\n",
      "3580   181901020561  PHI  0.730\n",
      "3685   181901090613  DAL  0.643\n",
      "4432   181903090987  BRK  0.628\n",
      "5025   192010290052  MIA  0.616\n",
      "6629   192002240854  UTA  0.632\n",
      "6811   192003080945  BRK  0.641\n",
      "8353   202103260657  DET  0.644\n",
      "13843  222303221092  LAL  0.657\n",
      "14555  232411220218  PHO  0.684\n",
      "15509  232401290695  DAL  0.623\n",
      "\n",
      "            game_id team  ORB%\n",
      "12434  222312100388  BRK  55.8\n",
      "\n",
      "            game_id team  DRB%\n",
      "12435  222312100388  IND  44.2\n",
      "\n",
      "           game_id team  STL%\n",
      "3827  181901190684  TOR  19.2\n",
      "8853  202104260907  PHI  21.1\n",
      "9798  212211280300  GSW  19.3\n",
      "\n",
      "            game_id team  BLK%\n",
      "91     171810230046  SAS  27.9\n",
      "417    171811150209  MIL  33.3\n",
      "472    171811190237  GSW  29.8\n",
      "2217   171803271109  TOR  27.1\n",
      "2831   181911110186  NYK  26.8\n",
      "3039   181911250290  MEM  27.5\n",
      "3713   181901110627  POR  26.7\n",
      "3857   181901210699  PHI  31.8\n",
      "5933   192001010506  MIL  26.7\n",
      "5997   192001050538  LAL  38.5\n",
      "6327   192001280703  MEM  26.8\n",
      "8931   202105010946  CHO  27.8\n",
      "9181   202105161071  ATL  27.6\n",
      "9844   212212010323  CLE  29.2\n",
      "11717  222310220029  IND  28.3\n",
      "11898  222311040120  CLE  28.3\n",
      "12094  222311160218  HOU  40.4\n",
      "14195  232410290038  PHI  27.0\n",
      "14551  232411220216  OKC  27.3\n",
      "14891  232412180386  OKC  32.3\n",
      "15623  232402060752  CHI  34.0\n",
      "16501  232404101191  BRK  27.8\n",
      "\n",
      "           game_id team  TOV%\n",
      "5706  192012150393  SAC  29.3\n",
      "6811  192003080945  BRK  26.1\n",
      "\n",
      "           game_id team   Pace\n",
      "8968  202105030965  IND  118.7\n",
      "8969  202105030965  WAS  118.7\n",
      "\n"
     ]
    }
   ],
   "source": [
    "for column, outlier_values in team_outliers.items():\n",
    "    if not outlier_values.empty:\n",
    "        print(outlier_values, end='\\n\\n')"
   ],
   "metadata": {
    "collapsed": false,
    "ExecuteTime": {
     "start_time": "2024-11-11T00:46:22.529985Z",
     "end_time": "2024-11-11T00:46:22.731491Z"
    }
   }
  },
  {
   "cell_type": "markdown",
   "source": [
    "Outliery wskazują na rzadko spotykane wydarzenia i ciekawostki statystyczne, nie widać niepoprawnych wartości"
   ],
   "metadata": {
    "collapsed": false
   }
  },
  {
   "cell_type": "code",
   "execution_count": 252,
   "outputs": [],
   "source": [
    "for column, error_values in team_errors.items():\n",
    "    if not error_values.empty:\n",
    "        print(error_values, end='\\n\\n')"
   ],
   "metadata": {
    "collapsed": false,
    "ExecuteTime": {
     "start_time": "2024-11-11T00:46:22.574490Z",
     "end_time": "2024-11-11T00:46:22.731491Z"
    }
   }
  },
  {
   "cell_type": "markdown",
   "source": [
    "Brak wychwyconych błędów logicznych w danych drużynowych"
   ],
   "metadata": {
    "collapsed": false
   }
  },
  {
   "cell_type": "markdown",
   "source": [
    "### Dane wg zawodników"
   ],
   "metadata": {
    "collapsed": false
   }
  },
  {
   "cell_type": "code",
   "execution_count": 253,
   "outputs": [
    {
     "data": {
      "text/plain": "game_id     0.000000\nplayer      0.000000\nteam        0.000000\nMP          0.000000\nFG         17.112934\nFGA        17.112934\nFG%        20.997485\n3P         17.112934\n3PA        17.112934\n3P%        35.971538\nFT         17.112934\nFTA        17.112934\nFT%        53.566215\nORB        17.112934\nDRB        17.112934\nTRB        17.112934\nAST        17.112934\nSTL        17.112934\nBLK        17.112934\nTOV        17.112934\nPF         17.112934\nPTS        17.112934\nGmSc       17.112934\n+/-        17.225482\nTS%        20.552945\neFG%       20.997485\n3PAr       20.997485\nFTr        20.997485\nORB%       17.133654\nDRB%       17.133654\nTRB%       17.133654\nAST%       17.134125\nSTL%       17.133654\nBLK%       17.133654\nTOV%       19.944056\nUSG%       17.133654\nORtg       17.133654\nDRtg       17.133654\nBPM        17.125649\nPIE        17.112934\ndtype: float64"
     },
     "execution_count": 253,
     "metadata": {},
     "output_type": "execute_result"
    }
   ],
   "source": [
    "player_missing_data, player_outliers, player_errors = analyze_na_outliers(player_stats, context_cols=['game_id', 'player'])\n",
    "player_missing_data"
   ],
   "metadata": {
    "collapsed": false,
    "ExecuteTime": {
     "start_time": "2024-11-11T00:46:22.590523Z",
     "end_time": "2024-11-11T00:46:23.267829Z"
    }
   }
  },
  {
   "cell_type": "markdown",
   "source": [
    "Nie będziemy imputować danych w tabeli player_stats, ponieważ kolumny z brakami nie będą wykorzystywane."
   ],
   "metadata": {
    "collapsed": false
   }
  },
  {
   "cell_type": "code",
   "execution_count": 254,
   "outputs": [
    {
     "name": "stdout",
     "output_type": "stream",
     "text": [
      "             game_id                 player    FG\n",
      "542     171810200022         Nikola Vučević  17.0\n",
      "863     171810210034  Giannis Antetokounmpo  17.0\n",
      "3101    171811030122           LeBron James  23.0\n",
      "3564    171811050140           James Harden  19.0\n",
      "5578    171811170220           LeBron James  17.0\n",
      "...              ...                    ...   ...\n",
      "209588  232404021128           Nikola Jokić  18.0\n",
      "209733  232404031134          Malachi Flynn  18.0\n",
      "210712  232404071171           Tyrese Maxey  19.0\n",
      "211046  232404091183        Anthony Edwards  17.0\n",
      "212204  232404141226          GG Jackson II  17.0\n",
      "\n",
      "[285 rows x 3 columns]\n",
      "\n",
      "             game_id         player   FGA\n",
      "3101    171811030122   LeBron James  34.0\n",
      "8633    171812040341   Devin Booker  32.0\n",
      "8904    171812050352   Bradley Beal  37.0\n",
      "10103   171812120400   Bradley Beal  33.0\n",
      "10167   171812120402   Jimmy Butler  33.0\n",
      "...              ...            ...   ...\n",
      "208851  232403291100  Jalen Brunson  47.0\n",
      "209588  232404021128   Nikola Jokić  32.0\n",
      "210682  232404071170  Jalen Brunson  32.0\n",
      "210712  232404071171   Tyrese Maxey  41.0\n",
      "212204  232404141226  GG Jackson II  36.0\n",
      "\n",
      "[158 rows x 3 columns]\n",
      "\n",
      "             game_id            player   3P\n",
      "131     171810180006  Robert Covington  7.0\n",
      "620     171810200025     Klay Thompson  7.0\n",
      "1906    171810270075   Otto Porter Jr.  7.0\n",
      "2006    171810280079     Ryan Anderson  7.0\n",
      "2071    171810280081   Harrison Barnes  7.0\n",
      "...              ...               ...  ...\n",
      "211467  232404111199     Fred VanVleet  9.0\n",
      "211520  232404111201       CJ McCollum  9.0\n",
      "211697  232404121207     GG Jackson II  7.0\n",
      "211847  232404121213       CJ McCollum  8.0\n",
      "211861  232404121213     Stephen Curry  7.0\n",
      "\n",
      "[1055 rows x 3 columns]\n",
      "\n",
      "             game_id            player   3PA\n",
      "1441    171810250057       Eric Gordon  16.0\n",
      "1775    171810270070       Eric Gordon  16.0\n",
      "2873    171811010113      James Harden  17.0\n",
      "9712    171812090384    Damian Lillard  16.0\n",
      "13223   171812290523    Nikola Mirotić  16.0\n",
      "...              ...               ...   ...\n",
      "209225  232403311114  Donte DiVincenzo  16.0\n",
      "209416  232404011122      Devin Booker  16.0\n",
      "210817  232404091175       Luka Dončić  17.0\n",
      "211060  232404091184      De'Aaron Fox  17.0\n",
      "211493  232404111200     Stephen Curry  16.0\n",
      "\n",
      "[242 rows x 3 columns]\n",
      "\n",
      "             game_id                   player    FT\n",
      "51      171810180003             Kemba Walker  11.0\n",
      "143     171810180006             Bradley Beal  12.0\n",
      "157     171810180007    Giannis Antetokounmpo  11.0\n",
      "181     171810180008            Anthony Davis  14.0\n",
      "684     171810210027            DeMar DeRozan  14.0\n",
      "...              ...                      ...   ...\n",
      "211075  232404091184  Shai Gilgeous-Alexander  16.0\n",
      "211681  232404121207            Anthony Davis  13.0\n",
      "211696  232404121207             Jake LaRavia  11.0\n",
      "212070  232404141221            Jalen Brunson  11.0\n",
      "212085  232404141222           Damian Lillard  12.0\n",
      "\n",
      "[1442 rows x 3 columns]\n",
      "\n",
      "             game_id                   player   FTA\n",
      "143     171810180006             Bradley Beal  16.0\n",
      "181     171810180008            Anthony Davis  17.0\n",
      "684     171810210027            DeMar DeRozan  16.0\n",
      "785     171810210031               Marc Gasol  17.0\n",
      "943     171810210037            Blake Griffin  14.0\n",
      "...              ...                      ...   ...\n",
      "210483  232404071162             Kyrie Irving  17.0\n",
      "210511  232404071163              Paul George  16.0\n",
      "210697  232404071170           Damian Lillard  15.0\n",
      "211075  232404091184  Shai Gilgeous-Alexander  20.0\n",
      "211681  232404121207            Anthony Davis  17.0\n",
      "\n",
      "[997 rows x 3 columns]\n",
      "\n",
      "             game_id              player   ORB\n",
      "181     171810180008       Anthony Davis   7.0\n",
      "350     171810190014   Jonas Valančiūnas   8.0\n",
      "389     171810190016      DeAndre Jordan   9.0\n",
      "891     171810210035     Wilson Chandler   7.0\n",
      "996     171810220039        Steven Adams   8.0\n",
      "...              ...                 ...   ...\n",
      "211441  232404111198  Isaiah Hartenstein   7.0\n",
      "211509  232404111200       Jabari Walker   7.0\n",
      "211582  232404121203        Adama Sanogo  10.0\n",
      "211698  232404121207      Jordan Goodwin   8.0\n",
      "212302  232404141230         Kris Murray   7.0\n",
      "\n",
      "[1081 rows x 3 columns]\n",
      "\n",
      "             game_id             player   DRB\n",
      "12      171810170001       LeBron James  15.0\n",
      "104     171810180005   Hassan Whiteside  17.0\n",
      "389     171810190016     DeAndre Jordan  15.0\n",
      "1109    171810230044      Dwight Howard  15.0\n",
      "1404    171810250055      Dwight Howard  15.0\n",
      "...              ...                ...   ...\n",
      "210726  232404071171  Victor Wembanyama  15.0\n",
      "210738  232404071172   Domantas Sabonis  15.0\n",
      "211392  232404101196       Jusuf Nurkić  16.0\n",
      "211576  232404121203       Torrey Craig  15.0\n",
      "211747  232404121209        Rudy Gobert  15.0\n",
      "\n",
      "[492 rows x 3 columns]\n",
      "\n",
      "             game_id            player   TRB\n",
      "104     171810180005  Hassan Whiteside  22.0\n",
      "389     171810190016    DeAndre Jordan  24.0\n",
      "1109    171810230044     Dwight Howard  22.0\n",
      "1289    171810240051      Enes Freedom  19.0\n",
      "1404    171810250055     Dwight Howard  20.0\n",
      "...              ...               ...   ...\n",
      "210738  232404071172  Domantas Sabonis  20.0\n",
      "211021  232404091182    Jordan Goodwin  19.0\n",
      "211392  232404101196      Jusuf Nurkić  19.0\n",
      "211582  232404121203      Adama Sanogo  20.0\n",
      "211747  232404121209       Rudy Gobert  19.0\n",
      "\n",
      "[510 rows x 3 columns]\n",
      "\n",
      "             game_id             player   AST\n",
      "41      171810170002     Draymond Green  13.0\n",
      "376     171810190015  Russell Westbrook  16.0\n",
      "1018    171810220040         Lonzo Ball  13.0\n",
      "1248    171810240049       LeBron James  13.0\n",
      "1312    171810240052    Darren Collison  16.0\n",
      "...              ...                ...   ...\n",
      "210913  232404091178    Dejounte Murray  13.0\n",
      "211143  232404091187  Russell Westbrook  15.0\n",
      "211185  232404091188    Scoot Henderson  15.0\n",
      "212015  232404141219  Tyrese Haliburton  13.0\n",
      "212247  232404141228       LeBron James  17.0\n",
      "\n",
      "[888 rows x 3 columns]\n",
      "\n",
      "             game_id            player  STL\n",
      "377     171810190015      Steven Adams  5.0\n",
      "518     171810200021    Reggie Jackson  5.0\n",
      "580     171810200023      Jimmy Butler  5.0\n",
      "902     171810210036       Paul George  5.0\n",
      "944     171810210037  Patrick Beverley  5.0\n",
      "...              ...               ...  ...\n",
      "211321  232404101193      Bobby Portis  5.0\n",
      "211848  232404121213   Zion Williamson  6.0\n",
      "212059  232404141221       Alex Caruso  5.0\n",
      "212220  232404141227      Jusuf Nurkić  5.0\n",
      "212247  232404141228      LeBron James  5.0\n",
      "\n",
      "[707 rows x 3 columns]\n",
      "\n",
      "             game_id            player  BLK\n",
      "39      171810170002      Kevin Durant  4.0\n",
      "90      171810180004      Myles Turner  4.0\n",
      "161     171810180007       John Henson  4.0\n",
      "183     171810180008  DeMarcus Cousins  7.0\n",
      "619     171810200025      Kevin Durant  7.0\n",
      "...              ...               ...  ...\n",
      "211500  232404111200      Kevon Looney  4.0\n",
      "211747  232404121209       Rudy Gobert  5.0\n",
      "211972  232404141217     Neemias Queta  6.0\n",
      "211979  232404141218    Marques Bolden  4.0\n",
      "212017  232404141219      Myles Turner  4.0\n",
      "\n",
      "[1831 rows x 3 columns]\n",
      "\n",
      "             game_id             player  TOV\n",
      "39      171810170002       Kevin Durant  8.0\n",
      "376     171810190015  Russell Westbrook  7.0\n",
      "532     171810200021          John Wall  8.0\n",
      "555     171810200022   D'Angelo Russell  8.0\n",
      "634     171810200025   DeMarcus Cousins  7.0\n",
      "...              ...                ...  ...\n",
      "211682  232404121207       LeBron James  8.0\n",
      "211808  232404121211  Victor Wembanyama  7.0\n",
      "211861  232404121213      Stephen Curry  7.0\n",
      "212002  232404141219         Trae Young  8.0\n",
      "212142  232404141224       Luka Šamanić  7.0\n",
      "\n",
      "[901 rows x 3 columns]\n",
      "\n",
      "             game_id           player   PTS\n",
      "3101    171811030122     LeBron James  57.0\n",
      "3564    171811050140     James Harden  56.0\n",
      "5418    171811150214      Joel Embiid  46.0\n",
      "5468    171811160216     James Harden  48.0\n",
      "5615    171811170222     Kemba Walker  47.0\n",
      "...              ...              ...   ...\n",
      "209733  232404031134    Malachi Flynn  50.0\n",
      "210483  232404071162     Kyrie Irving  48.0\n",
      "210712  232404071171     Tyrese Maxey  52.0\n",
      "210953  232404091180    Jalen Brunson  45.0\n",
      "211046  232404091183  Anthony Edwards  51.0\n",
      "\n",
      "[303 rows x 3 columns]\n",
      "\n",
      "             game_id                  player   +/-\n",
      "6574    171811220259        Luc Mbah a Moute  57.0\n",
      "19484   171802020773             T.J. Warren -48.0\n",
      "19619   171802030779              Chris Paul  47.0\n",
      "20379   171802070809            Josh Jackson -47.0\n",
      "20381   171802070809         Marquese Chriss -46.0\n",
      "26973   171803221072            Kemba Walker  47.0\n",
      "26974   171803221072         Marvin Williams  47.0\n",
      "26975   171803221072             Jeremy Lamb  51.0\n",
      "31806   181910200033            Trevor Ariza -47.0\n",
      "36379   181911150214     Juancho Hernangómez  46.0\n",
      "40580   181912080383            Daniel Theis  50.0\n",
      "63918   192011030086       Russell Westbrook -46.0\n",
      "68835   192011300282            James Harden  50.0\n",
      "80663   192002050756        D'Angelo Russell -48.0\n",
      "107255  202104020713           Pascal Siakam  49.0\n",
      "107256  202104020713          Gary Trent Jr.  54.0\n",
      "107678  202104030729             Isaiah Roby -50.0\n",
      "107681  202104030729            Théo Maledon -46.0\n",
      "111485  202104210870             Mike Conley  46.0\n",
      "113672  202105010951          Oshae Brissett  49.0\n",
      "113673  202105010951        Domantas Sabonis  49.0\n",
      "113674  202105010951            Caris LeVert  47.0\n",
      "125831  212212020330                Tre Mann -47.0\n",
      "125832  212212020330           Luguentz Dort -53.0\n",
      "125833  212212020330  Jeremiah Robinson-Earl -56.0\n",
      "125846  212212020330            Santi Aldama  52.0\n",
      "125849  212212020330       De'Anthony Melton  46.0\n",
      "137997  212202080811             Patty Mills -47.0\n",
      "139965  212202250891            Terry Rozier  46.0\n",
      "142128  212203080977       Jaren Jackson Jr.  47.0\n",
      "142433  212203090990               Josh Hart -51.0\n",
      "146919  212204031171              Obi Toppin  46.0\n",
      "148342  212204101227    Georgios Kalaitzakis -50.0\n",
      "148343  212204101227          Zavier Simpson -51.0\n",
      "148344  212204101227            Jaylen Hoard -48.0\n",
      "148345  212204101227              Vit Krejci -50.0\n",
      "168148  222302010771            Jayson Tatum  46.0\n",
      "188063  232412060304          Keyonte George -48.0\n",
      "188064  232412060304            Ochai Agbaji -47.0\n",
      "189688  232412160366           Miles Bridges -56.0\n",
      "193589  232401050514               Josh Hart  46.0\n",
      "194791  232401110560         Scoot Henderson -56.0\n",
      "194793  232401110560              Duop Reath -49.0\n",
      "194802  232401110560             Josh Giddey  46.0\n",
      "202885  232402270869           Miles Bridges -48.0\n",
      "208797  232403291098             Kris Murray -49.0\n",
      "208798  232403291098         Scoot Henderson -58.0\n",
      "\n",
      "             game_id                   player  FTr\n",
      "7       171810170001              Aron Baynes  2.0\n",
      "78      171810180004  Rondae Hollis-Jefferson  2.0\n",
      "203     171810180008         Chandler Parsons  2.5\n",
      "254     171810180010                Ekpe Udoh  2.0\n",
      "343     171810190014              David Nwaba  3.0\n",
      "...              ...                      ...  ...\n",
      "211687  232404121207        Spencer Dinwiddie  3.0\n",
      "212109  232404141222            Caleb Houstan  2.0\n",
      "212164  232404141224          Jerome Robinson  2.0\n",
      "212321  232404141230                 Alex Len  4.0\n",
      "212337  232404141231            Buddy Boeheim  2.5\n",
      "\n",
      "[2860 rows x 3 columns]\n",
      "\n",
      "             game_id                  player   ORB%\n",
      "177     171810180007            Daniel Theis   40.4\n",
      "384     171810190015          Dakari Johnson  100.0\n",
      "385     171810190015            Josh Huestis   43.5\n",
      "495     171810200020             Aron Baynes   37.4\n",
      "733     171810210029              Khem Birch   41.4\n",
      "...              ...                     ...    ...\n",
      "211620  232404121204          Oshae Brissett   42.2\n",
      "212241  232404141227              Luka Garza  100.0\n",
      "212242  232404141227       Wendell Moore Jr.   67.8\n",
      "212271  232404141228  Jeremiah Robinson-Earl   55.3\n",
      "212325  232404141230            JaVale McGee   41.6\n",
      "\n",
      "[1348 rows x 3 columns]\n",
      "\n",
      "             game_id                  player   DRB%\n",
      "242     171810180010           Malik Beasley   85.5\n",
      "476     171810200019           José Calderón   90.5\n",
      "925     171810210036           Royce O'Neale  100.0\n",
      "953     171810210037           Brice Johnson   67.7\n",
      "1436    171810250056            Luke Kennard   75.4\n",
      "...              ...                     ...    ...\n",
      "212111  232404141222            Goga Bitadze   86.2\n",
      "212164  232404141224         Jerome Robinson   80.6\n",
      "212199  232404141226             Braxton Key  100.0\n",
      "212258  232404141228             Harry Giles  100.0\n",
      "212271  232404141228  Jeremiah Robinson-Earl   64.5\n",
      "\n",
      "[899 rows x 3 columns]\n",
      "\n",
      "             game_id                  player  TRB%\n",
      "242     171810180010           Malik Beasley  42.8\n",
      "384     171810190015          Dakari Johnson  83.6\n",
      "476     171810200019           José Calderón  52.6\n",
      "857     171810210034                Ed Davis  42.8\n",
      "925     171810210036           Royce O'Neale  82.9\n",
      "...              ...                     ...   ...\n",
      "212199  232404141226             Braxton Key  71.5\n",
      "212241  232404141227              Luka Garza  46.4\n",
      "212242  232404141227       Wendell Moore Jr.  46.4\n",
      "212258  232404141228             Harry Giles  69.0\n",
      "212271  232404141228  Jeremiah Robinson-Earl  59.6\n",
      "\n",
      "[797 rows x 3 columns]\n",
      "\n",
      "             game_id             player   AST%\n",
      "242     171810180010      Malik Beasley   87.9\n",
      "306     171810180012         Mike James   84.5\n",
      "376     171810190015  Russell Westbrook   79.8\n",
      "476     171810200019      José Calderón  100.0\n",
      "1858    171810270073  Spencer Dinwiddie   85.9\n",
      "...              ...                ...    ...\n",
      "211574  232404121202   Terquavion Smith  100.0\n",
      "211946  232404121216           Alex Len   93.1\n",
      "212095  232404141222       Ryan Rollins  100.0\n",
      "212240  232404141227       Monte Morris   84.9\n",
      "212327  232404141230        Colby Jones  100.0\n",
      "\n",
      "[656 rows x 3 columns]\n",
      "\n",
      "             game_id               player  STL%\n",
      "73      171810180003        Eric Moreland  12.5\n",
      "384     171810190015       Dakari Johnson  17.3\n",
      "833     171810210033     Boban Marjanović  11.8\n",
      "912     171810210036         Josh Huestis  33.7\n",
      "952     171810210037  Sindarius Thornwell  14.3\n",
      "...              ...                  ...   ...\n",
      "211570  232404121202    De'Anthony Melton  17.5\n",
      "211775  232404121210         Ryan Rollins  26.8\n",
      "211824  232404121212        Malachi Flynn  12.7\n",
      "212220  232404141227         Jusuf Nurkić  13.0\n",
      "212227  232404141227        Isaiah Thomas  11.5\n",
      "\n",
      "[1040 rows x 3 columns]\n",
      "\n",
      "             game_id             player  BLK%\n",
      "161     171810180007        John Henson  17.7\n",
      "254     171810180010          Ekpe Udoh  22.2\n",
      "371     171810190015  Willy Hernangómez  24.5\n",
      "613     171810200024        Salah Mejri  17.6\n",
      "746     171810210029         Ante Žižić  25.4\n",
      "...              ...                ...   ...\n",
      "211972  232404141217      Neemias Queta  22.7\n",
      "212055  232404141220        Cole Swider  45.5\n",
      "212109  232404141222      Caleb Houstan  19.0\n",
      "212164  232404141224    Jerome Robinson  32.2\n",
      "212327  232404141230        Colby Jones  21.1\n",
      "\n",
      "[1471 rows x 3 columns]\n",
      "\n",
      "             game_id                  player   TOV%\n",
      "242     171810180010           Malik Beasley  100.0\n",
      "385     171810190015            Josh Huestis  100.0\n",
      "410     171810190016            Andrew Bogut  100.0\n",
      "524     171810200021           Eric Moreland  100.0\n",
      "834     171810210033          Henry Ellenson  100.0\n",
      "...              ...                     ...    ...\n",
      "211844  232404121212              Alex Fudge  100.0\n",
      "211859  232404121213          Draymond Green  100.0\n",
      "212093  232404141222  Thanasis Antetokounmpo  100.0\n",
      "212200  232404141226        Julian Strawther  100.0\n",
      "212270  232404141228             Cody Zeller  100.0\n",
      "\n",
      "[1432 rows x 3 columns]\n",
      "\n",
      "             game_id                  player  USG%\n",
      "373     171810190015         Michael Beasley  71.2\n",
      "784     171810210031              Quinn Cook  59.3\n",
      "1980    171810280077           Charles Cooke  57.9\n",
      "2594    171810310101          Alex Poythress  63.1\n",
      "3649    171811050143            Cole Aldrich  61.1\n",
      "...              ...                     ...   ...\n",
      "210785  232404071173            Usman Garuba  80.1\n",
      "211057  232404091183             Daishen Nix  72.4\n",
      "211179  232404091188  Jeremiah Robinson-Earl  56.7\n",
      "211384  232404101195        Julian Strawther  72.4\n",
      "212055  232404141220             Cole Swider  66.9\n",
      "\n",
      "[455 rows x 3 columns]\n",
      "\n",
      "             game_id            player   ORtg\n",
      "906     171810210036    Andre Roberson  300.0\n",
      "912     171810210036      Josh Huestis  300.0\n",
      "1900    171810270074   Nemanja Bjelica  300.0\n",
      "3283    171811030129      Semi Ojeleye  300.0\n",
      "3598    171811050141     Dāvis Bertāns  300.0\n",
      "...              ...               ...    ...\n",
      "209748  232404031134  Garrison Mathews  300.0\n",
      "210626  232404071167     Anthony Black  300.0\n",
      "210827  232404091175   Markieff Morris  300.0\n",
      "211381  232404101195    Justin Holiday  300.0\n",
      "211435  232404111197     Buddy Boeheim  300.0\n",
      "\n",
      "[471 rows x 3 columns]\n",
      "\n",
      "             game_id               player  DRtg\n",
      "384     171810190015       Dakari Johnson  46.0\n",
      "912     171810210036         Josh Huestis  39.0\n",
      "925     171810210036        Royce O'Neale  57.0\n",
      "1994    171810280078       Dakari Johnson  48.0\n",
      "5676    171811170224  Marcus Georges-Hunt  41.0\n",
      "...              ...                  ...   ...\n",
      "211085  232404091184         Mike Muscala  49.0\n",
      "211097  232404091185             Jay Huff  28.0\n",
      "211219  232404101189           Pete Nance  52.0\n",
      "211385  232404101195         Hunter Tyson -90.0\n",
      "211399  232404101196          Josh Okogie  41.0\n",
      "\n",
      "[233 rows x 3 columns]\n",
      "\n",
      "             game_id            player    BPM\n",
      "373     171810190015   Michael Beasley   82.0\n",
      "476     171810200019     José Calderón  122.6\n",
      "912     171810210036      Josh Huestis  105.1\n",
      "1849    171810270072      Luke Babbitt  -54.9\n",
      "1994    171810280078    Dakari Johnson   75.2\n",
      "...              ...               ...    ...\n",
      "211384  232404101195  Julian Strawther  -86.8\n",
      "211385  232404101195      Hunter Tyson   98.6\n",
      "211732  232404121208  Alondes Williams  -76.1\n",
      "211775  232404121210      Ryan Rollins   62.1\n",
      "212327  232404141230       Colby Jones   53.0\n",
      "\n",
      "[648 rows x 3 columns]\n",
      "\n",
      "             game_id                 player   PIE\n",
      "12      171810170001           LeBron James  24.7\n",
      "863     171810210034  Giannis Antetokounmpo  23.4\n",
      "1033    171810230041            Ben Simmons  24.4\n",
      "1530    171810250060      Russell Westbrook  23.6\n",
      "1749    171810260069       DeMarcus Cousins  23.6\n",
      "...              ...                    ...   ...\n",
      "202560  232402250856          Deandre Ayton  26.0\n",
      "203534  232403010894  Giannis Antetokounmpo  28.2\n",
      "204803  232403080943        Dejounte Murray  28.6\n",
      "205847  232403130983          Deandre Ayton  24.1\n",
      "210016  232404041145           Nikola Jokić  24.3\n",
      "\n",
      "[239 rows x 3 columns]\n",
      "\n"
     ]
    }
   ],
   "source": [
    "for column, outlier_values in player_outliers.items():\n",
    "    if not outlier_values.empty:\n",
    "        print(outlier_values, end='\\n\\n')"
   ],
   "metadata": {
    "collapsed": false,
    "ExecuteTime": {
     "start_time": "2024-11-11T00:46:23.258814Z",
     "end_time": "2024-11-11T00:46:23.341485Z"
    }
   }
  },
  {
   "cell_type": "markdown",
   "source": [
    "Po analizie outlierów można stwierdzić, że część wartości to rekordowe, rzadko spotykane liczby - tyczy się to wartości nominalnych.\n",
    "\n",
    "Outliery w kolumnach procentowych (druga połowa outputu, np. TRB% - procent wszystkich piłek możliwych do zebrania zebranych przez danego zawodnika) są często spowodowane krótkim czasem gry zawodników, co przełożyło się na nienaturalnie duże wartości"
   ],
   "metadata": {
    "collapsed": false
   }
  },
  {
   "cell_type": "code",
   "execution_count": 255,
   "outputs": [
    {
     "name": "stdout",
     "output_type": "stream",
     "text": [
      "             game_id              player    AST%\n",
      "17628   171801230699           Ron Baker  -611.5\n",
      "45850   181901070594         Ricky Rubio  -186.0\n",
      "49464   181901270738      Ryan Broekhoff  -131.4\n",
      "51510   181902080821        Trevon Duval -1000.0\n",
      "70540   192012090350        Tony Bradley  -106.7\n",
      "82103   192002120813        Justin James   -78.3\n",
      "116112  202105121041      Udoka Azubuike  -309.7\n",
      "142258  212203090982      Omer Yurtseven -1000.0\n",
      "148774  222310190012        Ochai Agbaji  -505.3\n",
      "183823  232411120142  Brandin Podziemski -1000.0\n",
      "193892  232401060525        Jared Butler -1000.0\n",
      "206608  232403171012       Jordan Miller  -178.2\n",
      "\n"
     ]
    }
   ],
   "source": [
    "for column, error_values in player_errors.items():\n",
    "    if not error_values.empty:\n",
    "        print(error_values, end='\\n\\n')"
   ],
   "metadata": {
    "collapsed": false,
    "ExecuteTime": {
     "start_time": "2024-11-11T00:46:23.334903Z",
     "end_time": "2024-11-11T00:46:23.352095Z"
    }
   }
  },
  {
   "cell_type": "markdown",
   "source": [
    "AST% jest definiowana jako szacunkowa wartość procentowa trafionych rzutów przez kolegów z drużyny, przy których asystował zawodnik, gdy był on na boisku. Nie może zatem ona być mniejsza niż 0, więc zastąpimy te wartości"
   ],
   "metadata": {
    "collapsed": false
   }
  },
  {
   "cell_type": "code",
   "execution_count": 256,
   "outputs": [],
   "source": [
    "player_stats.loc[player_stats['AST%']<0, 'AST%'] = 0.0"
   ],
   "metadata": {
    "collapsed": false,
    "ExecuteTime": {
     "start_time": "2024-11-11T00:46:23.348601Z",
     "end_time": "2024-11-11T00:46:23.408531Z"
    }
   }
  },
  {
   "cell_type": "markdown",
   "source": [
    "## Badanie typów danych i zmniejszenie zużycia pamięci"
   ],
   "metadata": {
    "collapsed": false
   }
  },
  {
   "cell_type": "markdown",
   "source": [
    "### Team stats"
   ],
   "metadata": {
    "collapsed": false
   }
  },
  {
   "cell_type": "code",
   "execution_count": 257,
   "outputs": [
    {
     "data": {
      "text/plain": "team        object\nMP          object\nFG         float64\nFGA        float64\nFG%        float64\n3P         float64\n3PA        float64\n3P%        float64\nFT         float64\nFTA        float64\nFT%        float64\nORB        float64\nDRB        float64\nTRB        float64\nAST        float64\nSTL        float64\nBLK        float64\nTOV        float64\nPF         float64\nPTS        float64\nTS%        float64\neFG%       float64\n3PAr       float64\nFTr        float64\nORB%       float64\nDRB%       float64\nTRB%       float64\nAST%       float64\nSTL%       float64\nBLK%       float64\nTOV%       float64\nORtg       float64\nDRtg       float64\nPace       float64\ngame_id      int64\nwin          int64\ndtype: object"
     },
     "execution_count": 257,
     "metadata": {},
     "output_type": "execute_result"
    }
   ],
   "source": [
    "team_stats.dtypes"
   ],
   "metadata": {
    "collapsed": false,
    "ExecuteTime": {
     "start_time": "2024-11-11T00:46:23.364925Z",
     "end_time": "2024-11-11T00:46:23.409781Z"
    }
   }
  },
  {
   "cell_type": "code",
   "execution_count": 258,
   "outputs": [
    {
     "data": {
      "text/plain": "Index         128\nteam       994920\nMP         994920\nFG         132656\nFGA        132656\nFG%        132656\n3P         132656\n3PA        132656\n3P%        132656\nFT         132656\nFTA        132656\nFT%        132656\nORB        132656\nDRB        132656\nTRB        132656\nAST        132656\nSTL        132656\nBLK        132656\nTOV        132656\nPF         132656\nPTS        132656\nTS%        132656\neFG%       132656\n3PAr       132656\nFTr        132656\nORB%       132656\nDRB%       132656\nTRB%       132656\nAST%       132656\nSTL%       132656\nBLK%       132656\nTOV%       132656\nORtg       132656\nDRtg       132656\nPace       132656\ngame_id    132656\nwin        132656\ndtype: int64"
     },
     "execution_count": 258,
     "metadata": {},
     "output_type": "execute_result"
    }
   ],
   "source": [
    "team_stats.memory_usage(deep=True)"
   ],
   "metadata": {
    "collapsed": false,
    "ExecuteTime": {
     "start_time": "2024-11-11T00:46:23.382233Z",
     "end_time": "2024-11-11T00:46:23.410785Z"
    }
   }
  },
  {
   "cell_type": "code",
   "execution_count": 259,
   "outputs": [
    {
     "data": {
      "text/plain": "6500272"
     },
     "execution_count": 259,
     "metadata": {},
     "output_type": "execute_result"
    }
   ],
   "source": [
    "team_stats.memory_usage(deep=True).sum()"
   ],
   "metadata": {
    "collapsed": false,
    "ExecuteTime": {
     "start_time": "2024-11-11T00:46:23.395895Z",
     "end_time": "2024-11-11T00:46:23.423941Z"
    }
   }
  },
  {
   "cell_type": "code",
   "execution_count": 260,
   "outputs": [
    {
     "data": {
      "text/plain": "<bound method NDFrame.describe of             game_id  win\n0      171810170001    0\n1      171810170001    1\n2      171810170002    1\n3      171810170002    0\n4      171810180003    0\n...             ...  ...\n16577  232404141229    1\n16578  232404141230    0\n16579  232404141230    1\n16580  232404141231    0\n16581  232404141231    1\n\n[16582 rows x 2 columns]>"
     },
     "execution_count": 260,
     "metadata": {},
     "output_type": "execute_result"
    }
   ],
   "source": [
    "(team_stats\n",
    ".select_dtypes(int)\n",
    ".describe\n",
    ")"
   ],
   "metadata": {
    "collapsed": false,
    "ExecuteTime": {
     "start_time": "2024-11-11T00:46:23.412287Z",
     "end_time": "2024-11-11T00:46:23.430089Z"
    }
   }
  },
  {
   "cell_type": "code",
   "execution_count": 261,
   "outputs": [],
   "source": [
    "team_stats = team_stats.astype({'win': 'int8'})"
   ],
   "metadata": {
    "collapsed": false,
    "ExecuteTime": {
     "start_time": "2024-11-11T00:46:23.427049Z",
     "end_time": "2024-11-11T00:46:23.482399Z"
    }
   }
  },
  {
   "cell_type": "markdown",
   "source": [
    "### Player stats"
   ],
   "metadata": {
    "collapsed": false
   }
  },
  {
   "cell_type": "code",
   "execution_count": 262,
   "outputs": [
    {
     "data": {
      "text/plain": "game_id      int64\nplayer      object\nteam        object\nMP          object\nFG         float64\nFGA        float64\nFG%        float64\n3P         float64\n3PA        float64\n3P%        float64\nFT         float64\nFTA        float64\nFT%        float64\nORB        float64\nDRB        float64\nTRB        float64\nAST        float64\nSTL        float64\nBLK        float64\nTOV        float64\nPF         float64\nPTS        float64\nGmSc        object\n+/-        float64\nTS%        float64\neFG%       float64\n3PAr       float64\nFTr        float64\nORB%       float64\nDRB%       float64\nTRB%       float64\nAST%       float64\nSTL%       float64\nBLK%       float64\nTOV%       float64\nUSG%       float64\nORtg       float64\nDRtg       float64\nBPM        float64\nPIE        float64\ndtype: object"
     },
     "execution_count": 262,
     "metadata": {},
     "output_type": "execute_result"
    }
   ],
   "source": [
    "player_stats.dtypes"
   ],
   "metadata": {
    "collapsed": false,
    "ExecuteTime": {
     "start_time": "2024-11-11T00:46:23.443409Z",
     "end_time": "2024-11-11T00:46:23.502544Z"
    }
   }
  },
  {
   "cell_type": "code",
   "execution_count": 263,
   "outputs": [
    {
     "data": {
      "text/plain": "Index           128\ngame_id     1698832\nplayer     15256765\nteam       12741240\nMP         13398284\nFG          1698832\nFGA         1698832\nFG%         1698832\n3P          1698832\n3PA         1698832\n3P%         1698832\nFT          1698832\nFTA         1698832\nFT%         1698832\nORB         1698832\nDRB         1698832\nTRB         1698832\nAST         1698832\nSTL         1698832\nBLK         1698832\nTOV         1698832\nPF          1698832\nPTS         1698832\nGmSc       11513475\n+/-         1698832\nTS%         1698832\neFG%        1698832\n3PAr        1698832\nFTr         1698832\nORB%        1698832\nDRB%        1698832\nTRB%        1698832\nAST%        1698832\nSTL%        1698832\nBLK%        1698832\nTOV%        1698832\nUSG%        1698832\nORtg        1698832\nDRtg        1698832\nBPM         1698832\nPIE         1698832\ndtype: int64"
     },
     "execution_count": 263,
     "metadata": {},
     "output_type": "execute_result"
    }
   ],
   "source": [
    "player_stats.memory_usage(deep=True)"
   ],
   "metadata": {
    "collapsed": false,
    "ExecuteTime": {
     "start_time": "2024-11-11T00:46:23.462476Z",
     "end_time": "2024-11-11T00:46:23.582313Z"
    }
   }
  },
  {
   "cell_type": "code",
   "execution_count": 264,
   "outputs": [
    {
     "data": {
      "text/plain": "114067844"
     },
     "execution_count": 264,
     "metadata": {},
     "output_type": "execute_result"
    }
   ],
   "source": [
    "player_stats.memory_usage(deep=True).sum()"
   ],
   "metadata": {
    "collapsed": false,
    "ExecuteTime": {
     "start_time": "2024-11-11T00:46:23.582313Z",
     "end_time": "2024-11-11T00:46:23.705075Z"
    }
   }
  },
  {
   "cell_type": "code",
   "execution_count": 265,
   "outputs": [
    {
     "data": {
      "text/plain": "Index(['game_id', 'player', 'team', 'MP', 'FG', 'FGA', 'FG%', '3P', '3PA',\n       '3P%', 'FT', 'FTA', 'FT%', 'ORB', 'DRB', 'TRB', 'AST', 'STL', 'BLK',\n       'TOV', 'PF', 'PTS', 'GmSc', '+/-', 'TS%', 'eFG%', '3PAr', 'FTr', 'ORB%',\n       'DRB%', 'TRB%', 'AST%', 'STL%', 'BLK%', 'TOV%', 'USG%', 'ORtg', 'DRtg',\n       'BPM', 'PIE'],\n      dtype='object')"
     },
     "execution_count": 265,
     "metadata": {},
     "output_type": "execute_result"
    }
   ],
   "source": [
    "player_stats.columns"
   ],
   "metadata": {
    "collapsed": false,
    "ExecuteTime": {
     "start_time": "2024-11-11T00:46:23.707614Z",
     "end_time": "2024-11-11T00:46:23.769407Z"
    }
   }
  },
  {
   "cell_type": "code",
   "execution_count": 266,
   "outputs": [],
   "source": [
    "player_stats = player_stats.drop(\n",
    "    columns=['FG', 'FGA', 'FG%', '3P', '3PA',\n",
    "       '3P%', 'FT', 'FTA', 'FT%', 'ORB', 'DRB', 'TRB', 'AST', 'STL', 'BLK',\n",
    "       'TOV', 'PF', 'PTS', 'GmSc', '+/-', 'TS%', '3PAr', 'FTr', 'ORB%',\n",
    "       'DRB%', 'TRB%', 'AST%', 'STL%', 'BLK%', 'TOV%', 'USG%']\n",
    ")"
   ],
   "metadata": {
    "collapsed": false,
    "ExecuteTime": {
     "start_time": "2024-11-11T00:46:23.725624Z",
     "end_time": "2024-11-11T00:46:23.784487Z"
    }
   }
  },
  {
   "cell_type": "markdown",
   "source": [
    "W kolumnie Minutes Played jest wyszczególniona informacja o przyczynie nieobecności zawodnika. Nie jest ona potrzebna w modelowaniu"
   ],
   "metadata": {
    "collapsed": false
   }
  },
  {
   "cell_type": "code",
   "execution_count": 267,
   "outputs": [],
   "source": [
    "mp_values = ['Did Not Play', 'Player Suspended', 'Not With Team', 'Did Not Dress']\n",
    "player_stats.loc[player_stats['MP'].isin(mp_values), 'MP'] = np.nan"
   ],
   "metadata": {
    "collapsed": false,
    "ExecuteTime": {
     "start_time": "2024-11-11T00:46:23.772352Z",
     "end_time": "2024-11-11T00:46:23.825405Z"
    }
   }
  },
  {
   "cell_type": "code",
   "execution_count": 268,
   "outputs": [
    {
     "data": {
      "text/plain": "Index           128\ngame_id     1698832\nplayer     15256765\nteam       12741240\nMP         12050411\neFG%        1698832\nORtg        1698832\nDRtg        1698832\nBPM         1698832\nPIE         1698832\ndtype: int64"
     },
     "execution_count": 268,
     "metadata": {},
     "output_type": "execute_result"
    }
   ],
   "source": [
    "player_stats.memory_usage(deep=True)"
   ],
   "metadata": {
    "collapsed": false,
    "ExecuteTime": {
     "start_time": "2024-11-11T00:46:23.818868Z",
     "end_time": "2024-11-11T00:46:23.920197Z"
    }
   }
  },
  {
   "cell_type": "code",
   "execution_count": 269,
   "outputs": [
    {
     "data": {
      "text/plain": "50241536"
     },
     "execution_count": 269,
     "metadata": {},
     "output_type": "execute_result"
    }
   ],
   "source": [
    "player_stats.memory_usage(deep=True).sum()"
   ],
   "metadata": {
    "collapsed": false,
    "ExecuteTime": {
     "start_time": "2024-11-11T00:46:23.913561Z",
     "end_time": "2024-11-11T00:46:24.020753Z"
    }
   }
  },
  {
   "cell_type": "markdown",
   "source": [
    "### Dodanie daty"
   ],
   "metadata": {
    "collapsed": false
   }
  },
  {
   "cell_type": "code",
   "execution_count": 270,
   "outputs": [],
   "source": [
    "def extract_date(game_id):\n",
    "    game_id_str=str(game_id)\n",
    "    season_prefix = game_id_str[2:4]\n",
    "    month = int(game_id_str[4:6])\n",
    "    day = int(game_id_str[6:8])\n",
    "\n",
    "    if 10 <= month <= 12:\n",
    "        year = '20'+str(int(season_prefix) - 1)\n",
    "    else:\n",
    "        year = '20'+str(int(season_prefix))\n",
    "\n",
    "    date_str = f\"{year}-{month:02d}-{day:02d}\"\n",
    "    return date_str"
   ],
   "metadata": {
    "collapsed": false,
    "ExecuteTime": {
     "start_time": "2024-11-11T00:46:24.020753Z",
     "end_time": "2024-11-11T00:46:24.065713Z"
    }
   }
  },
  {
   "cell_type": "code",
   "execution_count": 271,
   "outputs": [
    {
     "data": {
      "text/plain": "0        2017-10-17\n1        2017-10-17\n2        2017-10-17\n3        2017-10-17\n4        2017-10-18\n            ...    \n16577    2024-04-14\n16578    2024-04-14\n16579    2024-04-14\n16580    2024-04-14\n16581    2024-04-14\nName: Date, Length: 16582, dtype: object"
     },
     "execution_count": 271,
     "metadata": {},
     "output_type": "execute_result"
    }
   ],
   "source": [
    "team_stats['Date'] = team_stats['game_id'].apply(extract_date)\n",
    "team_stats['Date']"
   ],
   "metadata": {
    "collapsed": false,
    "ExecuteTime": {
     "start_time": "2024-11-11T00:46:24.038178Z",
     "end_time": "2024-11-11T00:46:24.093368Z"
    }
   }
  },
  {
   "cell_type": "markdown",
   "source": [
    "### Dodanie kolumn z liczbą zwycięstw w ostatnich 10 spotkaniach i aktualną serią porażek/zwycięstw"
   ],
   "metadata": {
    "collapsed": false
   }
  },
  {
   "cell_type": "code",
   "execution_count": 272,
   "outputs": [],
   "source": [
    "team_stats['Season'] = team_stats['game_id'].astype(str).str[:4]\n",
    "# team_stats['Season']"
   ],
   "metadata": {
    "collapsed": false,
    "ExecuteTime": {
     "start_time": "2024-11-11T00:46:24.089289Z",
     "end_time": "2024-11-11T00:46:24.126983Z"
    }
   }
  },
  {
   "cell_type": "code",
   "execution_count": 273,
   "outputs": [],
   "source": [
    "team_stats['id'] = team_stats.index"
   ],
   "metadata": {
    "collapsed": false,
    "ExecuteTime": {
     "start_time": "2024-11-11T00:46:24.115629Z",
     "end_time": "2024-11-11T00:46:24.140710Z"
    }
   }
  },
  {
   "cell_type": "code",
   "execution_count": 274,
   "outputs": [],
   "source": [
    "def add_last_10(df):\n",
    "    df['last10'] = (\n",
    "        df.groupby(['team', 'Season'])['win']\n",
    "        .rolling(window=10, min_periods=1)\n",
    "        .sum()\n",
    "        .shift(1)\n",
    "        .reset_index(level=['team', 'Season'], drop=True)\n",
    "    )\n",
    "\n",
    "    first_game_mask = df.groupby(['team', 'Season']).cumcount() == 0\n",
    "    df.loc[first_game_mask, 'last10'] = 0.0\n",
    "    return df.sort_index()"
   ],
   "metadata": {
    "collapsed": false,
    "ExecuteTime": {
     "start_time": "2024-11-11T00:46:24.129374Z",
     "end_time": "2024-11-11T00:46:24.154314Z"
    }
   }
  },
  {
   "cell_type": "code",
   "execution_count": 275,
   "outputs": [],
   "source": [
    "def calculate_streak(win_series):\n",
    "    streaks = []\n",
    "    streak = 0\n",
    "    last_win = None\n",
    "\n",
    "    for i in range(1, len(win_series)):\n",
    "        win = win_series.iloc[i - 1]  # bierzemy wynik meczu poprzedzającego aktualny\n",
    "        if win == last_win:\n",
    "            streak += 1\n",
    "        else:\n",
    "            streak = 1\n",
    "        streaks.append(streak if win == 1 else -streak)\n",
    "        last_win = win\n",
    "\n",
    "    # Pierwszy mecz nie może mieć streak, więc dodajemy wartość 0 na początku\n",
    "    streaks.insert(0, 0)\n",
    "\n",
    "    return streaks\n"
   ],
   "metadata": {
    "collapsed": false,
    "ExecuteTime": {
     "start_time": "2024-11-11T00:46:24.148825Z",
     "end_time": "2024-11-11T00:46:24.177644Z"
    }
   }
  },
  {
   "cell_type": "code",
   "execution_count": 276,
   "outputs": [
    {
     "data": {
      "text/plain": "      team   MP    FG   FGA    FG%    3P   3PA    3P%    FT   FTA    FT%  \\\n0      BOS  240  36.0  88.0  0.409   8.0  32.0  0.250  19.0  25.0  0.760   \n1      CLE  240  38.0  83.0  0.458   5.0  22.0  0.227  21.0  25.0  0.840   \n2      HOU  240  47.0  97.0  0.485  15.0  41.0  0.366  13.0  19.0  0.684   \n3      GSW  240  43.0  80.0  0.538  16.0  30.0  0.533  19.0  21.0  0.905   \n4      CHO  240  29.0  73.0  0.397   9.0  30.0  0.300  23.0  29.0  0.793   \n...    ...  ...   ...   ...    ...   ...   ...    ...   ...   ...    ...   \n16577  OKC  240  54.0  97.0  0.557  14.0  34.0  0.412  13.0  16.0  0.813   \n16578  POR  240  31.0  98.0  0.316   7.0  45.0  0.156  13.0  17.0  0.765   \n16579  SAC  240  43.0  87.0  0.494  13.0  34.0  0.382  22.0  27.0  0.815   \n16580  DET  240  36.0  92.0  0.391   8.0  33.0  0.242  15.0  20.0  0.750   \n16581  SAS  240  49.0  91.0  0.538  15.0  34.0  0.441  10.0  14.0  0.714   \n\n        ORB   DRB   TRB   AST   STL  BLK   TOV    PF    PTS    TS%   eFG%  \\\n0       9.0  37.0  46.0  24.0  11.0  4.0  12.0  24.0   99.0  0.500  0.455   \n1       9.0  41.0  50.0  19.0   3.0  4.0  17.0  25.0  102.0  0.543  0.488   \n2      10.0  33.0  43.0  28.0   9.0  5.0  13.0  16.0  122.0  0.579  0.562   \n3       6.0  35.0  41.0  34.0   5.0  9.0  17.0  25.0  121.0  0.678  0.638   \n4       3.0  44.0  47.0  16.0   4.0  3.0  17.0  15.0   90.0  0.525  0.459   \n...     ...   ...   ...   ...   ...  ...   ...   ...    ...    ...    ...   \n16577  11.0  47.0  58.0  38.0   6.0  6.0  15.0  17.0  135.0  0.649  0.629   \n16578  23.0  31.0  54.0  18.0  11.0  2.0  18.0  19.0   82.0  0.389  0.352   \n16579  13.0  38.0  51.0  29.0  11.0  6.0  14.0  19.0  121.0  0.612  0.569   \n16580  11.0  29.0  40.0  17.0   7.0  3.0  14.0   9.0   95.0  0.471  0.435   \n16581  12.0  42.0  54.0  33.0   9.0  3.0  14.0  17.0  123.0  0.633  0.621   \n\n        3PAr    FTr  ORB%  DRB%  TRB%  AST%  STL%  BLK%  TOV%   ORtg   DRtg  \\\n0      0.364  0.284  18.0  80.4  47.9  66.7  11.0   6.6  10.8   98.7  101.7   \n1      0.265  0.301  19.6  82.0  52.1  50.0   3.0   7.1  15.3  101.7   98.7   \n2      0.423  0.196  22.2  84.6  51.2  59.6   8.8  10.0  11.0  119.0  118.0   \n3      0.375  0.263  15.4  77.8  48.8  79.1   4.9  16.1  16.0  118.0  119.0   \n4      0.411  0.397   7.3  83.0  50.0  55.2   4.0   4.3  16.5   90.9  103.1   \n...      ...    ...   ...   ...   ...   ...   ...   ...   ...    ...    ...   \n16577  0.351  0.165  27.5  79.7  58.6  70.4   5.7  10.3  12.6  128.3   81.7   \n16578  0.459  0.173  37.7  70.5  51.4  58.1  11.4   3.8  14.6   84.7  125.0   \n16579  0.391  0.310  29.5  62.3  48.6  67.4  11.4  11.3  12.4  125.0   84.7   \n16580  0.359  0.217  20.8  70.7  42.6  47.2   7.0   5.3  12.2   95.5  123.6   \n16581  0.374  0.154  29.3  79.2  57.4  67.3   9.0   5.1  12.6  123.6   95.5   \n\n        Pace       game_id  win        Date Season     id  last10  \n0      100.3  171810170001    0  2017-10-17   1718      0     0.0  \n1      100.3  171810170001    1  2017-10-17   1718      1     0.0  \n2      102.5  171810170002    1  2017-10-17   1718      2     0.0  \n3      102.5  171810170002    0  2017-10-17   1718      3     0.0  \n4       99.0  171810180003    0  2017-10-18   1718      4     0.0  \n...      ...           ...  ...         ...    ...    ...     ...  \n16577  105.2  232404141229    1  2024-04-14   2324  16577     6.0  \n16578   96.8  232404141230    0  2024-04-14   2324  16578     2.0  \n16579   96.8  232404141230    1  2024-04-14   2324  16579     3.0  \n16580   99.5  232404141231    0  2024-04-14   2324  16580     2.0  \n16581   99.5  232404141231    1  2024-04-14   2324  16581     6.0  \n\n[16582 rows x 40 columns]",
      "text/html": "<div>\n<style scoped>\n    .dataframe tbody tr th:only-of-type {\n        vertical-align: middle;\n    }\n\n    .dataframe tbody tr th {\n        vertical-align: top;\n    }\n\n    .dataframe thead th {\n        text-align: right;\n    }\n</style>\n<table border=\"1\" class=\"dataframe\">\n  <thead>\n    <tr style=\"text-align: right;\">\n      <th></th>\n      <th>team</th>\n      <th>MP</th>\n      <th>FG</th>\n      <th>FGA</th>\n      <th>FG%</th>\n      <th>3P</th>\n      <th>3PA</th>\n      <th>3P%</th>\n      <th>FT</th>\n      <th>FTA</th>\n      <th>FT%</th>\n      <th>ORB</th>\n      <th>DRB</th>\n      <th>TRB</th>\n      <th>AST</th>\n      <th>STL</th>\n      <th>BLK</th>\n      <th>TOV</th>\n      <th>PF</th>\n      <th>PTS</th>\n      <th>TS%</th>\n      <th>eFG%</th>\n      <th>3PAr</th>\n      <th>FTr</th>\n      <th>ORB%</th>\n      <th>DRB%</th>\n      <th>TRB%</th>\n      <th>AST%</th>\n      <th>STL%</th>\n      <th>BLK%</th>\n      <th>TOV%</th>\n      <th>ORtg</th>\n      <th>DRtg</th>\n      <th>Pace</th>\n      <th>game_id</th>\n      <th>win</th>\n      <th>Date</th>\n      <th>Season</th>\n      <th>id</th>\n      <th>last10</th>\n    </tr>\n  </thead>\n  <tbody>\n    <tr>\n      <th>0</th>\n      <td>BOS</td>\n      <td>240</td>\n      <td>36.0</td>\n      <td>88.0</td>\n      <td>0.409</td>\n      <td>8.0</td>\n      <td>32.0</td>\n      <td>0.250</td>\n      <td>19.0</td>\n      <td>25.0</td>\n      <td>0.760</td>\n      <td>9.0</td>\n      <td>37.0</td>\n      <td>46.0</td>\n      <td>24.0</td>\n      <td>11.0</td>\n      <td>4.0</td>\n      <td>12.0</td>\n      <td>24.0</td>\n      <td>99.0</td>\n      <td>0.500</td>\n      <td>0.455</td>\n      <td>0.364</td>\n      <td>0.284</td>\n      <td>18.0</td>\n      <td>80.4</td>\n      <td>47.9</td>\n      <td>66.7</td>\n      <td>11.0</td>\n      <td>6.6</td>\n      <td>10.8</td>\n      <td>98.7</td>\n      <td>101.7</td>\n      <td>100.3</td>\n      <td>171810170001</td>\n      <td>0</td>\n      <td>2017-10-17</td>\n      <td>1718</td>\n      <td>0</td>\n      <td>0.0</td>\n    </tr>\n    <tr>\n      <th>1</th>\n      <td>CLE</td>\n      <td>240</td>\n      <td>38.0</td>\n      <td>83.0</td>\n      <td>0.458</td>\n      <td>5.0</td>\n      <td>22.0</td>\n      <td>0.227</td>\n      <td>21.0</td>\n      <td>25.0</td>\n      <td>0.840</td>\n      <td>9.0</td>\n      <td>41.0</td>\n      <td>50.0</td>\n      <td>19.0</td>\n      <td>3.0</td>\n      <td>4.0</td>\n      <td>17.0</td>\n      <td>25.0</td>\n      <td>102.0</td>\n      <td>0.543</td>\n      <td>0.488</td>\n      <td>0.265</td>\n      <td>0.301</td>\n      <td>19.6</td>\n      <td>82.0</td>\n      <td>52.1</td>\n      <td>50.0</td>\n      <td>3.0</td>\n      <td>7.1</td>\n      <td>15.3</td>\n      <td>101.7</td>\n      <td>98.7</td>\n      <td>100.3</td>\n      <td>171810170001</td>\n      <td>1</td>\n      <td>2017-10-17</td>\n      <td>1718</td>\n      <td>1</td>\n      <td>0.0</td>\n    </tr>\n    <tr>\n      <th>2</th>\n      <td>HOU</td>\n      <td>240</td>\n      <td>47.0</td>\n      <td>97.0</td>\n      <td>0.485</td>\n      <td>15.0</td>\n      <td>41.0</td>\n      <td>0.366</td>\n      <td>13.0</td>\n      <td>19.0</td>\n      <td>0.684</td>\n      <td>10.0</td>\n      <td>33.0</td>\n      <td>43.0</td>\n      <td>28.0</td>\n      <td>9.0</td>\n      <td>5.0</td>\n      <td>13.0</td>\n      <td>16.0</td>\n      <td>122.0</td>\n      <td>0.579</td>\n      <td>0.562</td>\n      <td>0.423</td>\n      <td>0.196</td>\n      <td>22.2</td>\n      <td>84.6</td>\n      <td>51.2</td>\n      <td>59.6</td>\n      <td>8.8</td>\n      <td>10.0</td>\n      <td>11.0</td>\n      <td>119.0</td>\n      <td>118.0</td>\n      <td>102.5</td>\n      <td>171810170002</td>\n      <td>1</td>\n      <td>2017-10-17</td>\n      <td>1718</td>\n      <td>2</td>\n      <td>0.0</td>\n    </tr>\n    <tr>\n      <th>3</th>\n      <td>GSW</td>\n      <td>240</td>\n      <td>43.0</td>\n      <td>80.0</td>\n      <td>0.538</td>\n      <td>16.0</td>\n      <td>30.0</td>\n      <td>0.533</td>\n      <td>19.0</td>\n      <td>21.0</td>\n      <td>0.905</td>\n      <td>6.0</td>\n      <td>35.0</td>\n      <td>41.0</td>\n      <td>34.0</td>\n      <td>5.0</td>\n      <td>9.0</td>\n      <td>17.0</td>\n      <td>25.0</td>\n      <td>121.0</td>\n      <td>0.678</td>\n      <td>0.638</td>\n      <td>0.375</td>\n      <td>0.263</td>\n      <td>15.4</td>\n      <td>77.8</td>\n      <td>48.8</td>\n      <td>79.1</td>\n      <td>4.9</td>\n      <td>16.1</td>\n      <td>16.0</td>\n      <td>118.0</td>\n      <td>119.0</td>\n      <td>102.5</td>\n      <td>171810170002</td>\n      <td>0</td>\n      <td>2017-10-17</td>\n      <td>1718</td>\n      <td>3</td>\n      <td>0.0</td>\n    </tr>\n    <tr>\n      <th>4</th>\n      <td>CHO</td>\n      <td>240</td>\n      <td>29.0</td>\n      <td>73.0</td>\n      <td>0.397</td>\n      <td>9.0</td>\n      <td>30.0</td>\n      <td>0.300</td>\n      <td>23.0</td>\n      <td>29.0</td>\n      <td>0.793</td>\n      <td>3.0</td>\n      <td>44.0</td>\n      <td>47.0</td>\n      <td>16.0</td>\n      <td>4.0</td>\n      <td>3.0</td>\n      <td>17.0</td>\n      <td>15.0</td>\n      <td>90.0</td>\n      <td>0.525</td>\n      <td>0.459</td>\n      <td>0.411</td>\n      <td>0.397</td>\n      <td>7.3</td>\n      <td>83.0</td>\n      <td>50.0</td>\n      <td>55.2</td>\n      <td>4.0</td>\n      <td>4.3</td>\n      <td>16.5</td>\n      <td>90.9</td>\n      <td>103.1</td>\n      <td>99.0</td>\n      <td>171810180003</td>\n      <td>0</td>\n      <td>2017-10-18</td>\n      <td>1718</td>\n      <td>4</td>\n      <td>0.0</td>\n    </tr>\n    <tr>\n      <th>...</th>\n      <td>...</td>\n      <td>...</td>\n      <td>...</td>\n      <td>...</td>\n      <td>...</td>\n      <td>...</td>\n      <td>...</td>\n      <td>...</td>\n      <td>...</td>\n      <td>...</td>\n      <td>...</td>\n      <td>...</td>\n      <td>...</td>\n      <td>...</td>\n      <td>...</td>\n      <td>...</td>\n      <td>...</td>\n      <td>...</td>\n      <td>...</td>\n      <td>...</td>\n      <td>...</td>\n      <td>...</td>\n      <td>...</td>\n      <td>...</td>\n      <td>...</td>\n      <td>...</td>\n      <td>...</td>\n      <td>...</td>\n      <td>...</td>\n      <td>...</td>\n      <td>...</td>\n      <td>...</td>\n      <td>...</td>\n      <td>...</td>\n      <td>...</td>\n      <td>...</td>\n      <td>...</td>\n      <td>...</td>\n      <td>...</td>\n      <td>...</td>\n    </tr>\n    <tr>\n      <th>16577</th>\n      <td>OKC</td>\n      <td>240</td>\n      <td>54.0</td>\n      <td>97.0</td>\n      <td>0.557</td>\n      <td>14.0</td>\n      <td>34.0</td>\n      <td>0.412</td>\n      <td>13.0</td>\n      <td>16.0</td>\n      <td>0.813</td>\n      <td>11.0</td>\n      <td>47.0</td>\n      <td>58.0</td>\n      <td>38.0</td>\n      <td>6.0</td>\n      <td>6.0</td>\n      <td>15.0</td>\n      <td>17.0</td>\n      <td>135.0</td>\n      <td>0.649</td>\n      <td>0.629</td>\n      <td>0.351</td>\n      <td>0.165</td>\n      <td>27.5</td>\n      <td>79.7</td>\n      <td>58.6</td>\n      <td>70.4</td>\n      <td>5.7</td>\n      <td>10.3</td>\n      <td>12.6</td>\n      <td>128.3</td>\n      <td>81.7</td>\n      <td>105.2</td>\n      <td>232404141229</td>\n      <td>1</td>\n      <td>2024-04-14</td>\n      <td>2324</td>\n      <td>16577</td>\n      <td>6.0</td>\n    </tr>\n    <tr>\n      <th>16578</th>\n      <td>POR</td>\n      <td>240</td>\n      <td>31.0</td>\n      <td>98.0</td>\n      <td>0.316</td>\n      <td>7.0</td>\n      <td>45.0</td>\n      <td>0.156</td>\n      <td>13.0</td>\n      <td>17.0</td>\n      <td>0.765</td>\n      <td>23.0</td>\n      <td>31.0</td>\n      <td>54.0</td>\n      <td>18.0</td>\n      <td>11.0</td>\n      <td>2.0</td>\n      <td>18.0</td>\n      <td>19.0</td>\n      <td>82.0</td>\n      <td>0.389</td>\n      <td>0.352</td>\n      <td>0.459</td>\n      <td>0.173</td>\n      <td>37.7</td>\n      <td>70.5</td>\n      <td>51.4</td>\n      <td>58.1</td>\n      <td>11.4</td>\n      <td>3.8</td>\n      <td>14.6</td>\n      <td>84.7</td>\n      <td>125.0</td>\n      <td>96.8</td>\n      <td>232404141230</td>\n      <td>0</td>\n      <td>2024-04-14</td>\n      <td>2324</td>\n      <td>16578</td>\n      <td>2.0</td>\n    </tr>\n    <tr>\n      <th>16579</th>\n      <td>SAC</td>\n      <td>240</td>\n      <td>43.0</td>\n      <td>87.0</td>\n      <td>0.494</td>\n      <td>13.0</td>\n      <td>34.0</td>\n      <td>0.382</td>\n      <td>22.0</td>\n      <td>27.0</td>\n      <td>0.815</td>\n      <td>13.0</td>\n      <td>38.0</td>\n      <td>51.0</td>\n      <td>29.0</td>\n      <td>11.0</td>\n      <td>6.0</td>\n      <td>14.0</td>\n      <td>19.0</td>\n      <td>121.0</td>\n      <td>0.612</td>\n      <td>0.569</td>\n      <td>0.391</td>\n      <td>0.310</td>\n      <td>29.5</td>\n      <td>62.3</td>\n      <td>48.6</td>\n      <td>67.4</td>\n      <td>11.4</td>\n      <td>11.3</td>\n      <td>12.4</td>\n      <td>125.0</td>\n      <td>84.7</td>\n      <td>96.8</td>\n      <td>232404141230</td>\n      <td>1</td>\n      <td>2024-04-14</td>\n      <td>2324</td>\n      <td>16579</td>\n      <td>3.0</td>\n    </tr>\n    <tr>\n      <th>16580</th>\n      <td>DET</td>\n      <td>240</td>\n      <td>36.0</td>\n      <td>92.0</td>\n      <td>0.391</td>\n      <td>8.0</td>\n      <td>33.0</td>\n      <td>0.242</td>\n      <td>15.0</td>\n      <td>20.0</td>\n      <td>0.750</td>\n      <td>11.0</td>\n      <td>29.0</td>\n      <td>40.0</td>\n      <td>17.0</td>\n      <td>7.0</td>\n      <td>3.0</td>\n      <td>14.0</td>\n      <td>9.0</td>\n      <td>95.0</td>\n      <td>0.471</td>\n      <td>0.435</td>\n      <td>0.359</td>\n      <td>0.217</td>\n      <td>20.8</td>\n      <td>70.7</td>\n      <td>42.6</td>\n      <td>47.2</td>\n      <td>7.0</td>\n      <td>5.3</td>\n      <td>12.2</td>\n      <td>95.5</td>\n      <td>123.6</td>\n      <td>99.5</td>\n      <td>232404141231</td>\n      <td>0</td>\n      <td>2024-04-14</td>\n      <td>2324</td>\n      <td>16580</td>\n      <td>2.0</td>\n    </tr>\n    <tr>\n      <th>16581</th>\n      <td>SAS</td>\n      <td>240</td>\n      <td>49.0</td>\n      <td>91.0</td>\n      <td>0.538</td>\n      <td>15.0</td>\n      <td>34.0</td>\n      <td>0.441</td>\n      <td>10.0</td>\n      <td>14.0</td>\n      <td>0.714</td>\n      <td>12.0</td>\n      <td>42.0</td>\n      <td>54.0</td>\n      <td>33.0</td>\n      <td>9.0</td>\n      <td>3.0</td>\n      <td>14.0</td>\n      <td>17.0</td>\n      <td>123.0</td>\n      <td>0.633</td>\n      <td>0.621</td>\n      <td>0.374</td>\n      <td>0.154</td>\n      <td>29.3</td>\n      <td>79.2</td>\n      <td>57.4</td>\n      <td>67.3</td>\n      <td>9.0</td>\n      <td>5.1</td>\n      <td>12.6</td>\n      <td>123.6</td>\n      <td>95.5</td>\n      <td>99.5</td>\n      <td>232404141231</td>\n      <td>1</td>\n      <td>2024-04-14</td>\n      <td>2324</td>\n      <td>16581</td>\n      <td>6.0</td>\n    </tr>\n  </tbody>\n</table>\n<p>16582 rows × 40 columns</p>\n</div>"
     },
     "execution_count": 276,
     "metadata": {},
     "output_type": "execute_result"
    }
   ],
   "source": [
    "team_stats = add_last_10(team_stats)\n",
    "team_stats"
   ],
   "metadata": {
    "collapsed": false,
    "ExecuteTime": {
     "start_time": "2024-11-11T00:46:24.161349Z",
     "end_time": "2024-11-11T00:46:24.251379Z"
    }
   }
  },
  {
   "cell_type": "code",
   "execution_count": 277,
   "outputs": [
    {
     "data": {
      "text/plain": "      team   MP    FG   FGA    FG%    3P   3PA    3P%    FT   FTA    FT%  \\\n3      GSW  240  43.0  80.0  0.538  16.0  30.0  0.533  19.0  21.0  0.905   \n48     GSW  240  47.0  92.0  0.511  18.0  41.0  0.439  16.0  20.0  0.800   \n60     GSW  240  33.0  84.0  0.393  12.0  38.0  0.316  23.0  27.0  0.852   \n88     GSW  240  48.0  86.0  0.558  15.0  39.0  0.385  22.0  26.0  0.846   \n125    GSW  240  43.0  77.0  0.558  12.0  26.0  0.462  19.0  22.0  0.864   \n...    ...  ...   ...   ...    ...   ...   ...    ...   ...   ...    ...   \n16465  GSW  240  49.0  92.0  0.533  14.0  35.0  0.400   6.0   6.0  1.000   \n16490  GSW  240  47.0  80.0  0.588  26.0  41.0  0.634  14.0  21.0  0.667   \n16518  GSW  240  36.0  77.0  0.468  12.0  35.0  0.343  16.0  20.0  0.800   \n16545  GSW  240  40.0  86.0  0.465  13.0  34.0  0.382  16.0  21.0  0.762   \n16567  GSW  240  45.0  94.0  0.479  14.0  43.0  0.326  19.0  23.0  0.826   \n\n        ORB   DRB   TRB   AST   STL   BLK   TOV    PF    PTS  ...   eFG%  \\\n3       6.0  35.0  41.0  34.0   5.0   9.0  17.0  25.0  121.0  ...  0.638   \n48     10.0  39.0  49.0  29.0   6.0   8.0  18.0  23.0  128.0  ...  0.609   \n60     12.0  34.0  46.0  20.0  10.0   7.0  17.0  28.0  101.0  ...  0.464   \n88     10.0  40.0  50.0  33.0   6.0   8.0  16.0  23.0  133.0  ...  0.645   \n125     6.0  31.0  37.0  32.0  10.0   7.0  17.0  15.0  117.0  ...  0.636   \n...     ...   ...   ...   ...   ...   ...   ...   ...    ...  ...    ...   \n16465  11.0  36.0  47.0  32.0   9.0   8.0  16.0  19.0  118.0  ...  0.609   \n16490   4.0  38.0  42.0  37.0   3.0  12.0  15.0  17.0  134.0  ...  0.750   \n16518  10.0  36.0  46.0  24.0   8.0  13.0  16.0  18.0  100.0  ...  0.545   \n16545  11.0  42.0  53.0  27.0   6.0   5.0  16.0  15.0  109.0  ...  0.541   \n16567  12.0  30.0  42.0  35.0  10.0   6.0   9.0  14.0  123.0  ...  0.553   \n\n        3PAr    FTr  ORB%  DRB%  TRB%  AST%  STL%  BLK%  TOV%   ORtg   DRtg  \\\n3      0.375  0.263  15.4  77.8  48.8  79.1   4.9  16.1  16.0  118.0  119.0   \n48     0.446  0.217  22.2  70.9  49.0  61.7   5.5  12.9  15.2  118.2  110.8   \n60     0.452  0.321  26.1  85.0  53.5  60.6  10.2  14.0  15.1  102.7  112.8   \n88     0.453  0.302  26.3  74.1  54.3  68.8   5.8  11.9  14.1  129.4  100.2   \n125    0.338  0.286  19.4  64.6  46.8  74.4  10.2  11.7  16.4  119.4  114.3   \n...      ...    ...   ...   ...   ...   ...   ...   ...   ...    ...    ...   \n16465  0.380  0.065  32.4  85.7  61.8  65.3   9.4  16.7  14.5  123.4  115.1   \n16490  0.513  0.263  11.8  79.2  51.2  78.7   3.0  19.7  14.4  133.2  119.3   \n16518  0.455  0.260  25.6  64.3  48.4  66.7   8.7  20.6  15.7  109.4  100.6   \n16545  0.395  0.244  25.0  89.4  58.2  67.5   6.1   9.6  14.4  110.1  115.1   \n16567  0.457  0.245  26.1  68.2  46.7  77.8  10.0  10.9   8.0  123.4  116.4   \n\n        Pace       game_id  win        Date Season     id  last10  streak  \n3      102.5  171810170002    0  2017-10-17   1718      3     0.0       0  \n48     108.3  171810200025    1  2017-10-20   1718     48     0.0      -1  \n60      98.4  171810210031    0  2017-10-21   1718     60     1.0       1  \n88     102.8  171810230045    1  2017-10-23   1718     88     1.0      -1  \n125     98.0  171810250063    1  2017-10-25   1718    125     2.0       1  \n...      ...           ...  ...         ...    ...    ...     ...     ...  \n16465   95.6  232404071173    1  2024-04-07   2324  16465     7.0      -1  \n16490  100.6  232404091186    1  2024-04-09   2324  16490     7.0       1  \n16518   91.4  232404111200    1  2024-04-11   2324  16518     8.0       2  \n16545   99.0  232404121213    0  2024-04-12   2324  16545     9.0       3  \n16567   99.6  232404141224    1  2024-04-14   2324  16567     8.0      -1  \n\n[547 rows x 41 columns]",
      "text/html": "<div>\n<style scoped>\n    .dataframe tbody tr th:only-of-type {\n        vertical-align: middle;\n    }\n\n    .dataframe tbody tr th {\n        vertical-align: top;\n    }\n\n    .dataframe thead th {\n        text-align: right;\n    }\n</style>\n<table border=\"1\" class=\"dataframe\">\n  <thead>\n    <tr style=\"text-align: right;\">\n      <th></th>\n      <th>team</th>\n      <th>MP</th>\n      <th>FG</th>\n      <th>FGA</th>\n      <th>FG%</th>\n      <th>3P</th>\n      <th>3PA</th>\n      <th>3P%</th>\n      <th>FT</th>\n      <th>FTA</th>\n      <th>FT%</th>\n      <th>ORB</th>\n      <th>DRB</th>\n      <th>TRB</th>\n      <th>AST</th>\n      <th>STL</th>\n      <th>BLK</th>\n      <th>TOV</th>\n      <th>PF</th>\n      <th>PTS</th>\n      <th>...</th>\n      <th>eFG%</th>\n      <th>3PAr</th>\n      <th>FTr</th>\n      <th>ORB%</th>\n      <th>DRB%</th>\n      <th>TRB%</th>\n      <th>AST%</th>\n      <th>STL%</th>\n      <th>BLK%</th>\n      <th>TOV%</th>\n      <th>ORtg</th>\n      <th>DRtg</th>\n      <th>Pace</th>\n      <th>game_id</th>\n      <th>win</th>\n      <th>Date</th>\n      <th>Season</th>\n      <th>id</th>\n      <th>last10</th>\n      <th>streak</th>\n    </tr>\n  </thead>\n  <tbody>\n    <tr>\n      <th>3</th>\n      <td>GSW</td>\n      <td>240</td>\n      <td>43.0</td>\n      <td>80.0</td>\n      <td>0.538</td>\n      <td>16.0</td>\n      <td>30.0</td>\n      <td>0.533</td>\n      <td>19.0</td>\n      <td>21.0</td>\n      <td>0.905</td>\n      <td>6.0</td>\n      <td>35.0</td>\n      <td>41.0</td>\n      <td>34.0</td>\n      <td>5.0</td>\n      <td>9.0</td>\n      <td>17.0</td>\n      <td>25.0</td>\n      <td>121.0</td>\n      <td>...</td>\n      <td>0.638</td>\n      <td>0.375</td>\n      <td>0.263</td>\n      <td>15.4</td>\n      <td>77.8</td>\n      <td>48.8</td>\n      <td>79.1</td>\n      <td>4.9</td>\n      <td>16.1</td>\n      <td>16.0</td>\n      <td>118.0</td>\n      <td>119.0</td>\n      <td>102.5</td>\n      <td>171810170002</td>\n      <td>0</td>\n      <td>2017-10-17</td>\n      <td>1718</td>\n      <td>3</td>\n      <td>0.0</td>\n      <td>0</td>\n    </tr>\n    <tr>\n      <th>48</th>\n      <td>GSW</td>\n      <td>240</td>\n      <td>47.0</td>\n      <td>92.0</td>\n      <td>0.511</td>\n      <td>18.0</td>\n      <td>41.0</td>\n      <td>0.439</td>\n      <td>16.0</td>\n      <td>20.0</td>\n      <td>0.800</td>\n      <td>10.0</td>\n      <td>39.0</td>\n      <td>49.0</td>\n      <td>29.0</td>\n      <td>6.0</td>\n      <td>8.0</td>\n      <td>18.0</td>\n      <td>23.0</td>\n      <td>128.0</td>\n      <td>...</td>\n      <td>0.609</td>\n      <td>0.446</td>\n      <td>0.217</td>\n      <td>22.2</td>\n      <td>70.9</td>\n      <td>49.0</td>\n      <td>61.7</td>\n      <td>5.5</td>\n      <td>12.9</td>\n      <td>15.2</td>\n      <td>118.2</td>\n      <td>110.8</td>\n      <td>108.3</td>\n      <td>171810200025</td>\n      <td>1</td>\n      <td>2017-10-20</td>\n      <td>1718</td>\n      <td>48</td>\n      <td>0.0</td>\n      <td>-1</td>\n    </tr>\n    <tr>\n      <th>60</th>\n      <td>GSW</td>\n      <td>240</td>\n      <td>33.0</td>\n      <td>84.0</td>\n      <td>0.393</td>\n      <td>12.0</td>\n      <td>38.0</td>\n      <td>0.316</td>\n      <td>23.0</td>\n      <td>27.0</td>\n      <td>0.852</td>\n      <td>12.0</td>\n      <td>34.0</td>\n      <td>46.0</td>\n      <td>20.0</td>\n      <td>10.0</td>\n      <td>7.0</td>\n      <td>17.0</td>\n      <td>28.0</td>\n      <td>101.0</td>\n      <td>...</td>\n      <td>0.464</td>\n      <td>0.452</td>\n      <td>0.321</td>\n      <td>26.1</td>\n      <td>85.0</td>\n      <td>53.5</td>\n      <td>60.6</td>\n      <td>10.2</td>\n      <td>14.0</td>\n      <td>15.1</td>\n      <td>102.7</td>\n      <td>112.8</td>\n      <td>98.4</td>\n      <td>171810210031</td>\n      <td>0</td>\n      <td>2017-10-21</td>\n      <td>1718</td>\n      <td>60</td>\n      <td>1.0</td>\n      <td>1</td>\n    </tr>\n    <tr>\n      <th>88</th>\n      <td>GSW</td>\n      <td>240</td>\n      <td>48.0</td>\n      <td>86.0</td>\n      <td>0.558</td>\n      <td>15.0</td>\n      <td>39.0</td>\n      <td>0.385</td>\n      <td>22.0</td>\n      <td>26.0</td>\n      <td>0.846</td>\n      <td>10.0</td>\n      <td>40.0</td>\n      <td>50.0</td>\n      <td>33.0</td>\n      <td>6.0</td>\n      <td>8.0</td>\n      <td>16.0</td>\n      <td>23.0</td>\n      <td>133.0</td>\n      <td>...</td>\n      <td>0.645</td>\n      <td>0.453</td>\n      <td>0.302</td>\n      <td>26.3</td>\n      <td>74.1</td>\n      <td>54.3</td>\n      <td>68.8</td>\n      <td>5.8</td>\n      <td>11.9</td>\n      <td>14.1</td>\n      <td>129.4</td>\n      <td>100.2</td>\n      <td>102.8</td>\n      <td>171810230045</td>\n      <td>1</td>\n      <td>2017-10-23</td>\n      <td>1718</td>\n      <td>88</td>\n      <td>1.0</td>\n      <td>-1</td>\n    </tr>\n    <tr>\n      <th>125</th>\n      <td>GSW</td>\n      <td>240</td>\n      <td>43.0</td>\n      <td>77.0</td>\n      <td>0.558</td>\n      <td>12.0</td>\n      <td>26.0</td>\n      <td>0.462</td>\n      <td>19.0</td>\n      <td>22.0</td>\n      <td>0.864</td>\n      <td>6.0</td>\n      <td>31.0</td>\n      <td>37.0</td>\n      <td>32.0</td>\n      <td>10.0</td>\n      <td>7.0</td>\n      <td>17.0</td>\n      <td>15.0</td>\n      <td>117.0</td>\n      <td>...</td>\n      <td>0.636</td>\n      <td>0.338</td>\n      <td>0.286</td>\n      <td>19.4</td>\n      <td>64.6</td>\n      <td>46.8</td>\n      <td>74.4</td>\n      <td>10.2</td>\n      <td>11.7</td>\n      <td>16.4</td>\n      <td>119.4</td>\n      <td>114.3</td>\n      <td>98.0</td>\n      <td>171810250063</td>\n      <td>1</td>\n      <td>2017-10-25</td>\n      <td>1718</td>\n      <td>125</td>\n      <td>2.0</td>\n      <td>1</td>\n    </tr>\n    <tr>\n      <th>...</th>\n      <td>...</td>\n      <td>...</td>\n      <td>...</td>\n      <td>...</td>\n      <td>...</td>\n      <td>...</td>\n      <td>...</td>\n      <td>...</td>\n      <td>...</td>\n      <td>...</td>\n      <td>...</td>\n      <td>...</td>\n      <td>...</td>\n      <td>...</td>\n      <td>...</td>\n      <td>...</td>\n      <td>...</td>\n      <td>...</td>\n      <td>...</td>\n      <td>...</td>\n      <td>...</td>\n      <td>...</td>\n      <td>...</td>\n      <td>...</td>\n      <td>...</td>\n      <td>...</td>\n      <td>...</td>\n      <td>...</td>\n      <td>...</td>\n      <td>...</td>\n      <td>...</td>\n      <td>...</td>\n      <td>...</td>\n      <td>...</td>\n      <td>...</td>\n      <td>...</td>\n      <td>...</td>\n      <td>...</td>\n      <td>...</td>\n      <td>...</td>\n      <td>...</td>\n    </tr>\n    <tr>\n      <th>16465</th>\n      <td>GSW</td>\n      <td>240</td>\n      <td>49.0</td>\n      <td>92.0</td>\n      <td>0.533</td>\n      <td>14.0</td>\n      <td>35.0</td>\n      <td>0.400</td>\n      <td>6.0</td>\n      <td>6.0</td>\n      <td>1.000</td>\n      <td>11.0</td>\n      <td>36.0</td>\n      <td>47.0</td>\n      <td>32.0</td>\n      <td>9.0</td>\n      <td>8.0</td>\n      <td>16.0</td>\n      <td>19.0</td>\n      <td>118.0</td>\n      <td>...</td>\n      <td>0.609</td>\n      <td>0.380</td>\n      <td>0.065</td>\n      <td>32.4</td>\n      <td>85.7</td>\n      <td>61.8</td>\n      <td>65.3</td>\n      <td>9.4</td>\n      <td>16.7</td>\n      <td>14.5</td>\n      <td>123.4</td>\n      <td>115.1</td>\n      <td>95.6</td>\n      <td>232404071173</td>\n      <td>1</td>\n      <td>2024-04-07</td>\n      <td>2324</td>\n      <td>16465</td>\n      <td>7.0</td>\n      <td>-1</td>\n    </tr>\n    <tr>\n      <th>16490</th>\n      <td>GSW</td>\n      <td>240</td>\n      <td>47.0</td>\n      <td>80.0</td>\n      <td>0.588</td>\n      <td>26.0</td>\n      <td>41.0</td>\n      <td>0.634</td>\n      <td>14.0</td>\n      <td>21.0</td>\n      <td>0.667</td>\n      <td>4.0</td>\n      <td>38.0</td>\n      <td>42.0</td>\n      <td>37.0</td>\n      <td>3.0</td>\n      <td>12.0</td>\n      <td>15.0</td>\n      <td>17.0</td>\n      <td>134.0</td>\n      <td>...</td>\n      <td>0.750</td>\n      <td>0.513</td>\n      <td>0.263</td>\n      <td>11.8</td>\n      <td>79.2</td>\n      <td>51.2</td>\n      <td>78.7</td>\n      <td>3.0</td>\n      <td>19.7</td>\n      <td>14.4</td>\n      <td>133.2</td>\n      <td>119.3</td>\n      <td>100.6</td>\n      <td>232404091186</td>\n      <td>1</td>\n      <td>2024-04-09</td>\n      <td>2324</td>\n      <td>16490</td>\n      <td>7.0</td>\n      <td>1</td>\n    </tr>\n    <tr>\n      <th>16518</th>\n      <td>GSW</td>\n      <td>240</td>\n      <td>36.0</td>\n      <td>77.0</td>\n      <td>0.468</td>\n      <td>12.0</td>\n      <td>35.0</td>\n      <td>0.343</td>\n      <td>16.0</td>\n      <td>20.0</td>\n      <td>0.800</td>\n      <td>10.0</td>\n      <td>36.0</td>\n      <td>46.0</td>\n      <td>24.0</td>\n      <td>8.0</td>\n      <td>13.0</td>\n      <td>16.0</td>\n      <td>18.0</td>\n      <td>100.0</td>\n      <td>...</td>\n      <td>0.545</td>\n      <td>0.455</td>\n      <td>0.260</td>\n      <td>25.6</td>\n      <td>64.3</td>\n      <td>48.4</td>\n      <td>66.7</td>\n      <td>8.7</td>\n      <td>20.6</td>\n      <td>15.7</td>\n      <td>109.4</td>\n      <td>100.6</td>\n      <td>91.4</td>\n      <td>232404111200</td>\n      <td>1</td>\n      <td>2024-04-11</td>\n      <td>2324</td>\n      <td>16518</td>\n      <td>8.0</td>\n      <td>2</td>\n    </tr>\n    <tr>\n      <th>16545</th>\n      <td>GSW</td>\n      <td>240</td>\n      <td>40.0</td>\n      <td>86.0</td>\n      <td>0.465</td>\n      <td>13.0</td>\n      <td>34.0</td>\n      <td>0.382</td>\n      <td>16.0</td>\n      <td>21.0</td>\n      <td>0.762</td>\n      <td>11.0</td>\n      <td>42.0</td>\n      <td>53.0</td>\n      <td>27.0</td>\n      <td>6.0</td>\n      <td>5.0</td>\n      <td>16.0</td>\n      <td>15.0</td>\n      <td>109.0</td>\n      <td>...</td>\n      <td>0.541</td>\n      <td>0.395</td>\n      <td>0.244</td>\n      <td>25.0</td>\n      <td>89.4</td>\n      <td>58.2</td>\n      <td>67.5</td>\n      <td>6.1</td>\n      <td>9.6</td>\n      <td>14.4</td>\n      <td>110.1</td>\n      <td>115.1</td>\n      <td>99.0</td>\n      <td>232404121213</td>\n      <td>0</td>\n      <td>2024-04-12</td>\n      <td>2324</td>\n      <td>16545</td>\n      <td>9.0</td>\n      <td>3</td>\n    </tr>\n    <tr>\n      <th>16567</th>\n      <td>GSW</td>\n      <td>240</td>\n      <td>45.0</td>\n      <td>94.0</td>\n      <td>0.479</td>\n      <td>14.0</td>\n      <td>43.0</td>\n      <td>0.326</td>\n      <td>19.0</td>\n      <td>23.0</td>\n      <td>0.826</td>\n      <td>12.0</td>\n      <td>30.0</td>\n      <td>42.0</td>\n      <td>35.0</td>\n      <td>10.0</td>\n      <td>6.0</td>\n      <td>9.0</td>\n      <td>14.0</td>\n      <td>123.0</td>\n      <td>...</td>\n      <td>0.553</td>\n      <td>0.457</td>\n      <td>0.245</td>\n      <td>26.1</td>\n      <td>68.2</td>\n      <td>46.7</td>\n      <td>77.8</td>\n      <td>10.0</td>\n      <td>10.9</td>\n      <td>8.0</td>\n      <td>123.4</td>\n      <td>116.4</td>\n      <td>99.6</td>\n      <td>232404141224</td>\n      <td>1</td>\n      <td>2024-04-14</td>\n      <td>2324</td>\n      <td>16567</td>\n      <td>8.0</td>\n      <td>-1</td>\n    </tr>\n  </tbody>\n</table>\n<p>547 rows × 41 columns</p>\n</div>"
     },
     "execution_count": 277,
     "metadata": {},
     "output_type": "execute_result"
    }
   ],
   "source": [
    "team_stats['streak'] = team_stats \\\n",
    "    .groupby(['team', 'Season'])['win'] \\\n",
    "    .transform(calculate_streak)\n",
    "team_stats = team_stats.sort_index()\n",
    "team_stats[team_stats['team']=='GSW']"
   ],
   "metadata": {
    "collapsed": false,
    "ExecuteTime": {
     "start_time": "2024-11-11T00:46:24.252380Z",
     "end_time": "2024-11-11T00:46:24.514974Z"
    }
   }
  },
  {
   "cell_type": "markdown",
   "source": [
    "### Stworzenie ramek danych w oknach czasowych"
   ],
   "metadata": {
    "collapsed": false
   }
  },
  {
   "cell_type": "code",
   "execution_count": 278,
   "outputs": [],
   "source": [
    "def calculate_rolling_stats(df, window, columns, cols_concat):\n",
    "    df_copy = df.copy()\n",
    "    results = pd.DataFrame()\n",
    "\n",
    "    for col in columns:\n",
    "        if window == 'all':\n",
    "            # Calculate the mean for each team-season group up to the current game (shifted by one)\n",
    "            rolling_mean = (\n",
    "                df_copy.groupby(['Season', 'team'])[col]\n",
    "                .expanding()\n",
    "                .mean()\n",
    "                .shift(1)\n",
    "                .reset_index(level=['Season', 'team'], drop=True)\n",
    "            )\n",
    "        else:\n",
    "            # Calculate rolling mean with a specified window\n",
    "            rolling_mean = (\n",
    "                df_copy.groupby(['Season', 'team'])[col]\n",
    "                .rolling(window=window, min_periods=1)\n",
    "                .mean()\n",
    "                .shift(1)\n",
    "                .reset_index(level=['Season', 'team'], drop=True)\n",
    "            )\n",
    "\n",
    "        results[col] = rolling_mean\n",
    "\n",
    "    return pd.concat([df_copy[cols_concat].reset_index(drop=True), results], axis=1)"
   ],
   "metadata": {
    "collapsed": false,
    "ExecuteTime": {
     "start_time": "2024-11-11T00:46:24.519357Z",
     "end_time": "2024-11-11T00:46:24.541482Z"
    }
   }
  },
  {
   "cell_type": "code",
   "execution_count": 279,
   "outputs": [
    {
     "data": {
      "text/plain": "Index(['team', 'MP', 'FG', 'FGA', 'FG%', '3P', '3PA', '3P%', 'FT', 'FTA',\n       'FT%', 'ORB', 'DRB', 'TRB', 'AST', 'STL', 'BLK', 'TOV', 'PF', 'PTS',\n       'TS%', 'eFG%', '3PAr', 'FTr', 'ORB%', 'DRB%', 'TRB%', 'AST%', 'STL%',\n       'BLK%', 'TOV%', 'ORtg', 'DRtg', 'Pace', 'game_id', 'win', 'Date',\n       'Season', 'id', 'last10', 'streak'],\n      dtype='object')"
     },
     "execution_count": 279,
     "metadata": {},
     "output_type": "execute_result"
    }
   ],
   "source": [
    "team_stats.columns"
   ],
   "metadata": {
    "collapsed": false,
    "ExecuteTime": {
     "start_time": "2024-11-11T00:46:24.531438Z",
     "end_time": "2024-11-11T00:46:24.594392Z"
    }
   }
  },
  {
   "cell_type": "code",
   "execution_count": 280,
   "outputs": [],
   "source": [
    "cols_move = ['id', 'game_id', 'Date', 'Season', 'team', 'win',  'streak', 'last10'] # kolumny do przeniesienia do docelowego df\n",
    "cols_to_transform = team_stats.columns[2:-7]"
   ],
   "metadata": {
    "collapsed": false,
    "ExecuteTime": {
     "start_time": "2024-11-11T00:46:24.547502Z",
     "end_time": "2024-11-11T00:46:24.625598Z"
    }
   }
  },
  {
   "cell_type": "code",
   "execution_count": 281,
   "outputs": [
    {
     "data": {
      "text/plain": "          id       game_id        Date Season team  win  streak  last10  \\\n0          0  171810170001  2017-10-17   1718  BOS    0       0     0.0   \n13        13  171810180007  2017-10-18   1718  BOS    0      -1     0.0   \n38        38  171810200020  2017-10-20   1718  BOS    1      -2     0.0   \n101      101  171810240051  2017-10-24   1718  BOS    1       1     1.0   \n132      132  171810260067  2017-10-26   1718  BOS    1       2     2.0   \n...      ...           ...         ...    ...  ...  ...     ...     ...   \n16449  16449  232404071165  2024-04-07   2324  BOS    1       4     8.0   \n16476  16476  232404091179  2024-04-09   2324  BOS    0       5     8.0   \n16515  16515  232404111198  2024-04-11   2324  BOS    0      -1     7.0   \n16527  16527  232404121204  2024-04-12   2324  BOS    1      -2     6.0   \n16553  16553  232404141217  2024-04-14   2324  BOS    1       1     6.0   \n\n              FG        FGA       FG%         3P        3PA       3P%  \\\n0      38.170732  85.548780  0.447720  11.182927  31.024390  0.363463   \n13     36.000000  88.000000  0.409000   8.000000  32.000000  0.250000   \n38     37.500000  89.500000  0.419000   9.500000  30.000000  0.321500   \n101    36.666667  87.666667  0.418333   9.666667  29.666667  0.329333   \n132    36.750000  84.500000  0.437000  10.750000  29.500000  0.367750   \n...          ...        ...       ...        ...        ...       ...   \n16449  43.766234  90.090909  0.486623  16.519481  42.558442  0.387182   \n16476  43.833333  90.051282  0.487603  16.512821  42.500000  0.387615   \n16515  43.746835  90.088608  0.486468  16.518987  42.620253  0.386848   \n16527  43.700000  90.037500  0.486200  16.512500  42.612500  0.386775   \n16553  43.827160  90.209877  0.486605  16.481481  42.592593  0.386210   \n\n              FT        FTA       FT%        ORB        DRB        TRB  \\\n0      15.829268  20.170732  0.787098   9.060976  32.841463  41.902439   \n13     19.000000  25.000000  0.760000   9.000000  37.000000  46.000000   \n38     15.000000  23.000000  0.642000  10.000000  34.500000  44.500000   \n101    17.333333  26.000000  0.657333  11.333333  36.666667  48.000000   \n132    18.500000  26.250000  0.696750   9.750000  36.500000  46.250000   \n...          ...        ...       ...        ...        ...        ...   \n16449  16.727273  20.662338  0.809377  10.688312  35.857143  46.545455   \n16476  16.641026  20.564103  0.808859  10.615385  35.846154  46.461538   \n16515  16.430380  20.303797  0.798620  10.632911  35.721519  46.354430   \n16527  16.387500  20.250000  0.798800  10.625000  35.600000  46.225000   \n16553  16.296296  20.160494  0.797481  10.691358  35.617284  46.308642   \n\n             AST        STL       BLK        TOV         PF         PTS  \\\n0      23.731707   7.780488  4.243902  15.548780  19.585366  103.353659   \n13     24.000000  11.000000  4.000000  12.000000  24.000000   99.000000   \n38     23.500000  11.500000  3.000000  13.500000  25.500000   99.500000   \n101    21.000000   9.000000  3.666667  15.333333  25.000000  100.333333   \n132    22.250000   9.500000  4.500000  15.000000  24.750000  102.750000   \n...          ...        ...       ...        ...        ...         ...   \n16449  26.727273   6.571429  6.467532  11.935065  16.324675  120.779221   \n16476  26.820513   6.628205  6.487179  11.948718  16.269231  120.820513   \n16515  26.822785   6.683544  6.455696  11.949367  16.164557  120.443038   \n16527  26.800000   6.687500  6.525000  11.950000  16.162500  120.300000   \n16553  26.888889   6.753086  6.456790  11.876543  16.209877  120.432099   \n\n            TS%      eFG%      3PAr       FTr       ORB%       DRB%  \\\n0      0.549134  0.513524  0.363634  0.238073  20.870732  76.362195   \n13     0.500000  0.455000  0.364000  0.284000  18.000000  80.400000   \n38     0.499500  0.472000  0.336000  0.257500  20.000000  82.300000   \n101    0.506333  0.473333  0.339000  0.298667  23.266667  79.700000   \n132    0.538000  0.501750  0.351000  0.314000  20.825000  78.925000   \n...         ...       ...       ...       ...        ...        ...   \n16449  0.610260  0.578494  0.472377  0.232818  24.768831  76.558442   \n16476  0.611013  0.579474  0.471923  0.231744  24.629487  76.364103   \n16515  0.609468  0.578329  0.473025  0.228810  24.615190  76.311392   \n16527  0.609175  0.578075  0.473212  0.228275  24.585000  76.113750   \n16553  0.609025  0.578185  0.472235  0.227000  24.720988  76.287654   \n\n            TRB%       AST%       STL%       BLK%       TOV%        ORtg  \\\n0      48.623171  62.274390   7.904878   7.626829  14.157317  105.213415   \n13     47.900000  66.700000  11.000000   6.600000  10.800000   98.700000   \n38     48.400000  62.850000  11.550000   5.100000  11.900000   99.650000   \n101    50.233333  57.133333   9.033333   6.166667  13.333333  100.433333   \n132    49.875000  60.425000   9.650000   7.025000  13.475000  104.125000   \n...          ...        ...        ...        ...        ...         ...   \n16449  51.859740  61.074026   6.694805  11.787013  10.712987  123.566234   \n16476  51.746154  61.180769   6.752564  11.796154  10.733333  123.602564   \n16515  51.644304  61.330380   6.822785  11.759494  10.741772  123.321519   \n16527  51.510000  61.345000   6.830000  11.850000  10.750000  123.211250   \n16553  51.634568  61.365432   6.896296  11.733333  10.681481  123.337037   \n\n             DRtg        Pace  \n0      110.643902   98.231707  \n13     101.700000  100.300000  \n38     105.200000   99.850000  \n101    100.800000   99.900000  \n132     98.900000   98.800000  \n...           ...         ...  \n16449  111.663636   97.106494  \n16476  111.630769   97.119231  \n16515  111.684810   97.025316  \n16527  111.838750   97.002500  \n16553  111.690123   97.017284  \n\n[554 rows x 40 columns]",
      "text/html": "<div>\n<style scoped>\n    .dataframe tbody tr th:only-of-type {\n        vertical-align: middle;\n    }\n\n    .dataframe tbody tr th {\n        vertical-align: top;\n    }\n\n    .dataframe thead th {\n        text-align: right;\n    }\n</style>\n<table border=\"1\" class=\"dataframe\">\n  <thead>\n    <tr style=\"text-align: right;\">\n      <th></th>\n      <th>id</th>\n      <th>game_id</th>\n      <th>Date</th>\n      <th>Season</th>\n      <th>team</th>\n      <th>win</th>\n      <th>streak</th>\n      <th>last10</th>\n      <th>FG</th>\n      <th>FGA</th>\n      <th>FG%</th>\n      <th>3P</th>\n      <th>3PA</th>\n      <th>3P%</th>\n      <th>FT</th>\n      <th>FTA</th>\n      <th>FT%</th>\n      <th>ORB</th>\n      <th>DRB</th>\n      <th>TRB</th>\n      <th>AST</th>\n      <th>STL</th>\n      <th>BLK</th>\n      <th>TOV</th>\n      <th>PF</th>\n      <th>PTS</th>\n      <th>TS%</th>\n      <th>eFG%</th>\n      <th>3PAr</th>\n      <th>FTr</th>\n      <th>ORB%</th>\n      <th>DRB%</th>\n      <th>TRB%</th>\n      <th>AST%</th>\n      <th>STL%</th>\n      <th>BLK%</th>\n      <th>TOV%</th>\n      <th>ORtg</th>\n      <th>DRtg</th>\n      <th>Pace</th>\n    </tr>\n  </thead>\n  <tbody>\n    <tr>\n      <th>0</th>\n      <td>0</td>\n      <td>171810170001</td>\n      <td>2017-10-17</td>\n      <td>1718</td>\n      <td>BOS</td>\n      <td>0</td>\n      <td>0</td>\n      <td>0.0</td>\n      <td>38.170732</td>\n      <td>85.548780</td>\n      <td>0.447720</td>\n      <td>11.182927</td>\n      <td>31.024390</td>\n      <td>0.363463</td>\n      <td>15.829268</td>\n      <td>20.170732</td>\n      <td>0.787098</td>\n      <td>9.060976</td>\n      <td>32.841463</td>\n      <td>41.902439</td>\n      <td>23.731707</td>\n      <td>7.780488</td>\n      <td>4.243902</td>\n      <td>15.548780</td>\n      <td>19.585366</td>\n      <td>103.353659</td>\n      <td>0.549134</td>\n      <td>0.513524</td>\n      <td>0.363634</td>\n      <td>0.238073</td>\n      <td>20.870732</td>\n      <td>76.362195</td>\n      <td>48.623171</td>\n      <td>62.274390</td>\n      <td>7.904878</td>\n      <td>7.626829</td>\n      <td>14.157317</td>\n      <td>105.213415</td>\n      <td>110.643902</td>\n      <td>98.231707</td>\n    </tr>\n    <tr>\n      <th>13</th>\n      <td>13</td>\n      <td>171810180007</td>\n      <td>2017-10-18</td>\n      <td>1718</td>\n      <td>BOS</td>\n      <td>0</td>\n      <td>-1</td>\n      <td>0.0</td>\n      <td>36.000000</td>\n      <td>88.000000</td>\n      <td>0.409000</td>\n      <td>8.000000</td>\n      <td>32.000000</td>\n      <td>0.250000</td>\n      <td>19.000000</td>\n      <td>25.000000</td>\n      <td>0.760000</td>\n      <td>9.000000</td>\n      <td>37.000000</td>\n      <td>46.000000</td>\n      <td>24.000000</td>\n      <td>11.000000</td>\n      <td>4.000000</td>\n      <td>12.000000</td>\n      <td>24.000000</td>\n      <td>99.000000</td>\n      <td>0.500000</td>\n      <td>0.455000</td>\n      <td>0.364000</td>\n      <td>0.284000</td>\n      <td>18.000000</td>\n      <td>80.400000</td>\n      <td>47.900000</td>\n      <td>66.700000</td>\n      <td>11.000000</td>\n      <td>6.600000</td>\n      <td>10.800000</td>\n      <td>98.700000</td>\n      <td>101.700000</td>\n      <td>100.300000</td>\n    </tr>\n    <tr>\n      <th>38</th>\n      <td>38</td>\n      <td>171810200020</td>\n      <td>2017-10-20</td>\n      <td>1718</td>\n      <td>BOS</td>\n      <td>1</td>\n      <td>-2</td>\n      <td>0.0</td>\n      <td>37.500000</td>\n      <td>89.500000</td>\n      <td>0.419000</td>\n      <td>9.500000</td>\n      <td>30.000000</td>\n      <td>0.321500</td>\n      <td>15.000000</td>\n      <td>23.000000</td>\n      <td>0.642000</td>\n      <td>10.000000</td>\n      <td>34.500000</td>\n      <td>44.500000</td>\n      <td>23.500000</td>\n      <td>11.500000</td>\n      <td>3.000000</td>\n      <td>13.500000</td>\n      <td>25.500000</td>\n      <td>99.500000</td>\n      <td>0.499500</td>\n      <td>0.472000</td>\n      <td>0.336000</td>\n      <td>0.257500</td>\n      <td>20.000000</td>\n      <td>82.300000</td>\n      <td>48.400000</td>\n      <td>62.850000</td>\n      <td>11.550000</td>\n      <td>5.100000</td>\n      <td>11.900000</td>\n      <td>99.650000</td>\n      <td>105.200000</td>\n      <td>99.850000</td>\n    </tr>\n    <tr>\n      <th>101</th>\n      <td>101</td>\n      <td>171810240051</td>\n      <td>2017-10-24</td>\n      <td>1718</td>\n      <td>BOS</td>\n      <td>1</td>\n      <td>1</td>\n      <td>1.0</td>\n      <td>36.666667</td>\n      <td>87.666667</td>\n      <td>0.418333</td>\n      <td>9.666667</td>\n      <td>29.666667</td>\n      <td>0.329333</td>\n      <td>17.333333</td>\n      <td>26.000000</td>\n      <td>0.657333</td>\n      <td>11.333333</td>\n      <td>36.666667</td>\n      <td>48.000000</td>\n      <td>21.000000</td>\n      <td>9.000000</td>\n      <td>3.666667</td>\n      <td>15.333333</td>\n      <td>25.000000</td>\n      <td>100.333333</td>\n      <td>0.506333</td>\n      <td>0.473333</td>\n      <td>0.339000</td>\n      <td>0.298667</td>\n      <td>23.266667</td>\n      <td>79.700000</td>\n      <td>50.233333</td>\n      <td>57.133333</td>\n      <td>9.033333</td>\n      <td>6.166667</td>\n      <td>13.333333</td>\n      <td>100.433333</td>\n      <td>100.800000</td>\n      <td>99.900000</td>\n    </tr>\n    <tr>\n      <th>132</th>\n      <td>132</td>\n      <td>171810260067</td>\n      <td>2017-10-26</td>\n      <td>1718</td>\n      <td>BOS</td>\n      <td>1</td>\n      <td>2</td>\n      <td>2.0</td>\n      <td>36.750000</td>\n      <td>84.500000</td>\n      <td>0.437000</td>\n      <td>10.750000</td>\n      <td>29.500000</td>\n      <td>0.367750</td>\n      <td>18.500000</td>\n      <td>26.250000</td>\n      <td>0.696750</td>\n      <td>9.750000</td>\n      <td>36.500000</td>\n      <td>46.250000</td>\n      <td>22.250000</td>\n      <td>9.500000</td>\n      <td>4.500000</td>\n      <td>15.000000</td>\n      <td>24.750000</td>\n      <td>102.750000</td>\n      <td>0.538000</td>\n      <td>0.501750</td>\n      <td>0.351000</td>\n      <td>0.314000</td>\n      <td>20.825000</td>\n      <td>78.925000</td>\n      <td>49.875000</td>\n      <td>60.425000</td>\n      <td>9.650000</td>\n      <td>7.025000</td>\n      <td>13.475000</td>\n      <td>104.125000</td>\n      <td>98.900000</td>\n      <td>98.800000</td>\n    </tr>\n    <tr>\n      <th>...</th>\n      <td>...</td>\n      <td>...</td>\n      <td>...</td>\n      <td>...</td>\n      <td>...</td>\n      <td>...</td>\n      <td>...</td>\n      <td>...</td>\n      <td>...</td>\n      <td>...</td>\n      <td>...</td>\n      <td>...</td>\n      <td>...</td>\n      <td>...</td>\n      <td>...</td>\n      <td>...</td>\n      <td>...</td>\n      <td>...</td>\n      <td>...</td>\n      <td>...</td>\n      <td>...</td>\n      <td>...</td>\n      <td>...</td>\n      <td>...</td>\n      <td>...</td>\n      <td>...</td>\n      <td>...</td>\n      <td>...</td>\n      <td>...</td>\n      <td>...</td>\n      <td>...</td>\n      <td>...</td>\n      <td>...</td>\n      <td>...</td>\n      <td>...</td>\n      <td>...</td>\n      <td>...</td>\n      <td>...</td>\n      <td>...</td>\n      <td>...</td>\n    </tr>\n    <tr>\n      <th>16449</th>\n      <td>16449</td>\n      <td>232404071165</td>\n      <td>2024-04-07</td>\n      <td>2324</td>\n      <td>BOS</td>\n      <td>1</td>\n      <td>4</td>\n      <td>8.0</td>\n      <td>43.766234</td>\n      <td>90.090909</td>\n      <td>0.486623</td>\n      <td>16.519481</td>\n      <td>42.558442</td>\n      <td>0.387182</td>\n      <td>16.727273</td>\n      <td>20.662338</td>\n      <td>0.809377</td>\n      <td>10.688312</td>\n      <td>35.857143</td>\n      <td>46.545455</td>\n      <td>26.727273</td>\n      <td>6.571429</td>\n      <td>6.467532</td>\n      <td>11.935065</td>\n      <td>16.324675</td>\n      <td>120.779221</td>\n      <td>0.610260</td>\n      <td>0.578494</td>\n      <td>0.472377</td>\n      <td>0.232818</td>\n      <td>24.768831</td>\n      <td>76.558442</td>\n      <td>51.859740</td>\n      <td>61.074026</td>\n      <td>6.694805</td>\n      <td>11.787013</td>\n      <td>10.712987</td>\n      <td>123.566234</td>\n      <td>111.663636</td>\n      <td>97.106494</td>\n    </tr>\n    <tr>\n      <th>16476</th>\n      <td>16476</td>\n      <td>232404091179</td>\n      <td>2024-04-09</td>\n      <td>2324</td>\n      <td>BOS</td>\n      <td>0</td>\n      <td>5</td>\n      <td>8.0</td>\n      <td>43.833333</td>\n      <td>90.051282</td>\n      <td>0.487603</td>\n      <td>16.512821</td>\n      <td>42.500000</td>\n      <td>0.387615</td>\n      <td>16.641026</td>\n      <td>20.564103</td>\n      <td>0.808859</td>\n      <td>10.615385</td>\n      <td>35.846154</td>\n      <td>46.461538</td>\n      <td>26.820513</td>\n      <td>6.628205</td>\n      <td>6.487179</td>\n      <td>11.948718</td>\n      <td>16.269231</td>\n      <td>120.820513</td>\n      <td>0.611013</td>\n      <td>0.579474</td>\n      <td>0.471923</td>\n      <td>0.231744</td>\n      <td>24.629487</td>\n      <td>76.364103</td>\n      <td>51.746154</td>\n      <td>61.180769</td>\n      <td>6.752564</td>\n      <td>11.796154</td>\n      <td>10.733333</td>\n      <td>123.602564</td>\n      <td>111.630769</td>\n      <td>97.119231</td>\n    </tr>\n    <tr>\n      <th>16515</th>\n      <td>16515</td>\n      <td>232404111198</td>\n      <td>2024-04-11</td>\n      <td>2324</td>\n      <td>BOS</td>\n      <td>0</td>\n      <td>-1</td>\n      <td>7.0</td>\n      <td>43.746835</td>\n      <td>90.088608</td>\n      <td>0.486468</td>\n      <td>16.518987</td>\n      <td>42.620253</td>\n      <td>0.386848</td>\n      <td>16.430380</td>\n      <td>20.303797</td>\n      <td>0.798620</td>\n      <td>10.632911</td>\n      <td>35.721519</td>\n      <td>46.354430</td>\n      <td>26.822785</td>\n      <td>6.683544</td>\n      <td>6.455696</td>\n      <td>11.949367</td>\n      <td>16.164557</td>\n      <td>120.443038</td>\n      <td>0.609468</td>\n      <td>0.578329</td>\n      <td>0.473025</td>\n      <td>0.228810</td>\n      <td>24.615190</td>\n      <td>76.311392</td>\n      <td>51.644304</td>\n      <td>61.330380</td>\n      <td>6.822785</td>\n      <td>11.759494</td>\n      <td>10.741772</td>\n      <td>123.321519</td>\n      <td>111.684810</td>\n      <td>97.025316</td>\n    </tr>\n    <tr>\n      <th>16527</th>\n      <td>16527</td>\n      <td>232404121204</td>\n      <td>2024-04-12</td>\n      <td>2324</td>\n      <td>BOS</td>\n      <td>1</td>\n      <td>-2</td>\n      <td>6.0</td>\n      <td>43.700000</td>\n      <td>90.037500</td>\n      <td>0.486200</td>\n      <td>16.512500</td>\n      <td>42.612500</td>\n      <td>0.386775</td>\n      <td>16.387500</td>\n      <td>20.250000</td>\n      <td>0.798800</td>\n      <td>10.625000</td>\n      <td>35.600000</td>\n      <td>46.225000</td>\n      <td>26.800000</td>\n      <td>6.687500</td>\n      <td>6.525000</td>\n      <td>11.950000</td>\n      <td>16.162500</td>\n      <td>120.300000</td>\n      <td>0.609175</td>\n      <td>0.578075</td>\n      <td>0.473212</td>\n      <td>0.228275</td>\n      <td>24.585000</td>\n      <td>76.113750</td>\n      <td>51.510000</td>\n      <td>61.345000</td>\n      <td>6.830000</td>\n      <td>11.850000</td>\n      <td>10.750000</td>\n      <td>123.211250</td>\n      <td>111.838750</td>\n      <td>97.002500</td>\n    </tr>\n    <tr>\n      <th>16553</th>\n      <td>16553</td>\n      <td>232404141217</td>\n      <td>2024-04-14</td>\n      <td>2324</td>\n      <td>BOS</td>\n      <td>1</td>\n      <td>1</td>\n      <td>6.0</td>\n      <td>43.827160</td>\n      <td>90.209877</td>\n      <td>0.486605</td>\n      <td>16.481481</td>\n      <td>42.592593</td>\n      <td>0.386210</td>\n      <td>16.296296</td>\n      <td>20.160494</td>\n      <td>0.797481</td>\n      <td>10.691358</td>\n      <td>35.617284</td>\n      <td>46.308642</td>\n      <td>26.888889</td>\n      <td>6.753086</td>\n      <td>6.456790</td>\n      <td>11.876543</td>\n      <td>16.209877</td>\n      <td>120.432099</td>\n      <td>0.609025</td>\n      <td>0.578185</td>\n      <td>0.472235</td>\n      <td>0.227000</td>\n      <td>24.720988</td>\n      <td>76.287654</td>\n      <td>51.634568</td>\n      <td>61.365432</td>\n      <td>6.896296</td>\n      <td>11.733333</td>\n      <td>10.681481</td>\n      <td>123.337037</td>\n      <td>111.690123</td>\n      <td>97.017284</td>\n    </tr>\n  </tbody>\n</table>\n<p>554 rows × 40 columns</p>\n</div>"
     },
     "execution_count": 281,
     "metadata": {},
     "output_type": "execute_result"
    }
   ],
   "source": [
    "team_all_season = calculate_rolling_stats(team_stats, 'all', cols_to_transform, cols_move)\n",
    "team_all_season[team_all_season['team']=='BOS']"
   ],
   "metadata": {
    "collapsed": false,
    "ExecuteTime": {
     "start_time": "2024-11-11T00:46:24.563649Z",
     "end_time": "2024-11-11T00:46:25.057920Z"
    }
   }
  },
  {
   "cell_type": "markdown",
   "source": [
    "Należy poprawić manualnie pierwsze rekordy w sezonie - średnie kroczące jak i last10. Przez przesunięcie shift() pierwsze rekordy są wzięte z poprzedniej drużyny, a pierwsza drużyna wg alfabetu - ATL (Atlanta Hawks) posiada wartości NAN\n",
    "\n",
    "W pierwszym sezonie w ramce danych każda drużyna będzie miała wpisane średnie dla całej ligi z całego sezonu, a w każdym następnym pierwszym rekordem będzie średnia dla drużyny z poprzedniego sezonu. Imputowany pierwszy rekord nie będzie mieć wpływu na dalsze obliczenia średnich kroczących"
   ],
   "metadata": {
    "collapsed": false
   }
  },
  {
   "cell_type": "code",
   "execution_count": 282,
   "outputs": [],
   "source": [
    "def impute_first_rows(rolling_avgs, team_stats_boxscore, columns):\n",
    "    first_season = '1718'\n",
    "    df_copy = team_stats_boxscore.copy()\n",
    "    rolling_avgs = rolling_avgs.copy()\n",
    "\n",
    "    # Dla każdego sezonu (oprócz pierwszego) używamy ostatnich wartości z poprzedniego sezonu\n",
    "    for season in df_copy['Season'].unique()[1:]:  # pomijamy pierwszy sezon\n",
    "        yr1, yr2 = int(season[:2]), int(season[2:])\n",
    "        prev_season = str(yr1-1)+str(yr2-1)  # poprzedni sezon\n",
    "\n",
    "        # Dla każdej drużyny w bieżącym sezonie\n",
    "        for team in np.sort(df_copy[df_copy['Season'] == season]['team'].unique()):\n",
    "            # Znajdujemy indeks pierwszego rekordu w bieżącym sezonie\n",
    "            current_mask = (rolling_avgs['Season'] == season) & (rolling_avgs['team'] == team)\n",
    "\n",
    "            # Znajdujemy ostatnią wartość z poprzedniego sezonu\n",
    "            prev_mask = (rolling_avgs['Season'] == prev_season) & (rolling_avgs['team'] == team)\n",
    "\n",
    "            if prev_mask.any():\n",
    "                prev_values = rolling_avgs[prev_mask].iloc[-1][columns]\n",
    "                if current_mask.any():\n",
    "                    first_idx = rolling_avgs[current_mask].index[0]\n",
    "                    rolling_avgs.loc[first_idx, columns] = prev_values\n",
    "\n",
    "    # Dla pierwszego sezonu, używamy średniej ligowej\n",
    "    league_avg = df_copy[df_copy['Season'] == first_season][columns].mean()\n",
    "\n",
    "    for team in np.sort(df_copy[df_copy['Season'] == first_season]['team'].unique()):\n",
    "        mask = (rolling_avgs['Season'] == first_season) & (rolling_avgs['team'] == team)\n",
    "        if mask.any():\n",
    "            first_idx = rolling_avgs[mask].index[0]\n",
    "            rolling_avgs.loc[first_idx, columns] = league_avg\n",
    "\n",
    "    return rolling_avgs"
   ],
   "metadata": {
    "collapsed": false,
    "ExecuteTime": {
     "start_time": "2024-11-11T00:46:25.057920Z",
     "end_time": "2024-11-11T00:46:25.083609Z"
    }
   }
  },
  {
   "cell_type": "code",
   "execution_count": 283,
   "outputs": [
    {
     "data": {
      "text/plain": "          id       game_id        Date Season team  win  streak  last10  \\\n0          0  171810170001  2017-10-17   1718  BOS    0       0     0.0   \n13        13  171810180007  2017-10-18   1718  BOS    0      -1     0.0   \n38        38  171810200020  2017-10-20   1718  BOS    1      -2     0.0   \n101      101  171810240051  2017-10-24   1718  BOS    1       1     1.0   \n132      132  171810260067  2017-10-26   1718  BOS    1       2     2.0   \n...      ...           ...         ...    ...  ...  ...     ...     ...   \n16449  16449  232404071165  2024-04-07   2324  BOS    1       4     8.0   \n16476  16476  232404091179  2024-04-09   2324  BOS    0       5     8.0   \n16515  16515  232404111198  2024-04-11   2324  BOS    0      -1     7.0   \n16527  16527  232404121204  2024-04-12   2324  BOS    1      -2     6.0   \n16553  16553  232404141217  2024-04-14   2324  BOS    1       1     6.0   \n\n              FG        FGA       FG%         3P        3PA       3P%  \\\n0      39.607724  86.060569  0.461134  10.490650  29.000000  0.361003   \n13     36.000000  88.000000  0.409000   8.000000  32.000000  0.250000   \n38     37.500000  89.500000  0.419000   9.500000  30.000000  0.321500   \n101    36.666667  87.666667  0.418333   9.666667  29.666667  0.329333   \n132    36.750000  84.500000  0.437000  10.750000  29.500000  0.367750   \n...          ...        ...       ...        ...        ...       ...   \n16449  43.766234  90.090909  0.486623  16.519481  42.558442  0.387182   \n16476  43.833333  90.051282  0.487603  16.512821  42.500000  0.387615   \n16515  43.746835  90.088608  0.486468  16.518987  42.620253  0.386848   \n16527  43.700000  90.037500  0.486200  16.512500  42.612500  0.386775   \n16553  43.827160  90.209877  0.486605  16.481481  42.592593  0.386210   \n\n              FT        FTA       FT%        ORB        DRB        TRB  \\\n0      16.627236  21.676829  0.768602   9.711789  33.805285  43.517073   \n13     19.000000  25.000000  0.760000   9.000000  37.000000  46.000000   \n38     15.000000  23.000000  0.642000  10.000000  34.500000  44.500000   \n101    17.333333  26.000000  0.657333  11.333333  36.666667  48.000000   \n132    18.500000  26.250000  0.696750   9.750000  36.500000  46.250000   \n...          ...        ...       ...        ...        ...        ...   \n16449  16.727273  20.662338  0.809377  10.688312  35.857143  46.545455   \n16476  16.641026  20.564103  0.808859  10.615385  35.846154  46.461538   \n16515  16.430380  20.303797  0.798620  10.632911  35.721519  46.354430   \n16527  16.387500  20.250000  0.798800  10.625000  35.600000  46.225000   \n16553  16.296296  20.160494  0.797481  10.691358  35.617284  46.308642   \n\n             AST        STL       BLK        TOV         PF         PTS  \\\n0      23.236992   7.716667  4.815447  14.262602  19.852439  106.333333   \n13     24.000000  11.000000  4.000000  12.000000  24.000000   99.000000   \n38     23.500000  11.500000  3.000000  13.500000  25.500000   99.500000   \n101    21.000000   9.000000  3.666667  15.333333  25.000000  100.333333   \n132    22.250000   9.500000  4.500000  15.000000  24.750000  102.750000   \n...          ...        ...       ...        ...        ...         ...   \n16449  26.727273   6.571429  6.467532  11.935065  16.324675  120.779221   \n16476  26.820513   6.628205  6.487179  11.948718  16.269231  120.820513   \n16515  26.822785   6.683544  6.455696  11.949367  16.164557  120.443038   \n16527  26.800000   6.687500  6.525000  11.950000  16.162500  120.300000   \n16553  26.888889   6.753086  6.456790  11.876543  16.209877  120.432099   \n\n            TS%      eFG%      3PAr       FTr       ORB%       DRB%  \\\n0      0.557316  0.522378  0.337896  0.254894  22.140163  77.860894   \n13     0.500000  0.455000  0.364000  0.284000  18.000000  80.400000   \n38     0.499500  0.472000  0.336000  0.257500  20.000000  82.300000   \n101    0.506333  0.473333  0.339000  0.298667  23.266667  79.700000   \n132    0.538000  0.501750  0.351000  0.314000  20.825000  78.925000   \n...         ...       ...       ...       ...        ...        ...   \n16449  0.610260  0.578494  0.472377  0.232818  24.768831  76.558442   \n16476  0.611013  0.579474  0.471923  0.231744  24.629487  76.364103   \n16515  0.609468  0.578329  0.473025  0.228810  24.615190  76.311392   \n16527  0.609175  0.578075  0.473212  0.228275  24.585000  76.113750   \n16553  0.609025  0.578185  0.472235  0.227000  24.720988  76.287654   \n\n            TRB%       AST%       STL%       BLK%       TOV%        ORtg  \\\n0      50.000447  58.535935   7.873902   8.448008  12.982520  108.668699   \n13     47.900000  66.700000  11.000000   6.600000  10.800000   98.700000   \n38     48.400000  62.850000  11.550000   5.100000  11.900000   99.650000   \n101    50.233333  57.133333   9.033333   6.166667  13.333333  100.433333   \n132    49.875000  60.425000   9.650000   7.025000  13.475000  104.125000   \n...          ...        ...        ...        ...        ...         ...   \n16449  51.859740  61.074026   6.694805  11.787013  10.712987  123.566234   \n16476  51.746154  61.180769   6.752564  11.796154  10.733333  123.602564   \n16515  51.644304  61.330380   6.822785  11.759494  10.741772  123.321519   \n16527  51.510000  61.345000   6.830000  11.850000  10.750000  123.211250   \n16553  51.634568  61.365432   6.896296  11.733333  10.681481  123.337037   \n\n             DRtg        Pace  \n0      108.668699   97.318537  \n13     101.700000  100.300000  \n38     105.200000   99.850000  \n101    100.800000   99.900000  \n132     98.900000   98.800000  \n...           ...         ...  \n16449  111.663636   97.106494  \n16476  111.630769   97.119231  \n16515  111.684810   97.025316  \n16527  111.838750   97.002500  \n16553  111.690123   97.017284  \n\n[554 rows x 40 columns]",
      "text/html": "<div>\n<style scoped>\n    .dataframe tbody tr th:only-of-type {\n        vertical-align: middle;\n    }\n\n    .dataframe tbody tr th {\n        vertical-align: top;\n    }\n\n    .dataframe thead th {\n        text-align: right;\n    }\n</style>\n<table border=\"1\" class=\"dataframe\">\n  <thead>\n    <tr style=\"text-align: right;\">\n      <th></th>\n      <th>id</th>\n      <th>game_id</th>\n      <th>Date</th>\n      <th>Season</th>\n      <th>team</th>\n      <th>win</th>\n      <th>streak</th>\n      <th>last10</th>\n      <th>FG</th>\n      <th>FGA</th>\n      <th>FG%</th>\n      <th>3P</th>\n      <th>3PA</th>\n      <th>3P%</th>\n      <th>FT</th>\n      <th>FTA</th>\n      <th>FT%</th>\n      <th>ORB</th>\n      <th>DRB</th>\n      <th>TRB</th>\n      <th>AST</th>\n      <th>STL</th>\n      <th>BLK</th>\n      <th>TOV</th>\n      <th>PF</th>\n      <th>PTS</th>\n      <th>TS%</th>\n      <th>eFG%</th>\n      <th>3PAr</th>\n      <th>FTr</th>\n      <th>ORB%</th>\n      <th>DRB%</th>\n      <th>TRB%</th>\n      <th>AST%</th>\n      <th>STL%</th>\n      <th>BLK%</th>\n      <th>TOV%</th>\n      <th>ORtg</th>\n      <th>DRtg</th>\n      <th>Pace</th>\n    </tr>\n  </thead>\n  <tbody>\n    <tr>\n      <th>0</th>\n      <td>0</td>\n      <td>171810170001</td>\n      <td>2017-10-17</td>\n      <td>1718</td>\n      <td>BOS</td>\n      <td>0</td>\n      <td>0</td>\n      <td>0.0</td>\n      <td>39.607724</td>\n      <td>86.060569</td>\n      <td>0.461134</td>\n      <td>10.490650</td>\n      <td>29.000000</td>\n      <td>0.361003</td>\n      <td>16.627236</td>\n      <td>21.676829</td>\n      <td>0.768602</td>\n      <td>9.711789</td>\n      <td>33.805285</td>\n      <td>43.517073</td>\n      <td>23.236992</td>\n      <td>7.716667</td>\n      <td>4.815447</td>\n      <td>14.262602</td>\n      <td>19.852439</td>\n      <td>106.333333</td>\n      <td>0.557316</td>\n      <td>0.522378</td>\n      <td>0.337896</td>\n      <td>0.254894</td>\n      <td>22.140163</td>\n      <td>77.860894</td>\n      <td>50.000447</td>\n      <td>58.535935</td>\n      <td>7.873902</td>\n      <td>8.448008</td>\n      <td>12.982520</td>\n      <td>108.668699</td>\n      <td>108.668699</td>\n      <td>97.318537</td>\n    </tr>\n    <tr>\n      <th>13</th>\n      <td>13</td>\n      <td>171810180007</td>\n      <td>2017-10-18</td>\n      <td>1718</td>\n      <td>BOS</td>\n      <td>0</td>\n      <td>-1</td>\n      <td>0.0</td>\n      <td>36.000000</td>\n      <td>88.000000</td>\n      <td>0.409000</td>\n      <td>8.000000</td>\n      <td>32.000000</td>\n      <td>0.250000</td>\n      <td>19.000000</td>\n      <td>25.000000</td>\n      <td>0.760000</td>\n      <td>9.000000</td>\n      <td>37.000000</td>\n      <td>46.000000</td>\n      <td>24.000000</td>\n      <td>11.000000</td>\n      <td>4.000000</td>\n      <td>12.000000</td>\n      <td>24.000000</td>\n      <td>99.000000</td>\n      <td>0.500000</td>\n      <td>0.455000</td>\n      <td>0.364000</td>\n      <td>0.284000</td>\n      <td>18.000000</td>\n      <td>80.400000</td>\n      <td>47.900000</td>\n      <td>66.700000</td>\n      <td>11.000000</td>\n      <td>6.600000</td>\n      <td>10.800000</td>\n      <td>98.700000</td>\n      <td>101.700000</td>\n      <td>100.300000</td>\n    </tr>\n    <tr>\n      <th>38</th>\n      <td>38</td>\n      <td>171810200020</td>\n      <td>2017-10-20</td>\n      <td>1718</td>\n      <td>BOS</td>\n      <td>1</td>\n      <td>-2</td>\n      <td>0.0</td>\n      <td>37.500000</td>\n      <td>89.500000</td>\n      <td>0.419000</td>\n      <td>9.500000</td>\n      <td>30.000000</td>\n      <td>0.321500</td>\n      <td>15.000000</td>\n      <td>23.000000</td>\n      <td>0.642000</td>\n      <td>10.000000</td>\n      <td>34.500000</td>\n      <td>44.500000</td>\n      <td>23.500000</td>\n      <td>11.500000</td>\n      <td>3.000000</td>\n      <td>13.500000</td>\n      <td>25.500000</td>\n      <td>99.500000</td>\n      <td>0.499500</td>\n      <td>0.472000</td>\n      <td>0.336000</td>\n      <td>0.257500</td>\n      <td>20.000000</td>\n      <td>82.300000</td>\n      <td>48.400000</td>\n      <td>62.850000</td>\n      <td>11.550000</td>\n      <td>5.100000</td>\n      <td>11.900000</td>\n      <td>99.650000</td>\n      <td>105.200000</td>\n      <td>99.850000</td>\n    </tr>\n    <tr>\n      <th>101</th>\n      <td>101</td>\n      <td>171810240051</td>\n      <td>2017-10-24</td>\n      <td>1718</td>\n      <td>BOS</td>\n      <td>1</td>\n      <td>1</td>\n      <td>1.0</td>\n      <td>36.666667</td>\n      <td>87.666667</td>\n      <td>0.418333</td>\n      <td>9.666667</td>\n      <td>29.666667</td>\n      <td>0.329333</td>\n      <td>17.333333</td>\n      <td>26.000000</td>\n      <td>0.657333</td>\n      <td>11.333333</td>\n      <td>36.666667</td>\n      <td>48.000000</td>\n      <td>21.000000</td>\n      <td>9.000000</td>\n      <td>3.666667</td>\n      <td>15.333333</td>\n      <td>25.000000</td>\n      <td>100.333333</td>\n      <td>0.506333</td>\n      <td>0.473333</td>\n      <td>0.339000</td>\n      <td>0.298667</td>\n      <td>23.266667</td>\n      <td>79.700000</td>\n      <td>50.233333</td>\n      <td>57.133333</td>\n      <td>9.033333</td>\n      <td>6.166667</td>\n      <td>13.333333</td>\n      <td>100.433333</td>\n      <td>100.800000</td>\n      <td>99.900000</td>\n    </tr>\n    <tr>\n      <th>132</th>\n      <td>132</td>\n      <td>171810260067</td>\n      <td>2017-10-26</td>\n      <td>1718</td>\n      <td>BOS</td>\n      <td>1</td>\n      <td>2</td>\n      <td>2.0</td>\n      <td>36.750000</td>\n      <td>84.500000</td>\n      <td>0.437000</td>\n      <td>10.750000</td>\n      <td>29.500000</td>\n      <td>0.367750</td>\n      <td>18.500000</td>\n      <td>26.250000</td>\n      <td>0.696750</td>\n      <td>9.750000</td>\n      <td>36.500000</td>\n      <td>46.250000</td>\n      <td>22.250000</td>\n      <td>9.500000</td>\n      <td>4.500000</td>\n      <td>15.000000</td>\n      <td>24.750000</td>\n      <td>102.750000</td>\n      <td>0.538000</td>\n      <td>0.501750</td>\n      <td>0.351000</td>\n      <td>0.314000</td>\n      <td>20.825000</td>\n      <td>78.925000</td>\n      <td>49.875000</td>\n      <td>60.425000</td>\n      <td>9.650000</td>\n      <td>7.025000</td>\n      <td>13.475000</td>\n      <td>104.125000</td>\n      <td>98.900000</td>\n      <td>98.800000</td>\n    </tr>\n    <tr>\n      <th>...</th>\n      <td>...</td>\n      <td>...</td>\n      <td>...</td>\n      <td>...</td>\n      <td>...</td>\n      <td>...</td>\n      <td>...</td>\n      <td>...</td>\n      <td>...</td>\n      <td>...</td>\n      <td>...</td>\n      <td>...</td>\n      <td>...</td>\n      <td>...</td>\n      <td>...</td>\n      <td>...</td>\n      <td>...</td>\n      <td>...</td>\n      <td>...</td>\n      <td>...</td>\n      <td>...</td>\n      <td>...</td>\n      <td>...</td>\n      <td>...</td>\n      <td>...</td>\n      <td>...</td>\n      <td>...</td>\n      <td>...</td>\n      <td>...</td>\n      <td>...</td>\n      <td>...</td>\n      <td>...</td>\n      <td>...</td>\n      <td>...</td>\n      <td>...</td>\n      <td>...</td>\n      <td>...</td>\n      <td>...</td>\n      <td>...</td>\n      <td>...</td>\n    </tr>\n    <tr>\n      <th>16449</th>\n      <td>16449</td>\n      <td>232404071165</td>\n      <td>2024-04-07</td>\n      <td>2324</td>\n      <td>BOS</td>\n      <td>1</td>\n      <td>4</td>\n      <td>8.0</td>\n      <td>43.766234</td>\n      <td>90.090909</td>\n      <td>0.486623</td>\n      <td>16.519481</td>\n      <td>42.558442</td>\n      <td>0.387182</td>\n      <td>16.727273</td>\n      <td>20.662338</td>\n      <td>0.809377</td>\n      <td>10.688312</td>\n      <td>35.857143</td>\n      <td>46.545455</td>\n      <td>26.727273</td>\n      <td>6.571429</td>\n      <td>6.467532</td>\n      <td>11.935065</td>\n      <td>16.324675</td>\n      <td>120.779221</td>\n      <td>0.610260</td>\n      <td>0.578494</td>\n      <td>0.472377</td>\n      <td>0.232818</td>\n      <td>24.768831</td>\n      <td>76.558442</td>\n      <td>51.859740</td>\n      <td>61.074026</td>\n      <td>6.694805</td>\n      <td>11.787013</td>\n      <td>10.712987</td>\n      <td>123.566234</td>\n      <td>111.663636</td>\n      <td>97.106494</td>\n    </tr>\n    <tr>\n      <th>16476</th>\n      <td>16476</td>\n      <td>232404091179</td>\n      <td>2024-04-09</td>\n      <td>2324</td>\n      <td>BOS</td>\n      <td>0</td>\n      <td>5</td>\n      <td>8.0</td>\n      <td>43.833333</td>\n      <td>90.051282</td>\n      <td>0.487603</td>\n      <td>16.512821</td>\n      <td>42.500000</td>\n      <td>0.387615</td>\n      <td>16.641026</td>\n      <td>20.564103</td>\n      <td>0.808859</td>\n      <td>10.615385</td>\n      <td>35.846154</td>\n      <td>46.461538</td>\n      <td>26.820513</td>\n      <td>6.628205</td>\n      <td>6.487179</td>\n      <td>11.948718</td>\n      <td>16.269231</td>\n      <td>120.820513</td>\n      <td>0.611013</td>\n      <td>0.579474</td>\n      <td>0.471923</td>\n      <td>0.231744</td>\n      <td>24.629487</td>\n      <td>76.364103</td>\n      <td>51.746154</td>\n      <td>61.180769</td>\n      <td>6.752564</td>\n      <td>11.796154</td>\n      <td>10.733333</td>\n      <td>123.602564</td>\n      <td>111.630769</td>\n      <td>97.119231</td>\n    </tr>\n    <tr>\n      <th>16515</th>\n      <td>16515</td>\n      <td>232404111198</td>\n      <td>2024-04-11</td>\n      <td>2324</td>\n      <td>BOS</td>\n      <td>0</td>\n      <td>-1</td>\n      <td>7.0</td>\n      <td>43.746835</td>\n      <td>90.088608</td>\n      <td>0.486468</td>\n      <td>16.518987</td>\n      <td>42.620253</td>\n      <td>0.386848</td>\n      <td>16.430380</td>\n      <td>20.303797</td>\n      <td>0.798620</td>\n      <td>10.632911</td>\n      <td>35.721519</td>\n      <td>46.354430</td>\n      <td>26.822785</td>\n      <td>6.683544</td>\n      <td>6.455696</td>\n      <td>11.949367</td>\n      <td>16.164557</td>\n      <td>120.443038</td>\n      <td>0.609468</td>\n      <td>0.578329</td>\n      <td>0.473025</td>\n      <td>0.228810</td>\n      <td>24.615190</td>\n      <td>76.311392</td>\n      <td>51.644304</td>\n      <td>61.330380</td>\n      <td>6.822785</td>\n      <td>11.759494</td>\n      <td>10.741772</td>\n      <td>123.321519</td>\n      <td>111.684810</td>\n      <td>97.025316</td>\n    </tr>\n    <tr>\n      <th>16527</th>\n      <td>16527</td>\n      <td>232404121204</td>\n      <td>2024-04-12</td>\n      <td>2324</td>\n      <td>BOS</td>\n      <td>1</td>\n      <td>-2</td>\n      <td>6.0</td>\n      <td>43.700000</td>\n      <td>90.037500</td>\n      <td>0.486200</td>\n      <td>16.512500</td>\n      <td>42.612500</td>\n      <td>0.386775</td>\n      <td>16.387500</td>\n      <td>20.250000</td>\n      <td>0.798800</td>\n      <td>10.625000</td>\n      <td>35.600000</td>\n      <td>46.225000</td>\n      <td>26.800000</td>\n      <td>6.687500</td>\n      <td>6.525000</td>\n      <td>11.950000</td>\n      <td>16.162500</td>\n      <td>120.300000</td>\n      <td>0.609175</td>\n      <td>0.578075</td>\n      <td>0.473212</td>\n      <td>0.228275</td>\n      <td>24.585000</td>\n      <td>76.113750</td>\n      <td>51.510000</td>\n      <td>61.345000</td>\n      <td>6.830000</td>\n      <td>11.850000</td>\n      <td>10.750000</td>\n      <td>123.211250</td>\n      <td>111.838750</td>\n      <td>97.002500</td>\n    </tr>\n    <tr>\n      <th>16553</th>\n      <td>16553</td>\n      <td>232404141217</td>\n      <td>2024-04-14</td>\n      <td>2324</td>\n      <td>BOS</td>\n      <td>1</td>\n      <td>1</td>\n      <td>6.0</td>\n      <td>43.827160</td>\n      <td>90.209877</td>\n      <td>0.486605</td>\n      <td>16.481481</td>\n      <td>42.592593</td>\n      <td>0.386210</td>\n      <td>16.296296</td>\n      <td>20.160494</td>\n      <td>0.797481</td>\n      <td>10.691358</td>\n      <td>35.617284</td>\n      <td>46.308642</td>\n      <td>26.888889</td>\n      <td>6.753086</td>\n      <td>6.456790</td>\n      <td>11.876543</td>\n      <td>16.209877</td>\n      <td>120.432099</td>\n      <td>0.609025</td>\n      <td>0.578185</td>\n      <td>0.472235</td>\n      <td>0.227000</td>\n      <td>24.720988</td>\n      <td>76.287654</td>\n      <td>51.634568</td>\n      <td>61.365432</td>\n      <td>6.896296</td>\n      <td>11.733333</td>\n      <td>10.681481</td>\n      <td>123.337037</td>\n      <td>111.690123</td>\n      <td>97.017284</td>\n    </tr>\n  </tbody>\n</table>\n<p>554 rows × 40 columns</p>\n</div>"
     },
     "execution_count": 283,
     "metadata": {},
     "output_type": "execute_result"
    }
   ],
   "source": [
    "team_all_season = impute_first_rows(team_all_season, team_stats, cols_to_transform)\n",
    "team_all_season[team_all_season['team']=='BOS']"
   ],
   "metadata": {
    "collapsed": false,
    "ExecuteTime": {
     "start_time": "2024-11-11T00:46:25.073601Z",
     "end_time": "2024-11-11T00:46:28.054446Z"
    }
   }
  },
  {
   "cell_type": "code",
   "execution_count": 284,
   "outputs": [
    {
     "data": {
      "text/plain": "          id       game_id        Date Season team  win  streak  last10  \\\n2          2  171810170002  2017-10-17   1718  HOU    1       0     0.0   \n24        24  171810180013  2017-10-18   1718  HOU    1       1     1.0   \n59        59  171810210030  2017-10-21   1718  HOU    1       2     2.0   \n85        85  171810230043  2017-10-23   1718  HOU    0       3     3.0   \n112      112  171810250057  2017-10-25   1718  HOU    1      -1     3.0   \n...      ...           ...         ...    ...  ...  ...     ...     ...   \n16442  16442  232404071162  2024-04-07   2324  HOU    0      -4     6.0   \n16481  16481  232404091181  2024-04-09   2324  HOU    1      -5     5.0   \n16516  16516  232404111199  2024-04-11   2324  HOU    0       1     5.0   \n16546  16546  232404121214  2024-04-12   2324  HOU    1      -1     4.0   \n16568  16568  232404141225  2024-04-14   2324  HOU    1       1     4.0   \n\n              FG        FGA       FG%         3P        3PA       3P%  \\\n2      39.607724  86.060569  0.461134  10.490650  29.000000  0.361003   \n24     47.000000  97.000000  0.485000  15.000000  41.000000  0.366000   \n59     40.000000  90.000000  0.441500  13.500000  43.000000  0.316500   \n85     39.666667  87.333333  0.453000  12.666667  44.333333  0.289000   \n112    37.750000  84.750000  0.443750  11.750000  42.750000  0.276000   \n...          ...        ...       ...        ...        ...       ...   \n16442  41.558442  90.779221  0.458117  12.571429  35.896104  0.350740   \n16481  41.615385  90.807692  0.458590  12.628205  35.961538  0.351564   \n16516  41.658228  90.746835  0.459405  12.658228  35.949367  0.352544   \n16546  41.637500  90.800000  0.458925  12.762500  36.087500  0.353725   \n16568  41.666667  90.814815  0.459160  12.740741  36.123457  0.352840   \n\n              FT        FTA       FT%        ORB        DRB        TRB  \\\n2      16.627236  21.676829  0.768602   9.711789  33.805285  43.517073   \n24     13.000000  19.000000  0.684000  10.000000  33.000000  43.000000   \n59     20.000000  24.000000  0.807500  11.000000  32.500000  43.500000   \n85     19.333333  23.333333  0.811000  10.000000  37.000000  47.000000   \n112    18.750000  23.250000  0.793000   9.750000  35.250000  45.000000   \n...          ...        ...       ...        ...        ...        ...   \n16442  18.181818  23.467532  0.772416  11.519481  34.090909  45.610390   \n16481  18.294872  23.615385  0.772397  11.423077  34.012821  45.435897   \n16516  18.227848  23.544304  0.771759  11.354430  33.974684  45.329114   \n16546  18.250000  23.525000  0.773475  11.412500  33.837500  45.250000   \n16568  18.234568  23.481481  0.774420  11.395062  33.888889  45.283951   \n\n             AST       STL       BLK        TOV         PF         PTS  \\\n2      23.236992  7.716667  4.815447  14.262602  19.852439  106.333333   \n24     28.000000  9.000000  5.000000  13.000000  16.000000  122.000000   \n59     23.500000  8.000000  4.000000  14.500000  15.000000  113.500000   \n85     21.333333  9.333333  4.000000  14.666667  18.000000  111.333333   \n112    22.250000  8.250000  3.500000  15.250000  21.250000  106.000000   \n...          ...       ...       ...        ...        ...         ...   \n16442  24.636364  7.818182  4.454545  12.792208  20.727273  113.870130   \n16481  24.717949  7.858974  4.474359  12.769231  20.897436  114.153846   \n16516  24.772152  7.860759  4.506329  12.759494  20.898734  114.202532   \n16546  24.737500  7.862500  4.525000  12.725000  20.862500  114.287500   \n16568  24.740741  7.802469  4.530864  12.679012  20.851852  114.308642   \n\n            TS%      eFG%      3PAr       FTr       ORB%       DRB%  \\\n2      0.557316  0.522378  0.337896  0.254894  22.140163  77.860894   \n24     0.579000  0.562000  0.423000  0.196000  22.200000  84.600000   \n59     0.563500  0.516000  0.482500  0.272500  24.450000  81.300000   \n85     0.570333  0.525000  0.512667  0.271000  22.800000  82.600000   \n112    0.557000  0.512250  0.508000  0.278000  22.225000  84.675000   \n...         ...       ...       ...       ...        ...        ...   \n16442  0.564130  0.527870  0.396364  0.261260  25.063636  76.225974   \n16481  0.564936  0.528615  0.396936  0.262731  24.856410  76.305128   \n16516  0.565734  0.529646  0.397063  0.262051  24.741772  76.296203   \n16546  0.565887  0.529675  0.398288  0.261675  24.832500  76.098750   \n16568  0.566000  0.529778  0.398605  0.261123  24.819753  76.028395   \n\n            TRB%       AST%      STL%       BLK%       TOV%        ORtg  \\\n2      50.000447  58.535935  7.873902   8.448008  12.982520  108.668699   \n24     51.200000  59.600000  8.800000  10.000000  11.000000  119.000000   \n59     51.200000  58.600000  8.000000   7.300000  12.650000  113.200000   \n85     53.066667  53.600000  9.433333   7.366667  13.133333  112.066667   \n112    52.450000  59.725000  8.425000   6.550000  13.925000  108.450000   \n...          ...        ...       ...        ...        ...         ...   \n16442  50.436364  59.425974  7.845455   8.464935  11.197403  114.311688   \n16481  50.308974  59.528205  7.869231   8.523077  11.171795  114.388462   \n16516  50.264557  59.589873  7.873418   8.558228  11.173418  114.463291   \n16546  50.190000  59.532500  7.880000   8.607500  11.142500  114.620000   \n16568  50.187654  59.498765  7.820988   8.603704  11.106173  114.696296   \n\n             DRtg        Pace  \n2      108.668699   97.318537  \n24     118.000000  102.500000  \n59     110.150000  100.150000  \n85     104.566667   99.233333  \n112    105.000000   97.475000  \n...           ...         ...  \n16442  113.368831   98.866234  \n16481  113.582051   98.911538  \n16516  113.511392   98.901266  \n16546  113.718750   98.856250  \n16568  113.691358   98.820988  \n\n[554 rows x 40 columns]",
      "text/html": "<div>\n<style scoped>\n    .dataframe tbody tr th:only-of-type {\n        vertical-align: middle;\n    }\n\n    .dataframe tbody tr th {\n        vertical-align: top;\n    }\n\n    .dataframe thead th {\n        text-align: right;\n    }\n</style>\n<table border=\"1\" class=\"dataframe\">\n  <thead>\n    <tr style=\"text-align: right;\">\n      <th></th>\n      <th>id</th>\n      <th>game_id</th>\n      <th>Date</th>\n      <th>Season</th>\n      <th>team</th>\n      <th>win</th>\n      <th>streak</th>\n      <th>last10</th>\n      <th>FG</th>\n      <th>FGA</th>\n      <th>FG%</th>\n      <th>3P</th>\n      <th>3PA</th>\n      <th>3P%</th>\n      <th>FT</th>\n      <th>FTA</th>\n      <th>FT%</th>\n      <th>ORB</th>\n      <th>DRB</th>\n      <th>TRB</th>\n      <th>AST</th>\n      <th>STL</th>\n      <th>BLK</th>\n      <th>TOV</th>\n      <th>PF</th>\n      <th>PTS</th>\n      <th>TS%</th>\n      <th>eFG%</th>\n      <th>3PAr</th>\n      <th>FTr</th>\n      <th>ORB%</th>\n      <th>DRB%</th>\n      <th>TRB%</th>\n      <th>AST%</th>\n      <th>STL%</th>\n      <th>BLK%</th>\n      <th>TOV%</th>\n      <th>ORtg</th>\n      <th>DRtg</th>\n      <th>Pace</th>\n    </tr>\n  </thead>\n  <tbody>\n    <tr>\n      <th>2</th>\n      <td>2</td>\n      <td>171810170002</td>\n      <td>2017-10-17</td>\n      <td>1718</td>\n      <td>HOU</td>\n      <td>1</td>\n      <td>0</td>\n      <td>0.0</td>\n      <td>39.607724</td>\n      <td>86.060569</td>\n      <td>0.461134</td>\n      <td>10.490650</td>\n      <td>29.000000</td>\n      <td>0.361003</td>\n      <td>16.627236</td>\n      <td>21.676829</td>\n      <td>0.768602</td>\n      <td>9.711789</td>\n      <td>33.805285</td>\n      <td>43.517073</td>\n      <td>23.236992</td>\n      <td>7.716667</td>\n      <td>4.815447</td>\n      <td>14.262602</td>\n      <td>19.852439</td>\n      <td>106.333333</td>\n      <td>0.557316</td>\n      <td>0.522378</td>\n      <td>0.337896</td>\n      <td>0.254894</td>\n      <td>22.140163</td>\n      <td>77.860894</td>\n      <td>50.000447</td>\n      <td>58.535935</td>\n      <td>7.873902</td>\n      <td>8.448008</td>\n      <td>12.982520</td>\n      <td>108.668699</td>\n      <td>108.668699</td>\n      <td>97.318537</td>\n    </tr>\n    <tr>\n      <th>24</th>\n      <td>24</td>\n      <td>171810180013</td>\n      <td>2017-10-18</td>\n      <td>1718</td>\n      <td>HOU</td>\n      <td>1</td>\n      <td>1</td>\n      <td>1.0</td>\n      <td>47.000000</td>\n      <td>97.000000</td>\n      <td>0.485000</td>\n      <td>15.000000</td>\n      <td>41.000000</td>\n      <td>0.366000</td>\n      <td>13.000000</td>\n      <td>19.000000</td>\n      <td>0.684000</td>\n      <td>10.000000</td>\n      <td>33.000000</td>\n      <td>43.000000</td>\n      <td>28.000000</td>\n      <td>9.000000</td>\n      <td>5.000000</td>\n      <td>13.000000</td>\n      <td>16.000000</td>\n      <td>122.000000</td>\n      <td>0.579000</td>\n      <td>0.562000</td>\n      <td>0.423000</td>\n      <td>0.196000</td>\n      <td>22.200000</td>\n      <td>84.600000</td>\n      <td>51.200000</td>\n      <td>59.600000</td>\n      <td>8.800000</td>\n      <td>10.000000</td>\n      <td>11.000000</td>\n      <td>119.000000</td>\n      <td>118.000000</td>\n      <td>102.500000</td>\n    </tr>\n    <tr>\n      <th>59</th>\n      <td>59</td>\n      <td>171810210030</td>\n      <td>2017-10-21</td>\n      <td>1718</td>\n      <td>HOU</td>\n      <td>1</td>\n      <td>2</td>\n      <td>2.0</td>\n      <td>40.000000</td>\n      <td>90.000000</td>\n      <td>0.441500</td>\n      <td>13.500000</td>\n      <td>43.000000</td>\n      <td>0.316500</td>\n      <td>20.000000</td>\n      <td>24.000000</td>\n      <td>0.807500</td>\n      <td>11.000000</td>\n      <td>32.500000</td>\n      <td>43.500000</td>\n      <td>23.500000</td>\n      <td>8.000000</td>\n      <td>4.000000</td>\n      <td>14.500000</td>\n      <td>15.000000</td>\n      <td>113.500000</td>\n      <td>0.563500</td>\n      <td>0.516000</td>\n      <td>0.482500</td>\n      <td>0.272500</td>\n      <td>24.450000</td>\n      <td>81.300000</td>\n      <td>51.200000</td>\n      <td>58.600000</td>\n      <td>8.000000</td>\n      <td>7.300000</td>\n      <td>12.650000</td>\n      <td>113.200000</td>\n      <td>110.150000</td>\n      <td>100.150000</td>\n    </tr>\n    <tr>\n      <th>85</th>\n      <td>85</td>\n      <td>171810230043</td>\n      <td>2017-10-23</td>\n      <td>1718</td>\n      <td>HOU</td>\n      <td>0</td>\n      <td>3</td>\n      <td>3.0</td>\n      <td>39.666667</td>\n      <td>87.333333</td>\n      <td>0.453000</td>\n      <td>12.666667</td>\n      <td>44.333333</td>\n      <td>0.289000</td>\n      <td>19.333333</td>\n      <td>23.333333</td>\n      <td>0.811000</td>\n      <td>10.000000</td>\n      <td>37.000000</td>\n      <td>47.000000</td>\n      <td>21.333333</td>\n      <td>9.333333</td>\n      <td>4.000000</td>\n      <td>14.666667</td>\n      <td>18.000000</td>\n      <td>111.333333</td>\n      <td>0.570333</td>\n      <td>0.525000</td>\n      <td>0.512667</td>\n      <td>0.271000</td>\n      <td>22.800000</td>\n      <td>82.600000</td>\n      <td>53.066667</td>\n      <td>53.600000</td>\n      <td>9.433333</td>\n      <td>7.366667</td>\n      <td>13.133333</td>\n      <td>112.066667</td>\n      <td>104.566667</td>\n      <td>99.233333</td>\n    </tr>\n    <tr>\n      <th>112</th>\n      <td>112</td>\n      <td>171810250057</td>\n      <td>2017-10-25</td>\n      <td>1718</td>\n      <td>HOU</td>\n      <td>1</td>\n      <td>-1</td>\n      <td>3.0</td>\n      <td>37.750000</td>\n      <td>84.750000</td>\n      <td>0.443750</td>\n      <td>11.750000</td>\n      <td>42.750000</td>\n      <td>0.276000</td>\n      <td>18.750000</td>\n      <td>23.250000</td>\n      <td>0.793000</td>\n      <td>9.750000</td>\n      <td>35.250000</td>\n      <td>45.000000</td>\n      <td>22.250000</td>\n      <td>8.250000</td>\n      <td>3.500000</td>\n      <td>15.250000</td>\n      <td>21.250000</td>\n      <td>106.000000</td>\n      <td>0.557000</td>\n      <td>0.512250</td>\n      <td>0.508000</td>\n      <td>0.278000</td>\n      <td>22.225000</td>\n      <td>84.675000</td>\n      <td>52.450000</td>\n      <td>59.725000</td>\n      <td>8.425000</td>\n      <td>6.550000</td>\n      <td>13.925000</td>\n      <td>108.450000</td>\n      <td>105.000000</td>\n      <td>97.475000</td>\n    </tr>\n    <tr>\n      <th>...</th>\n      <td>...</td>\n      <td>...</td>\n      <td>...</td>\n      <td>...</td>\n      <td>...</td>\n      <td>...</td>\n      <td>...</td>\n      <td>...</td>\n      <td>...</td>\n      <td>...</td>\n      <td>...</td>\n      <td>...</td>\n      <td>...</td>\n      <td>...</td>\n      <td>...</td>\n      <td>...</td>\n      <td>...</td>\n      <td>...</td>\n      <td>...</td>\n      <td>...</td>\n      <td>...</td>\n      <td>...</td>\n      <td>...</td>\n      <td>...</td>\n      <td>...</td>\n      <td>...</td>\n      <td>...</td>\n      <td>...</td>\n      <td>...</td>\n      <td>...</td>\n      <td>...</td>\n      <td>...</td>\n      <td>...</td>\n      <td>...</td>\n      <td>...</td>\n      <td>...</td>\n      <td>...</td>\n      <td>...</td>\n      <td>...</td>\n      <td>...</td>\n    </tr>\n    <tr>\n      <th>16442</th>\n      <td>16442</td>\n      <td>232404071162</td>\n      <td>2024-04-07</td>\n      <td>2324</td>\n      <td>HOU</td>\n      <td>0</td>\n      <td>-4</td>\n      <td>6.0</td>\n      <td>41.558442</td>\n      <td>90.779221</td>\n      <td>0.458117</td>\n      <td>12.571429</td>\n      <td>35.896104</td>\n      <td>0.350740</td>\n      <td>18.181818</td>\n      <td>23.467532</td>\n      <td>0.772416</td>\n      <td>11.519481</td>\n      <td>34.090909</td>\n      <td>45.610390</td>\n      <td>24.636364</td>\n      <td>7.818182</td>\n      <td>4.454545</td>\n      <td>12.792208</td>\n      <td>20.727273</td>\n      <td>113.870130</td>\n      <td>0.564130</td>\n      <td>0.527870</td>\n      <td>0.396364</td>\n      <td>0.261260</td>\n      <td>25.063636</td>\n      <td>76.225974</td>\n      <td>50.436364</td>\n      <td>59.425974</td>\n      <td>7.845455</td>\n      <td>8.464935</td>\n      <td>11.197403</td>\n      <td>114.311688</td>\n      <td>113.368831</td>\n      <td>98.866234</td>\n    </tr>\n    <tr>\n      <th>16481</th>\n      <td>16481</td>\n      <td>232404091181</td>\n      <td>2024-04-09</td>\n      <td>2324</td>\n      <td>HOU</td>\n      <td>1</td>\n      <td>-5</td>\n      <td>5.0</td>\n      <td>41.615385</td>\n      <td>90.807692</td>\n      <td>0.458590</td>\n      <td>12.628205</td>\n      <td>35.961538</td>\n      <td>0.351564</td>\n      <td>18.294872</td>\n      <td>23.615385</td>\n      <td>0.772397</td>\n      <td>11.423077</td>\n      <td>34.012821</td>\n      <td>45.435897</td>\n      <td>24.717949</td>\n      <td>7.858974</td>\n      <td>4.474359</td>\n      <td>12.769231</td>\n      <td>20.897436</td>\n      <td>114.153846</td>\n      <td>0.564936</td>\n      <td>0.528615</td>\n      <td>0.396936</td>\n      <td>0.262731</td>\n      <td>24.856410</td>\n      <td>76.305128</td>\n      <td>50.308974</td>\n      <td>59.528205</td>\n      <td>7.869231</td>\n      <td>8.523077</td>\n      <td>11.171795</td>\n      <td>114.388462</td>\n      <td>113.582051</td>\n      <td>98.911538</td>\n    </tr>\n    <tr>\n      <th>16516</th>\n      <td>16516</td>\n      <td>232404111199</td>\n      <td>2024-04-11</td>\n      <td>2324</td>\n      <td>HOU</td>\n      <td>0</td>\n      <td>1</td>\n      <td>5.0</td>\n      <td>41.658228</td>\n      <td>90.746835</td>\n      <td>0.459405</td>\n      <td>12.658228</td>\n      <td>35.949367</td>\n      <td>0.352544</td>\n      <td>18.227848</td>\n      <td>23.544304</td>\n      <td>0.771759</td>\n      <td>11.354430</td>\n      <td>33.974684</td>\n      <td>45.329114</td>\n      <td>24.772152</td>\n      <td>7.860759</td>\n      <td>4.506329</td>\n      <td>12.759494</td>\n      <td>20.898734</td>\n      <td>114.202532</td>\n      <td>0.565734</td>\n      <td>0.529646</td>\n      <td>0.397063</td>\n      <td>0.262051</td>\n      <td>24.741772</td>\n      <td>76.296203</td>\n      <td>50.264557</td>\n      <td>59.589873</td>\n      <td>7.873418</td>\n      <td>8.558228</td>\n      <td>11.173418</td>\n      <td>114.463291</td>\n      <td>113.511392</td>\n      <td>98.901266</td>\n    </tr>\n    <tr>\n      <th>16546</th>\n      <td>16546</td>\n      <td>232404121214</td>\n      <td>2024-04-12</td>\n      <td>2324</td>\n      <td>HOU</td>\n      <td>1</td>\n      <td>-1</td>\n      <td>4.0</td>\n      <td>41.637500</td>\n      <td>90.800000</td>\n      <td>0.458925</td>\n      <td>12.762500</td>\n      <td>36.087500</td>\n      <td>0.353725</td>\n      <td>18.250000</td>\n      <td>23.525000</td>\n      <td>0.773475</td>\n      <td>11.412500</td>\n      <td>33.837500</td>\n      <td>45.250000</td>\n      <td>24.737500</td>\n      <td>7.862500</td>\n      <td>4.525000</td>\n      <td>12.725000</td>\n      <td>20.862500</td>\n      <td>114.287500</td>\n      <td>0.565887</td>\n      <td>0.529675</td>\n      <td>0.398288</td>\n      <td>0.261675</td>\n      <td>24.832500</td>\n      <td>76.098750</td>\n      <td>50.190000</td>\n      <td>59.532500</td>\n      <td>7.880000</td>\n      <td>8.607500</td>\n      <td>11.142500</td>\n      <td>114.620000</td>\n      <td>113.718750</td>\n      <td>98.856250</td>\n    </tr>\n    <tr>\n      <th>16568</th>\n      <td>16568</td>\n      <td>232404141225</td>\n      <td>2024-04-14</td>\n      <td>2324</td>\n      <td>HOU</td>\n      <td>1</td>\n      <td>1</td>\n      <td>4.0</td>\n      <td>41.666667</td>\n      <td>90.814815</td>\n      <td>0.459160</td>\n      <td>12.740741</td>\n      <td>36.123457</td>\n      <td>0.352840</td>\n      <td>18.234568</td>\n      <td>23.481481</td>\n      <td>0.774420</td>\n      <td>11.395062</td>\n      <td>33.888889</td>\n      <td>45.283951</td>\n      <td>24.740741</td>\n      <td>7.802469</td>\n      <td>4.530864</td>\n      <td>12.679012</td>\n      <td>20.851852</td>\n      <td>114.308642</td>\n      <td>0.566000</td>\n      <td>0.529778</td>\n      <td>0.398605</td>\n      <td>0.261123</td>\n      <td>24.819753</td>\n      <td>76.028395</td>\n      <td>50.187654</td>\n      <td>59.498765</td>\n      <td>7.820988</td>\n      <td>8.603704</td>\n      <td>11.106173</td>\n      <td>114.696296</td>\n      <td>113.691358</td>\n      <td>98.820988</td>\n    </tr>\n  </tbody>\n</table>\n<p>554 rows × 40 columns</p>\n</div>"
     },
     "execution_count": 284,
     "metadata": {},
     "output_type": "execute_result"
    }
   ],
   "source": [
    "team_all_season[(team_all_season['team']=='HOU')]"
   ],
   "metadata": {
    "collapsed": false,
    "ExecuteTime": {
     "start_time": "2024-11-11T00:46:28.055444Z",
     "end_time": "2024-11-11T00:46:28.196767Z"
    }
   }
  },
  {
   "cell_type": "markdown",
   "source": [
    "Teraz możemy stworzyć także ramki dla okien czasowych 20, 30 i 40 meczowych"
   ],
   "metadata": {
    "collapsed": false
   }
  },
  {
   "cell_type": "code",
   "execution_count": 285,
   "outputs": [
    {
     "data": {
      "text/plain": "          id       game_id        Date Season team  win  streak  last10  \\\n0          0  171810170001  2017-10-17   1718  BOS    0       0     0.0   \n1          1  171810170001  2017-10-17   1718  CLE    1       0     0.0   \n2          2  171810170002  2017-10-17   1718  HOU    1       0     0.0   \n3          3  171810170002  2017-10-17   1718  GSW    0       0     0.0   \n4          4  171810180003  2017-10-18   1718  CHO    0       0     0.0   \n...      ...           ...         ...    ...  ...  ...     ...     ...   \n16577  16577  232404141229  2024-04-14   2324  OKC    1       4     6.0   \n16578  16578  232404141230  2024-04-14   2324  POR    0      -4     2.0   \n16579  16579  232404141230  2024-04-14   2324  SAC    1      -3     3.0   \n16580  16580  232404141231  2024-04-14   2324  DET    0       1     2.0   \n16581  16581  232404141231  2024-04-14   2324  SAS    1       1     6.0   \n\n              FG        FGA       FG%         3P        3PA       3P%  \\\n0      39.607724  86.060569  0.461134  10.490650  29.000000  0.361003   \n1      39.607724  86.060569  0.461134  10.490650  29.000000  0.361003   \n2      39.607724  86.060569  0.461134  10.490650  29.000000  0.361003   \n3      39.607724  86.060569  0.461134  10.490650  29.000000  0.361003   \n4      39.607724  86.060569  0.461134  10.490650  29.000000  0.361003   \n...          ...        ...       ...        ...        ...       ...   \n16577  44.432099  89.222222  0.499321  13.283951  34.209877  0.386901   \n16578  39.456790  89.604938  0.441198  11.506173  33.061728  0.348000   \n16579  43.333333  90.962963  0.476506  14.382716  39.320988  0.365395   \n16580  40.950617  88.197531  0.464877  11.086420  31.716049  0.350099   \n16581  41.839506  90.679012  0.462432  12.604938  36.407407  0.347667   \n\n              FT        FTA       FT%        ORB        DRB        TRB  \\\n0      16.627236  21.676829  0.768602   9.711789  33.805285  43.517073   \n1      16.627236  21.676829  0.768602   9.711789  33.805285  43.517073   \n2      16.627236  21.676829  0.768602   9.711789  33.805285  43.517073   \n3      16.627236  21.676829  0.768602   9.711789  33.805285  43.517073   \n4      16.627236  21.676829  0.768602   9.711789  33.805285  43.517073   \n...          ...        ...       ...        ...        ...        ...   \n16577  17.753086  21.518519  0.829889   8.777778  33.061728  41.839506   \n16578  16.246914  20.530864  0.793605  12.506173  30.098765  42.604938   \n16579  15.456790  20.777778  0.739383  10.802469  33.098765  43.901235   \n16580  17.074074  21.728395  0.785432  10.493827  32.876543  43.370370   \n16581  15.679012  20.037037  0.778531  10.333333  33.777778  44.111111   \n\n             AST       STL       BLK        TOV         PF         PTS  \\\n0      23.236992  7.716667  4.815447  14.262602  19.852439  106.333333   \n1      23.236992  7.716667  4.815447  14.262602  19.852439  106.333333   \n2      23.236992  7.716667  4.815447  14.262602  19.852439  106.333333   \n3      23.236992  7.716667  4.815447  14.262602  19.852439  106.333333   \n4      23.236992  7.716667  4.815447  14.262602  19.852439  106.333333   \n...          ...       ...       ...        ...        ...         ...   \n16577  26.975309  8.493827  6.567901  12.641975  18.864198  119.901235   \n16578  23.160494  7.604938  4.345679  15.197531  20.185185  106.666667   \n16579  28.333333  7.580247  4.148148  13.135802  19.913580  116.506173   \n16580  25.567901  6.469136  4.703704  15.234568  20.728395  110.061728   \n16581  29.827160  7.098765  6.382716  15.160494  17.246914  111.962963   \n\n            TS%      eFG%      3PAr       FTr       ORB%       DRB%  \\\n0      0.557316  0.522378  0.337896  0.254894  22.140163  77.860894   \n1      0.557316  0.522378  0.337896  0.254894  22.140163  77.860894   \n2      0.557316  0.522378  0.337896  0.254894  22.140163  77.860894   \n3      0.557316  0.522378  0.337896  0.254894  22.140163  77.860894   \n4      0.557316  0.522378  0.337896  0.254894  22.140163  77.860894   \n...         ...       ...       ...       ...        ...        ...   \n16577  0.608938  0.573914  0.382840  0.244926  20.800000  73.777778   \n16578  0.541370  0.505333  0.368395  0.230914  27.170370  74.114815   \n16579  0.582370  0.555642  0.433617  0.230420  24.288889  78.893827   \n16580  0.563778  0.528012  0.360988  0.249432  23.828395  77.483951   \n16581  0.563568  0.532222  0.402346  0.222247  22.860494  76.633333   \n\n            TRB%       AST%      STL%       BLK%       TOV%        ORtg  \\\n0      50.000447  58.535935  7.873902   8.448008  12.982520  108.668699   \n1      50.000447  58.535935  7.873902   8.448008  12.982520  108.668699   \n2      50.000447  58.535935  7.873902   8.448008  12.982520  108.668699   \n3      50.000447  58.535935  7.873902   8.448008  12.982520  108.668699   \n4      50.000447  58.535935  7.873902   8.448008  12.982520  108.668699   \n...          ...        ...       ...        ...        ...         ...   \n16577  48.287654  60.695062  8.430864  12.895062  11.353086  119.403704   \n16578  49.298765  58.658025  7.737037   8.101235  13.379012  108.688889   \n16579  50.806173  65.586420  7.595062   7.811111  11.559259  116.820988   \n16580  50.139506  62.533333  6.456790   8.334568  13.464198  109.935802   \n16581  49.293827  71.132099  6.955556  10.980247  13.207407  110.001235   \n\n             DRtg        Pace  \n0      108.668699   97.318537  \n1      108.668699   97.318537  \n2      108.668699   97.318537  \n3      108.668699   97.318537  \n4      108.668699   97.318537  \n...           ...         ...  \n16577  112.658025   99.790123  \n16578  117.495062   97.197531  \n16579  115.627160   98.802469  \n16580  118.729630   99.758025  \n16581  116.711111  101.164198  \n\n[16582 rows x 40 columns]",
      "text/html": "<div>\n<style scoped>\n    .dataframe tbody tr th:only-of-type {\n        vertical-align: middle;\n    }\n\n    .dataframe tbody tr th {\n        vertical-align: top;\n    }\n\n    .dataframe thead th {\n        text-align: right;\n    }\n</style>\n<table border=\"1\" class=\"dataframe\">\n  <thead>\n    <tr style=\"text-align: right;\">\n      <th></th>\n      <th>id</th>\n      <th>game_id</th>\n      <th>Date</th>\n      <th>Season</th>\n      <th>team</th>\n      <th>win</th>\n      <th>streak</th>\n      <th>last10</th>\n      <th>FG</th>\n      <th>FGA</th>\n      <th>FG%</th>\n      <th>3P</th>\n      <th>3PA</th>\n      <th>3P%</th>\n      <th>FT</th>\n      <th>FTA</th>\n      <th>FT%</th>\n      <th>ORB</th>\n      <th>DRB</th>\n      <th>TRB</th>\n      <th>AST</th>\n      <th>STL</th>\n      <th>BLK</th>\n      <th>TOV</th>\n      <th>PF</th>\n      <th>PTS</th>\n      <th>TS%</th>\n      <th>eFG%</th>\n      <th>3PAr</th>\n      <th>FTr</th>\n      <th>ORB%</th>\n      <th>DRB%</th>\n      <th>TRB%</th>\n      <th>AST%</th>\n      <th>STL%</th>\n      <th>BLK%</th>\n      <th>TOV%</th>\n      <th>ORtg</th>\n      <th>DRtg</th>\n      <th>Pace</th>\n    </tr>\n  </thead>\n  <tbody>\n    <tr>\n      <th>0</th>\n      <td>0</td>\n      <td>171810170001</td>\n      <td>2017-10-17</td>\n      <td>1718</td>\n      <td>BOS</td>\n      <td>0</td>\n      <td>0</td>\n      <td>0.0</td>\n      <td>39.607724</td>\n      <td>86.060569</td>\n      <td>0.461134</td>\n      <td>10.490650</td>\n      <td>29.000000</td>\n      <td>0.361003</td>\n      <td>16.627236</td>\n      <td>21.676829</td>\n      <td>0.768602</td>\n      <td>9.711789</td>\n      <td>33.805285</td>\n      <td>43.517073</td>\n      <td>23.236992</td>\n      <td>7.716667</td>\n      <td>4.815447</td>\n      <td>14.262602</td>\n      <td>19.852439</td>\n      <td>106.333333</td>\n      <td>0.557316</td>\n      <td>0.522378</td>\n      <td>0.337896</td>\n      <td>0.254894</td>\n      <td>22.140163</td>\n      <td>77.860894</td>\n      <td>50.000447</td>\n      <td>58.535935</td>\n      <td>7.873902</td>\n      <td>8.448008</td>\n      <td>12.982520</td>\n      <td>108.668699</td>\n      <td>108.668699</td>\n      <td>97.318537</td>\n    </tr>\n    <tr>\n      <th>1</th>\n      <td>1</td>\n      <td>171810170001</td>\n      <td>2017-10-17</td>\n      <td>1718</td>\n      <td>CLE</td>\n      <td>1</td>\n      <td>0</td>\n      <td>0.0</td>\n      <td>39.607724</td>\n      <td>86.060569</td>\n      <td>0.461134</td>\n      <td>10.490650</td>\n      <td>29.000000</td>\n      <td>0.361003</td>\n      <td>16.627236</td>\n      <td>21.676829</td>\n      <td>0.768602</td>\n      <td>9.711789</td>\n      <td>33.805285</td>\n      <td>43.517073</td>\n      <td>23.236992</td>\n      <td>7.716667</td>\n      <td>4.815447</td>\n      <td>14.262602</td>\n      <td>19.852439</td>\n      <td>106.333333</td>\n      <td>0.557316</td>\n      <td>0.522378</td>\n      <td>0.337896</td>\n      <td>0.254894</td>\n      <td>22.140163</td>\n      <td>77.860894</td>\n      <td>50.000447</td>\n      <td>58.535935</td>\n      <td>7.873902</td>\n      <td>8.448008</td>\n      <td>12.982520</td>\n      <td>108.668699</td>\n      <td>108.668699</td>\n      <td>97.318537</td>\n    </tr>\n    <tr>\n      <th>2</th>\n      <td>2</td>\n      <td>171810170002</td>\n      <td>2017-10-17</td>\n      <td>1718</td>\n      <td>HOU</td>\n      <td>1</td>\n      <td>0</td>\n      <td>0.0</td>\n      <td>39.607724</td>\n      <td>86.060569</td>\n      <td>0.461134</td>\n      <td>10.490650</td>\n      <td>29.000000</td>\n      <td>0.361003</td>\n      <td>16.627236</td>\n      <td>21.676829</td>\n      <td>0.768602</td>\n      <td>9.711789</td>\n      <td>33.805285</td>\n      <td>43.517073</td>\n      <td>23.236992</td>\n      <td>7.716667</td>\n      <td>4.815447</td>\n      <td>14.262602</td>\n      <td>19.852439</td>\n      <td>106.333333</td>\n      <td>0.557316</td>\n      <td>0.522378</td>\n      <td>0.337896</td>\n      <td>0.254894</td>\n      <td>22.140163</td>\n      <td>77.860894</td>\n      <td>50.000447</td>\n      <td>58.535935</td>\n      <td>7.873902</td>\n      <td>8.448008</td>\n      <td>12.982520</td>\n      <td>108.668699</td>\n      <td>108.668699</td>\n      <td>97.318537</td>\n    </tr>\n    <tr>\n      <th>3</th>\n      <td>3</td>\n      <td>171810170002</td>\n      <td>2017-10-17</td>\n      <td>1718</td>\n      <td>GSW</td>\n      <td>0</td>\n      <td>0</td>\n      <td>0.0</td>\n      <td>39.607724</td>\n      <td>86.060569</td>\n      <td>0.461134</td>\n      <td>10.490650</td>\n      <td>29.000000</td>\n      <td>0.361003</td>\n      <td>16.627236</td>\n      <td>21.676829</td>\n      <td>0.768602</td>\n      <td>9.711789</td>\n      <td>33.805285</td>\n      <td>43.517073</td>\n      <td>23.236992</td>\n      <td>7.716667</td>\n      <td>4.815447</td>\n      <td>14.262602</td>\n      <td>19.852439</td>\n      <td>106.333333</td>\n      <td>0.557316</td>\n      <td>0.522378</td>\n      <td>0.337896</td>\n      <td>0.254894</td>\n      <td>22.140163</td>\n      <td>77.860894</td>\n      <td>50.000447</td>\n      <td>58.535935</td>\n      <td>7.873902</td>\n      <td>8.448008</td>\n      <td>12.982520</td>\n      <td>108.668699</td>\n      <td>108.668699</td>\n      <td>97.318537</td>\n    </tr>\n    <tr>\n      <th>4</th>\n      <td>4</td>\n      <td>171810180003</td>\n      <td>2017-10-18</td>\n      <td>1718</td>\n      <td>CHO</td>\n      <td>0</td>\n      <td>0</td>\n      <td>0.0</td>\n      <td>39.607724</td>\n      <td>86.060569</td>\n      <td>0.461134</td>\n      <td>10.490650</td>\n      <td>29.000000</td>\n      <td>0.361003</td>\n      <td>16.627236</td>\n      <td>21.676829</td>\n      <td>0.768602</td>\n      <td>9.711789</td>\n      <td>33.805285</td>\n      <td>43.517073</td>\n      <td>23.236992</td>\n      <td>7.716667</td>\n      <td>4.815447</td>\n      <td>14.262602</td>\n      <td>19.852439</td>\n      <td>106.333333</td>\n      <td>0.557316</td>\n      <td>0.522378</td>\n      <td>0.337896</td>\n      <td>0.254894</td>\n      <td>22.140163</td>\n      <td>77.860894</td>\n      <td>50.000447</td>\n      <td>58.535935</td>\n      <td>7.873902</td>\n      <td>8.448008</td>\n      <td>12.982520</td>\n      <td>108.668699</td>\n      <td>108.668699</td>\n      <td>97.318537</td>\n    </tr>\n    <tr>\n      <th>...</th>\n      <td>...</td>\n      <td>...</td>\n      <td>...</td>\n      <td>...</td>\n      <td>...</td>\n      <td>...</td>\n      <td>...</td>\n      <td>...</td>\n      <td>...</td>\n      <td>...</td>\n      <td>...</td>\n      <td>...</td>\n      <td>...</td>\n      <td>...</td>\n      <td>...</td>\n      <td>...</td>\n      <td>...</td>\n      <td>...</td>\n      <td>...</td>\n      <td>...</td>\n      <td>...</td>\n      <td>...</td>\n      <td>...</td>\n      <td>...</td>\n      <td>...</td>\n      <td>...</td>\n      <td>...</td>\n      <td>...</td>\n      <td>...</td>\n      <td>...</td>\n      <td>...</td>\n      <td>...</td>\n      <td>...</td>\n      <td>...</td>\n      <td>...</td>\n      <td>...</td>\n      <td>...</td>\n      <td>...</td>\n      <td>...</td>\n      <td>...</td>\n    </tr>\n    <tr>\n      <th>16577</th>\n      <td>16577</td>\n      <td>232404141229</td>\n      <td>2024-04-14</td>\n      <td>2324</td>\n      <td>OKC</td>\n      <td>1</td>\n      <td>4</td>\n      <td>6.0</td>\n      <td>44.432099</td>\n      <td>89.222222</td>\n      <td>0.499321</td>\n      <td>13.283951</td>\n      <td>34.209877</td>\n      <td>0.386901</td>\n      <td>17.753086</td>\n      <td>21.518519</td>\n      <td>0.829889</td>\n      <td>8.777778</td>\n      <td>33.061728</td>\n      <td>41.839506</td>\n      <td>26.975309</td>\n      <td>8.493827</td>\n      <td>6.567901</td>\n      <td>12.641975</td>\n      <td>18.864198</td>\n      <td>119.901235</td>\n      <td>0.608938</td>\n      <td>0.573914</td>\n      <td>0.382840</td>\n      <td>0.244926</td>\n      <td>20.800000</td>\n      <td>73.777778</td>\n      <td>48.287654</td>\n      <td>60.695062</td>\n      <td>8.430864</td>\n      <td>12.895062</td>\n      <td>11.353086</td>\n      <td>119.403704</td>\n      <td>112.658025</td>\n      <td>99.790123</td>\n    </tr>\n    <tr>\n      <th>16578</th>\n      <td>16578</td>\n      <td>232404141230</td>\n      <td>2024-04-14</td>\n      <td>2324</td>\n      <td>POR</td>\n      <td>0</td>\n      <td>-4</td>\n      <td>2.0</td>\n      <td>39.456790</td>\n      <td>89.604938</td>\n      <td>0.441198</td>\n      <td>11.506173</td>\n      <td>33.061728</td>\n      <td>0.348000</td>\n      <td>16.246914</td>\n      <td>20.530864</td>\n      <td>0.793605</td>\n      <td>12.506173</td>\n      <td>30.098765</td>\n      <td>42.604938</td>\n      <td>23.160494</td>\n      <td>7.604938</td>\n      <td>4.345679</td>\n      <td>15.197531</td>\n      <td>20.185185</td>\n      <td>106.666667</td>\n      <td>0.541370</td>\n      <td>0.505333</td>\n      <td>0.368395</td>\n      <td>0.230914</td>\n      <td>27.170370</td>\n      <td>74.114815</td>\n      <td>49.298765</td>\n      <td>58.658025</td>\n      <td>7.737037</td>\n      <td>8.101235</td>\n      <td>13.379012</td>\n      <td>108.688889</td>\n      <td>117.495062</td>\n      <td>97.197531</td>\n    </tr>\n    <tr>\n      <th>16579</th>\n      <td>16579</td>\n      <td>232404141230</td>\n      <td>2024-04-14</td>\n      <td>2324</td>\n      <td>SAC</td>\n      <td>1</td>\n      <td>-3</td>\n      <td>3.0</td>\n      <td>43.333333</td>\n      <td>90.962963</td>\n      <td>0.476506</td>\n      <td>14.382716</td>\n      <td>39.320988</td>\n      <td>0.365395</td>\n      <td>15.456790</td>\n      <td>20.777778</td>\n      <td>0.739383</td>\n      <td>10.802469</td>\n      <td>33.098765</td>\n      <td>43.901235</td>\n      <td>28.333333</td>\n      <td>7.580247</td>\n      <td>4.148148</td>\n      <td>13.135802</td>\n      <td>19.913580</td>\n      <td>116.506173</td>\n      <td>0.582370</td>\n      <td>0.555642</td>\n      <td>0.433617</td>\n      <td>0.230420</td>\n      <td>24.288889</td>\n      <td>78.893827</td>\n      <td>50.806173</td>\n      <td>65.586420</td>\n      <td>7.595062</td>\n      <td>7.811111</td>\n      <td>11.559259</td>\n      <td>116.820988</td>\n      <td>115.627160</td>\n      <td>98.802469</td>\n    </tr>\n    <tr>\n      <th>16580</th>\n      <td>16580</td>\n      <td>232404141231</td>\n      <td>2024-04-14</td>\n      <td>2324</td>\n      <td>DET</td>\n      <td>0</td>\n      <td>1</td>\n      <td>2.0</td>\n      <td>40.950617</td>\n      <td>88.197531</td>\n      <td>0.464877</td>\n      <td>11.086420</td>\n      <td>31.716049</td>\n      <td>0.350099</td>\n      <td>17.074074</td>\n      <td>21.728395</td>\n      <td>0.785432</td>\n      <td>10.493827</td>\n      <td>32.876543</td>\n      <td>43.370370</td>\n      <td>25.567901</td>\n      <td>6.469136</td>\n      <td>4.703704</td>\n      <td>15.234568</td>\n      <td>20.728395</td>\n      <td>110.061728</td>\n      <td>0.563778</td>\n      <td>0.528012</td>\n      <td>0.360988</td>\n      <td>0.249432</td>\n      <td>23.828395</td>\n      <td>77.483951</td>\n      <td>50.139506</td>\n      <td>62.533333</td>\n      <td>6.456790</td>\n      <td>8.334568</td>\n      <td>13.464198</td>\n      <td>109.935802</td>\n      <td>118.729630</td>\n      <td>99.758025</td>\n    </tr>\n    <tr>\n      <th>16581</th>\n      <td>16581</td>\n      <td>232404141231</td>\n      <td>2024-04-14</td>\n      <td>2324</td>\n      <td>SAS</td>\n      <td>1</td>\n      <td>1</td>\n      <td>6.0</td>\n      <td>41.839506</td>\n      <td>90.679012</td>\n      <td>0.462432</td>\n      <td>12.604938</td>\n      <td>36.407407</td>\n      <td>0.347667</td>\n      <td>15.679012</td>\n      <td>20.037037</td>\n      <td>0.778531</td>\n      <td>10.333333</td>\n      <td>33.777778</td>\n      <td>44.111111</td>\n      <td>29.827160</td>\n      <td>7.098765</td>\n      <td>6.382716</td>\n      <td>15.160494</td>\n      <td>17.246914</td>\n      <td>111.962963</td>\n      <td>0.563568</td>\n      <td>0.532222</td>\n      <td>0.402346</td>\n      <td>0.222247</td>\n      <td>22.860494</td>\n      <td>76.633333</td>\n      <td>49.293827</td>\n      <td>71.132099</td>\n      <td>6.955556</td>\n      <td>10.980247</td>\n      <td>13.207407</td>\n      <td>110.001235</td>\n      <td>116.711111</td>\n      <td>101.164198</td>\n    </tr>\n  </tbody>\n</table>\n<p>16582 rows × 40 columns</p>\n</div>"
     },
     "execution_count": 285,
     "metadata": {},
     "output_type": "execute_result"
    }
   ],
   "source": [
    "team_last_20 = calculate_rolling_stats(team_stats, 20, cols_to_transform, cols_move)\n",
    "team_last_20 = impute_first_rows(team_all_season, team_stats, cols_to_transform)\n",
    "team_last_20"
   ],
   "metadata": {
    "collapsed": false,
    "ExecuteTime": {
     "start_time": "2024-11-11T00:46:28.101524Z",
     "end_time": "2024-11-11T00:46:31.229544Z"
    }
   }
  },
  {
   "cell_type": "code",
   "execution_count": 286,
   "outputs": [
    {
     "data": {
      "text/plain": "          id       game_id        Date Season team  win  streak  last10  \\\n0          0  171810170001  2017-10-17   1718  BOS    0       0     0.0   \n1          1  171810170001  2017-10-17   1718  CLE    1       0     0.0   \n2          2  171810170002  2017-10-17   1718  HOU    1       0     0.0   \n3          3  171810170002  2017-10-17   1718  GSW    0       0     0.0   \n4          4  171810180003  2017-10-18   1718  CHO    0       0     0.0   \n...      ...           ...         ...    ...  ...  ...     ...     ...   \n16577  16577  232404141229  2024-04-14   2324  OKC    1       4     6.0   \n16578  16578  232404141230  2024-04-14   2324  POR    0      -4     2.0   \n16579  16579  232404141230  2024-04-14   2324  SAC    1      -3     3.0   \n16580  16580  232404141231  2024-04-14   2324  DET    0       1     2.0   \n16581  16581  232404141231  2024-04-14   2324  SAS    1       1     6.0   \n\n              FG        FGA       FG%         3P        3PA       3P%  \\\n0      39.607724  86.060569  0.461134  10.490650  29.000000  0.361003   \n1      39.607724  86.060569  0.461134  10.490650  29.000000  0.361003   \n2      39.607724  86.060569  0.461134  10.490650  29.000000  0.361003   \n3      39.607724  86.060569  0.461134  10.490650  29.000000  0.361003   \n4      39.607724  86.060569  0.461134  10.490650  29.000000  0.361003   \n...          ...        ...       ...        ...        ...       ...   \n16577  44.432099  89.222222  0.499321  13.283951  34.209877  0.386901   \n16578  39.456790  89.604938  0.441198  11.506173  33.061728  0.348000   \n16579  43.333333  90.962963  0.476506  14.382716  39.320988  0.365395   \n16580  40.950617  88.197531  0.464877  11.086420  31.716049  0.350099   \n16581  41.839506  90.679012  0.462432  12.604938  36.407407  0.347667   \n\n              FT        FTA       FT%        ORB        DRB        TRB  \\\n0      16.627236  21.676829  0.768602   9.711789  33.805285  43.517073   \n1      16.627236  21.676829  0.768602   9.711789  33.805285  43.517073   \n2      16.627236  21.676829  0.768602   9.711789  33.805285  43.517073   \n3      16.627236  21.676829  0.768602   9.711789  33.805285  43.517073   \n4      16.627236  21.676829  0.768602   9.711789  33.805285  43.517073   \n...          ...        ...       ...        ...        ...        ...   \n16577  17.753086  21.518519  0.829889   8.777778  33.061728  41.839506   \n16578  16.246914  20.530864  0.793605  12.506173  30.098765  42.604938   \n16579  15.456790  20.777778  0.739383  10.802469  33.098765  43.901235   \n16580  17.074074  21.728395  0.785432  10.493827  32.876543  43.370370   \n16581  15.679012  20.037037  0.778531  10.333333  33.777778  44.111111   \n\n             AST       STL       BLK        TOV         PF         PTS  \\\n0      23.236992  7.716667  4.815447  14.262602  19.852439  106.333333   \n1      23.236992  7.716667  4.815447  14.262602  19.852439  106.333333   \n2      23.236992  7.716667  4.815447  14.262602  19.852439  106.333333   \n3      23.236992  7.716667  4.815447  14.262602  19.852439  106.333333   \n4      23.236992  7.716667  4.815447  14.262602  19.852439  106.333333   \n...          ...       ...       ...        ...        ...         ...   \n16577  26.975309  8.493827  6.567901  12.641975  18.864198  119.901235   \n16578  23.160494  7.604938  4.345679  15.197531  20.185185  106.666667   \n16579  28.333333  7.580247  4.148148  13.135802  19.913580  116.506173   \n16580  25.567901  6.469136  4.703704  15.234568  20.728395  110.061728   \n16581  29.827160  7.098765  6.382716  15.160494  17.246914  111.962963   \n\n            TS%      eFG%      3PAr       FTr       ORB%       DRB%  \\\n0      0.557316  0.522378  0.337896  0.254894  22.140163  77.860894   \n1      0.557316  0.522378  0.337896  0.254894  22.140163  77.860894   \n2      0.557316  0.522378  0.337896  0.254894  22.140163  77.860894   \n3      0.557316  0.522378  0.337896  0.254894  22.140163  77.860894   \n4      0.557316  0.522378  0.337896  0.254894  22.140163  77.860894   \n...         ...       ...       ...       ...        ...        ...   \n16577  0.608938  0.573914  0.382840  0.244926  20.800000  73.777778   \n16578  0.541370  0.505333  0.368395  0.230914  27.170370  74.114815   \n16579  0.582370  0.555642  0.433617  0.230420  24.288889  78.893827   \n16580  0.563778  0.528012  0.360988  0.249432  23.828395  77.483951   \n16581  0.563568  0.532222  0.402346  0.222247  22.860494  76.633333   \n\n            TRB%       AST%      STL%       BLK%       TOV%        ORtg  \\\n0      50.000447  58.535935  7.873902   8.448008  12.982520  108.668699   \n1      50.000447  58.535935  7.873902   8.448008  12.982520  108.668699   \n2      50.000447  58.535935  7.873902   8.448008  12.982520  108.668699   \n3      50.000447  58.535935  7.873902   8.448008  12.982520  108.668699   \n4      50.000447  58.535935  7.873902   8.448008  12.982520  108.668699   \n...          ...        ...       ...        ...        ...         ...   \n16577  48.287654  60.695062  8.430864  12.895062  11.353086  119.403704   \n16578  49.298765  58.658025  7.737037   8.101235  13.379012  108.688889   \n16579  50.806173  65.586420  7.595062   7.811111  11.559259  116.820988   \n16580  50.139506  62.533333  6.456790   8.334568  13.464198  109.935802   \n16581  49.293827  71.132099  6.955556  10.980247  13.207407  110.001235   \n\n             DRtg        Pace  \n0      108.668699   97.318537  \n1      108.668699   97.318537  \n2      108.668699   97.318537  \n3      108.668699   97.318537  \n4      108.668699   97.318537  \n...           ...         ...  \n16577  112.658025   99.790123  \n16578  117.495062   97.197531  \n16579  115.627160   98.802469  \n16580  118.729630   99.758025  \n16581  116.711111  101.164198  \n\n[16582 rows x 40 columns]",
      "text/html": "<div>\n<style scoped>\n    .dataframe tbody tr th:only-of-type {\n        vertical-align: middle;\n    }\n\n    .dataframe tbody tr th {\n        vertical-align: top;\n    }\n\n    .dataframe thead th {\n        text-align: right;\n    }\n</style>\n<table border=\"1\" class=\"dataframe\">\n  <thead>\n    <tr style=\"text-align: right;\">\n      <th></th>\n      <th>id</th>\n      <th>game_id</th>\n      <th>Date</th>\n      <th>Season</th>\n      <th>team</th>\n      <th>win</th>\n      <th>streak</th>\n      <th>last10</th>\n      <th>FG</th>\n      <th>FGA</th>\n      <th>FG%</th>\n      <th>3P</th>\n      <th>3PA</th>\n      <th>3P%</th>\n      <th>FT</th>\n      <th>FTA</th>\n      <th>FT%</th>\n      <th>ORB</th>\n      <th>DRB</th>\n      <th>TRB</th>\n      <th>AST</th>\n      <th>STL</th>\n      <th>BLK</th>\n      <th>TOV</th>\n      <th>PF</th>\n      <th>PTS</th>\n      <th>TS%</th>\n      <th>eFG%</th>\n      <th>3PAr</th>\n      <th>FTr</th>\n      <th>ORB%</th>\n      <th>DRB%</th>\n      <th>TRB%</th>\n      <th>AST%</th>\n      <th>STL%</th>\n      <th>BLK%</th>\n      <th>TOV%</th>\n      <th>ORtg</th>\n      <th>DRtg</th>\n      <th>Pace</th>\n    </tr>\n  </thead>\n  <tbody>\n    <tr>\n      <th>0</th>\n      <td>0</td>\n      <td>171810170001</td>\n      <td>2017-10-17</td>\n      <td>1718</td>\n      <td>BOS</td>\n      <td>0</td>\n      <td>0</td>\n      <td>0.0</td>\n      <td>39.607724</td>\n      <td>86.060569</td>\n      <td>0.461134</td>\n      <td>10.490650</td>\n      <td>29.000000</td>\n      <td>0.361003</td>\n      <td>16.627236</td>\n      <td>21.676829</td>\n      <td>0.768602</td>\n      <td>9.711789</td>\n      <td>33.805285</td>\n      <td>43.517073</td>\n      <td>23.236992</td>\n      <td>7.716667</td>\n      <td>4.815447</td>\n      <td>14.262602</td>\n      <td>19.852439</td>\n      <td>106.333333</td>\n      <td>0.557316</td>\n      <td>0.522378</td>\n      <td>0.337896</td>\n      <td>0.254894</td>\n      <td>22.140163</td>\n      <td>77.860894</td>\n      <td>50.000447</td>\n      <td>58.535935</td>\n      <td>7.873902</td>\n      <td>8.448008</td>\n      <td>12.982520</td>\n      <td>108.668699</td>\n      <td>108.668699</td>\n      <td>97.318537</td>\n    </tr>\n    <tr>\n      <th>1</th>\n      <td>1</td>\n      <td>171810170001</td>\n      <td>2017-10-17</td>\n      <td>1718</td>\n      <td>CLE</td>\n      <td>1</td>\n      <td>0</td>\n      <td>0.0</td>\n      <td>39.607724</td>\n      <td>86.060569</td>\n      <td>0.461134</td>\n      <td>10.490650</td>\n      <td>29.000000</td>\n      <td>0.361003</td>\n      <td>16.627236</td>\n      <td>21.676829</td>\n      <td>0.768602</td>\n      <td>9.711789</td>\n      <td>33.805285</td>\n      <td>43.517073</td>\n      <td>23.236992</td>\n      <td>7.716667</td>\n      <td>4.815447</td>\n      <td>14.262602</td>\n      <td>19.852439</td>\n      <td>106.333333</td>\n      <td>0.557316</td>\n      <td>0.522378</td>\n      <td>0.337896</td>\n      <td>0.254894</td>\n      <td>22.140163</td>\n      <td>77.860894</td>\n      <td>50.000447</td>\n      <td>58.535935</td>\n      <td>7.873902</td>\n      <td>8.448008</td>\n      <td>12.982520</td>\n      <td>108.668699</td>\n      <td>108.668699</td>\n      <td>97.318537</td>\n    </tr>\n    <tr>\n      <th>2</th>\n      <td>2</td>\n      <td>171810170002</td>\n      <td>2017-10-17</td>\n      <td>1718</td>\n      <td>HOU</td>\n      <td>1</td>\n      <td>0</td>\n      <td>0.0</td>\n      <td>39.607724</td>\n      <td>86.060569</td>\n      <td>0.461134</td>\n      <td>10.490650</td>\n      <td>29.000000</td>\n      <td>0.361003</td>\n      <td>16.627236</td>\n      <td>21.676829</td>\n      <td>0.768602</td>\n      <td>9.711789</td>\n      <td>33.805285</td>\n      <td>43.517073</td>\n      <td>23.236992</td>\n      <td>7.716667</td>\n      <td>4.815447</td>\n      <td>14.262602</td>\n      <td>19.852439</td>\n      <td>106.333333</td>\n      <td>0.557316</td>\n      <td>0.522378</td>\n      <td>0.337896</td>\n      <td>0.254894</td>\n      <td>22.140163</td>\n      <td>77.860894</td>\n      <td>50.000447</td>\n      <td>58.535935</td>\n      <td>7.873902</td>\n      <td>8.448008</td>\n      <td>12.982520</td>\n      <td>108.668699</td>\n      <td>108.668699</td>\n      <td>97.318537</td>\n    </tr>\n    <tr>\n      <th>3</th>\n      <td>3</td>\n      <td>171810170002</td>\n      <td>2017-10-17</td>\n      <td>1718</td>\n      <td>GSW</td>\n      <td>0</td>\n      <td>0</td>\n      <td>0.0</td>\n      <td>39.607724</td>\n      <td>86.060569</td>\n      <td>0.461134</td>\n      <td>10.490650</td>\n      <td>29.000000</td>\n      <td>0.361003</td>\n      <td>16.627236</td>\n      <td>21.676829</td>\n      <td>0.768602</td>\n      <td>9.711789</td>\n      <td>33.805285</td>\n      <td>43.517073</td>\n      <td>23.236992</td>\n      <td>7.716667</td>\n      <td>4.815447</td>\n      <td>14.262602</td>\n      <td>19.852439</td>\n      <td>106.333333</td>\n      <td>0.557316</td>\n      <td>0.522378</td>\n      <td>0.337896</td>\n      <td>0.254894</td>\n      <td>22.140163</td>\n      <td>77.860894</td>\n      <td>50.000447</td>\n      <td>58.535935</td>\n      <td>7.873902</td>\n      <td>8.448008</td>\n      <td>12.982520</td>\n      <td>108.668699</td>\n      <td>108.668699</td>\n      <td>97.318537</td>\n    </tr>\n    <tr>\n      <th>4</th>\n      <td>4</td>\n      <td>171810180003</td>\n      <td>2017-10-18</td>\n      <td>1718</td>\n      <td>CHO</td>\n      <td>0</td>\n      <td>0</td>\n      <td>0.0</td>\n      <td>39.607724</td>\n      <td>86.060569</td>\n      <td>0.461134</td>\n      <td>10.490650</td>\n      <td>29.000000</td>\n      <td>0.361003</td>\n      <td>16.627236</td>\n      <td>21.676829</td>\n      <td>0.768602</td>\n      <td>9.711789</td>\n      <td>33.805285</td>\n      <td>43.517073</td>\n      <td>23.236992</td>\n      <td>7.716667</td>\n      <td>4.815447</td>\n      <td>14.262602</td>\n      <td>19.852439</td>\n      <td>106.333333</td>\n      <td>0.557316</td>\n      <td>0.522378</td>\n      <td>0.337896</td>\n      <td>0.254894</td>\n      <td>22.140163</td>\n      <td>77.860894</td>\n      <td>50.000447</td>\n      <td>58.535935</td>\n      <td>7.873902</td>\n      <td>8.448008</td>\n      <td>12.982520</td>\n      <td>108.668699</td>\n      <td>108.668699</td>\n      <td>97.318537</td>\n    </tr>\n    <tr>\n      <th>...</th>\n      <td>...</td>\n      <td>...</td>\n      <td>...</td>\n      <td>...</td>\n      <td>...</td>\n      <td>...</td>\n      <td>...</td>\n      <td>...</td>\n      <td>...</td>\n      <td>...</td>\n      <td>...</td>\n      <td>...</td>\n      <td>...</td>\n      <td>...</td>\n      <td>...</td>\n      <td>...</td>\n      <td>...</td>\n      <td>...</td>\n      <td>...</td>\n      <td>...</td>\n      <td>...</td>\n      <td>...</td>\n      <td>...</td>\n      <td>...</td>\n      <td>...</td>\n      <td>...</td>\n      <td>...</td>\n      <td>...</td>\n      <td>...</td>\n      <td>...</td>\n      <td>...</td>\n      <td>...</td>\n      <td>...</td>\n      <td>...</td>\n      <td>...</td>\n      <td>...</td>\n      <td>...</td>\n      <td>...</td>\n      <td>...</td>\n      <td>...</td>\n    </tr>\n    <tr>\n      <th>16577</th>\n      <td>16577</td>\n      <td>232404141229</td>\n      <td>2024-04-14</td>\n      <td>2324</td>\n      <td>OKC</td>\n      <td>1</td>\n      <td>4</td>\n      <td>6.0</td>\n      <td>44.432099</td>\n      <td>89.222222</td>\n      <td>0.499321</td>\n      <td>13.283951</td>\n      <td>34.209877</td>\n      <td>0.386901</td>\n      <td>17.753086</td>\n      <td>21.518519</td>\n      <td>0.829889</td>\n      <td>8.777778</td>\n      <td>33.061728</td>\n      <td>41.839506</td>\n      <td>26.975309</td>\n      <td>8.493827</td>\n      <td>6.567901</td>\n      <td>12.641975</td>\n      <td>18.864198</td>\n      <td>119.901235</td>\n      <td>0.608938</td>\n      <td>0.573914</td>\n      <td>0.382840</td>\n      <td>0.244926</td>\n      <td>20.800000</td>\n      <td>73.777778</td>\n      <td>48.287654</td>\n      <td>60.695062</td>\n      <td>8.430864</td>\n      <td>12.895062</td>\n      <td>11.353086</td>\n      <td>119.403704</td>\n      <td>112.658025</td>\n      <td>99.790123</td>\n    </tr>\n    <tr>\n      <th>16578</th>\n      <td>16578</td>\n      <td>232404141230</td>\n      <td>2024-04-14</td>\n      <td>2324</td>\n      <td>POR</td>\n      <td>0</td>\n      <td>-4</td>\n      <td>2.0</td>\n      <td>39.456790</td>\n      <td>89.604938</td>\n      <td>0.441198</td>\n      <td>11.506173</td>\n      <td>33.061728</td>\n      <td>0.348000</td>\n      <td>16.246914</td>\n      <td>20.530864</td>\n      <td>0.793605</td>\n      <td>12.506173</td>\n      <td>30.098765</td>\n      <td>42.604938</td>\n      <td>23.160494</td>\n      <td>7.604938</td>\n      <td>4.345679</td>\n      <td>15.197531</td>\n      <td>20.185185</td>\n      <td>106.666667</td>\n      <td>0.541370</td>\n      <td>0.505333</td>\n      <td>0.368395</td>\n      <td>0.230914</td>\n      <td>27.170370</td>\n      <td>74.114815</td>\n      <td>49.298765</td>\n      <td>58.658025</td>\n      <td>7.737037</td>\n      <td>8.101235</td>\n      <td>13.379012</td>\n      <td>108.688889</td>\n      <td>117.495062</td>\n      <td>97.197531</td>\n    </tr>\n    <tr>\n      <th>16579</th>\n      <td>16579</td>\n      <td>232404141230</td>\n      <td>2024-04-14</td>\n      <td>2324</td>\n      <td>SAC</td>\n      <td>1</td>\n      <td>-3</td>\n      <td>3.0</td>\n      <td>43.333333</td>\n      <td>90.962963</td>\n      <td>0.476506</td>\n      <td>14.382716</td>\n      <td>39.320988</td>\n      <td>0.365395</td>\n      <td>15.456790</td>\n      <td>20.777778</td>\n      <td>0.739383</td>\n      <td>10.802469</td>\n      <td>33.098765</td>\n      <td>43.901235</td>\n      <td>28.333333</td>\n      <td>7.580247</td>\n      <td>4.148148</td>\n      <td>13.135802</td>\n      <td>19.913580</td>\n      <td>116.506173</td>\n      <td>0.582370</td>\n      <td>0.555642</td>\n      <td>0.433617</td>\n      <td>0.230420</td>\n      <td>24.288889</td>\n      <td>78.893827</td>\n      <td>50.806173</td>\n      <td>65.586420</td>\n      <td>7.595062</td>\n      <td>7.811111</td>\n      <td>11.559259</td>\n      <td>116.820988</td>\n      <td>115.627160</td>\n      <td>98.802469</td>\n    </tr>\n    <tr>\n      <th>16580</th>\n      <td>16580</td>\n      <td>232404141231</td>\n      <td>2024-04-14</td>\n      <td>2324</td>\n      <td>DET</td>\n      <td>0</td>\n      <td>1</td>\n      <td>2.0</td>\n      <td>40.950617</td>\n      <td>88.197531</td>\n      <td>0.464877</td>\n      <td>11.086420</td>\n      <td>31.716049</td>\n      <td>0.350099</td>\n      <td>17.074074</td>\n      <td>21.728395</td>\n      <td>0.785432</td>\n      <td>10.493827</td>\n      <td>32.876543</td>\n      <td>43.370370</td>\n      <td>25.567901</td>\n      <td>6.469136</td>\n      <td>4.703704</td>\n      <td>15.234568</td>\n      <td>20.728395</td>\n      <td>110.061728</td>\n      <td>0.563778</td>\n      <td>0.528012</td>\n      <td>0.360988</td>\n      <td>0.249432</td>\n      <td>23.828395</td>\n      <td>77.483951</td>\n      <td>50.139506</td>\n      <td>62.533333</td>\n      <td>6.456790</td>\n      <td>8.334568</td>\n      <td>13.464198</td>\n      <td>109.935802</td>\n      <td>118.729630</td>\n      <td>99.758025</td>\n    </tr>\n    <tr>\n      <th>16581</th>\n      <td>16581</td>\n      <td>232404141231</td>\n      <td>2024-04-14</td>\n      <td>2324</td>\n      <td>SAS</td>\n      <td>1</td>\n      <td>1</td>\n      <td>6.0</td>\n      <td>41.839506</td>\n      <td>90.679012</td>\n      <td>0.462432</td>\n      <td>12.604938</td>\n      <td>36.407407</td>\n      <td>0.347667</td>\n      <td>15.679012</td>\n      <td>20.037037</td>\n      <td>0.778531</td>\n      <td>10.333333</td>\n      <td>33.777778</td>\n      <td>44.111111</td>\n      <td>29.827160</td>\n      <td>7.098765</td>\n      <td>6.382716</td>\n      <td>15.160494</td>\n      <td>17.246914</td>\n      <td>111.962963</td>\n      <td>0.563568</td>\n      <td>0.532222</td>\n      <td>0.402346</td>\n      <td>0.222247</td>\n      <td>22.860494</td>\n      <td>76.633333</td>\n      <td>49.293827</td>\n      <td>71.132099</td>\n      <td>6.955556</td>\n      <td>10.980247</td>\n      <td>13.207407</td>\n      <td>110.001235</td>\n      <td>116.711111</td>\n      <td>101.164198</td>\n    </tr>\n  </tbody>\n</table>\n<p>16582 rows × 40 columns</p>\n</div>"
     },
     "execution_count": 286,
     "metadata": {},
     "output_type": "execute_result"
    }
   ],
   "source": [
    "team_last_30 = calculate_rolling_stats(team_stats, 30, cols_to_transform, cols_move)\n",
    "team_last_30 = impute_first_rows(team_all_season, team_stats, cols_to_transform)\n",
    "team_last_30"
   ],
   "metadata": {
    "collapsed": false,
    "ExecuteTime": {
     "start_time": "2024-11-11T00:46:31.230543Z",
     "end_time": "2024-11-11T00:46:34.980729Z"
    }
   }
  },
  {
   "cell_type": "code",
   "execution_count": 287,
   "outputs": [
    {
     "data": {
      "text/plain": "          id       game_id        Date Season team  win  streak  last10  \\\n0          0  171810170001  2017-10-17   1718  BOS    0       0     0.0   \n1          1  171810170001  2017-10-17   1718  CLE    1       0     0.0   \n2          2  171810170002  2017-10-17   1718  HOU    1       0     0.0   \n3          3  171810170002  2017-10-17   1718  GSW    0       0     0.0   \n4          4  171810180003  2017-10-18   1718  CHO    0       0     0.0   \n...      ...           ...         ...    ...  ...  ...     ...     ...   \n16577  16577  232404141229  2024-04-14   2324  OKC    1       4     6.0   \n16578  16578  232404141230  2024-04-14   2324  POR    0      -4     2.0   \n16579  16579  232404141230  2024-04-14   2324  SAC    1      -3     3.0   \n16580  16580  232404141231  2024-04-14   2324  DET    0       1     2.0   \n16581  16581  232404141231  2024-04-14   2324  SAS    1       1     6.0   \n\n              FG        FGA       FG%         3P        3PA       3P%  \\\n0      39.607724  86.060569  0.461134  10.490650  29.000000  0.361003   \n1      39.607724  86.060569  0.461134  10.490650  29.000000  0.361003   \n2      39.607724  86.060569  0.461134  10.490650  29.000000  0.361003   \n3      39.607724  86.060569  0.461134  10.490650  29.000000  0.361003   \n4      39.607724  86.060569  0.461134  10.490650  29.000000  0.361003   \n...          ...        ...       ...        ...        ...       ...   \n16577  44.432099  89.222222  0.499321  13.283951  34.209877  0.386901   \n16578  39.456790  89.604938  0.441198  11.506173  33.061728  0.348000   \n16579  43.333333  90.962963  0.476506  14.382716  39.320988  0.365395   \n16580  40.950617  88.197531  0.464877  11.086420  31.716049  0.350099   \n16581  41.839506  90.679012  0.462432  12.604938  36.407407  0.347667   \n\n              FT        FTA       FT%        ORB        DRB        TRB  \\\n0      16.627236  21.676829  0.768602   9.711789  33.805285  43.517073   \n1      16.627236  21.676829  0.768602   9.711789  33.805285  43.517073   \n2      16.627236  21.676829  0.768602   9.711789  33.805285  43.517073   \n3      16.627236  21.676829  0.768602   9.711789  33.805285  43.517073   \n4      16.627236  21.676829  0.768602   9.711789  33.805285  43.517073   \n...          ...        ...       ...        ...        ...        ...   \n16577  17.753086  21.518519  0.829889   8.777778  33.061728  41.839506   \n16578  16.246914  20.530864  0.793605  12.506173  30.098765  42.604938   \n16579  15.456790  20.777778  0.739383  10.802469  33.098765  43.901235   \n16580  17.074074  21.728395  0.785432  10.493827  32.876543  43.370370   \n16581  15.679012  20.037037  0.778531  10.333333  33.777778  44.111111   \n\n             AST       STL       BLK        TOV         PF         PTS  \\\n0      23.236992  7.716667  4.815447  14.262602  19.852439  106.333333   \n1      23.236992  7.716667  4.815447  14.262602  19.852439  106.333333   \n2      23.236992  7.716667  4.815447  14.262602  19.852439  106.333333   \n3      23.236992  7.716667  4.815447  14.262602  19.852439  106.333333   \n4      23.236992  7.716667  4.815447  14.262602  19.852439  106.333333   \n...          ...       ...       ...        ...        ...         ...   \n16577  26.975309  8.493827  6.567901  12.641975  18.864198  119.901235   \n16578  23.160494  7.604938  4.345679  15.197531  20.185185  106.666667   \n16579  28.333333  7.580247  4.148148  13.135802  19.913580  116.506173   \n16580  25.567901  6.469136  4.703704  15.234568  20.728395  110.061728   \n16581  29.827160  7.098765  6.382716  15.160494  17.246914  111.962963   \n\n            TS%      eFG%      3PAr       FTr       ORB%       DRB%  \\\n0      0.557316  0.522378  0.337896  0.254894  22.140163  77.860894   \n1      0.557316  0.522378  0.337896  0.254894  22.140163  77.860894   \n2      0.557316  0.522378  0.337896  0.254894  22.140163  77.860894   \n3      0.557316  0.522378  0.337896  0.254894  22.140163  77.860894   \n4      0.557316  0.522378  0.337896  0.254894  22.140163  77.860894   \n...         ...       ...       ...       ...        ...        ...   \n16577  0.608938  0.573914  0.382840  0.244926  20.800000  73.777778   \n16578  0.541370  0.505333  0.368395  0.230914  27.170370  74.114815   \n16579  0.582370  0.555642  0.433617  0.230420  24.288889  78.893827   \n16580  0.563778  0.528012  0.360988  0.249432  23.828395  77.483951   \n16581  0.563568  0.532222  0.402346  0.222247  22.860494  76.633333   \n\n            TRB%       AST%      STL%       BLK%       TOV%        ORtg  \\\n0      50.000447  58.535935  7.873902   8.448008  12.982520  108.668699   \n1      50.000447  58.535935  7.873902   8.448008  12.982520  108.668699   \n2      50.000447  58.535935  7.873902   8.448008  12.982520  108.668699   \n3      50.000447  58.535935  7.873902   8.448008  12.982520  108.668699   \n4      50.000447  58.535935  7.873902   8.448008  12.982520  108.668699   \n...          ...        ...       ...        ...        ...         ...   \n16577  48.287654  60.695062  8.430864  12.895062  11.353086  119.403704   \n16578  49.298765  58.658025  7.737037   8.101235  13.379012  108.688889   \n16579  50.806173  65.586420  7.595062   7.811111  11.559259  116.820988   \n16580  50.139506  62.533333  6.456790   8.334568  13.464198  109.935802   \n16581  49.293827  71.132099  6.955556  10.980247  13.207407  110.001235   \n\n             DRtg        Pace  \n0      108.668699   97.318537  \n1      108.668699   97.318537  \n2      108.668699   97.318537  \n3      108.668699   97.318537  \n4      108.668699   97.318537  \n...           ...         ...  \n16577  112.658025   99.790123  \n16578  117.495062   97.197531  \n16579  115.627160   98.802469  \n16580  118.729630   99.758025  \n16581  116.711111  101.164198  \n\n[16582 rows x 40 columns]",
      "text/html": "<div>\n<style scoped>\n    .dataframe tbody tr th:only-of-type {\n        vertical-align: middle;\n    }\n\n    .dataframe tbody tr th {\n        vertical-align: top;\n    }\n\n    .dataframe thead th {\n        text-align: right;\n    }\n</style>\n<table border=\"1\" class=\"dataframe\">\n  <thead>\n    <tr style=\"text-align: right;\">\n      <th></th>\n      <th>id</th>\n      <th>game_id</th>\n      <th>Date</th>\n      <th>Season</th>\n      <th>team</th>\n      <th>win</th>\n      <th>streak</th>\n      <th>last10</th>\n      <th>FG</th>\n      <th>FGA</th>\n      <th>FG%</th>\n      <th>3P</th>\n      <th>3PA</th>\n      <th>3P%</th>\n      <th>FT</th>\n      <th>FTA</th>\n      <th>FT%</th>\n      <th>ORB</th>\n      <th>DRB</th>\n      <th>TRB</th>\n      <th>AST</th>\n      <th>STL</th>\n      <th>BLK</th>\n      <th>TOV</th>\n      <th>PF</th>\n      <th>PTS</th>\n      <th>TS%</th>\n      <th>eFG%</th>\n      <th>3PAr</th>\n      <th>FTr</th>\n      <th>ORB%</th>\n      <th>DRB%</th>\n      <th>TRB%</th>\n      <th>AST%</th>\n      <th>STL%</th>\n      <th>BLK%</th>\n      <th>TOV%</th>\n      <th>ORtg</th>\n      <th>DRtg</th>\n      <th>Pace</th>\n    </tr>\n  </thead>\n  <tbody>\n    <tr>\n      <th>0</th>\n      <td>0</td>\n      <td>171810170001</td>\n      <td>2017-10-17</td>\n      <td>1718</td>\n      <td>BOS</td>\n      <td>0</td>\n      <td>0</td>\n      <td>0.0</td>\n      <td>39.607724</td>\n      <td>86.060569</td>\n      <td>0.461134</td>\n      <td>10.490650</td>\n      <td>29.000000</td>\n      <td>0.361003</td>\n      <td>16.627236</td>\n      <td>21.676829</td>\n      <td>0.768602</td>\n      <td>9.711789</td>\n      <td>33.805285</td>\n      <td>43.517073</td>\n      <td>23.236992</td>\n      <td>7.716667</td>\n      <td>4.815447</td>\n      <td>14.262602</td>\n      <td>19.852439</td>\n      <td>106.333333</td>\n      <td>0.557316</td>\n      <td>0.522378</td>\n      <td>0.337896</td>\n      <td>0.254894</td>\n      <td>22.140163</td>\n      <td>77.860894</td>\n      <td>50.000447</td>\n      <td>58.535935</td>\n      <td>7.873902</td>\n      <td>8.448008</td>\n      <td>12.982520</td>\n      <td>108.668699</td>\n      <td>108.668699</td>\n      <td>97.318537</td>\n    </tr>\n    <tr>\n      <th>1</th>\n      <td>1</td>\n      <td>171810170001</td>\n      <td>2017-10-17</td>\n      <td>1718</td>\n      <td>CLE</td>\n      <td>1</td>\n      <td>0</td>\n      <td>0.0</td>\n      <td>39.607724</td>\n      <td>86.060569</td>\n      <td>0.461134</td>\n      <td>10.490650</td>\n      <td>29.000000</td>\n      <td>0.361003</td>\n      <td>16.627236</td>\n      <td>21.676829</td>\n      <td>0.768602</td>\n      <td>9.711789</td>\n      <td>33.805285</td>\n      <td>43.517073</td>\n      <td>23.236992</td>\n      <td>7.716667</td>\n      <td>4.815447</td>\n      <td>14.262602</td>\n      <td>19.852439</td>\n      <td>106.333333</td>\n      <td>0.557316</td>\n      <td>0.522378</td>\n      <td>0.337896</td>\n      <td>0.254894</td>\n      <td>22.140163</td>\n      <td>77.860894</td>\n      <td>50.000447</td>\n      <td>58.535935</td>\n      <td>7.873902</td>\n      <td>8.448008</td>\n      <td>12.982520</td>\n      <td>108.668699</td>\n      <td>108.668699</td>\n      <td>97.318537</td>\n    </tr>\n    <tr>\n      <th>2</th>\n      <td>2</td>\n      <td>171810170002</td>\n      <td>2017-10-17</td>\n      <td>1718</td>\n      <td>HOU</td>\n      <td>1</td>\n      <td>0</td>\n      <td>0.0</td>\n      <td>39.607724</td>\n      <td>86.060569</td>\n      <td>0.461134</td>\n      <td>10.490650</td>\n      <td>29.000000</td>\n      <td>0.361003</td>\n      <td>16.627236</td>\n      <td>21.676829</td>\n      <td>0.768602</td>\n      <td>9.711789</td>\n      <td>33.805285</td>\n      <td>43.517073</td>\n      <td>23.236992</td>\n      <td>7.716667</td>\n      <td>4.815447</td>\n      <td>14.262602</td>\n      <td>19.852439</td>\n      <td>106.333333</td>\n      <td>0.557316</td>\n      <td>0.522378</td>\n      <td>0.337896</td>\n      <td>0.254894</td>\n      <td>22.140163</td>\n      <td>77.860894</td>\n      <td>50.000447</td>\n      <td>58.535935</td>\n      <td>7.873902</td>\n      <td>8.448008</td>\n      <td>12.982520</td>\n      <td>108.668699</td>\n      <td>108.668699</td>\n      <td>97.318537</td>\n    </tr>\n    <tr>\n      <th>3</th>\n      <td>3</td>\n      <td>171810170002</td>\n      <td>2017-10-17</td>\n      <td>1718</td>\n      <td>GSW</td>\n      <td>0</td>\n      <td>0</td>\n      <td>0.0</td>\n      <td>39.607724</td>\n      <td>86.060569</td>\n      <td>0.461134</td>\n      <td>10.490650</td>\n      <td>29.000000</td>\n      <td>0.361003</td>\n      <td>16.627236</td>\n      <td>21.676829</td>\n      <td>0.768602</td>\n      <td>9.711789</td>\n      <td>33.805285</td>\n      <td>43.517073</td>\n      <td>23.236992</td>\n      <td>7.716667</td>\n      <td>4.815447</td>\n      <td>14.262602</td>\n      <td>19.852439</td>\n      <td>106.333333</td>\n      <td>0.557316</td>\n      <td>0.522378</td>\n      <td>0.337896</td>\n      <td>0.254894</td>\n      <td>22.140163</td>\n      <td>77.860894</td>\n      <td>50.000447</td>\n      <td>58.535935</td>\n      <td>7.873902</td>\n      <td>8.448008</td>\n      <td>12.982520</td>\n      <td>108.668699</td>\n      <td>108.668699</td>\n      <td>97.318537</td>\n    </tr>\n    <tr>\n      <th>4</th>\n      <td>4</td>\n      <td>171810180003</td>\n      <td>2017-10-18</td>\n      <td>1718</td>\n      <td>CHO</td>\n      <td>0</td>\n      <td>0</td>\n      <td>0.0</td>\n      <td>39.607724</td>\n      <td>86.060569</td>\n      <td>0.461134</td>\n      <td>10.490650</td>\n      <td>29.000000</td>\n      <td>0.361003</td>\n      <td>16.627236</td>\n      <td>21.676829</td>\n      <td>0.768602</td>\n      <td>9.711789</td>\n      <td>33.805285</td>\n      <td>43.517073</td>\n      <td>23.236992</td>\n      <td>7.716667</td>\n      <td>4.815447</td>\n      <td>14.262602</td>\n      <td>19.852439</td>\n      <td>106.333333</td>\n      <td>0.557316</td>\n      <td>0.522378</td>\n      <td>0.337896</td>\n      <td>0.254894</td>\n      <td>22.140163</td>\n      <td>77.860894</td>\n      <td>50.000447</td>\n      <td>58.535935</td>\n      <td>7.873902</td>\n      <td>8.448008</td>\n      <td>12.982520</td>\n      <td>108.668699</td>\n      <td>108.668699</td>\n      <td>97.318537</td>\n    </tr>\n    <tr>\n      <th>...</th>\n      <td>...</td>\n      <td>...</td>\n      <td>...</td>\n      <td>...</td>\n      <td>...</td>\n      <td>...</td>\n      <td>...</td>\n      <td>...</td>\n      <td>...</td>\n      <td>...</td>\n      <td>...</td>\n      <td>...</td>\n      <td>...</td>\n      <td>...</td>\n      <td>...</td>\n      <td>...</td>\n      <td>...</td>\n      <td>...</td>\n      <td>...</td>\n      <td>...</td>\n      <td>...</td>\n      <td>...</td>\n      <td>...</td>\n      <td>...</td>\n      <td>...</td>\n      <td>...</td>\n      <td>...</td>\n      <td>...</td>\n      <td>...</td>\n      <td>...</td>\n      <td>...</td>\n      <td>...</td>\n      <td>...</td>\n      <td>...</td>\n      <td>...</td>\n      <td>...</td>\n      <td>...</td>\n      <td>...</td>\n      <td>...</td>\n      <td>...</td>\n    </tr>\n    <tr>\n      <th>16577</th>\n      <td>16577</td>\n      <td>232404141229</td>\n      <td>2024-04-14</td>\n      <td>2324</td>\n      <td>OKC</td>\n      <td>1</td>\n      <td>4</td>\n      <td>6.0</td>\n      <td>44.432099</td>\n      <td>89.222222</td>\n      <td>0.499321</td>\n      <td>13.283951</td>\n      <td>34.209877</td>\n      <td>0.386901</td>\n      <td>17.753086</td>\n      <td>21.518519</td>\n      <td>0.829889</td>\n      <td>8.777778</td>\n      <td>33.061728</td>\n      <td>41.839506</td>\n      <td>26.975309</td>\n      <td>8.493827</td>\n      <td>6.567901</td>\n      <td>12.641975</td>\n      <td>18.864198</td>\n      <td>119.901235</td>\n      <td>0.608938</td>\n      <td>0.573914</td>\n      <td>0.382840</td>\n      <td>0.244926</td>\n      <td>20.800000</td>\n      <td>73.777778</td>\n      <td>48.287654</td>\n      <td>60.695062</td>\n      <td>8.430864</td>\n      <td>12.895062</td>\n      <td>11.353086</td>\n      <td>119.403704</td>\n      <td>112.658025</td>\n      <td>99.790123</td>\n    </tr>\n    <tr>\n      <th>16578</th>\n      <td>16578</td>\n      <td>232404141230</td>\n      <td>2024-04-14</td>\n      <td>2324</td>\n      <td>POR</td>\n      <td>0</td>\n      <td>-4</td>\n      <td>2.0</td>\n      <td>39.456790</td>\n      <td>89.604938</td>\n      <td>0.441198</td>\n      <td>11.506173</td>\n      <td>33.061728</td>\n      <td>0.348000</td>\n      <td>16.246914</td>\n      <td>20.530864</td>\n      <td>0.793605</td>\n      <td>12.506173</td>\n      <td>30.098765</td>\n      <td>42.604938</td>\n      <td>23.160494</td>\n      <td>7.604938</td>\n      <td>4.345679</td>\n      <td>15.197531</td>\n      <td>20.185185</td>\n      <td>106.666667</td>\n      <td>0.541370</td>\n      <td>0.505333</td>\n      <td>0.368395</td>\n      <td>0.230914</td>\n      <td>27.170370</td>\n      <td>74.114815</td>\n      <td>49.298765</td>\n      <td>58.658025</td>\n      <td>7.737037</td>\n      <td>8.101235</td>\n      <td>13.379012</td>\n      <td>108.688889</td>\n      <td>117.495062</td>\n      <td>97.197531</td>\n    </tr>\n    <tr>\n      <th>16579</th>\n      <td>16579</td>\n      <td>232404141230</td>\n      <td>2024-04-14</td>\n      <td>2324</td>\n      <td>SAC</td>\n      <td>1</td>\n      <td>-3</td>\n      <td>3.0</td>\n      <td>43.333333</td>\n      <td>90.962963</td>\n      <td>0.476506</td>\n      <td>14.382716</td>\n      <td>39.320988</td>\n      <td>0.365395</td>\n      <td>15.456790</td>\n      <td>20.777778</td>\n      <td>0.739383</td>\n      <td>10.802469</td>\n      <td>33.098765</td>\n      <td>43.901235</td>\n      <td>28.333333</td>\n      <td>7.580247</td>\n      <td>4.148148</td>\n      <td>13.135802</td>\n      <td>19.913580</td>\n      <td>116.506173</td>\n      <td>0.582370</td>\n      <td>0.555642</td>\n      <td>0.433617</td>\n      <td>0.230420</td>\n      <td>24.288889</td>\n      <td>78.893827</td>\n      <td>50.806173</td>\n      <td>65.586420</td>\n      <td>7.595062</td>\n      <td>7.811111</td>\n      <td>11.559259</td>\n      <td>116.820988</td>\n      <td>115.627160</td>\n      <td>98.802469</td>\n    </tr>\n    <tr>\n      <th>16580</th>\n      <td>16580</td>\n      <td>232404141231</td>\n      <td>2024-04-14</td>\n      <td>2324</td>\n      <td>DET</td>\n      <td>0</td>\n      <td>1</td>\n      <td>2.0</td>\n      <td>40.950617</td>\n      <td>88.197531</td>\n      <td>0.464877</td>\n      <td>11.086420</td>\n      <td>31.716049</td>\n      <td>0.350099</td>\n      <td>17.074074</td>\n      <td>21.728395</td>\n      <td>0.785432</td>\n      <td>10.493827</td>\n      <td>32.876543</td>\n      <td>43.370370</td>\n      <td>25.567901</td>\n      <td>6.469136</td>\n      <td>4.703704</td>\n      <td>15.234568</td>\n      <td>20.728395</td>\n      <td>110.061728</td>\n      <td>0.563778</td>\n      <td>0.528012</td>\n      <td>0.360988</td>\n      <td>0.249432</td>\n      <td>23.828395</td>\n      <td>77.483951</td>\n      <td>50.139506</td>\n      <td>62.533333</td>\n      <td>6.456790</td>\n      <td>8.334568</td>\n      <td>13.464198</td>\n      <td>109.935802</td>\n      <td>118.729630</td>\n      <td>99.758025</td>\n    </tr>\n    <tr>\n      <th>16581</th>\n      <td>16581</td>\n      <td>232404141231</td>\n      <td>2024-04-14</td>\n      <td>2324</td>\n      <td>SAS</td>\n      <td>1</td>\n      <td>1</td>\n      <td>6.0</td>\n      <td>41.839506</td>\n      <td>90.679012</td>\n      <td>0.462432</td>\n      <td>12.604938</td>\n      <td>36.407407</td>\n      <td>0.347667</td>\n      <td>15.679012</td>\n      <td>20.037037</td>\n      <td>0.778531</td>\n      <td>10.333333</td>\n      <td>33.777778</td>\n      <td>44.111111</td>\n      <td>29.827160</td>\n      <td>7.098765</td>\n      <td>6.382716</td>\n      <td>15.160494</td>\n      <td>17.246914</td>\n      <td>111.962963</td>\n      <td>0.563568</td>\n      <td>0.532222</td>\n      <td>0.402346</td>\n      <td>0.222247</td>\n      <td>22.860494</td>\n      <td>76.633333</td>\n      <td>49.293827</td>\n      <td>71.132099</td>\n      <td>6.955556</td>\n      <td>10.980247</td>\n      <td>13.207407</td>\n      <td>110.001235</td>\n      <td>116.711111</td>\n      <td>101.164198</td>\n    </tr>\n  </tbody>\n</table>\n<p>16582 rows × 40 columns</p>\n</div>"
     },
     "execution_count": 287,
     "metadata": {},
     "output_type": "execute_result"
    }
   ],
   "source": [
    "team_last_40 = calculate_rolling_stats(team_stats, 40, cols_to_transform, cols_move)\n",
    "team_last_40 = impute_first_rows(team_all_season, team_stats, cols_to_transform)\n",
    "team_last_40"
   ],
   "metadata": {
    "collapsed": false,
    "ExecuteTime": {
     "start_time": "2024-11-11T00:46:34.983914Z",
     "end_time": "2024-11-11T00:46:38.249159Z"
    }
   }
  },
  {
   "cell_type": "code",
   "execution_count": 297,
   "outputs": [
    {
     "data": {
      "text/plain": "False"
     },
     "execution_count": 297,
     "metadata": {},
     "output_type": "execute_result"
    }
   ],
   "source": [
    "any(team_last_40.isna().sum())"
   ],
   "metadata": {
    "collapsed": false,
    "ExecuteTime": {
     "start_time": "2024-11-11T00:48:05.887349Z",
     "end_time": "2024-11-11T00:48:05.945533Z"
    }
   }
  },
  {
   "cell_type": "code",
   "execution_count": 289,
   "outputs": [
    {
     "data": {
      "text/plain": "id         0\ngame_id    0\nDate       0\nSeason     0\nteam       0\nwin        0\nstreak     0\nlast10     0\nFG         0\nFGA        0\nFG%        0\n3P         0\n3PA        0\n3P%        0\nFT         0\nFTA        0\nFT%        0\nORB        0\nDRB        0\nTRB        0\nAST        0\nSTL        0\nBLK        0\nTOV        0\nPF         0\nPTS        0\nTS%        0\neFG%       0\n3PAr       0\nFTr        0\nORB%       0\nDRB%       0\nTRB%       0\nAST%       0\nSTL%       0\nBLK%       0\nTOV%       0\nORtg       0\nDRtg       0\nPace       0\ndtype: int64"
     },
     "execution_count": 289,
     "metadata": {},
     "output_type": "execute_result"
    }
   ],
   "source": [
    "team_last_30.isna().sum()"
   ],
   "metadata": {
    "collapsed": false,
    "ExecuteTime": {
     "start_time": "2024-11-11T00:46:38.281627Z",
     "end_time": "2024-11-11T00:46:38.401710Z"
    }
   }
  },
  {
   "cell_type": "code",
   "execution_count": 290,
   "outputs": [
    {
     "data": {
      "text/plain": "id         0\ngame_id    0\nDate       0\nSeason     0\nteam       0\nwin        0\nstreak     0\nlast10     0\nFG         0\nFGA        0\nFG%        0\n3P         0\n3PA        0\n3P%        0\nFT         0\nFTA        0\nFT%        0\nORB        0\nDRB        0\nTRB        0\nAST        0\nSTL        0\nBLK        0\nTOV        0\nPF         0\nPTS        0\nTS%        0\neFG%       0\n3PAr       0\nFTr        0\nORB%       0\nDRB%       0\nTRB%       0\nAST%       0\nSTL%       0\nBLK%       0\nTOV%       0\nORtg       0\nDRtg       0\nPace       0\ndtype: int64"
     },
     "execution_count": 290,
     "metadata": {},
     "output_type": "execute_result"
    }
   ],
   "source": [
    "team_last_20.isna().sum()"
   ],
   "metadata": {
    "collapsed": false,
    "ExecuteTime": {
     "start_time": "2024-11-11T00:46:38.314348Z",
     "end_time": "2024-11-11T00:46:38.402215Z"
    }
   }
  },
  {
   "cell_type": "code",
   "execution_count": 293,
   "outputs": [
    {
     "data": {
      "text/plain": "id         0\ngame_id    0\nDate       0\nSeason     0\nteam       0\nwin        0\nstreak     0\nlast10     0\nFG         0\nFGA        0\nFG%        0\n3P         0\n3PA        0\n3P%        0\nFT         0\nFTA        0\nFT%        0\nORB        0\nDRB        0\nTRB        0\nAST        0\nSTL        0\nBLK        0\nTOV        0\nPF         0\nPTS        0\nTS%        0\neFG%       0\n3PAr       0\nFTr        0\nORB%       0\nDRB%       0\nTRB%       0\nAST%       0\nSTL%       0\nBLK%       0\nTOV%       0\nORtg       0\nDRtg       0\nPace       0\ndtype: int64"
     },
     "execution_count": 293,
     "metadata": {},
     "output_type": "execute_result"
    }
   ],
   "source": [
    "team_all_season.isna().sum()"
   ],
   "metadata": {
    "collapsed": false,
    "ExecuteTime": {
     "start_time": "2024-11-11T00:47:12.061475Z",
     "end_time": "2024-11-11T00:47:12.096206Z"
    }
   }
  },
  {
   "cell_type": "code",
   "execution_count": 292,
   "outputs": [],
   "source": [
    "with sqlite3.connect('data/transformed/team_moving_avgs.sqlite') as con:\n",
    "    team_last_20.to_sql('team_last_20', con, if_exists='replace', index=False)\n",
    "    team_last_30.to_sql('team_last_30', con, if_exists='replace', index=False)\n",
    "    team_last_40.to_sql('team_last_40', con, if_exists='replace', index=False)\n",
    "    team_all_season.to_sql('team_all_season', con, if_exists='replace', index=False)"
   ],
   "metadata": {
    "collapsed": false,
    "ExecuteTime": {
     "start_time": "2024-11-11T00:46:50.520147Z",
     "end_time": "2024-11-11T00:46:51.457891Z"
    }
   }
  },
  {
   "cell_type": "code",
   "execution_count": null,
   "outputs": [],
   "source": [],
   "metadata": {
    "collapsed": false
   }
  }
 ],
 "metadata": {
  "kernelspec": {
   "display_name": "Python 3.10",
   "language": "python",
   "name": "myenv"
  },
  "language_info": {
   "codemirror_mode": {
    "name": "ipython",
    "version": 3
   },
   "file_extension": ".py",
   "mimetype": "text/x-python",
   "name": "python",
   "nbconvert_exporter": "python",
   "pygments_lexer": "ipython3",
   "version": "3.9.13"
  }
 },
 "nbformat": 4,
 "nbformat_minor": 5
}
