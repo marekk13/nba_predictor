{
 "cells": [
  {
   "cell_type": "markdown",
   "id": "5e81d934-b5db-46e2-ab16-9dd992819376",
   "metadata": {},
   "source": [
    "# Inżynieria cech\n",
    " - badanie wartości NA, błędów grubych\n",
    " - badanie typów danych i zmniejszenie zużycia pamięci\n",
    " - stworzenie danych średnich w różnych oknach czasowych (10 ostatnich spotkań, 20, 30 i od początku sezonu)\n",
    " - przygotowanie cech na formę optymalną do użycia w modelach - normalizacja"
   ]
  },
  {
   "cell_type": "code",
   "execution_count": null,
   "id": "3e1ccb44-61bf-43ca-ba99-24f64f00fc22",
   "metadata": {},
   "outputs": [],
   "source": []
  },
  {
   "cell_type": "code",
   "execution_count": null,
   "id": "6fba34d2-5471-4652-8d52-755f0f0c8253",
   "metadata": {},
   "outputs": [],
   "source": []
  }
 ],
 "metadata": {
  "kernelspec": {
   "display_name": "Python 3.10",
   "language": "python",
   "name": "myenv"
  },
  "language_info": {
   "codemirror_mode": {
    "name": "ipython",
    "version": 3
   },
   "file_extension": ".py",
   "mimetype": "text/x-python",
   "name": "python",
   "nbconvert_exporter": "python",
   "pygments_lexer": "ipython3",
   "version": "3.9.13"
  }
 },
 "nbformat": 4,
 "nbformat_minor": 5
}
