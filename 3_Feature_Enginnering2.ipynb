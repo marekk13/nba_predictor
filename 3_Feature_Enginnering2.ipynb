{
 "cells": [
  {
   "cell_type": "markdown",
   "source": [
    "# Inżynieria cech\n",
    " - połączenie danych drużynowych z podsumowaniami meczów\n",
    " - przygotowanie cech na formę optymalną do użycia w modelach - normalizacja"
   ],
   "metadata": {
    "collapsed": false
   }
  },
  {
   "cell_type": "code",
   "execution_count": null,
   "outputs": [],
   "source": [
    "import pandas as pd\n",
    "import sqlite3\n",
    "import matplotlib.pyplot as plt\n",
    "import seaborn as sns\n",
    "import numpy as np\n",
    "\n",
    "pd.set_option('display.max_columns', 40)"
   ],
   "metadata": {
    "collapsed": false,
    "ExecuteTime": {
     "start_time": "2024-12-28T15:22:18.864621Z",
     "end_time": "2024-12-28T15:22:19.070332Z"
    }
   }
  },
  {
   "cell_type": "code",
   "execution_count": null,
   "outputs": [],
   "source": [
    "con = sqlite3.connect('data/transformed/team_moving_avgs.sqlite')\n",
    "team_last_20 = pd.read_sql_query(f\"SELECT * FROM \\\"{'team_last_20'}\\\"\", con)\n",
    "team_last_30 = pd.read_sql_query(f\"SELECT * FROM \\\"{'team_last_30'}\\\"\", con)\n",
    "team_last_40 = pd.read_sql_query(f\"SELECT * FROM \\\"{'team_last_40'}\\\"\", con)\n",
    "team_all_season = pd.read_sql_query(f\"SELECT * FROM \\\"{'team_all_season'}\\\"\", con)\n",
    "con.close()\n",
    "\n",
    "con = sqlite3.connect('data/transformed/games.sqlite')\n",
    "games = pd.read_sql_query(f\"SELECT * FROM \\\"{'games'}\\\"\", con)\n",
    "con.close()"
   ],
   "metadata": {
    "collapsed": false,
    "ExecuteTime": {
     "start_time": "2024-12-28T15:22:18.886990Z",
     "end_time": "2024-12-28T15:22:19.953246Z"
    }
   }
  },
  {
   "cell_type": "code",
   "execution_count": null,
   "outputs": [],
   "source": [
    "team_last_20"
   ],
   "metadata": {
    "collapsed": false,
    "ExecuteTime": {
     "start_time": "2024-12-28T15:22:19.953246Z",
     "end_time": "2024-12-28T15:22:20.001166Z"
    }
   }
  },
  {
   "cell_type": "code",
   "execution_count": null,
   "outputs": [],
   "source": [
    "games"
   ],
   "metadata": {
    "collapsed": false,
    "ExecuteTime": {
     "start_time": "2024-12-28T15:22:19.990287Z",
     "end_time": "2024-12-28T15:22:20.019974Z"
    }
   }
  },
  {
   "cell_type": "code",
   "execution_count": null,
   "outputs": [],
   "source": [
    "games_minus1 = games.copy()\n",
    "games_minus1['Date'] = (pd.to_datetime(games_minus1['Date']) - pd.Timedelta(days=1)).dt.strftime('%Y-%m-%d')\n",
    "\n",
    "games_plus1 = games.copy()\n",
    "games_plus1['Date'] = (pd.to_datetime(games_plus1['Date']) + pd.Timedelta(days=1)).dt.strftime('%Y-%m-%d')\n",
    "\n",
    "# games_minus2 = games.copy()\n",
    "# games_minus1['Date'] = (pd.to_datetime(games_minus1['Date']) - pd.Timedelta(days=2)).dt.strftime('%Y-%m-%d')\n",
    "#\n",
    "# games_plus2 = games.copy()\n",
    "# games_plus1['Date'] = (pd.to_datetime(games_plus1['Date']) + pd.Timedelta(days=2)).dt.strftime('%Y-%m-%d')\n",
    "\n",
    "\n",
    "games_original = games.copy()\n",
    "games_original['Date'] = pd.to_datetime(games_original['Date']).dt.strftime('%Y-%m-%d')\n",
    "\n",
    "# Łączenie wszystkich wersji tabeli 'games' w jeden DataFrame\n",
    "games_expanded = pd.concat([games_original, games_minus1, games_plus1])\n",
    "\n",
    "games = pd.concat([games, games_minus1, games_plus1])"
   ],
   "metadata": {
    "collapsed": false,
    "ExecuteTime": {
     "start_time": "2024-12-28T15:22:20.025052Z",
     "end_time": "2024-12-28T15:22:20.222701Z"
    }
   }
  },
  {
   "cell_type": "markdown",
   "source": [
    "###"
   ],
   "metadata": {
    "collapsed": false
   }
  },
  {
   "cell_type": "code",
   "execution_count": null,
   "outputs": [],
   "source": [
    "away_df = team_last_20[team_last_20.index % 2 == 0].reset_index(drop=True)\n",
    "home_df = team_last_20[team_last_20.index % 2 == 1].reset_index(drop=True)\n",
    "\n",
    "away_df = away_df.add_prefix('away_')\n",
    "team_last_20 = pd.concat([home_df, away_df], axis=1) \\\n",
    "            .drop(columns=['away_id', 'id', 'away_game_id', 'away_Season', 'away_win', 'away_Date']) \\\n",
    "            .rename(columns={col: f'home_{col}' for col in team_last_20.columns[4:40]})\n",
    "team_last_20"
   ],
   "metadata": {
    "collapsed": false,
    "ExecuteTime": {
     "start_time": "2024-12-28T15:22:20.080228Z",
     "end_time": "2024-12-28T15:22:20.285458Z"
    }
   }
  },
  {
   "cell_type": "code",
   "execution_count": null,
   "outputs": [],
   "source": [
    "away_df = team_last_30[team_last_30.index % 2 == 0].reset_index(drop=True)\n",
    "home_df = team_last_30[team_last_30.index % 2 == 1].reset_index(drop=True)\n",
    "away_df = away_df.add_prefix('away_')\n",
    "team_last_30 = pd.concat([home_df, away_df], axis=1) \\\n",
    "            .drop(columns=['away_id', 'id', 'away_game_id', 'away_Season', 'away_win', 'away_Date']) \\\n",
    "            .rename(columns={col: f'home_{col}' for col in team_last_30.columns[4:40]})\n",
    "\n",
    "\n",
    "away_df = team_last_40[team_last_40.index % 2 == 0].reset_index(drop=True)\n",
    "home_df = team_last_40[team_last_40.index % 2 == 1].reset_index(drop=True)\n",
    "away_df = away_df.add_prefix('away_')\n",
    "team_last_40 = pd.concat([home_df, away_df], axis=1) \\\n",
    "            .drop(columns=['away_id', 'id', 'away_game_id', 'away_Season', 'away_win', 'away_Date']) \\\n",
    "            .rename(columns={col: f'home_{col}' for col in team_last_40.columns[4:40]})\n",
    "\n",
    "\n",
    "away_df = team_all_season[team_all_season.index % 2 == 0].reset_index(drop=True)\n",
    "home_df = team_all_season[team_all_season.index % 2 == 1].reset_index(drop=True)\n",
    "away_df = away_df.add_prefix('away_')\n",
    "team_all_season = pd.concat([home_df, away_df], axis=1) \\\n",
    "            .drop(columns=['away_id', 'id', 'away_game_id', 'away_Season', 'away_win', 'away_Date']) \\\n",
    "            .rename(columns={col: f'home_{col}' for col in team_all_season.columns[4:40]})"
   ],
   "metadata": {
    "collapsed": false,
    "ExecuteTime": {
     "start_time": "2024-12-28T15:22:20.185229Z",
     "end_time": "2024-12-28T15:22:20.381213Z"
    }
   }
  },
  {
   "cell_type": "code",
   "execution_count": null,
   "outputs": [],
   "source": [
    "team_last_20"
   ],
   "metadata": {
    "collapsed": false,
    "ExecuteTime": {
     "start_time": "2024-12-28T15:22:20.290423Z",
     "end_time": "2024-12-28T15:22:20.460401Z"
    }
   }
  },
  {
   "cell_type": "code",
   "execution_count": null,
   "outputs": [],
   "source": [
    "nba_teams_mapping = {\n",
    "    'ATL': 'Atlanta Hawks',\n",
    "    'BOS': 'Boston Celtics',\n",
    "    'BRK': 'Brooklyn Nets',\n",
    "    'CHO': 'Charlotte Hornets',\n",
    "    'CHI': 'Chicago Bulls',\n",
    "    'CLE': 'Cleveland Cavaliers',\n",
    "    'DAL': 'Dallas Mavericks',\n",
    "    'DEN': 'Denver Nuggets',\n",
    "    'DET': 'Detroit Pistons',\n",
    "    'GSW': 'Golden State Warriors',\n",
    "    'HOU': 'Houston Rockets',\n",
    "    'IND': 'Indiana Pacers',\n",
    "    'LAC': 'LA Clippers',\n",
    "    'LAL': 'Los Angeles Lakers',\n",
    "    'MEM': 'Memphis Grizzlies',\n",
    "    'MIA': 'Miami Heat',\n",
    "    'MIL': 'Milwaukee Bucks',\n",
    "    'MIN': 'Minnesota Timberwolves',\n",
    "    'NOP': 'New Orleans Pelicans',\n",
    "    'NYK': 'New York Knicks',\n",
    "    'OKC': 'Oklahoma City Thunder',\n",
    "    'ORL': 'Orlando Magic',\n",
    "    'PHI': 'Philadelphia 76ers',\n",
    "    'PHO': 'Phoenix Suns',\n",
    "    'POR': 'Portland Trail Blazers',\n",
    "    'SAC': 'Sacramento Kings',\n",
    "    'SAS': 'San Antonio Spurs',\n",
    "    'TOR': 'Toronto Raptors',\n",
    "    'UTA': 'Utah Jazz',\n",
    "    'WAS': 'Washington Wizards'\n",
    "}"
   ],
   "metadata": {
    "collapsed": false,
    "ExecuteTime": {
     "start_time": "2024-12-28T15:22:20.390317Z",
     "end_time": "2024-12-28T15:22:20.460401Z"
    }
   }
  },
  {
   "cell_type": "code",
   "execution_count": null,
   "outputs": [],
   "source": [
    "team_last_20['home_team_full'] = team_last_20['home_team'].map(nba_teams_mapping)\n",
    "team_last_20['away_team_full'] = team_last_20['away_team'].map(nba_teams_mapping)"
   ],
   "metadata": {
    "collapsed": false,
    "ExecuteTime": {
     "start_time": "2024-12-28T15:22:20.400031Z",
     "end_time": "2024-12-28T15:22:20.539367Z"
    }
   }
  },
  {
   "cell_type": "code",
   "execution_count": null,
   "outputs": [],
   "source": [
    "team_avgs_last_20 = pd.merge(\n",
    "    team_last_20,\n",
    "    games,\n",
    "    how='left',\n",
    "    left_on=['Date', 'home_team_full', 'away_team_full'],\n",
    "    right_on=['Date', 'TEAM_NAME', 'TEAM_NAME.1']) \\\n",
    "    .drop(columns=['GP.1', 'TEAM_NAME.1', 'W.1', 'L.1', 'GP', 'TEAM_NAME',\n",
    "                   'W', 'L', 'index', 'home_team_full', 'away_team_full'])"
   ],
   "metadata": {
    "collapsed": false,
    "ExecuteTime": {
     "start_time": "2024-12-28T15:22:20.412712Z",
     "end_time": "2024-12-28T15:22:20.575219Z"
    }
   }
  },
  {
   "cell_type": "code",
   "execution_count": null,
   "outputs": [],
   "source": [
    "team_avgs_last_20\n",
    "team_avgs_last_20.columns"
   ],
   "metadata": {
    "collapsed": false,
    "ExecuteTime": {
     "start_time": "2024-12-28T15:22:20.460401Z",
     "end_time": "2024-12-28T15:22:20.575219Z"
    }
   }
  },
  {
   "cell_type": "code",
   "execution_count": null,
   "outputs": [],
   "source": [
    "team_last_30['home_team_full'] = team_last_30['home_team'].map(nba_teams_mapping)\n",
    "team_last_30['away_team_full'] = team_last_30['away_team'].map(nba_teams_mapping)\n",
    "team_avgs_last_30 = pd.merge(\n",
    "    team_last_30,\n",
    "    games,\n",
    "    how='left',\n",
    "    left_on=['Date', 'home_team_full', 'away_team_full'],\n",
    "    right_on=['Date', 'TEAM_NAME', 'TEAM_NAME.1']) \\\n",
    "    .drop(columns=['GP.1', 'TEAM_NAME.1', 'W.1', 'L.1', 'GP', 'TEAM_NAME',\n",
    "                   'W', 'L', 'index', 'home_team_full', 'away_team_full'])\n",
    "\n",
    "team_last_40['home_team_full'] = team_last_40['home_team'].map(nba_teams_mapping)\n",
    "team_last_40['away_team_full'] = team_last_40['away_team'].map(nba_teams_mapping)\n",
    "team_avgs_last_40 = pd.merge(\n",
    "    team_last_40,\n",
    "    games,\n",
    "    how='left',\n",
    "    left_on=['Date', 'home_team_full', 'away_team_full'],\n",
    "    right_on=['Date', 'TEAM_NAME', 'TEAM_NAME.1']) \\\n",
    "    .drop(columns=['GP.1', 'TEAM_NAME.1', 'W.1', 'L.1', 'GP', 'TEAM_NAME',\n",
    "                   'W', 'L', 'index', 'home_team_full', 'away_team_full'])\n",
    "\n",
    "\n",
    "team_all_season['home_team_full'] = team_all_season['home_team'].map(nba_teams_mapping)\n",
    "team_all_season['away_team_full'] = team_all_season['away_team'].map(nba_teams_mapping)\n",
    "team_avgs_all_season = pd.merge(\n",
    "    team_all_season,\n",
    "    games,\n",
    "    how='left',\n",
    "    left_on=['Date', 'home_team_full', 'away_team_full'],\n",
    "    right_on=['Date', 'TEAM_NAME', 'TEAM_NAME.1']) \\\n",
    "    .drop(columns=['GP.1', 'TEAM_NAME.1', 'W.1', 'L.1', 'GP', 'TEAM_NAME',\n",
    "                   'W', 'L', 'index', 'home_team_full', 'away_team_full'])"
   ],
   "metadata": {
    "collapsed": false,
    "ExecuteTime": {
     "start_time": "2024-12-28T15:22:20.480090Z",
     "end_time": "2024-12-28T15:22:20.740123Z"
    }
   }
  },
  {
   "cell_type": "markdown",
   "source": [
    "Użycie .rename w powyższym łańcuchu operacji nie zmieniało nazw kolumn, stąd przypisanie nazw jak poniżej"
   ],
   "metadata": {
    "collapsed": false
   }
  },
  {
   "cell_type": "code",
   "execution_count": null,
   "outputs": [],
   "source": [
    "team_avgs_all_season.columns = [\n",
    "    'game_id', 'Date', 'Season', 'home_team', 'home_win', 'home_streak',\n",
    "    'home_last10', 'home_FG', 'home_FGA', 'home_FG%', 'home_3P', 'home_3PA',\n",
    "    'home_3P%', 'home_FT', 'home_FTA', 'home_FT%', 'home_ORB', 'home_DRB',\n",
    "    'home_TRB', 'home_AST', 'home_STL', 'home_BLK', 'home_TOV', 'home_PF',\n",
    "    'home_PTS', 'home_TS%', 'home_eFG%', 'home_3PAr', 'home_FTr',\n",
    "    'home_ORB%', 'home_DRB%', 'home_TRB%', 'home_AST%', 'home_STL%',\n",
    "    'home_BLK%', 'home_TOV%', 'home_ORtg', 'home_DRtg', 'home_Pace',\n",
    "    'away_team', 'away_streak', 'away_last10', 'away_FG', 'away_FGA',\n",
    "    'away_FG%', 'away_3P', 'away_3PA', 'away_3P%', 'away_FT', 'away_FTA',\n",
    "    'away_FT%', 'away_ORB', 'away_DRB', 'away_TRB', 'away_AST', 'away_STL',\n",
    "    'away_BLK', 'away_TOV', 'away_PF', 'away_PTS', 'away_TS%', 'away_eFG%',\n",
    "    'away_3PAr', 'away_FTr', 'away_ORB%', 'away_DRB%', 'away_TRB%',\n",
    "    'away_AST%', 'away_STL%', 'away_BLK%', 'away_TOV%', 'away_ORtg',\n",
    "    'away_DRtg', 'away_Pace', 'home_W_pct', 'home_GP_rank', 'home_W_pct_rank',\n",
    "    'home_+/-_rank', 'away_W_pct', 'away_GP_rank', 'away_W_pct_rank',\n",
    "    'away_+/-_rank', 'home_days_rest', 'away_days_rest'\n",
    "]\n",
    "\n",
    "team_avgs_last_40.columns = [\n",
    "    'game_id', 'Date', 'Season', 'home_team', 'home_win', 'home_streak',\n",
    "    'home_last10', 'home_FG', 'home_FGA', 'home_FG%', 'home_3P', 'home_3PA',\n",
    "    'home_3P%', 'home_FT', 'home_FTA', 'home_FT%', 'home_ORB', 'home_DRB',\n",
    "    'home_TRB', 'home_AST', 'home_STL', 'home_BLK', 'home_TOV', 'home_PF',\n",
    "    'home_PTS', 'home_TS%', 'home_eFG%', 'home_3PAr', 'home_FTr',\n",
    "    'home_ORB%', 'home_DRB%', 'home_TRB%', 'home_AST%', 'home_STL%',\n",
    "    'home_BLK%', 'home_TOV%', 'home_ORtg', 'home_DRtg', 'home_Pace',\n",
    "    'away_team', 'away_streak', 'away_last10', 'away_FG', 'away_FGA',\n",
    "    'away_FG%', 'away_3P', 'away_3PA', 'away_3P%', 'away_FT', 'away_FTA',\n",
    "    'away_FT%', 'away_ORB', 'away_DRB', 'away_TRB', 'away_AST', 'away_STL',\n",
    "    'away_BLK', 'away_TOV', 'away_PF', 'away_PTS', 'away_TS%', 'away_eFG%',\n",
    "    'away_3PAr', 'away_FTr', 'away_ORB%', 'away_DRB%', 'away_TRB%',\n",
    "    'away_AST%', 'away_STL%', 'away_BLK%', 'away_TOV%', 'away_ORtg',\n",
    "    'away_DRtg', 'away_Pace', 'home_W_pct', 'home_GP_rank', 'home_W_pct_rank',\n",
    "    'home_+/-_rank', 'away_W_pct', 'away_GP_rank', 'away_W_pct_rank',\n",
    "    'away_+/-_rank', 'home_days_rest', 'away_days_rest'\n",
    "]\n",
    "\n",
    "team_avgs_last_30.columns = [\n",
    "    'game_id', 'Date', 'Season', 'home_team', 'home_win', 'home_streak',\n",
    "    'home_last10', 'home_FG', 'home_FGA', 'home_FG%', 'home_3P', 'home_3PA',\n",
    "    'home_3P%', 'home_FT', 'home_FTA', 'home_FT%', 'home_ORB', 'home_DRB',\n",
    "    'home_TRB', 'home_AST', 'home_STL', 'home_BLK', 'home_TOV', 'home_PF',\n",
    "    'home_PTS', 'home_TS%', 'home_eFG%', 'home_3PAr', 'home_FTr',\n",
    "    'home_ORB%', 'home_DRB%', 'home_TRB%', 'home_AST%', 'home_STL%',\n",
    "    'home_BLK%', 'home_TOV%', 'home_ORtg', 'home_DRtg', 'home_Pace',\n",
    "    'away_team', 'away_streak', 'away_last10', 'away_FG', 'away_FGA',\n",
    "    'away_FG%', 'away_3P', 'away_3PA', 'away_3P%', 'away_FT', 'away_FTA',\n",
    "    'away_FT%', 'away_ORB', 'away_DRB', 'away_TRB', 'away_AST', 'away_STL',\n",
    "    'away_BLK', 'away_TOV', 'away_PF', 'away_PTS', 'away_TS%', 'away_eFG%',\n",
    "    'away_3PAr', 'away_FTr', 'away_ORB%', 'away_DRB%', 'away_TRB%',\n",
    "    'away_AST%', 'away_STL%', 'away_BLK%', 'away_TOV%', 'away_ORtg',\n",
    "    'away_DRtg', 'away_Pace', 'home_W_pct', 'home_GP_rank', 'home_W_pct_rank',\n",
    "    'home_+/-_rank', 'away_W_pct', 'away_GP_rank', 'away_W_pct_rank',\n",
    "    'away_+/-_rank', 'home_days_rest', 'away_days_rest'\n",
    "]\n",
    "\n",
    "team_avgs_last_20.columns = [\n",
    "    'game_id', 'Date', 'Season', 'home_team', 'home_win', 'home_streak',\n",
    "    'home_last10', 'home_FG', 'home_FGA', 'home_FG%', 'home_3P', 'home_3PA',\n",
    "    'home_3P%', 'home_FT', 'home_FTA', 'home_FT%', 'home_ORB', 'home_DRB',\n",
    "    'home_TRB', 'home_AST', 'home_STL', 'home_BLK', 'home_TOV', 'home_PF',\n",
    "    'home_PTS', 'home_TS%', 'home_eFG%', 'home_3PAr', 'home_FTr',\n",
    "    'home_ORB%', 'home_DRB%', 'home_TRB%', 'home_AST%', 'home_STL%',\n",
    "    'home_BLK%', 'home_TOV%', 'home_ORtg', 'home_DRtg', 'home_Pace',\n",
    "    'away_team', 'away_streak', 'away_last10', 'away_FG', 'away_FGA',\n",
    "    'away_FG%', 'away_3P', 'away_3PA', 'away_3P%', 'away_FT', 'away_FTA',\n",
    "    'away_FT%', 'away_ORB', 'away_DRB', 'away_TRB', 'away_AST', 'away_STL',\n",
    "    'away_BLK', 'away_TOV', 'away_PF', 'away_PTS', 'away_TS%', 'away_eFG%',\n",
    "    'away_3PAr', 'away_FTr', 'away_ORB%', 'away_DRB%', 'away_TRB%',\n",
    "    'away_AST%', 'away_STL%', 'away_BLK%', 'away_TOV%', 'away_ORtg',\n",
    "    'away_DRtg', 'away_Pace', 'home_W_pct', 'home_GP_rank', 'home_W_pct_rank',\n",
    "    'home_+/-_rank', 'away_W_pct', 'away_GP_rank', 'away_W_pct_rank',\n",
    "    'away_+/-_rank', 'home_days_rest', 'away_days_rest'\n",
    "]\n"
   ],
   "metadata": {
    "collapsed": false,
    "ExecuteTime": {
     "start_time": "2024-12-28T15:22:20.640189Z",
     "end_time": "2024-12-28T15:22:20.740123Z"
    }
   }
  },
  {
   "cell_type": "code",
   "execution_count": null,
   "outputs": [],
   "source": [
    "team_avgs_all_season.columns"
   ],
   "metadata": {
    "collapsed": false,
    "ExecuteTime": {
     "start_time": "2024-12-28T17:46:37.996316Z",
     "end_time": "2024-12-28T17:46:38.012776Z"
    }
   }
  },
  {
   "cell_type": "code",
   "execution_count": null,
   "outputs": [],
   "source": [
    "def missing_data_summary(data):\n",
    "    return data[data.isnull().any(axis=1)], \\\n",
    "        (data.isnull().mean() * 100).round(3)\n",
    "\n",
    "rows_with_nan, missing_percentages = missing_data_summary(team_avgs_last_30)\n",
    "rows_with_nan"
   ],
   "metadata": {
    "collapsed": false,
    "ExecuteTime": {
     "start_time": "2024-12-28T15:22:20.650202Z",
     "end_time": "2024-12-28T15:22:20.740123Z"
    }
   }
  },
  {
   "cell_type": "code",
   "execution_count": null,
   "outputs": [],
   "source": [],
   "metadata": {
    "collapsed": false,
    "ExecuteTime": {
     "start_time": "2024-12-28T15:22:20.719976Z",
     "end_time": "2024-12-28T15:22:20.740123Z"
    }
   }
  },
  {
   "cell_type": "code",
   "execution_count": null,
   "outputs": [],
   "source": [
    "corr_matrix = team_avgs_last_20.select_dtypes(include=[np.number]) \\\n",
    "  .corr() \\\n",
    "  .dropna(axis=0, how='all') \\\n",
    "  .dropna(axis=1, how='all')\n",
    "\n",
    "plt.figure(figsize=(55, 55))\n",
    "heatmap1 = sns.heatmap(corr_matrix, cmap=\"coolwarm\", annot=True, fmt=\".2f\")\n",
    "\n",
    "plt.savefig(\"graphs/corr_processed_20.png\", dpi=300, bbox_inches='tight')\n",
    "plt.close()\n",
    "#plt.show()"
   ],
   "metadata": {
    "collapsed": false,
    "ExecuteTime": {
     "start_time": "2024-12-28T15:22:20.735109Z",
     "end_time": "2024-12-28T15:22:39.527951Z"
    }
   }
  },
  {
   "cell_type": "code",
   "execution_count": null,
   "outputs": [],
   "source": [
    "corr_matrix = team_avgs_last_30.select_dtypes(include=[np.number]) \\\n",
    "  .corr() \\\n",
    "  .dropna(axis=0, how='all') \\\n",
    "  .dropna(axis=1, how='all')\n",
    "\n",
    "plt.figure(figsize=(55, 55))\n",
    "heatmap1 = sns.heatmap(corr_matrix, cmap=\"coolwarm\", annot=True, fmt=\".2f\")\n",
    "\n",
    "plt.savefig(\"graphs/corr_processed_30.png\", dpi=300, bbox_inches='tight')\n",
    "plt.close()\n",
    "#plt.show()"
   ],
   "metadata": {
    "collapsed": false,
    "ExecuteTime": {
     "start_time": "2024-12-28T15:22:39.527951Z",
     "end_time": "2024-12-28T15:22:56.880269Z"
    }
   }
  },
  {
   "cell_type": "code",
   "execution_count": null,
   "outputs": [],
   "source": [
    "corr_matrix = team_avgs_last_40.select_dtypes(include=[np.number]) \\\n",
    "  .corr() \\\n",
    "  .dropna(axis=0, how='all') \\\n",
    "  .dropna(axis=1, how='all')\n",
    "\n",
    "plt.figure(figsize=(55, 55))\n",
    "heatmap1 = sns.heatmap(corr_matrix, cmap=\"coolwarm\", annot=True, fmt=\".2f\")\n",
    "\n",
    "plt.savefig(\"graphs/corr_processed_40.png\", dpi=300, bbox_inches='tight')\n",
    "plt.close()\n",
    "#plt.show()"
   ],
   "metadata": {
    "collapsed": false,
    "ExecuteTime": {
     "start_time": "2024-12-28T15:22:56.863838Z",
     "end_time": "2024-12-28T15:23:14.560080Z"
    }
   }
  },
  {
   "cell_type": "code",
   "execution_count": null,
   "outputs": [],
   "source": [
    "corr_matrix = team_avgs_all_season.select_dtypes(include=[np.number]) \\\n",
    "  .corr() \\\n",
    "  .dropna(axis=0, how='all') \\\n",
    "  .dropna(axis=1, how='all')\n",
    "\n",
    "plt.figure(figsize=(55, 55))\n",
    "heatmap1 = sns.heatmap(corr_matrix, cmap=\"coolwarm\", annot=True, fmt=\".2f\")\n",
    "\n",
    "plt.savefig(\"graphs/corr_processed_all_season.png\", dpi=300, bbox_inches='tight')\n",
    "plt.close()\n",
    "#plt.show()"
   ],
   "metadata": {
    "collapsed": false,
    "ExecuteTime": {
     "start_time": "2024-12-28T15:23:14.560080Z",
     "end_time": "2024-12-28T15:23:33.589442Z"
    }
   }
  },
  {
   "cell_type": "code",
   "execution_count": null,
   "outputs": [],
   "source": [
    "pearson_corr_with_target = corr_matrix[\"home_win\"].dropna()\n",
    "\n",
    "spearman_corr_matrix = team_avgs_all_season.select_dtypes(include=[np.number]) \\\n",
    "    .corr(method=\"spearman\") \\\n",
    "    .dropna(axis=0, how='all') \\\n",
    "    .dropna(axis=1, how='all')\n",
    "spearman_corr_with_target = spearman_corr_matrix[\"home_win\"].dropna()\n",
    "\n",
    "spearman_corr_sorted = spearman_corr_with_target.sort_values()\n",
    "pearson_corr_sorted = pearson_corr_with_target.loc[spearman_corr_sorted.index]\n",
    "\n",
    "spearman_corr_sorted = spearman_corr_sorted.drop([\"home_win\", \"game_id\"])\n",
    "pearson_corr_sorted = pearson_corr_sorted.drop([\"home_win\", \"game_id\"])\n",
    "\n",
    "prc_columns = ['home_TS%', 'home_eFG%', 'home_3PAr', 'home_FTr',\n",
    "       'home_ORB%', 'home_DRB%', 'home_TRB%', 'home_AST%', 'home_STL%',\n",
    "       'home_BLK%', 'home_TOV%', 'home_ORtg', 'home_DRtg', 'away_TS%', 'away_eFG%',\n",
    "       'away_3PAr', 'away_FTr', 'away_ORB%', 'away_DRB%', 'away_TRB%',\n",
    "       'away_AST%', 'away_STL%', 'away_BLK%', 'away_TOV%', 'away_ORtg',\n",
    "       'away_DRtg', 'away_TS%']\n",
    "highlight_color_prc = \"red\"\n",
    "\n",
    "totals_columns = ['home_FG', 'home_FGA', 'home_FG%', 'home_3P', 'home_3PA',\n",
    "   'home_3P%', 'home_FT', 'home_FTA', 'home_FT%', 'home_ORB', 'home_DRB',\n",
    "   'home_TRB', 'home_AST', 'home_STL', 'home_BLK', 'home_TOV', 'home_PF',\n",
    "   'home_PTS',  'home_TS%', 'away_FG', 'away_FGA',\n",
    "   'away_FG%', 'away_3P', 'away_3PA', 'away_3P%', 'away_FT', 'away_FTA',\n",
    "   'away_FT%', 'away_ORB', 'away_DRB', 'away_TRB', 'away_AST', 'away_STL',\n",
    "   'away_BLK', 'away_TOV', 'away_PF', 'away_PTS', 'home_Pace', 'away_Pace']\n",
    "\n",
    "add_columns = [col for col in spearman_corr_sorted.index if col not in prc_columns and col not in totals_columns]\n",
    "\n",
    "highlight_color_totals = \"blue\"\n",
    "\n",
    "plt.figure(figsize=(10, 14))\n",
    "\n",
    "bar_width = 0.4\n",
    "indices = range(len(spearman_corr_sorted))\n",
    "\n",
    "plt.barh(indices, pearson_corr_sorted.values, bar_width, label=\"Pearson\", color=\"dodgerblue\")\n",
    "plt.barh([i + bar_width for i in indices], spearman_corr_sorted.values, bar_width, label=\"Spearman\", color=\"orange\")\n",
    "\n",
    "for i, label in enumerate(spearman_corr_sorted.index):\n",
    "    if label in prc_columns:\n",
    "        color = \"red\"\n",
    "    elif label in totals_columns:\n",
    "        color = highlight_color_totals\n",
    "    else:\n",
    "        color = \"black\"\n",
    "\n",
    "    plt.text(\n",
    "        -0.4,\n",
    "        i + bar_width / 2,\n",
    "        label,\n",
    "        color=color,\n",
    "        va=\"center\",\n",
    "        fontsize=12,\n",
    "    )\n",
    "\n",
    "plt.title(\"Korelacje z 'home_win'\", fontsize=16)\n",
    "plt.xlabel(\"Współczynniki korelacji\", fontsize=14)\n",
    "plt.tight_layout()\n",
    "plt.legend(fontsize=12)\n",
    "\n",
    "plt.savefig(\"graphs/corr_target.png\", dpi=300, bbox_inches='tight')\n",
    "plt.close()\n",
    "\n",
    "plt.show()"
   ],
   "metadata": {
    "collapsed": false,
    "ExecuteTime": {
     "start_time": "2024-12-28T16:03:18.159608Z",
     "end_time": "2024-12-28T16:03:21.613962Z"
    }
   }
  },
  {
   "cell_type": "code",
   "execution_count": null,
   "outputs": [],
   "source": [
    "with sqlite3.connect('data/transformed/team_moving_avgs_merged.sqlite') as con:\n",
    "    team_avgs_last_20.to_sql('team_last_20', con, if_exists='replace', index=False)\n",
    "    team_avgs_last_30.to_sql('team_last_30', con, if_exists='replace', index=False)\n",
    "    team_avgs_last_40.to_sql('team_last_40', con, if_exists='replace', index=False)\n",
    "    team_avgs_all_season.to_sql('team_all_season', con, if_exists='replace', index=False)"
   ],
   "metadata": {
    "collapsed": false,
    "ExecuteTime": {
     "start_time": "2024-12-28T15:23:35.266067Z",
     "end_time": "2024-12-28T15:23:35.951732Z"
    }
   }
  },
  {
   "cell_type": "code",
   "execution_count": null,
   "outputs": [],
   "source": [],
   "metadata": {
    "collapsed": false,
    "ExecuteTime": {
     "start_time": "2024-12-28T15:23:35.939896Z",
     "end_time": "2024-12-28T15:23:35.967796Z"
    }
   }
  }
 ],
 "metadata": {
  "kernelspec": {
   "display_name": "Python 3",
   "language": "python",
   "name": "python3"
  },
  "language_info": {
   "codemirror_mode": {
    "name": "ipython",
    "version": 2
   },
   "file_extension": ".py",
   "mimetype": "text/x-python",
   "name": "python",
   "nbconvert_exporter": "python",
   "pygments_lexer": "ipython2",
   "version": "2.7.6"
  }
 },
 "nbformat": 4,
 "nbformat_minor": 0
}
