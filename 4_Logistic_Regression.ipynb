{
 "cells": [
  {
   "cell_type": "code",
   "execution_count": 209,
   "outputs": [],
   "source": [
    "import pandas as pd\n",
    "import sqlite3\n",
    "from sklearn.linear_model import LogisticRegression\n",
    "from sklearn.metrics import accuracy_score, confusion_matrix, classification_report\n",
    "import pickle\n",
    "import seaborn as sns\n",
    "import matplotlib.pyplot as plt\n",
    "from sklearn.decomposition import PCA\n",
    "from sklearn.preprocessing import StandardScaler\n",
    "# import scipy.stats as stats\n",
    "# from sklearn.feature_selection import RFE\n",
    "\n",
    "pd.set_option('display.max_columns', 40)"
   ],
   "metadata": {
    "collapsed": false,
    "ExecuteTime": {
     "start_time": "2024-11-11T19:29:18.779078Z",
     "end_time": "2024-11-11T19:29:18.800808Z"
    }
   }
  },
  {
   "cell_type": "code",
   "execution_count": 168,
   "outputs": [
    {
     "data": {
      "text/plain": "Index(['game_id', 'Date', 'Season', 'home_team', 'home_win', 'home_streak',\n       'home_last10', 'home_FG', 'home_FGA', 'home_FG%', 'home_3P', 'home_3PA',\n       'home_3P%', 'home_FT', 'home_FTA', 'home_FT%', 'home_ORB', 'home_DRB',\n       'home_TRB', 'home_AST', 'home_STL', 'home_BLK', 'home_TOV', 'home_PF',\n       'home_PTS', 'home_TS%', 'home_eFG%', 'home_3PAr', 'home_FTr',\n       'home_ORB%', 'home_DRB%', 'home_TRB%', 'home_AST%', 'home_STL%',\n       'home_BLK%', 'home_TOV%', 'home_ORtg', 'home_DRtg', 'home_Pace',\n       'away_team', 'away_streak', 'away_last10', 'away_FG', 'away_FGA',\n       'away_FG%', 'away_3P', 'away_3PA', 'away_3P%', 'away_FT', 'away_FTA',\n       'away_FT%', 'away_ORB', 'away_DRB', 'away_TRB', 'away_AST', 'away_STL',\n       'away_BLK', 'away_TOV', 'away_PF', 'away_PTS', 'away_TS%', 'away_eFG%',\n       'away_3PAr', 'away_FTr', 'away_ORB%', 'away_DRB%', 'away_TRB%',\n       'away_AST%', 'away_STL%', 'away_BLK%', 'away_TOV%', 'away_ORtg',\n       'away_DRtg', 'away_Pace', 'W_PCT', 'GP_RANK', 'W_PCT_RANK',\n       'PLUS_MINUS_RANK', 'W_PCT.1', 'GP_RANK.1', 'W_PCT_RANK.1',\n       'PLUS_MINUS_RANK.1', 'Days-Rest-Home', 'Days-Rest-Away'],\n      dtype='object')"
     },
     "execution_count": 168,
     "metadata": {},
     "output_type": "execute_result"
    }
   ],
   "source": [
    "con = sqlite3.connect('data/transformed/team_moving_avgs_merged.sqlite')\n",
    "team_last_20 = pd.read_sql_query(f\"SELECT * FROM \\\"{'team_last_20'}\\\"\", con)\n",
    "team_last_30 = pd.read_sql_query(f\"SELECT * FROM \\\"{'team_last_30'}\\\"\", con)\n",
    "team_last_40 = pd.read_sql_query(f\"SELECT * FROM \\\"{'team_last_40'}\\\"\", con)\n",
    "team_all_season = pd.read_sql_query(f\"SELECT * FROM \\\"{'team_all_season'}\\\"\", con)\n",
    "con.close()\n",
    "\n",
    "team_last_20['Date'] = pd.to_datetime(team_last_20['Date'])\n",
    "team_last_30['Date'] = pd.to_datetime(team_last_30['Date'])\n",
    "team_last_40['Date'] = pd.to_datetime(team_last_40['Date'])\n",
    "team_all_season['Date'] = pd.to_datetime(team_all_season['Date'])\n",
    "\n",
    "team_last_30.columns"
   ],
   "metadata": {
    "collapsed": false,
    "ExecuteTime": {
     "start_time": "2024-11-11T19:03:13.048488Z",
     "end_time": "2024-11-11T19:03:14.391422Z"
    }
   }
  },
  {
   "cell_type": "code",
   "execution_count": 205,
   "outputs": [],
   "source": [
    "def prepare_data(data):\n",
    "    data = data.dropna(how='any') #axis=1,\n",
    "\n",
    "    totals_columns = ['home_FG', 'home_FGA', 'home_FG%', 'home_3P', 'home_3PA',\n",
    "       'home_3P%', 'home_FT', 'home_FTA', 'home_FT%', 'home_ORB', 'home_DRB',\n",
    "       'home_TRB', 'home_AST', 'home_STL', 'home_BLK', 'home_TOV', 'home_PF',\n",
    "       'home_PTS',  'home_TS%', 'away_FG', 'away_FGA',\n",
    "       'away_FG%', 'away_3P', 'away_3PA', 'away_3P%', 'away_FT', 'away_FTA',\n",
    "       'away_FT%', 'away_ORB', 'away_DRB', 'away_TRB', 'away_AST', 'away_STL',\n",
    "       'away_BLK', 'away_TOV', 'away_PF', 'away_PTS', 'away_TS%']\n",
    "\n",
    "    prc_columns = ['home_TS%', 'home_eFG%', 'home_3PAr', 'home_FTr',\n",
    "       'home_ORB%', 'home_DRB%', 'home_TRB%', 'home_AST%', 'home_STL%',\n",
    "       'home_BLK%', 'home_TOV%', 'home_ORtg', 'home_DRtg', 'away_TS%', 'away_eFG%',\n",
    "       'away_3PAr', 'away_FTr', 'away_ORB%', 'away_DRB%', 'away_TRB%',\n",
    "       'away_AST%', 'away_STL%', 'away_BLK%', 'away_TOV%', 'away_ORtg',\n",
    "       'away_DRtg']\n",
    "    X_train = data[data['Date'] < '2023-10-01']\\\n",
    "        .drop(columns=['game_id', 'Date', 'Season',\n",
    "                       'home_team', 'home_win',\n",
    "                       'away_team']) \\\n",
    "        .drop(columns=totals_columns)\n",
    "\n",
    "    X_test = data[data['Date'] > '2023-10-01']\\\n",
    "        .drop(columns=['game_id', 'Date', 'Season',\n",
    "                       'home_team', 'home_win',\n",
    "                       'away_team'])\\\n",
    "        .drop(columns=totals_columns)\n",
    "\n",
    "    y_train = data[data['Date'] < '2023-10-01'].loc[:,'home_win']\n",
    "    y_test = data[data['Date'] > '2023-10-01'].loc[:,'home_win']\n",
    "\n",
    "    # nan_columns_X_train = X_train.columns[X_train.isna().any()].tolist()\n",
    "    # nan_columns_X_test = X_test.columns[X_test.isna().any()].tolist()\n",
    "    # print(nan_columns_X_train, nan_columns_X_test)\n",
    "\n",
    "    scaler = StandardScaler()\n",
    "    X_train_scaled = scaler.fit_transform(X_train)\n",
    "    X_test_scaled = scaler.transform(X_test)\n",
    "\n",
    "    pca = PCA()\n",
    "    X_train_pca = pca.fit_transform(X_train_scaled)\n",
    "    X_test_pca = pca.transform(X_test_scaled)\n",
    "\n",
    "    return X_train_pca, X_test_pca, y_train, y_test\n",
    "\n",
    "X_train, X_test, y_train, y_test = prepare_data(team_last_30)"
   ],
   "metadata": {
    "collapsed": false,
    "ExecuteTime": {
     "start_time": "2024-11-11T19:15:04.762904Z",
     "end_time": "2024-11-11T19:15:04.824311Z"
    }
   }
  },
  {
   "cell_type": "code",
   "execution_count": 206,
   "outputs": [
    {
     "name": "stdout",
     "output_type": "stream",
     "text": [
      "Dokładność modelu: 64.49%\n",
      "\n",
      "Raport klasyfikacji:\n",
      "               precision    recall  f1-score   support\n",
      "\n",
      "           0       0.65      0.49      0.56       530\n",
      "           1       0.64      0.78      0.70       633\n",
      "\n",
      "    accuracy                           0.64      1163\n",
      "   macro avg       0.65      0.63      0.63      1163\n",
      "weighted avg       0.65      0.64      0.64      1163\n",
      "\n"
     ]
    }
   ],
   "source": [
    "model = LogisticRegression(solver='saga', C=0.3,  max_iter=750) # , C=0.3 ok\n",
    "\n",
    "#rfe = RFE(model)\n",
    "#X_selected = rfe.fit_transform(X_train, y_train)\n",
    "model.fit(X_train, y_train)\n",
    "\n",
    "# X_test_selected = rfe.transform(X_test)\n",
    "y_pred = model.predict(X_test)\n",
    "\n",
    "accuracy = accuracy_score(y_test, y_pred)\n",
    "conf_matrix = confusion_matrix(y_test, y_pred)\n",
    "\n",
    "print(f\"Dokładność modelu: {accuracy * 100:.2f}%\")\n",
    "print(\"\\nRaport klasyfikacji:\\n\", classification_report(y_test, y_pred))"
   ],
   "metadata": {
    "collapsed": false,
    "ExecuteTime": {
     "start_time": "2024-11-11T19:15:05.121642Z",
     "end_time": "2024-11-11T19:15:05.524505Z"
    }
   }
  },
  {
   "cell_type": "code",
   "execution_count": 207,
   "outputs": [
    {
     "data": {
      "text/plain": "<Figure size 600x400 with 2 Axes>",
      "image/png": "[encoded data removed]"
     },
     "metadata": {},
     "output_type": "display_data"
    }
   ],
   "source": [
    "plt.figure(figsize=(6, 4))\n",
    "sns.heatmap(conf_matrix, annot=True, fmt=\"d\", cmap=\"Blues\")\n",
    "plt.xlabel(\"Przewidywane klasy\")\n",
    "plt.ylabel(\"Rzeczywiste klasy\")\n",
    "plt.title(\"Macierz pomyłek dla regresji logistycznej\")\n",
    "plt.savefig(\"graphs/confusion_matrix_rl.png\", dpi=300, bbox_inches='tight')\n",
    "plt.show()"
   ],
   "metadata": {
    "collapsed": false,
    "ExecuteTime": {
     "start_time": "2024-11-11T19:18:54.551140Z",
     "end_time": "2024-11-11T19:18:55.561465Z"
    }
   }
  },
  {
   "cell_type": "code",
   "execution_count": 210,
   "outputs": [],
   "source": [
    "with open('Models/LR_model.pkl', 'wb') as file:\n",
    "    pickle.dump(model, file)"
   ],
   "metadata": {
    "collapsed": false,
    "ExecuteTime": {
     "start_time": "2024-11-11T19:29:27.028819Z",
     "end_time": "2024-11-11T19:29:27.054680Z"
    }
   }
  },
  {
   "cell_type": "markdown",
   "source": [
    "Brak zmienności przy używaniu średnich kroczących z różnym oknem\n",
    "\n",
    "PCA nie ma wielkiego wpływu na wynik precyzji\n",
    "\n",
    "63.63% -> 64.49% przy usunieciu zmiennych totals\n",
    "\n",
    "usunięcie zmiennych procentowych negatywnie wpływa na model -> spadek o 1.5pp w porownaniu do najlepszego modelu - tylko z grupą zmiennych procentowych\n",
    "\n",
    "pozostawienie grup zarówno procentowych jak i nominalnych jest gorsze niż tylko procentowe, ale lepsze niż pozostawienie tylko nominalnych\n",
    "\n",
    "1. Precision (Precyzja):\n",
    "Precyzja to miara dokładności w przewidywaniu pozytywnych przypadków (klasa 1).\n",
    "\n",
    "Dla klasy 0: Precyzja wynosi 0.64, co oznacza, że spośród wszystkich przypadków, które model zakwalifikował jako 0, 64% rzeczywiście było klasą 0.\n",
    "Dla klasy 1: Precyzja wynosi 0.64, co oznacza, że spośród wszystkich przypadków, które model zakwalifikował jako 1, 64% rzeczywiście było klasą 1.\n",
    "2. Recall (Czułość):\n",
    "Recall to miara zdolności modelu do wychwycenia wszystkich rzeczywistych przypadków danej klasy.\n",
    "\n",
    "Dla klasy 0: Recall wynosi 0.47, co oznacza, że model poprawnie zidentyfikował 47% rzeczywistych przypadków klasy 0 (spośród wszystkich prawdziwych 0).\n",
    "Dla klasy 1: Recall wynosi 0.77, co oznacza, że model poprawnie zidentyfikował 77% rzeczywistych przypadków klasy 1."
   ],
   "metadata": {
    "collapsed": false
   }
  }
 ],
 "metadata": {
  "kernelspec": {
   "display_name": "Python 3",
   "language": "python",
   "name": "python3"
  },
  "language_info": {
   "codemirror_mode": {
    "name": "ipython",
    "version": 2
   },
   "file_extension": ".py",
   "mimetype": "text/x-python",
   "name": "python",
   "nbconvert_exporter": "python",
   "pygments_lexer": "ipython2",
   "version": "2.7.6"
  }
 },
 "nbformat": 4,
 "nbformat_minor": 0
}
