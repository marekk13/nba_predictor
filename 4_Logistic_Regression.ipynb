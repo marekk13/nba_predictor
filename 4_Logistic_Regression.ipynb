{
 "cells": [
  {
   "cell_type": "code",
   "execution_count": null,
   "outputs": [],
   "source": [
    "import pandas as pd\n",
    "import sqlite3\n",
    "from sklearn.linear_model import LogisticRegression\n",
    "from sklearn.metrics import accuracy_score, confusion_matrix, classification_report\n",
    "import pickle\n",
    "import seaborn as sns\n",
    "import matplotlib.pyplot as plt\n",
    "from sklearn.decomposition import PCA\n",
    "from sklearn.preprocessing import StandardScaler\n",
    "\n",
    "pd.set_option('display.max_columns', 40)"
   ],
   "metadata": {
    "collapsed": false,
    "ExecuteTime": {
     "start_time": "2024-12-28T19:23:25.526857Z",
     "end_time": "2024-12-28T19:23:26.203083Z"
    }
   }
  },
  {
   "cell_type": "code",
   "execution_count": null,
   "outputs": [],
   "source": [
    "con = sqlite3.connect('data/transformed/team_moving_avgs_merged.sqlite')\n",
    "team_last_20 = pd.read_sql_query(f\"SELECT * FROM \\\"{'team_last_20'}\\\"\", con)\n",
    "team_last_30 = pd.read_sql_query(f\"SELECT * FROM \\\"{'team_last_30'}\\\"\", con)\n",
    "team_last_40 = pd.read_sql_query(f\"SELECT * FROM \\\"{'team_last_40'}\\\"\", con)\n",
    "team_all_season = pd.read_sql_query(f\"SELECT * FROM \\\"{'team_all_season'}\\\"\", con)\n",
    "con.close()\n",
    "\n",
    "team_last_20['Date'] = pd.to_datetime(team_last_20['Date'])\n",
    "team_last_30['Date'] = pd.to_datetime(team_last_30['Date'])\n",
    "team_last_40['Date'] = pd.to_datetime(team_last_40['Date'])\n",
    "team_all_season['Date'] = pd.to_datetime(team_all_season['Date'])\n",
    "\n",
    "team_last_30.columns"
   ],
   "metadata": {
    "collapsed": false,
    "ExecuteTime": {
     "start_time": "2024-12-28T19:23:26.203083Z",
     "end_time": "2024-12-28T19:23:27.212665Z"
    }
   }
  },
  {
   "cell_type": "code",
   "execution_count": null,
   "outputs": [],
   "source": [
    "def prepare_data(data):\n",
    "    data = data.dropna(how='any') #axis=1,\n",
    "    threshold_date = '2022-10-01'\n",
    "\n",
    "    totals_columns = ['home_FG', 'home_FGA', 'home_FG%', 'home_3P', 'home_3PA',\n",
    "       'home_3P%', 'home_FT', 'home_FTA', 'home_FT%', 'home_ORB', 'home_DRB',\n",
    "       'home_TRB', 'home_AST', 'home_STL', 'home_BLK', 'home_TOV', 'home_PF',\n",
    "       'home_PTS',  'home_TS%', 'away_FG', 'away_FGA',\n",
    "       'away_FG%', 'away_3P', 'away_3PA', 'away_3P%', 'away_FT', 'away_FTA',\n",
    "       'away_FT%', 'away_ORB', 'away_DRB', 'away_TRB', 'away_AST', 'away_STL',\n",
    "       'away_BLK', 'away_TOV', 'away_PF', 'away_PTS']\n",
    "\n",
    "    prc_columns = ['home_TS%', 'home_eFG%', 'home_3PAr', 'home_FTr',\n",
    "       'home_ORB%', 'home_DRB%', 'home_TRB%', 'home_AST%', 'home_STL%',\n",
    "       'home_BLK%', 'home_TOV%', 'home_ORtg', 'home_DRtg', 'away_TS%', 'away_eFG%',\n",
    "       'away_3PAr', 'away_FTr', 'away_ORB%', 'away_DRB%', 'away_TRB%',\n",
    "       'away_AST%', 'away_STL%', 'away_BLK%', 'away_TOV%', 'away_ORtg',\n",
    "       'away_DRtg', 'away_TS%']\n",
    "    X_train = data[data['Date'] < threshold_date]\\\n",
    "        .drop(columns=['game_id', 'Date', 'Season',\n",
    "                       'home_team', 'home_win',\n",
    "                       'away_team']) \\\n",
    "        # .drop(columns=totals_columns)\n",
    "\n",
    "    X_test = data[data['Date'] > threshold_date]\\\n",
    "        .drop(columns=['game_id', 'Date', 'Season',\n",
    "                       'home_team', 'home_win',\n",
    "                       'away_team'])\\\n",
    "        # .drop(columns=totals_columns)\n",
    "\n",
    "    y_train = data[data['Date'] < threshold_date].loc[:,'home_win']\n",
    "    y_test = data[data['Date'] > threshold_date].loc[:,'home_win']\n",
    "\n",
    "    # nan_columns_X_train = X_train.columns[X_train.isna().any()].tolist()\n",
    "    # nan_columns_X_test = X_test.columns[X_test.isna().any()].tolist()\n",
    "    # print(nan_columns_X_train, nan_columns_X_test)\n",
    "\n",
    "    scaler = StandardScaler()\n",
    "    X_train_scaled = scaler.fit_transform(X_train)\n",
    "    X_test_scaled = scaler.transform(X_test)\n",
    "\n",
    "    pca = PCA()\n",
    "    X_train_pca = pca.fit_transform(X_train_scaled)\n",
    "    X_test_pca = pca.transform(X_test_scaled)\n",
    "\n",
    "    return X_train_pca, X_test_pca, y_train, y_test\n",
    "\n",
    "X_train, X_test, y_train, y_test = prepare_data(team_all_season)"
   ],
   "metadata": {
    "collapsed": false,
    "ExecuteTime": {
     "start_time": "2024-12-28T19:58:46.472271Z",
     "end_time": "2024-12-28T19:58:46.556171Z"
    }
   }
  },
  {
   "cell_type": "code",
   "execution_count": null,
   "outputs": [],
   "source": [
    "model = LogisticRegression(solver='saga', C=0.4,  max_iter=750) # , C=0.3 ok\n",
    "\n",
    "#rfe = RFE(model)\n",
    "#X_selected = rfe.fit_transform(X_train, y_train)\n",
    "model.fit(X_train, y_train)\n",
    "\n",
    "# X_test_selected = rfe.transform(X_test)\n",
    "y_pred = model.predict(X_test)\n",
    "\n",
    "accuracy = accuracy_score(y_test, y_pred)\n",
    "conf_matrix = confusion_matrix(y_test, y_pred)\n",
    "\n",
    "print(f\"Dokładność modelu: {accuracy * 100:.2f}%\")\n",
    "print(\"\\nRaport klasyfikacji:\\n\", classification_report(y_test, y_pred))"
   ],
   "metadata": {
    "collapsed": false,
    "ExecuteTime": {
     "start_time": "2024-12-28T19:58:46.696853Z",
     "end_time": "2024-12-28T19:58:49.558612Z"
    }
   }
  },
  {
   "cell_type": "code",
   "execution_count": null,
   "outputs": [],
   "source": [
    "plt.figure(figsize=(6, 4))\n",
    "sns.heatmap(conf_matrix, annot=True, fmt=\"d\", cmap=\"Blues\")\n",
    "plt.xlabel(\"Przewidywane klasy\")\n",
    "plt.ylabel(\"Rzeczywiste klasy\")\n",
    "plt.title(\"Macierz pomyłek dla regresji logistycznej\")\n",
    "plt.savefig(\"graphs/confusion_matrix_rl.png\", dpi=300, bbox_inches='tight')\n",
    "plt.show()"
   ],
   "metadata": {
    "collapsed": false,
    "ExecuteTime": {
     "start_time": "2024-12-28T19:58:57.718445Z",
     "end_time": "2024-12-28T19:58:58.150529Z"
    }
   }
  },
  {
   "cell_type": "code",
   "execution_count": null,
   "outputs": [],
   "source": [
    "with open('Models/LR_model.pkl', 'wb') as file:\n",
    "    pickle.dump(model, file)"
   ],
   "metadata": {
    "collapsed": false,
    "ExecuteTime": {
     "start_time": "2024-12-28T19:23:28.035667Z",
     "end_time": "2024-12-28T19:23:28.096993Z"
    }
   }
  },
  {
   "cell_type": "markdown",
   "source": [
    "Brak zmienności przy używaniu średnich kroczących z różnym oknem\n",
    "\n",
    "PCA nie ma wielkiego wpływu na wynik precyzji\n",
    "\n",
    "63.63% -> 64.49% przy usunieciu zmiennych totals\n",
    "\n",
    "usunięcie zmiennych procentowych negatywnie wpływa na model -> spadek o 1.5pp w porownaniu do najlepszego modelu - tylko z grupą zmiennych procentowych\n",
    "\n",
    "pozostawienie grup zarówno procentowych jak i nominalnych jest gorsze niż tylko procentowe, ale lepsze niż pozostawienie tylko nominalnych\n",
    "\n",
    "1. Precision (Precyzja):\n",
    "Precyzja to miara dokładności w przewidywaniu pozytywnych przypadków (klasa 1).\n",
    "\n",
    "Dla klasy 0: Precyzja wynosi 0.64, co oznacza, że spośród wszystkich przypadków, które model zakwalifikował jako 0, 64% rzeczywiście było klasą 0.\n",
    "Dla klasy 1: Precyzja wynosi 0.64, co oznacza, że spośród wszystkich przypadków, które model zakwalifikował jako 1, 64% rzeczywiście było klasą 1.\n",
    "2. Recall (Czułość):\n",
    "Recall to miara zdolności modelu do wychwycenia wszystkich rzeczywistych przypadków danej klasy.\n",
    "\n",
    "Dla klasy 0: Recall wynosi 0.47, co oznacza, że model poprawnie zidentyfikował 47% rzeczywistych przypadków klasy 0 (spośród wszystkich prawdziwych 0).\n",
    "Dla klasy 1: Recall wynosi 0.77, co oznacza, że model poprawnie zidentyfikował 77% rzeczywistych przypadków klasy 1."
   ],
   "metadata": {
    "collapsed": false
   }
  }
 ],
 "metadata": {
  "kernelspec": {
   "display_name": "Python 3",
   "language": "python",
   "name": "python3"
  },
  "language_info": {
   "codemirror_mode": {
    "name": "ipython",
    "version": 2
   },
   "file_extension": ".py",
   "mimetype": "text/x-python",
   "name": "python",
   "nbconvert_exporter": "python",
   "pygments_lexer": "ipython2",
   "version": "2.7.6"
  }
 },
 "nbformat": 4,
 "nbformat_minor": 0
}
