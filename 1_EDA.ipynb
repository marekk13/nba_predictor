{
 "cells": [
  {
   "cell_type": "markdown",
   "id": "c601af4e-e1af-4f3a-9ba7-13055c88356f",
   "metadata": {},
   "source": [
    "# Eksploracyjna analiza danych\n",
    "\n",
    "### Badanie miar położenia i rozproszenia\n",
    "- Użycie metody describe() do wyświetlenia podstawowych miar\n",
    "\n",
    "### Badanie rozkładu danych\n",
    "- Boxploty\n",
    "- Histogramy \n",
    "    \n",
    "### Korelacje\n",
    "- Wykresy korelacji\n"
   ]
  },
  {
   "cell_type": "code",
   "execution_count": null,
   "id": "53fa0fae-74a4-4ae1-969e-f2a90b689347",
   "metadata": {
    "ExecuteTime": {
     "start_time": "2024-12-16T19:30:09.842254Z",
     "end_time": "2024-12-16T19:30:09.867328Z"
    }
   },
   "outputs": [],
   "source": [
    "import pandas as pd\n",
    "import sqlite3 \n",
    "import matplotlib.pyplot as plt\n",
    "import seaborn as sns\n",
    "import numpy as np\n",
    "\n",
    "pd.set_option('display.max_columns', 40)"
   ]
  },
  {
   "cell_type": "code",
   "execution_count": null,
   "id": "c0545e38-8e5a-429a-936a-2c1ec1b81d4c",
   "metadata": {
    "ExecuteTime": {
     "start_time": "2024-12-16T19:30:09.861307Z",
     "end_time": "2024-12-16T19:30:10.042859Z"
    }
   },
   "outputs": [],
   "source": [
    "con = sqlite3.connect('data/start/NBA-Game-Database-combined.sqlite')\n",
    "tables = pd.read_sql_query(\n",
    "    \"SELECT name FROM sqlite_master WHERE type='table'\", con)\n",
    "tables"
   ]
  },
  {
   "cell_type": "markdown",
   "id": "48b65ec4-3ba3-48f7-800e-99139750d936",
   "metadata": {},
   "source": [
    "### Game Info "
   ]
  },
  {
   "cell_type": "code",
   "execution_count": null,
   "id": "c807ea2f-4730-47ca-9acb-e8a500c6b4d9",
   "metadata": {
    "ExecuteTime": {
     "start_time": "2024-12-16T19:30:09.966162Z",
     "end_time": "2024-12-16T19:30:10.152755Z"
    }
   },
   "outputs": [],
   "source": [
    "game_info = pd.read_sql_query(f\"SELECT * FROM \\\"{'game_info'}\\\" ORDER BY date\", con)\n",
    "game_info"
   ]
  },
  {
   "cell_type": "code",
   "execution_count": null,
   "id": "be07eead-26b7-4f33-b490-f63e18b2cb0f",
   "metadata": {
    "ExecuteTime": {
     "start_time": "2024-12-16T19:30:10.061908Z",
     "end_time": "2024-12-16T19:30:10.348794Z"
    }
   },
   "outputs": [],
   "source": [
    "game_info.describe().iloc[:,2:]"
   ]
  },
  {
   "cell_type": "markdown",
   "id": "90d9738a-a8ff-4c41-95cc-b08a86bee601",
   "metadata": {},
   "source": [
    "### Team Stats"
   ]
  },
  {
   "cell_type": "code",
   "execution_count": null,
   "id": "eb25f726-f090-48b0-af82-b8c3637ceb14",
   "metadata": {
    "ExecuteTime": {
     "start_time": "2024-12-16T19:30:10.128173Z",
     "end_time": "2024-12-16T19:30:10.915892Z"
    }
   },
   "outputs": [],
   "source": [
    "team_stats = pd.read_sql_query(f\"SELECT * FROM \\\"{'team_stats'}\\\"\", con)\n",
    "# team_stats['game_id'] = team_stats['game_id'] \\\n",
    "#                         .apply(lambda x: int.from_bytes(x, byteorder='little') if isinstance(x, bytes) else x)\n",
    "# team_stats = team_stats.drop(columns='BPM')\n",
    "num_cols = team_stats.columns[3:].tolist()\n",
    "print(num_cols)\n",
    "team_stats"
   ]
  },
  {
   "cell_type": "code",
   "execution_count": null,
   "id": "5724969e-fcdd-408d-9f2a-b5d4a643d0ce",
   "metadata": {
    "ExecuteTime": {
     "start_time": "2024-12-16T19:30:10.738355Z",
     "end_time": "2024-12-16T19:30:11.120681Z"
    }
   },
   "outputs": [],
   "source": [
    "team_stats.describe().iloc[:,1:16]"
   ]
  },
  {
   "cell_type": "code",
   "execution_count": null,
   "id": "d84e6d64-e5a1-49da-9bf1-42dbbcfafffd",
   "metadata": {
    "ExecuteTime": {
     "start_time": "2024-12-16T19:30:10.922549Z",
     "end_time": "2024-12-16T19:30:11.347276Z"
    }
   },
   "outputs": [],
   "source": [
    "team_stats.describe().iloc[:,16:]"
   ]
  },
  {
   "cell_type": "code",
   "execution_count": null,
   "id": "1d322309-f10f-41ff-b3f9-50e02d95a880",
   "metadata": {
    "ExecuteTime": {
     "start_time": "2024-12-16T20:04:11.405674Z",
     "end_time": "2024-12-16T20:04:16.868596Z"
    }
   },
   "outputs": [],
   "source": [
    "fig, axs = plt.subplots(4, 4, figsize=(12, 12))\n",
    "fig.patch.set_facecolor('white')\n",
    "fig.suptitle('Boxploty dla danych drużynowych', fontsize=16)\n",
    "for i,column in enumerate(['FGA', '3PA', '3P%',  'FT%', \n",
    "               'TRB', 'AST', 'PF', 'PTS', \n",
    "               'TOV', 'eFG%', '3PAr', 'ORB%',  \n",
    "               'AST%',  'TOV%', 'ORtg', 'Pace']):\n",
    "    sns.boxplot(team_stats, y=column, ax=axs[i//4, i%4], showmeans=True)\n",
    "plt.tight_layout()\n",
    "plt.savefig(\"graphs/boxplots_team.png\", dpi=400, bbox_inches='tight')\n",
    "plt.show()"
   ]
  },
  {
   "cell_type": "code",
   "execution_count": null,
   "id": "c8df6f1e-07fc-41a6-8361-f18cda6d244c",
   "metadata": {
    "ExecuteTime": {
     "start_time": "2024-12-16T20:04:16.872593Z",
     "end_time": "2024-12-16T20:04:26.123437Z"
    }
   },
   "outputs": [],
   "source": [
    "fig, axs = plt.subplots(4, 4, figsize=(12, 12))\n",
    "fig.patch.set_facecolor('white')\n",
    "fig.suptitle('Histogramy dla danych drużynowych', fontsize=16)\n",
    "for i,column in enumerate(['FGA', '3PA', '3P%',  'FT%', \n",
    "               'TRB', 'AST', 'PF', 'PTS', \n",
    "               'TOV', 'eFG%', '3PAr', 'ORB%',  \n",
    "               'STL%',  'TOV%', 'ORtg', 'Pace']):\n",
    "    if column in ['TOV', 'PF', 'AST', 'FGA', '3PA', 'TRB', 'AST', 'PTS',]:\n",
    "        sns.histplot(team_stats, x=column, element='bars', ax=axs[i//4, i%4], binwidth=1)\n",
    "        continue\n",
    "    sns.histplot(team_stats, x=column, element='bars', ax=axs[i//4, i%4])\n",
    "\n",
    "plt.tight_layout()\n",
    "plt.savefig(\"graphs/histograms_team.png\", dpi=400, bbox_inches='tight')\n",
    "plt.show()"
   ]
  },
  {
   "cell_type": "code",
   "execution_count": null,
   "outputs": [],
   "source": [
    "team_stats['win'] = team_stats.groupby('game_id')['PTS'].transform(lambda x: x == x.max()).astype(int)\n",
    "# team_stats.to_sql('team_stats', con, if_exists='replace', index=False)"
   ],
   "metadata": {
    "collapsed": false,
    "ExecuteTime": {
     "start_time": "2024-12-16T20:04:26.127106Z",
     "end_time": "2024-12-16T20:04:27.842869Z"
    }
   }
  },
  {
   "cell_type": "code",
   "execution_count": null,
   "outputs": [],
   "source": [
    "corr_matrix = team_stats.select_dtypes(include=[np.number]) \\\n",
    "  .corr() \\\n",
    "  .dropna(axis=0, how='all') \\\n",
    "  .dropna(axis=1, how='all')\n",
    "\n",
    "plt.figure(figsize=(25, 25))\n",
    "heatmap1 = sns.heatmap(corr_matrix, cmap=\"coolwarm\", annot=True)\n",
    "heatmap1.set_title('Macierz korelacji\\n\\n', fontsize=17)\n",
    "\n",
    "# _ = heatmap1.set_yticklabels(corr_matrix.index, size=14)\n",
    "# _ = heatmap1.set_xticklabels(heatmap1.get_xticklabels(), size=14, rotation=45)\n",
    "plt.savefig(\"graphs/corr_team.png\", dpi=300, bbox_inches='tight')\n",
    "plt.show()"
   ],
   "metadata": {
    "collapsed": false,
    "ExecuteTime": {
     "start_time": "2024-12-16T20:04:27.848987Z",
     "end_time": "2024-12-16T20:04:34.111584Z"
    }
   }
  },
  {
   "cell_type": "markdown",
   "id": "6b7b839a-47c8-4f88-b828-20b9431fde8a",
   "metadata": {},
   "source": [
    "### Player stats"
   ]
  },
  {
   "cell_type": "code",
   "execution_count": null,
   "id": "d381c10c-db31-4f71-a956-1aebe9554342",
   "metadata": {
    "ExecuteTime": {
     "start_time": "2024-12-16T19:31:05.669043Z",
     "end_time": "2024-12-16T19:31:13.179078Z"
    }
   },
   "outputs": [],
   "source": [
    "player_stats = pd.read_sql_query(f\"SELECT * FROM \\\"{'player_stats'}\\\"\", con)\n",
    "player_stats"
   ]
  },
  {
   "cell_type": "code",
   "execution_count": null,
   "id": "593552bc-66c3-4e18-b278-8229a2287d02",
   "metadata": {
    "ExecuteTime": {
     "start_time": "2024-12-16T19:31:12.849992Z",
     "end_time": "2024-12-16T19:31:16.172336Z"
    }
   },
   "outputs": [],
   "source": [
    "player_stats.describe().iloc[:,1:19]"
   ]
  },
  {
   "cell_type": "code",
   "execution_count": null,
   "id": "48ed80e8-737a-442d-b142-1cb3bac23fa3",
   "metadata": {
    "ExecuteTime": {
     "start_time": "2024-12-16T19:31:15.465335Z",
     "end_time": "2024-12-16T19:31:17.498826Z"
    }
   },
   "outputs": [],
   "source": [
    "player_stats.describe().iloc[:,19:]"
   ]
  },
  {
   "cell_type": "markdown",
   "source": [
    "AST% błąd gruby (min -1000)"
   ],
   "metadata": {
    "collapsed": false
   }
  },
  {
   "cell_type": "code",
   "execution_count": null,
   "outputs": [],
   "source": [
    "player_stats['NetRtg'] = player_stats['ORtg'] - player_stats['DRtg']"
   ],
   "metadata": {
    "collapsed": false,
    "ExecuteTime": {
     "start_time": "2024-12-16T19:31:17.184789Z",
     "end_time": "2024-12-16T19:31:17.531852Z"
    }
   }
  },
  {
   "cell_type": "code",
   "execution_count": null,
   "outputs": [],
   "source": [
    "fig, axs = plt.subplots(4, 4, figsize=(12, 12))\n",
    "fig.patch.set_facecolor('white')\n",
    "fig.suptitle('Boxploty dla danych wg zawodników', fontsize=16)\n",
    "for i,column in enumerate(['PTS', 'FTA', '3P%',  'FT%',\n",
    "               'TRB', 'AST', 'PF', '3PA',\n",
    "               'TOV', 'eFG%', '3PAr', '+/-',\n",
    "               'AST%',  'TOV%', 'NetRtg', 'USG%']):\n",
    "    sns.boxplot(player_stats, y=column, ax=axs[i//4, i%4], showmeans=True)\n",
    "\n",
    "plt.tight_layout()\n",
    "plt.savefig(\"graphs/boxplots_players.png\", dpi=400, bbox_inches='tight')\n",
    "plt.show()"
   ],
   "metadata": {
    "collapsed": false,
    "ExecuteTime": {
     "start_time": "2024-12-16T19:31:17.234918Z",
     "end_time": "2024-12-16T19:31:26.417412Z"
    }
   }
  },
  {
   "cell_type": "code",
   "execution_count": null,
   "id": "48bcb545-1579-4403-af70-3ddd77c64cf3",
   "metadata": {
    "ExecuteTime": {
     "start_time": "2024-12-16T19:31:26.409863Z",
     "end_time": "2024-12-16T19:31:40.467844Z"
    }
   },
   "outputs": [],
   "source": [
    "fig, axs = plt.subplots(4, 4, figsize=(12, 12))\n",
    "fig.patch.set_facecolor('white')\n",
    "fig.suptitle('Histogramy dla danych wg zawodników', fontsize=16)\n",
    "for i,column in enumerate(['PTS', 'FTA', '3P%',  'FT%',\n",
    "               'TRB', 'AST', 'PF', '3PA',\n",
    "               'TOV', 'eFG%', '3PAr', '+/-',\n",
    "               'AST%',  'TOV%', 'NetRtg', 'USG%']):\n",
    "    if column in ['TOV', 'PF', 'AST', 'FGA', '3PA', 'TRB', 'AST', 'PTS', 'FTA']:\n",
    "        sns.histplot(player_stats, x=column, element='bars', ax=axs[i//4, i%4], binwidth=1)\n",
    "        continue\n",
    "    sns.histplot(player_stats, x=column, element='bars', ax=axs[i//4, i%4])\n",
    "\n",
    "plt.tight_layout()\n",
    "plt.savefig(\"graphs/histograms_players.png\", dpi=400, bbox_inches='tight')\n",
    "plt.show()"
   ]
  },
  {
   "cell_type": "code",
   "execution_count": null,
   "outputs": [],
   "source": [
    "con.close()"
   ],
   "metadata": {
    "collapsed": false,
    "ExecuteTime": {
     "start_time": "2024-12-16T19:31:40.469848Z",
     "end_time": "2024-12-16T19:31:40.483700Z"
    }
   }
  }
 ],
 "metadata": {
  "kernelspec": {
   "display_name": "Python 3.10",
   "language": "python",
   "name": "myenv"
  },
  "language_info": {
   "codemirror_mode": {
    "name": "ipython",
    "version": 3
   },
   "file_extension": ".py",
   "mimetype": "text/x-python",
   "name": "python",
   "nbconvert_exporter": "python",
   "pygments_lexer": "ipython3",
   "version": "3.9.13"
  }
 },
 "nbformat": 4,
 "nbformat_minor": 5
}
