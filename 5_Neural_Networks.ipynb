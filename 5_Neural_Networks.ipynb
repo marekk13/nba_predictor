{
 "cells": [
  {
   "cell_type": "markdown",
   "source": [],
   "metadata": {
    "collapsed": false
   }
  },
  {
   "cell_type": "code",
   "execution_count": 33,
   "outputs": [],
   "source": [
    "import pandas as pd\n",
    "import sqlite3\n",
    "from tensorflow.keras.models import Sequential\n",
    "from tensorflow.keras.layers import Dense, Dropout\n",
    "from tensorflow.keras.optimizers import Adam\n",
    "from sklearn.metrics import classification_report, accuracy_score, confusion_matrix\n",
    "from sklearn.decomposition import PCA\n",
    "from sklearn.preprocessing import MinMaxScaler\n",
    "import pickle\n",
    "import seaborn as sns\n",
    "import matplotlib.pyplot as plt\n",
    "\n",
    "pd.set_option('display.max_columns', 40)"
   ],
   "metadata": {
    "collapsed": false,
    "ExecuteTime": {
     "start_time": "2024-12-21T22:47:56.387896Z",
     "end_time": "2024-12-21T22:47:56.413507Z"
    }
   }
  },
  {
   "cell_type": "code",
   "execution_count": 28,
   "outputs": [
    {
     "data": {
      "text/plain": "Index(['game_id', 'Date', 'Season', 'home_team', 'home_win', 'home_streak',\n       'home_last10', 'home_FG', 'home_FGA', 'home_FG%', 'home_3P', 'home_3PA',\n       'home_3P%', 'home_FT', 'home_FTA', 'home_FT%', 'home_ORB', 'home_DRB',\n       'home_TRB', 'home_AST', 'home_STL', 'home_BLK', 'home_TOV', 'home_PF',\n       'home_PTS', 'home_TS%', 'home_eFG%', 'home_3PAr', 'home_FTr',\n       'home_ORB%', 'home_DRB%', 'home_TRB%', 'home_AST%', 'home_STL%',\n       'home_BLK%', 'home_TOV%', 'home_ORtg', 'home_DRtg', 'home_Pace',\n       'away_team', 'away_streak', 'away_last10', 'away_FG', 'away_FGA',\n       'away_FG%', 'away_3P', 'away_3PA', 'away_3P%', 'away_FT', 'away_FTA',\n       'away_FT%', 'away_ORB', 'away_DRB', 'away_TRB', 'away_AST', 'away_STL',\n       'away_BLK', 'away_TOV', 'away_PF', 'away_PTS', 'away_TS%', 'away_eFG%',\n       'away_3PAr', 'away_FTr', 'away_ORB%', 'away_DRB%', 'away_TRB%',\n       'away_AST%', 'away_STL%', 'away_BLK%', 'away_TOV%', 'away_ORtg',\n       'away_DRtg', 'away_Pace', 'W_PCT', 'GP_RANK', 'W_PCT_RANK',\n       'PLUS_MINUS_RANK', 'W_PCT.1', 'GP_RANK.1', 'W_PCT_RANK.1',\n       'PLUS_MINUS_RANK.1', 'Days-Rest-Home', 'Days-Rest-Away'],\n      dtype='object')"
     },
     "execution_count": 28,
     "metadata": {},
     "output_type": "execute_result"
    }
   ],
   "source": [
    "con = sqlite3.connect('data/transformed/team_moving_avgs_merged.sqlite')\n",
    "team_last_20 = pd.read_sql_query(f\"SELECT * FROM \\\"{'team_last_20'}\\\"\", con)\n",
    "team_last_30 = pd.read_sql_query(f\"SELECT * FROM \\\"{'team_last_30'}\\\"\", con)\n",
    "team_last_40 = pd.read_sql_query(f\"SELECT * FROM \\\"{'team_last_40'}\\\"\", con)\n",
    "team_all_season = pd.read_sql_query(f\"SELECT * FROM \\\"{'team_all_season'}\\\"\", con)\n",
    "con.close()\n",
    "\n",
    "team_last_20['Date'] = pd.to_datetime(team_last_20['Date'])\n",
    "team_last_30['Date'] = pd.to_datetime(team_last_30['Date'])\n",
    "team_last_40['Date'] = pd.to_datetime(team_last_40['Date'])\n",
    "team_all_season['Date'] = pd.to_datetime(team_all_season['Date'])\n",
    "\n",
    "team_last_30.columns"
   ],
   "metadata": {
    "collapsed": false,
    "ExecuteTime": {
     "start_time": "2024-12-21T22:45:57.385182Z",
     "end_time": "2024-12-21T22:45:59.123628Z"
    }
   }
  },
  {
   "cell_type": "code",
   "execution_count": 29,
   "outputs": [],
   "source": [
    "def prepare_data(data):\n",
    "    data = data.dropna(how='any') #axis=1,\n",
    "    threshold_date = '2022-10-01'\n",
    "    totals_columns = ['home_FG', 'home_FGA', 'home_FG%', 'home_3P', 'home_3PA',\n",
    "       'home_3P%', 'home_FT', 'home_FTA', 'home_FT%', 'home_ORB', 'home_DRB',\n",
    "       'home_TRB', 'home_AST', 'home_STL', 'home_BLK', 'home_TOV', 'home_PF',\n",
    "       'home_PTS',  'home_TS%', 'away_FG', 'away_FGA',\n",
    "       'away_FG%', 'away_3P', 'away_3PA', 'away_3P%', 'away_FT', 'away_FTA',\n",
    "       'away_FT%', 'away_ORB', 'away_DRB', 'away_TRB', 'away_AST', 'away_STL',\n",
    "       'away_BLK', 'away_TOV', 'away_PF', 'away_PTS', 'away_TS%']\n",
    "\n",
    "    prc_columns = ['home_TS%', 'home_eFG%', 'home_3PAr', 'home_FTr',\n",
    "       'home_ORB%', 'home_DRB%', 'home_TRB%', 'home_AST%', 'home_STL%',\n",
    "       'home_BLK%', 'home_TOV%', 'home_ORtg', 'home_DRtg', 'away_TS%', 'away_eFG%',\n",
    "       'away_3PAr', 'away_FTr', 'away_ORB%', 'away_DRB%', 'away_TRB%',\n",
    "       'away_AST%', 'away_STL%', 'away_BLK%', 'away_TOV%', 'away_ORtg',\n",
    "       'away_DRtg']\n",
    "    X_train = data[data['Date'] < threshold_date]\\\n",
    "        .drop(columns=['game_id', 'Date', 'Season',\n",
    "                       'home_team', 'home_win',\n",
    "                       'away_team']) \\\n",
    "        .drop(columns=totals_columns)\n",
    "\n",
    "    X_test = data[data['Date'] > threshold_date]\\\n",
    "        .drop(columns=['game_id', 'Date', 'Season',\n",
    "                       'home_team', 'home_win',\n",
    "                       'away_team'])\\\n",
    "        .drop(columns=totals_columns)\n",
    "\n",
    "    y_train = data[data['Date'] < threshold_date].loc[:,'home_win']\n",
    "    y_test = data[data['Date'] > threshold_date].loc[:,'home_win']\n",
    "\n",
    "    # nan_columns_X_train = X_train.columns[X_train.isna().any()].tolist()\n",
    "    # nan_columns_X_test = X_test.columns[X_test.isna().any()].tolist()\n",
    "    # print(nan_columns_X_train, nan_columns_X_test)\n",
    "\n",
    "    scaler = MinMaxScaler()\n",
    "    X_train_scaled = scaler.fit_transform(X_train)\n",
    "    X_test_scaled = scaler.transform(X_test)\n",
    "\n",
    "    pca = PCA()\n",
    "    X_train_pca = pca.fit_transform(X_train_scaled)\n",
    "    X_test_pca = pca.transform(X_test_scaled)\n",
    "\n",
    "    return X_train_pca, X_test_pca, y_train, y_test\n",
    "\n",
    "X_train, X_test, y_train, y_test = prepare_data(team_all_season)"
   ],
   "metadata": {
    "collapsed": false,
    "ExecuteTime": {
     "start_time": "2024-12-21T22:45:59.133711Z",
     "end_time": "2024-12-21T22:45:59.201423Z"
    }
   }
  },
  {
   "cell_type": "code",
   "execution_count": 30,
   "outputs": [
    {
     "data": {
      "text/plain": "array([[-4.12439348e-01, -4.55175911e-01, -9.21496689e-01, ...,\n        -2.39405783e-03,  1.12157402e-03, -1.43096821e-02],\n       [ 2.02090534e-01, -5.27784533e-01, -9.14383655e-01, ...,\n         7.56014401e-03, -9.30742847e-03, -1.43948596e-02],\n       [-7.48426911e-01,  6.51590776e-03, -7.62619408e-01, ...,\n         4.30072586e-04,  9.20210000e-03, -5.00512628e-03],\n       ...,\n       [ 4.59225073e-01, -3.01160293e-01, -5.18634339e-01, ...,\n         7.02298481e-03, -9.70051635e-03,  6.58764446e-03],\n       [-9.22929818e-01, -7.10880886e-02, -5.16800981e-01, ...,\n        -4.33216286e-03,  1.23680762e-03, -7.02913804e-04],\n       [ 8.22042245e-01,  2.04872628e-01, -6.01530463e-01, ...,\n         7.29488316e-05, -7.39600845e-03, -7.97477983e-03]])"
     },
     "execution_count": 30,
     "metadata": {},
     "output_type": "execute_result"
    }
   ],
   "source": [
    "X_train\n",
    "\n",
    "# kolumny szczegolowe - 40\n",
    "# kolumny ogolne - 52"
   ],
   "metadata": {
    "collapsed": false,
    "ExecuteTime": {
     "start_time": "2024-12-21T22:46:01.194027Z",
     "end_time": "2024-12-21T22:46:01.213853Z"
    }
   }
  },
  {
   "cell_type": "code",
   "execution_count": 31,
   "outputs": [
    {
     "name": "stdout",
     "output_type": "stream",
     "text": [
      "Epoch 1/50\n"
     ]
    },
    {
     "name": "stderr",
     "output_type": "stream",
     "text": [
      "C:\\Users\\Marek\\PycharmProjects\\nba\\venv\\lib\\site-packages\\keras\\src\\layers\\core\\dense.py:87: UserWarning: Do not pass an `input_shape`/`input_dim` argument to a layer. When using Sequential models, prefer using an `Input(shape)` object as the first layer in the model instead.\n",
      "  super().__init__(activity_regularizer=activity_regularizer, **kwargs)\n"
     ]
    },
    {
     "name": "stdout",
     "output_type": "stream",
     "text": [
      "\u001B[1m147/147\u001B[0m \u001B[32m━━━━━━━━━━━━━━━━━━━━\u001B[0m\u001B[37m\u001B[0m \u001B[1m2s\u001B[0m 4ms/step - accuracy: 0.5325 - loss: 0.6985 - val_accuracy: 0.6063 - val_loss: 0.6802\n",
      "Epoch 2/50\n",
      "\u001B[1m147/147\u001B[0m \u001B[32m━━━━━━━━━━━━━━━━━━━━\u001B[0m\u001B[37m\u001B[0m \u001B[1m0s\u001B[0m 3ms/step - accuracy: 0.5991 - loss: 0.6799 - val_accuracy: 0.6173 - val_loss: 0.6694\n",
      "Epoch 3/50\n",
      "\u001B[1m147/147\u001B[0m \u001B[32m━━━━━━━━━━━━━━━━━━━━\u001B[0m\u001B[37m\u001B[0m \u001B[1m1s\u001B[0m 3ms/step - accuracy: 0.6023 - loss: 0.6702 - val_accuracy: 0.6029 - val_loss: 0.6679\n",
      "Epoch 4/50\n",
      "\u001B[1m147/147\u001B[0m \u001B[32m━━━━━━━━━━━━━━━━━━━━\u001B[0m\u001B[37m\u001B[0m \u001B[1m1s\u001B[0m 3ms/step - accuracy: 0.6020 - loss: 0.6646 - val_accuracy: 0.6122 - val_loss: 0.6627\n",
      "Epoch 5/50\n",
      "\u001B[1m147/147\u001B[0m \u001B[32m━━━━━━━━━━━━━━━━━━━━\u001B[0m\u001B[37m\u001B[0m \u001B[1m0s\u001B[0m 3ms/step - accuracy: 0.6176 - loss: 0.6573 - val_accuracy: 0.6156 - val_loss: 0.6594\n",
      "Epoch 6/50\n",
      "\u001B[1m147/147\u001B[0m \u001B[32m━━━━━━━━━━━━━━━━━━━━\u001B[0m\u001B[37m\u001B[0m \u001B[1m0s\u001B[0m 3ms/step - accuracy: 0.6341 - loss: 0.6521 - val_accuracy: 0.6037 - val_loss: 0.6611\n",
      "Epoch 7/50\n",
      "\u001B[1m147/147\u001B[0m \u001B[32m━━━━━━━━━━━━━━━━━━━━\u001B[0m\u001B[37m\u001B[0m \u001B[1m1s\u001B[0m 4ms/step - accuracy: 0.6259 - loss: 0.6521 - val_accuracy: 0.6224 - val_loss: 0.6569\n",
      "Epoch 8/50\n",
      "\u001B[1m147/147\u001B[0m \u001B[32m━━━━━━━━━━━━━━━━━━━━\u001B[0m\u001B[37m\u001B[0m \u001B[1m0s\u001B[0m 3ms/step - accuracy: 0.6178 - loss: 0.6598 - val_accuracy: 0.6207 - val_loss: 0.6557\n",
      "Epoch 9/50\n",
      "\u001B[1m147/147\u001B[0m \u001B[32m━━━━━━━━━━━━━━━━━━━━\u001B[0m\u001B[37m\u001B[0m \u001B[1m0s\u001B[0m 3ms/step - accuracy: 0.6270 - loss: 0.6571 - val_accuracy: 0.6233 - val_loss: 0.6578\n",
      "Epoch 10/50\n",
      "\u001B[1m147/147\u001B[0m \u001B[32m━━━━━━━━━━━━━━━━━━━━\u001B[0m\u001B[37m\u001B[0m \u001B[1m0s\u001B[0m 2ms/step - accuracy: 0.6167 - loss: 0.6604 - val_accuracy: 0.6156 - val_loss: 0.6564\n",
      "Epoch 11/50\n",
      "\u001B[1m147/147\u001B[0m \u001B[32m━━━━━━━━━━━━━━━━━━━━\u001B[0m\u001B[37m\u001B[0m \u001B[1m1s\u001B[0m 6ms/step - accuracy: 0.6235 - loss: 0.6504 - val_accuracy: 0.6156 - val_loss: 0.6566\n",
      "Epoch 12/50\n",
      "\u001B[1m147/147\u001B[0m \u001B[32m━━━━━━━━━━━━━━━━━━━━\u001B[0m\u001B[37m\u001B[0m \u001B[1m0s\u001B[0m 3ms/step - accuracy: 0.6272 - loss: 0.6501 - val_accuracy: 0.6182 - val_loss: 0.6566\n",
      "Epoch 13/50\n",
      "\u001B[1m147/147\u001B[0m \u001B[32m━━━━━━━━━━━━━━━━━━━━\u001B[0m\u001B[37m\u001B[0m \u001B[1m0s\u001B[0m 3ms/step - accuracy: 0.6195 - loss: 0.6530 - val_accuracy: 0.6233 - val_loss: 0.6553\n",
      "Epoch 14/50\n",
      "\u001B[1m147/147\u001B[0m \u001B[32m━━━━━━━━━━━━━━━━━━━━\u001B[0m\u001B[37m\u001B[0m \u001B[1m0s\u001B[0m 3ms/step - accuracy: 0.6230 - loss: 0.6513 - val_accuracy: 0.6122 - val_loss: 0.6566\n",
      "Epoch 15/50\n",
      "\u001B[1m147/147\u001B[0m \u001B[32m━━━━━━━━━━━━━━━━━━━━\u001B[0m\u001B[37m\u001B[0m \u001B[1m0s\u001B[0m 3ms/step - accuracy: 0.6188 - loss: 0.6493 - val_accuracy: 0.6156 - val_loss: 0.6560\n",
      "Epoch 16/50\n",
      "\u001B[1m147/147\u001B[0m \u001B[32m━━━━━━━━━━━━━━━━━━━━\u001B[0m\u001B[37m\u001B[0m \u001B[1m0s\u001B[0m 2ms/step - accuracy: 0.6266 - loss: 0.6483 - val_accuracy: 0.6097 - val_loss: 0.6555\n",
      "Epoch 17/50\n",
      "\u001B[1m147/147\u001B[0m \u001B[32m━━━━━━━━━━━━━━━━━━━━\u001B[0m\u001B[37m\u001B[0m \u001B[1m0s\u001B[0m 2ms/step - accuracy: 0.6181 - loss: 0.6492 - val_accuracy: 0.6190 - val_loss: 0.6528\n",
      "Epoch 18/50\n",
      "\u001B[1m147/147\u001B[0m \u001B[32m━━━━━━━━━━━━━━━━━━━━\u001B[0m\u001B[37m\u001B[0m \u001B[1m0s\u001B[0m 3ms/step - accuracy: 0.6339 - loss: 0.6492 - val_accuracy: 0.6114 - val_loss: 0.6541\n",
      "Epoch 19/50\n",
      "\u001B[1m147/147\u001B[0m \u001B[32m━━━━━━━━━━━━━━━━━━━━\u001B[0m\u001B[37m\u001B[0m \u001B[1m0s\u001B[0m 3ms/step - accuracy: 0.6301 - loss: 0.6491 - val_accuracy: 0.6105 - val_loss: 0.6538\n",
      "Epoch 20/50\n",
      "\u001B[1m147/147\u001B[0m \u001B[32m━━━━━━━━━━━━━━━━━━━━\u001B[0m\u001B[37m\u001B[0m \u001B[1m0s\u001B[0m 3ms/step - accuracy: 0.6430 - loss: 0.6418 - val_accuracy: 0.6259 - val_loss: 0.6506\n",
      "Epoch 21/50\n",
      "\u001B[1m147/147\u001B[0m \u001B[32m━━━━━━━━━━━━━━━━━━━━\u001B[0m\u001B[37m\u001B[0m \u001B[1m0s\u001B[0m 3ms/step - accuracy: 0.6240 - loss: 0.6508 - val_accuracy: 0.6156 - val_loss: 0.6533\n",
      "Epoch 22/50\n",
      "\u001B[1m147/147\u001B[0m \u001B[32m━━━━━━━━━━━━━━━━━━━━\u001B[0m\u001B[37m\u001B[0m \u001B[1m0s\u001B[0m 2ms/step - accuracy: 0.6205 - loss: 0.6554 - val_accuracy: 0.6156 - val_loss: 0.6529\n",
      "Epoch 23/50\n",
      "\u001B[1m147/147\u001B[0m \u001B[32m━━━━━━━━━━━━━━━━━━━━\u001B[0m\u001B[37m\u001B[0m \u001B[1m0s\u001B[0m 2ms/step - accuracy: 0.6329 - loss: 0.6426 - val_accuracy: 0.6114 - val_loss: 0.6535\n",
      "Epoch 24/50\n",
      "\u001B[1m147/147\u001B[0m \u001B[32m━━━━━━━━━━━━━━━━━━━━\u001B[0m\u001B[37m\u001B[0m \u001B[1m0s\u001B[0m 3ms/step - accuracy: 0.6307 - loss: 0.6446 - val_accuracy: 0.6139 - val_loss: 0.6535\n",
      "Epoch 25/50\n",
      "\u001B[1m147/147\u001B[0m \u001B[32m━━━━━━━━━━━━━━━━━━━━\u001B[0m\u001B[37m\u001B[0m \u001B[1m1s\u001B[0m 3ms/step - accuracy: 0.6419 - loss: 0.6393 - val_accuracy: 0.6267 - val_loss: 0.6511\n",
      "Epoch 26/50\n",
      "\u001B[1m147/147\u001B[0m \u001B[32m━━━━━━━━━━━━━━━━━━━━\u001B[0m\u001B[37m\u001B[0m \u001B[1m0s\u001B[0m 2ms/step - accuracy: 0.6242 - loss: 0.6501 - val_accuracy: 0.6097 - val_loss: 0.6529\n",
      "Epoch 27/50\n",
      "\u001B[1m147/147\u001B[0m \u001B[32m━━━━━━━━━━━━━━━━━━━━\u001B[0m\u001B[37m\u001B[0m \u001B[1m1s\u001B[0m 4ms/step - accuracy: 0.6402 - loss: 0.6360 - val_accuracy: 0.6207 - val_loss: 0.6507\n",
      "Epoch 28/50\n",
      "\u001B[1m147/147\u001B[0m \u001B[32m━━━━━━━━━━━━━━━━━━━━\u001B[0m\u001B[37m\u001B[0m \u001B[1m0s\u001B[0m 2ms/step - accuracy: 0.6268 - loss: 0.6444 - val_accuracy: 0.6241 - val_loss: 0.6510\n",
      "Epoch 29/50\n",
      "\u001B[1m147/147\u001B[0m \u001B[32m━━━━━━━━━━━━━━━━━━━━\u001B[0m\u001B[37m\u001B[0m \u001B[1m0s\u001B[0m 2ms/step - accuracy: 0.6287 - loss: 0.6486 - val_accuracy: 0.6063 - val_loss: 0.6549\n",
      "Epoch 30/50\n",
      "\u001B[1m147/147\u001B[0m \u001B[32m━━━━━━━━━━━━━━━━━━━━\u001B[0m\u001B[37m\u001B[0m \u001B[1m0s\u001B[0m 3ms/step - accuracy: 0.6368 - loss: 0.6411 - val_accuracy: 0.6046 - val_loss: 0.6558\n",
      "Epoch 31/50\n",
      "\u001B[1m147/147\u001B[0m \u001B[32m━━━━━━━━━━━━━━━━━━━━\u001B[0m\u001B[37m\u001B[0m \u001B[1m0s\u001B[0m 3ms/step - accuracy: 0.6377 - loss: 0.6411 - val_accuracy: 0.6182 - val_loss: 0.6519\n",
      "Epoch 32/50\n",
      "\u001B[1m147/147\u001B[0m \u001B[32m━━━━━━━━━━━━━━━━━━━━\u001B[0m\u001B[37m\u001B[0m \u001B[1m0s\u001B[0m 3ms/step - accuracy: 0.6190 - loss: 0.6544 - val_accuracy: 0.6267 - val_loss: 0.6517\n",
      "Epoch 33/50\n",
      "\u001B[1m147/147\u001B[0m \u001B[32m━━━━━━━━━━━━━━━━━━━━\u001B[0m\u001B[37m\u001B[0m \u001B[1m1s\u001B[0m 3ms/step - accuracy: 0.6325 - loss: 0.6439 - val_accuracy: 0.6276 - val_loss: 0.6501\n",
      "Epoch 34/50\n",
      "\u001B[1m147/147\u001B[0m \u001B[32m━━━━━━━━━━━━━━━━━━━━\u001B[0m\u001B[37m\u001B[0m \u001B[1m1s\u001B[0m 4ms/step - accuracy: 0.6349 - loss: 0.6400 - val_accuracy: 0.6156 - val_loss: 0.6535\n",
      "Epoch 35/50\n",
      "\u001B[1m147/147\u001B[0m \u001B[32m━━━━━━━━━━━━━━━━━━━━\u001B[0m\u001B[37m\u001B[0m \u001B[1m0s\u001B[0m 3ms/step - accuracy: 0.6282 - loss: 0.6458 - val_accuracy: 0.6224 - val_loss: 0.6537\n",
      "Epoch 36/50\n",
      "\u001B[1m147/147\u001B[0m \u001B[32m━━━━━━━━━━━━━━━━━━━━\u001B[0m\u001B[37m\u001B[0m \u001B[1m0s\u001B[0m 3ms/step - accuracy: 0.6289 - loss: 0.6407 - val_accuracy: 0.6199 - val_loss: 0.6534\n",
      "Epoch 37/50\n",
      "\u001B[1m147/147\u001B[0m \u001B[32m━━━━━━━━━━━━━━━━━━━━\u001B[0m\u001B[37m\u001B[0m \u001B[1m0s\u001B[0m 3ms/step - accuracy: 0.6310 - loss: 0.6509 - val_accuracy: 0.6250 - val_loss: 0.6518\n",
      "Epoch 38/50\n",
      "\u001B[1m147/147\u001B[0m \u001B[32m━━━━━━━━━━━━━━━━━━━━\u001B[0m\u001B[37m\u001B[0m \u001B[1m1s\u001B[0m 3ms/step - accuracy: 0.6318 - loss: 0.6405 - val_accuracy: 0.6233 - val_loss: 0.6505\n",
      "Epoch 39/50\n",
      "\u001B[1m147/147\u001B[0m \u001B[32m━━━━━━━━━━━━━━━━━━━━\u001B[0m\u001B[37m\u001B[0m \u001B[1m1s\u001B[0m 3ms/step - accuracy: 0.6286 - loss: 0.6420 - val_accuracy: 0.6259 - val_loss: 0.6511\n",
      "Epoch 40/50\n",
      "\u001B[1m147/147\u001B[0m \u001B[32m━━━━━━━━━━━━━━━━━━━━\u001B[0m\u001B[37m\u001B[0m \u001B[1m0s\u001B[0m 3ms/step - accuracy: 0.6198 - loss: 0.6412 - val_accuracy: 0.6250 - val_loss: 0.6519\n",
      "Epoch 41/50\n",
      "\u001B[1m147/147\u001B[0m \u001B[32m━━━━━━━━━━━━━━━━━━━━\u001B[0m\u001B[37m\u001B[0m \u001B[1m0s\u001B[0m 3ms/step - accuracy: 0.6344 - loss: 0.6393 - val_accuracy: 0.6199 - val_loss: 0.6523\n",
      "Epoch 42/50\n",
      "\u001B[1m147/147\u001B[0m \u001B[32m━━━━━━━━━━━━━━━━━━━━\u001B[0m\u001B[37m\u001B[0m \u001B[1m0s\u001B[0m 3ms/step - accuracy: 0.6333 - loss: 0.6374 - val_accuracy: 0.6369 - val_loss: 0.6496\n",
      "Epoch 43/50\n",
      "\u001B[1m147/147\u001B[0m \u001B[32m━━━━━━━━━━━━━━━━━━━━\u001B[0m\u001B[37m\u001B[0m \u001B[1m0s\u001B[0m 2ms/step - accuracy: 0.6176 - loss: 0.6445 - val_accuracy: 0.6224 - val_loss: 0.6522\n",
      "Epoch 44/50\n",
      "\u001B[1m147/147\u001B[0m \u001B[32m━━━━━━━━━━━━━━━━━━━━\u001B[0m\u001B[37m\u001B[0m \u001B[1m0s\u001B[0m 2ms/step - accuracy: 0.6350 - loss: 0.6405 - val_accuracy: 0.6344 - val_loss: 0.6492\n",
      "Epoch 45/50\n",
      "\u001B[1m147/147\u001B[0m \u001B[32m━━━━━━━━━━━━━━━━━━━━\u001B[0m\u001B[37m\u001B[0m \u001B[1m0s\u001B[0m 3ms/step - accuracy: 0.6267 - loss: 0.6537 - val_accuracy: 0.6216 - val_loss: 0.6524\n",
      "Epoch 46/50\n",
      "\u001B[1m147/147\u001B[0m \u001B[32m━━━━━━━━━━━━━━━━━━━━\u001B[0m\u001B[37m\u001B[0m \u001B[1m0s\u001B[0m 3ms/step - accuracy: 0.6337 - loss: 0.6445 - val_accuracy: 0.6190 - val_loss: 0.6529\n",
      "Epoch 47/50\n",
      "\u001B[1m147/147\u001B[0m \u001B[32m━━━━━━━━━━━━━━━━━━━━\u001B[0m\u001B[37m\u001B[0m \u001B[1m0s\u001B[0m 2ms/step - accuracy: 0.6394 - loss: 0.6362 - val_accuracy: 0.6395 - val_loss: 0.6497\n",
      "Epoch 48/50\n",
      "\u001B[1m147/147\u001B[0m \u001B[32m━━━━━━━━━━━━━━━━━━━━\u001B[0m\u001B[37m\u001B[0m \u001B[1m0s\u001B[0m 2ms/step - accuracy: 0.6261 - loss: 0.6411 - val_accuracy: 0.6361 - val_loss: 0.6505\n",
      "Epoch 49/50\n",
      "\u001B[1m147/147\u001B[0m \u001B[32m━━━━━━━━━━━━━━━━━━━━\u001B[0m\u001B[37m\u001B[0m \u001B[1m0s\u001B[0m 2ms/step - accuracy: 0.6316 - loss: 0.6315 - val_accuracy: 0.6199 - val_loss: 0.6528\n",
      "Epoch 50/50\n",
      "\u001B[1m147/147\u001B[0m \u001B[32m━━━━━━━━━━━━━━━━━━━━\u001B[0m\u001B[37m\u001B[0m \u001B[1m0s\u001B[0m 3ms/step - accuracy: 0.6153 - loss: 0.6413 - val_accuracy: 0.6335 - val_loss: 0.6493\n"
     ]
    }
   ],
   "source": [
    "model = Sequential()\n",
    "\n",
    "model.add(Dense(40, input_dim=X_train.shape[1], activation='tanh'))\n",
    "model.add(Dropout(0.2))  # Dropout dla ograniczenia przeuczenia\n",
    "\n",
    "# ukryta warstwa\n",
    "model.add(Dense(7, activation='relu'))\n",
    "model.add(Dropout(0.5))\n",
    "\n",
    "model.add(Dense(7, activation='relu'))\n",
    "model.add(Dropout(0.5))\n",
    "\n",
    "model.add(Dense(1, activation='sigmoid'))\n",
    "\n",
    "model.compile(optimizer=Adam(learning_rate=0.001),\n",
    "              loss='binary_crossentropy',\n",
    "              metrics=['accuracy'])\n",
    "\n",
    "history = model.fit(X_train, y_train,\n",
    "                    validation_split=0.2,\n",
    "                    epochs=50,\n",
    "                    batch_size=32,\n",
    "                    verbose=1)"
   ],
   "metadata": {
    "collapsed": false,
    "ExecuteTime": {
     "start_time": "2024-12-21T22:46:04.340195Z",
     "end_time": "2024-12-21T22:46:29.006214Z"
    }
   }
  },
  {
   "cell_type": "code",
   "execution_count": 32,
   "outputs": [
    {
     "name": "stdout",
     "output_type": "stream",
     "text": [
      "\u001B[1m76/76\u001B[0m \u001B[32m━━━━━━━━━━━━━━━━━━━━\u001B[0m\u001B[37m\u001B[0m \u001B[1m0s\u001B[0m 2ms/step\n",
      "Accuracy on test set: 0.6293211162015827\n",
      "              precision    recall  f1-score   support\n",
      "\n",
      "           0       0.62      0.40      0.48      1051\n",
      "           1       0.63      0.81      0.71      1350\n",
      "\n",
      "    accuracy                           0.63      2401\n",
      "   macro avg       0.63      0.60      0.60      2401\n",
      "weighted avg       0.63      0.63      0.61      2401\n",
      "\n"
     ]
    }
   ],
   "source": [
    "y_pred = (model.predict(X_test) > 0.5).astype(\"int32\")\n",
    "print(\"Accuracy on test set:\", accuracy_score(y_test, y_pred))\n",
    "print(classification_report(y_test, y_pred))\n",
    "# minmax zamiast standardscaler\n",
    "# model = Sequential()\n",
    "#\n",
    "# model.add(Dense(40, input_dim=X_train.shape[1], activation='tanh'))\n",
    "# model.add(Dropout(0.2))  # Dropout dla ograniczenia przeuczenia\n",
    "#\n",
    "# # ukryta warstwa\n",
    "# model.add(Dense(7, activation='relu'))\n",
    "# model.add(Dropout(0.5))\n",
    "#\n",
    "# model.add(Dense(7, activation='relu'))\n",
    "# model.add(Dropout(0.5))\n",
    "#\n",
    "# model.add(Dense(1, activation='sigmoid'))\n",
    "#\n",
    "# model.compile(optimizer=Adam(learning_rate=0.001),\n",
    "#               loss='binary_crossentropy',\n",
    "#               metrics=['accuracy'])\n",
    "#\n",
    "# history = model.fit(X_train, y_train,\n",
    "#                     validation_split=0.2,\n",
    "#                     epochs=50,\n",
    "#                     batch_size=32,\n",
    "#                     verbose=1)"
   ],
   "metadata": {
    "collapsed": false,
    "ExecuteTime": {
     "start_time": "2024-12-21T22:46:44.280556Z",
     "end_time": "2024-12-21T22:46:44.635965Z"
    }
   }
  },
  {
   "cell_type": "code",
   "execution_count": 26,
   "outputs": [
    {
     "name": "stdout",
     "output_type": "stream",
     "text": [
      "\u001B[1m76/76\u001B[0m \u001B[32m━━━━━━━━━━━━━━━━━━━━\u001B[0m\u001B[37m\u001B[0m \u001B[1m0s\u001B[0m 2ms/step\n",
      "Accuracy on test set: 0.6084964598084132\n",
      "              precision    recall  f1-score   support\n",
      "\n",
      "           0       0.64      0.24      0.35      1051\n",
      "           1       0.60      0.89      0.72      1350\n",
      "\n",
      "    accuracy                           0.61      2401\n",
      "   macro avg       0.62      0.57      0.54      2401\n",
      "weighted avg       0.62      0.61      0.56      2401\n",
      "\n"
     ]
    }
   ],
   "source": [
    "y_pred = (model.predict(X_test) > 0.5).astype(\"int32\")\n",
    "print(\"Accuracy on test set:\", accuracy_score(y_test, y_pred))\n",
    "print(classification_report(y_test, y_pred))\n",
    "# zmienione liczebnosci neuronow w warstwach ukrytych, zgodnie z literatura (skoczylas)\n",
    "# model = Sequential()\n",
    "#\n",
    "# model.add(Dense(40, input_dim=X_train.shape[1], activation='tanh'))\n",
    "# model.add(Dropout(0.2))  # Dropout dla ograniczenia przeuczenia\n",
    "#\n",
    "# # ukryta warstwa\n",
    "# model.add(Dense(7, activation='relu'))\n",
    "# model.add(Dropout(0.5))\n",
    "#\n",
    "# model.add(Dense(7, activation='relu'))\n",
    "# model.add(Dropout(0.5))\n",
    "#\n",
    "# model.add(Dense(1, activation='sigmoid'))\n",
    "#\n",
    "# model.compile(optimizer=Adam(learning_rate=0.001),\n",
    "#               loss='binary_crossentropy',\n",
    "#               metrics=['accuracy'])\n",
    "#\n",
    "# history = model.fit(X_train, y_train,\n",
    "#                     validation_split=0.2,\n",
    "#                     epochs=50,\n",
    "#                     batch_size=32,\n",
    "#                     verbose=1)"
   ],
   "metadata": {
    "collapsed": false,
    "ExecuteTime": {
     "start_time": "2024-12-21T00:47:58.964000Z",
     "end_time": "2024-12-21T00:47:59.436801Z"
    }
   }
  },
  {
   "cell_type": "code",
   "execution_count": 32,
   "outputs": [
    {
     "name": "stdout",
     "output_type": "stream",
     "text": [
      "\u001B[1m37/37\u001B[0m \u001B[32m━━━━━━━━━━━━━━━━━━━━\u001B[0m\u001B[37m\u001B[0m \u001B[1m0s\u001B[0m 3ms/step\n",
      "Accuracy on test set: 0.6276870163370594\n",
      "              precision    recall  f1-score   support\n",
      "\n",
      "           0       0.64      0.42      0.51       530\n",
      "           1       0.62      0.80      0.70       633\n",
      "\n",
      "    accuracy                           0.63      1163\n",
      "   macro avg       0.63      0.61      0.60      1163\n",
      "weighted avg       0.63      0.63      0.61      1163\n",
      "\n"
     ]
    }
   ],
   "source": [
    "y_pred = (model.predict(X_test) > 0.5).astype(\"int32\")\n",
    "print(\"Accuracy on test set:\", accuracy_score(y_test, y_pred))\n",
    "print(classification_report(y_test, y_pred))\n",
    "# pca, wszystkie kolumny\n",
    "# # Warstwa wejściowa i pierwsza ukryta warstwa\n",
    "# model.add(Dense(128, input_dim=X_train.shape[1], activation='tanh'))\n",
    "# model.add(Dropout(0.4))  # Dropout dla ograniczenia przeuczenia\n",
    "#\n",
    "# # Druga ukryta warstwa\n",
    "# model.add(Dense(64, activation='relu'))\n",
    "# model.add(Dropout(0.4))\n",
    "#\n",
    "# model.add(Dense(64, activation='relu'))\n",
    "# model.add(Dropout(0.4))\n",
    "#\n",
    "# model.add(Dense(1, activation='sigmoid'))\n",
    "#\n",
    "# model.compile(optimizer=Adam(learning_rate=0.002),\n",
    "#               loss='binary_crossentropy',\n",
    "#               metrics=['accuracy'])\n",
    "#\n",
    "# history = model.fit(X_train, y_train,\n",
    "#                     validation_split=0.2,\n",
    "#                     epochs=40,\n",
    "#                     batch_size=32,\n",
    "#                     verbose=1)"
   ],
   "metadata": {
    "collapsed": false,
    "ExecuteTime": {
     "start_time": "2024-12-18T16:44:30.343067Z",
     "end_time": "2024-12-18T16:44:30.571499Z"
    }
   }
  },
  {
   "cell_type": "code",
   "execution_count": 35,
   "outputs": [
    {
     "name": "stdout",
     "output_type": "stream",
     "text": [
      "\u001B[1m37/37\u001B[0m \u001B[32m━━━━━━━━━━━━━━━━━━━━\u001B[0m\u001B[37m\u001B[0m \u001B[1m0s\u001B[0m 3ms/step\n",
      "Accuracy on test set: 0.646603611349957\n",
      "              precision    recall  f1-score   support\n",
      "\n",
      "           0       0.66      0.45      0.54       530\n",
      "           1       0.64      0.81      0.71       633\n",
      "\n",
      "    accuracy                           0.65      1163\n",
      "   macro avg       0.65      0.63      0.63      1163\n",
      "weighted avg       0.65      0.65      0.63      1163\n",
      "\n"
     ]
    }
   ],
   "source": [
    "y_pred = (model.predict(X_test) > 0.5).astype(\"int32\")\n",
    "print(\"Accuracy on test set:\", accuracy_score(y_test, y_pred))\n",
    "print(classification_report(y_test, y_pred))\n",
    "# pca, bez ogolnych kolumn\n",
    "# model.add(Dense(128, input_dim=X_train.shape[1], activation='tanh'))\n",
    "# model.add(Dropout(0.5))  # Dropout dla ograniczenia przeuczenia\n",
    "#\n",
    "# # Druga ukryta warstwa\n",
    "# model.add(Dense(32, activation='relu'))\n",
    "# model.add(Dropout(0.5))\n",
    "#\n",
    "# model.add(Dense(32, activation='relu'))\n",
    "# model.add(Dropout(0.5))\n",
    "#\n",
    "# model.add(Dense(1, activation='sigmoid'))\n",
    "#\n",
    "# model.compile(optimizer=Adam(learning_rate=0.003),\n",
    "#               loss='binary_crossentropy',\n",
    "#               metrics=['accuracy'])\n",
    "#\n",
    "# history = model.fit(X_train, y_train,\n",
    "#                     validation_split=0.2,\n",
    "#                     epochs=40,\n",
    "#                     batch_size=32,\n",
    "#                     verbose=1)"
   ],
   "metadata": {
    "collapsed": false,
    "ExecuteTime": {
     "start_time": "2024-12-18T16:47:52.505685Z",
     "end_time": "2024-12-18T16:47:52.767813Z"
    }
   }
  },
  {
   "cell_type": "code",
   "execution_count": 29,
   "outputs": [
    {
     "name": "stdout",
     "output_type": "stream",
     "text": [
      "\u001B[1m37/37\u001B[0m \u001B[32m━━━━━━━━━━━━━━━━━━━━\u001B[0m\u001B[37m\u001B[0m \u001B[1m0s\u001B[0m 3ms/step\n",
      "Accuracy on test set: 0.6311263972484953\n",
      "              precision    recall  f1-score   support\n",
      "\n",
      "           0       0.59      0.63      0.61       530\n",
      "           1       0.67      0.63      0.65       633\n",
      "\n",
      "    accuracy                           0.63      1163\n",
      "   macro avg       0.63      0.63      0.63      1163\n",
      "weighted avg       0.63      0.63      0.63      1163\n",
      "\n"
     ]
    }
   ],
   "source": [
    "y_pred = (model.predict(X_test) > 0.5).astype(\"int32\")\n",
    "print(\"Accuracy on test set:\", accuracy_score(y_test, y_pred))\n",
    "print(classification_report(y_test, y_pred))\n",
    "# pca, bez ogolnych kolumn\n",
    "# # Warstwa wejściowa i pierwsza ukryta warstwa\n",
    "# model.add(Dense(128, input_dim=X_train.shape[1], activation='tanh'))\n",
    "# model.add(Dropout(0.4))  # Dropout dla ograniczenia przeuczenia\n",
    "#\n",
    "# # Druga ukryta warstwa\n",
    "# model.add(Dense(64, activation='relu'))\n",
    "# model.add(Dropout(0.4))\n",
    "#\n",
    "# model.add(Dense(64, activation='relu'))\n",
    "# model.add(Dropout(0.4))\n",
    "#\n",
    "# model.add(Dense(1, activation='sigmoid'))\n",
    "#\n",
    "# model.compile(optimizer=Adam(learning_rate=0.002),\n",
    "#               loss='binary_crossentropy',\n",
    "#               metrics=['accuracy'])\n",
    "#\n",
    "# history = model.fit(X_train, y_train,\n",
    "#                     validation_split=0.2,\n",
    "#                     epochs=40,\n",
    "#                     batch_size=32,\n",
    "#                     verbose=1)"
   ],
   "metadata": {
    "collapsed": false,
    "ExecuteTime": {
     "start_time": "2024-12-18T16:38:18.417466Z",
     "end_time": "2024-12-18T16:38:18.651557Z"
    }
   }
  },
  {
   "cell_type": "code",
   "execution_count": 41,
   "outputs": [
    {
     "name": "stdout",
     "output_type": "stream",
     "text": [
      "\u001B[1m37/37\u001B[0m \u001B[32m━━━━━━━━━━━━━━━━━━━━\u001B[0m\u001B[37m\u001B[0m \u001B[1m0s\u001B[0m 3ms/step\n",
      "Accuracy on test set: 0.6251074806534824\n",
      "              precision    recall  f1-score   support\n",
      "\n",
      "           0       0.70      0.31      0.43       530\n",
      "           1       0.61      0.89      0.72       633\n",
      "\n",
      "    accuracy                           0.63      1163\n",
      "   macro avg       0.65      0.60      0.57      1163\n",
      "weighted avg       0.65      0.63      0.59      1163\n",
      "\n"
     ]
    }
   ],
   "source": [
    "y_pred = (model.predict(X_test) > 0.5).astype(\"int32\")\n",
    "print(\"Accuracy on test set:\", accuracy_score(y_test, y_pred))\n",
    "print(classification_report(y_test, y_pred))\n",
    "# pca, bez szczegolowych kolumn 1\n",
    "# model.add(Dense(128, input_dim=X_train.shape[1], activation='tanh'))\n",
    "# model.add(Dropout(0.4))  # Dropout dla ograniczenia przeuczenia\n",
    "#\n",
    "# # Druga ukryta warstwa\n",
    "# model.add(Dense(64, activation='relu'))\n",
    "# model.add(Dropout(0.4))\n",
    "#\n",
    "# model.add(Dense(64, activation='relu'))\n",
    "# model.add(Dropout(0.4))\n",
    "#\n",
    "# model.add(Dense(1, activation='sigmoid'))\n",
    "#\n",
    "# model.compile(optimizer=Adam(learning_rate=0.002),\n",
    "#               loss='binary_crossentropy',\n",
    "#               metrics=['accuracy'])\n",
    "#\n",
    "# history = model.fit(X_train, y_train,\n",
    "#                     validation_split=0.2,\n",
    "#                     epochs=40,\n",
    "#                     batch_size=32,\n",
    "#                     verbose=1)"
   ],
   "metadata": {
    "collapsed": false,
    "ExecuteTime": {
     "start_time": "2024-12-18T17:02:34.078932Z",
     "end_time": "2024-12-18T17:02:34.364225Z"
    }
   }
  },
  {
   "cell_type": "code",
   "execution_count": 5,
   "outputs": [
    {
     "name": "stdout",
     "output_type": "stream",
     "text": [
      "\u001B[1m37/37\u001B[0m \u001B[32m━━━━━━━━━━━━━━━━━━━━\u001B[0m\u001B[37m\u001B[0m \u001B[1m0s\u001B[0m 3ms/step\n",
      "Accuracy on test set: 0.6173688736027515\n",
      "              precision    recall  f1-score   support\n",
      "\n",
      "           0       0.60      0.48      0.53       530\n",
      "           1       0.63      0.73      0.68       633\n",
      "\n",
      "    accuracy                           0.62      1163\n",
      "   macro avg       0.61      0.61      0.60      1163\n",
      "weighted avg       0.61      0.62      0.61      1163\n",
      "\n"
     ]
    }
   ],
   "source": [
    "y_pred = (model.predict(X_test) > 0.5).astype(\"int32\")\n",
    "print(\"Accuracy on test set:\", accuracy_score(y_test, y_pred))\n",
    "print(classification_report(y_test, y_pred))\n",
    "# bez pca, bez ogólnych kolumn\n",
    "# model.add(Dense(128, input_dim=X_train.shape[1], activation='tanh'))\n",
    "# model.add(Dropout(0.3))  # Dropout dla ograniczenia przeuczenia\n",
    "#\n",
    "# # Druga ukryta warstwa\n",
    "# model.add(Dense(64, activation='relu'))\n",
    "# model.add(Dropout(0.2))\n",
    "\n",
    "#model.add(Dense(64, activation='relu'))\n",
    "# model.add(Dropout(0.4))\n",
    "\n",
    "# model.add(Dense(1, activation='sigmoid'))\n",
    "#\n",
    "# model.compile(optimizer=Adam(learning_rate=0.001),\n",
    "#               loss='binary_crossentropy',\n",
    "#               metrics=['accuracy'])\n",
    "#\n",
    "# history = model.fit(X_train, y_train,\n",
    "#                     validation_split=0.2,\n",
    "#                     epochs=40,\n",
    "#                     batch_size=32,\n",
    "#                     verbose=1)"
   ],
   "metadata": {
    "collapsed": false,
    "ExecuteTime": {
     "start_time": "2024-12-18T20:16:24.877673Z",
     "end_time": "2024-12-18T20:16:25.192591Z"
    }
   }
  },
  {
   "cell_type": "code",
   "execution_count": 10,
   "outputs": [
    {
     "name": "stdout",
     "output_type": "stream",
     "text": [
      "\u001B[1m37/37\u001B[0m \u001B[32m━━━━━━━━━━━━━━━━━━━━\u001B[0m\u001B[37m\u001B[0m \u001B[1m0s\u001B[0m 2ms/step \n",
      "Accuracy on test set: 0.587274290627687\n",
      "              precision    recall  f1-score   support\n",
      "\n",
      "           0       0.56      0.43      0.49       530\n",
      "           1       0.60      0.72      0.65       633\n",
      "\n",
      "    accuracy                           0.59      1163\n",
      "   macro avg       0.58      0.57      0.57      1163\n",
      "weighted avg       0.58      0.59      0.58      1163\n",
      "\n"
     ]
    }
   ],
   "source": [
    "y_pred = (model.predict(X_test) > 0.5).astype(\"int32\")\n",
    "print(\"Accuracy on test set:\", accuracy_score(y_test, y_pred))\n",
    "print(classification_report(y_test, y_pred))\n",
    "# pca, bez ogólnych kolumn\n",
    "# model.add(Dense(128, input_dim=X_train.shape[1], activation='tanh'))\n",
    "# model.add(Dropout(0.3))  # Dropout dla ograniczenia przeuczenia\n",
    "#\n",
    "#\n",
    "# model.add(Dense(64, activation='relu'))\n",
    "# model.add(Dropout(0.2))\n",
    "#\n",
    "\n",
    "#\n",
    "# model.add(Dense(1, activation='sigmoid'))\n",
    "#\n",
    "# model.compile(optimizer=Adam(learning_rate=0.001),\n",
    "#               loss='binary_crossentropy',\n",
    "#               metrics=['accuracy'])\n",
    "#\n",
    "# history = model.fit(X_train, y_train,\n",
    "#                     validation_split=0.2,\n",
    "#                     epochs=40,\n",
    "#                     batch_size=32,\n",
    "#                     verbose=1)"
   ],
   "metadata": {
    "collapsed": false,
    "ExecuteTime": {
     "start_time": "2024-12-18T20:23:44.939652Z",
     "end_time": "2024-12-18T20:23:45.097257Z"
    }
   }
  },
  {
   "cell_type": "code",
   "execution_count": 20,
   "outputs": [
    {
     "name": "stdout",
     "output_type": "stream",
     "text": [
      "\u001B[1m37/37\u001B[0m \u001B[32m━━━━━━━━━━━━━━━━━━━━\u001B[0m\u001B[37m\u001B[0m \u001B[1m0s\u001B[0m 3ms/step\n",
      "Accuracy on test set: 0.58469475494411\n",
      "              precision    recall  f1-score   support\n",
      "\n",
      "           0       0.57      0.38      0.45       530\n",
      "           1       0.59      0.76      0.66       633\n",
      "\n",
      "    accuracy                           0.58      1163\n",
      "   macro avg       0.58      0.57      0.56      1163\n",
      "weighted avg       0.58      0.58      0.57      1163\n",
      "\n"
     ]
    }
   ],
   "source": [
    "y_pred = (model.predict(X_test) > 0.5).astype(\"int32\")\n",
    "print(\"Accuracy on test set:\", accuracy_score(y_test, y_pred))\n",
    "print(classification_report(y_test, y_pred))\n",
    "# pca, ogolne kolumny bez szczegolowych\n",
    "# model.add(Dense(128, input_dim=X_train.shape[1], activation='tanh'))\n",
    "# model.add(Dropout(0.3))  # Dropout dla ograniczenia przeuczenia\n",
    "#\n",
    "#\n",
    "# model.add(Dense(64, activation='relu'))\n",
    "# model.add(Dropout(0.2))\n",
    "#\n",
    "#\n",
    "# model.add(Dense(1, activation='sigmoid'))\n",
    "#\n",
    "# model.compile(optimizer=Adam(learning_rate=0.001),\n",
    "#               loss='binary_crossentropy',\n",
    "#               metrics=['accuracy'])\n",
    "#\n",
    "# history = model.fit(X_train, y_train,\n",
    "#                     validation_split=0.2,\n",
    "#                     epochs=50,\n",
    "#                     batch_size=32,\n",
    "#                     verbose=1)"
   ],
   "metadata": {
    "collapsed": false,
    "ExecuteTime": {
     "start_time": "2024-12-18T16:11:42.307450Z",
     "end_time": "2024-12-18T16:11:42.547242Z"
    }
   }
  },
  {
   "cell_type": "code",
   "execution_count": 16,
   "outputs": [
    {
     "name": "stdout",
     "output_type": "stream",
     "text": [
      "\u001B[1m37/37\u001B[0m \u001B[32m━━━━━━━━━━━━━━━━━━━━\u001B[0m\u001B[37m\u001B[0m \u001B[1m0s\u001B[0m 2ms/step\n",
      "Accuracy on test set: 0.5958727429062769\n",
      "              precision    recall  f1-score   support\n",
      "\n",
      "           0       0.57      0.45      0.51       530\n",
      "           1       0.61      0.72      0.66       633\n",
      "\n",
      "    accuracy                           0.60      1163\n",
      "   macro avg       0.59      0.58      0.58      1163\n",
      "weighted avg       0.59      0.60      0.59      1163\n",
      "\n"
     ]
    }
   ],
   "source": [
    "y_pred = (model.predict(X_test) > 0.5).astype(\"int32\")\n",
    "print(\"Accuracy on test set:\", accuracy_score(y_test, y_pred))\n",
    "print(classification_report(y_test, y_pred))\n",
    "\n",
    "# model.add(Dense(128, input_dim=X_train.shape[1], activation='tanh'))\n",
    "# model.add(Dropout(0.3))  # Dropout dla ograniczenia przeuczenia\n",
    "#\n",
    "# # Druga ukryta warstwa\n",
    "# model.add(Dense(64, activation='relu'))\n",
    "# model.add(Dropout(0.2))\n",
    "#\n",
    "# model.add(Dense(1, activation='sigmoid'))\n",
    "#\n",
    "# model.compile(optimizer=Adam(learning_rate=0.001),\n",
    "#               loss='binary_crossentropy',\n",
    "#               metrics=['accuracy'])\n",
    "#\n",
    "# history = model.fit(X_train, y_train,\n",
    "#                     validation_split=0.2,\n",
    "#                     epochs=50,\n",
    "#                     batch_size=32,\n",
    "#                     verbose=1)"
   ],
   "metadata": {
    "collapsed": false,
    "ExecuteTime": {
     "start_time": "2024-12-18T20:26:06.368388Z",
     "end_time": "2024-12-18T20:26:06.596085Z"
    }
   }
  },
  {
   "cell_type": "code",
   "execution_count": null,
   "outputs": [],
   "source": [
    "accuracy = accuracy_score(y_test, y_pred)\n",
    "conf_matrix = confusion_matrix(y_test, y_pred)\n",
    "\n",
    "plt.figure(figsize=(6, 4))\n",
    "sns.heatmap(conf_matrix, annot=True, fmt=\"d\", cmap=\"Blues\")\n",
    "plt.xlabel(\"Przewidywane klasy\")\n",
    "plt.ylabel(\"Rzeczywiste klasy\")\n",
    "plt.title(\"Macierz pomyłek dla regresji logistycznej\")\n",
    "plt.savefig(\"graphs/confusion_matrix_rl.png\", dpi=300, bbox_inches='tight')\n",
    "plt.show()"
   ],
   "metadata": {
    "collapsed": false
   }
  },
  {
   "cell_type": "code",
   "execution_count": null,
   "outputs": [],
   "source": [
    "with open('Models/LR_model.pkl', 'wb') as file:\n",
    "    pickle.dump(model, file)"
   ],
   "metadata": {
    "collapsed": false
   }
  }
 ],
 "metadata": {
  "kernelspec": {
   "display_name": "Python 3",
   "language": "python",
   "name": "python3"
  },
  "language_info": {
   "codemirror_mode": {
    "name": "ipython",
    "version": 2
   },
   "file_extension": ".py",
   "mimetype": "text/x-python",
   "name": "python",
   "nbconvert_exporter": "python",
   "pygments_lexer": "ipython2",
   "version": "2.7.6"
  }
 },
 "nbformat": 4,
 "nbformat_minor": 0
}
