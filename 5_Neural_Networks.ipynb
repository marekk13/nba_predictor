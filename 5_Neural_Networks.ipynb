{
 "cells": [
  {
   "cell_type": "code",
   "execution_count": null,
   "outputs": [],
   "source": [
    "import pandas as pd\n",
    "import sqlite3\n",
    "from tensorflow.keras.models import Sequential\n",
    "from tensorflow.keras.layers import Dense, Dropout\n",
    "from tensorflow.keras.optimizers import Adam\n",
    "from sklearn.metrics import classification_report, accuracy_score, confusion_matrix\n",
    "from sklearn.decomposition import PCA\n",
    "from sklearn.preprocessing import MinMaxScaler\n",
    "import pickle\n",
    "import seaborn as sns\n",
    "import matplotlib.pyplot as plt\n",
    "\n",
    "pd.set_option('display.max_columns', 40)"
   ],
   "metadata": {
    "collapsed": false,
    "ExecuteTime": {
     "start_time": "2025-01-07T08:57:06.755454Z",
     "end_time": "2025-01-07T08:57:32.294362Z"
    }
   }
  },
  {
   "cell_type": "code",
   "execution_count": null,
   "outputs": [],
   "source": [
    "con = sqlite3.connect('data/transformed/team_moving_avgs_merged.sqlite')\n",
    "team_last_20 = pd.read_sql_query(f\"SELECT * FROM \\\"{'team_last_20'}\\\"\", con)\n",
    "team_last_30 = pd.read_sql_query(f\"SELECT * FROM \\\"{'team_last_30'}\\\"\", con)\n",
    "team_last_40 = pd.read_sql_query(f\"SELECT * FROM \\\"{'team_last_40'}\\\"\", con)\n",
    "team_all_season = pd.read_sql_query(f\"SELECT * FROM \\\"{'team_all_season'}\\\"\", con)\n",
    "con.close()\n",
    "\n",
    "team_last_20['Date'] = pd.to_datetime(team_last_20['Date'])\n",
    "team_last_30['Date'] = pd.to_datetime(team_last_30['Date'])\n",
    "team_last_40['Date'] = pd.to_datetime(team_last_40['Date'])\n",
    "team_all_season['Date'] = pd.to_datetime(team_all_season['Date'])\n",
    "\n",
    "team_last_30.columns"
   ],
   "metadata": {
    "collapsed": false,
    "ExecuteTime": {
     "start_time": "2025-01-07T08:57:32.305911Z",
     "end_time": "2025-01-07T08:57:35.706983Z"
    }
   }
  },
  {
   "cell_type": "code",
   "execution_count": null,
   "outputs": [],
   "source": [
    "team_all_season[team_all_season['home_win']==1].shape[0] / team_all_season.shape[0]"
   ],
   "metadata": {
    "collapsed": false,
    "ExecuteTime": {
     "start_time": "2025-01-07T08:57:35.706983Z",
     "end_time": "2025-01-07T08:57:35.851706Z"
    }
   }
  },
  {
   "cell_type": "code",
   "execution_count": null,
   "outputs": [],
   "source": [
    "def prepare_data(data):\n",
    "    data = data.dropna(how='any') #axis=1,\n",
    "    threshold_date = '2022-10-01'\n",
    "    totals_columns = ['home_FG', 'home_FGA', 'home_FG%', 'home_3P', 'home_3PA',\n",
    "       'home_3P%', 'home_FT', 'home_FTA', 'home_FT%', 'home_ORB', 'home_DRB',\n",
    "       'home_TRB', 'home_AST', 'home_STL', 'home_BLK', 'home_TOV', 'home_PF',\n",
    "       'home_PTS',  'home_TS%', 'away_FG', 'away_FGA',\n",
    "       'away_FG%', 'away_3P', 'away_3PA', 'away_3P%', 'away_FT', 'away_FTA',\n",
    "       'away_FT%', 'away_ORB', 'away_DRB', 'away_TRB', 'away_AST', 'away_STL',\n",
    "       'away_BLK', 'away_TOV', 'away_PF', 'away_PTS', 'away_TS%']\n",
    "\n",
    "    prc_columns = ['home_TS%', 'home_eFG%', 'home_3PAr', 'home_FTr',\n",
    "       'home_ORB%', 'home_DRB%', 'home_TRB%', 'home_AST%', 'home_STL%',\n",
    "       'home_BLK%', 'home_TOV%', 'home_ORtg', 'home_DRtg', 'away_TS%', 'away_eFG%',\n",
    "       'away_3PAr', 'away_FTr', 'away_ORB%', 'away_DRB%', 'away_TRB%',\n",
    "       'away_AST%', 'away_STL%', 'away_BLK%', 'away_TOV%', 'away_ORtg',\n",
    "       'away_DRtg']\n",
    "    X_train = data[data['Date'] < threshold_date]\\\n",
    "        .drop(columns=['game_id', 'Date', 'Season',\n",
    "                       'home_team', 'home_win',\n",
    "                       'away_team']) \\\n",
    "        .drop(columns=totals_columns)\n",
    "\n",
    "    X_test = data[data['Date'] > threshold_date]\\\n",
    "        .drop(columns=['game_id', 'Date', 'Season',\n",
    "                       'home_team', 'home_win',\n",
    "                       'away_team'])\\\n",
    "        .drop(columns=totals_columns)\n",
    "\n",
    "    y_train = data[data['Date'] < threshold_date].loc[:,'home_win']\n",
    "    y_test = data[data['Date'] > threshold_date].loc[:,'home_win']\n",
    "\n",
    "    scaler = MinMaxScaler()\n",
    "    X_train_scaled = scaler.fit_transform(X_train)\n",
    "    X_test_scaled = scaler.transform(X_test)\n",
    "\n",
    "    pca = PCA()\n",
    "    X_train_pca = pca.fit_transform(X_train_scaled)\n",
    "    X_test_pca = pca.transform(X_test_scaled)\n",
    "\n",
    "    return X_train_pca, X_test_pca, y_train, y_test\n",
    "\n",
    "X_train, X_test, y_train, y_test = prepare_data(team_last_20)"
   ],
   "metadata": {
    "collapsed": false,
    "ExecuteTime": {
     "start_time": "2025-01-07T09:01:42.407464Z",
     "end_time": "2025-01-07T09:01:42.496198Z"
    }
   }
  },
  {
   "cell_type": "code",
   "execution_count": null,
   "outputs": [],
   "source": [
    "X_train.shape[0] + X_test.shape[0]"
   ],
   "metadata": {
    "collapsed": false,
    "ExecuteTime": {
     "start_time": "2025-01-07T09:02:12.687934Z",
     "end_time": "2025-01-07T09:02:12.735943Z"
    }
   }
  },
  {
   "cell_type": "code",
   "execution_count": null,
   "outputs": [],
   "source": [
    "X_train.shape[0] / (X_train.shape[0] + X_test.shape[0])"
   ],
   "metadata": {
    "collapsed": false,
    "ExecuteTime": {
     "start_time": "2024-12-30T12:36:01.720932Z",
     "end_time": "2024-12-30T12:36:01.743610Z"
    }
   }
  },
  {
   "cell_type": "code",
   "execution_count": null,
   "outputs": [],
   "source": [
    "model = Sequential()\n",
    "\n",
    "model.add(Dense(40, input_dim=X_train.shape[1], activation='tanh'))\n",
    "model.add(Dropout(0.2))\n",
    "\n",
    "model.add(Dense(15, activation='relu'))\n",
    "model.add(Dropout(0.5))\n",
    "\n",
    "model.add(Dense(1, activation='sigmoid'))\n",
    "\n",
    "model.compile(optimizer=Adam(learning_rate=0.003),\n",
    "              loss='binary_crossentropy',\n",
    "              metrics=['accuracy'])\n",
    "\n",
    "history = model.fit(X_train, y_train,\n",
    "                    validation_split=0.2,\n",
    "                    epochs=40,\n",
    "                    batch_size=32,\n",
    "                    verbose=1)"
   ],
   "metadata": {
    "collapsed": false,
    "ExecuteTime": {
     "start_time": "2024-12-29T23:00:15.912974Z",
     "end_time": "2024-12-29T23:00:32.481723Z"
    }
   }
  },
  {
   "cell_type": "code",
   "execution_count": null,
   "outputs": [],
   "source": [
    "y_pred = (model.predict(X_test) > 0.5).astype(\"int32\")\n",
    "accuracy = accuracy_score(y_test, y_pred)\n",
    "print(f\"Dokładność modelu: {accuracy * 100:.2f}%\")\n",
    "print(classification_report(y_test, y_pred))"
   ],
   "metadata": {
    "collapsed": false,
    "ExecuteTime": {
     "start_time": "2024-12-29T23:00:32.482231Z",
     "end_time": "2024-12-29T23:00:32.736191Z"
    }
   }
  },
  {
   "cell_type": "code",
   "execution_count": null,
   "outputs": [],
   "source": [
    "y_pred = (model.predict(X_test) > 0.5).astype(\"int32\")\n",
    "accuracy = accuracy_score(y_test, y_pred)\n",
    "print(f\"Dokładność modelu: {accuracy * 100:.2f}%\")\n",
    "print(classification_report(y_test, y_pred))"
   ],
   "metadata": {
    "collapsed": false,
    "ExecuteTime": {
     "start_time": "2024-12-29T22:28:01.309029Z",
     "end_time": "2024-12-29T22:28:01.571684Z"
    }
   }
  },
  {
   "cell_type": "code",
   "execution_count": null,
   "outputs": [],
   "source": [
    "accuracy = accuracy_score(y_test, y_pred)\n",
    "conf_matrix = confusion_matrix(y_test, y_pred)\n",
    "\n",
    "plt.figure(figsize=(6, 4))\n",
    "sns.heatmap(conf_matrix, annot=True, fmt=\"d\", cmap=\"Blues\")\n",
    "plt.xlabel(\"Przewidywane klasy\")\n",
    "plt.ylabel(\"Rzeczywiste klasy\")\n",
    "plt.title(\"Macierz pomyłek dla MLP\")\n",
    "plt.savefig(\"graphs/confusion_matrix_nn.png\", dpi=300, bbox_inches='tight')\n",
    "plt.show()"
   ],
   "metadata": {
    "collapsed": false,
    "ExecuteTime": {
     "start_time": "2024-12-29T22:28:19.402511Z",
     "end_time": "2024-12-29T22:28:19.885687Z"
    }
   }
  },
  {
   "cell_type": "code",
   "execution_count": null,
   "outputs": [],
   "source": [
    "with open('Models/LR_model.pkl', 'wb') as file:\n",
    "    pickle.dump(model, file)"
   ],
   "metadata": {
    "collapsed": false,
    "ExecuteTime": {
     "start_time": "2024-12-29T22:28:22.464364Z",
     "end_time": "2024-12-29T22:28:22.579382Z"
    }
   }
  },
  {
   "cell_type": "code",
   "execution_count": null,
   "outputs": [],
   "source": [],
   "metadata": {
    "collapsed": false
   }
  }
 ],
 "metadata": {
  "kernelspec": {
   "display_name": "Python 3",
   "language": "python",
   "name": "python3"
  },
  "language_info": {
   "codemirror_mode": {
    "name": "ipython",
    "version": 2
   },
   "file_extension": ".py",
   "mimetype": "text/x-python",
   "name": "python",
   "nbconvert_exporter": "python",
   "pygments_lexer": "ipython2",
   "version": "2.7.6"
  }
 },
 "nbformat": 4,
 "nbformat_minor": 0
}
